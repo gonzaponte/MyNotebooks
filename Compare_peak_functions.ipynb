{
 "cells": [
  {
   "cell_type": "code",
   "execution_count": 26,
   "metadata": {},
   "outputs": [],
   "source": [
    "import numpy as np\n",
    "import scipy.signal as signal\n",
    "\n",
    "from pytest import approx"
   ]
  },
  {
   "cell_type": "code",
   "execution_count": 4,
   "metadata": {
    "collapsed": true
   },
   "outputs": [],
   "source": [
    "%load_ext Cython"
   ]
  },
  {
   "cell_type": "code",
   "execution_count": 21,
   "metadata": {
    "collapsed": true
   },
   "outputs": [],
   "source": [
    "def python_v(cwfs, adc_to_pes, active,\n",
    "             n_MAU = 100, thr_MAU = 3):\n",
    "    adc_to_pes  = adc_to_pes.reshape(adc_to_pes.size, 1)\n",
    "    active      = active    .reshape(    active.size, 1)\n",
    "    MAU         = np.full(n_MAU, 1 / n_MAU)\n",
    "    mau         = signal.lfilter(MAU, 1, cwfs, axis=1)\n",
    "\n",
    "    # ccwf stands for calibrated corrected waveform\n",
    "    ccwf        = np.where(                      active, cwfs/adc_to_pes, 0)\n",
    "    ccwf_mau    = np.where((cwfs >= mau + thr) & active, cwfs/adc_to_pes, 0)\n",
    "\n",
    "    cwf_sum     = np.sum(ccwf    , axis=0)\n",
    "    cwf_sum_mau = np.sum(ccwf_mau, axis=0)\n",
    "    return ccwf, ccwf_mau, cwf_sum, cwf_sum_mau"
   ]
  },
  {
   "cell_type": "code",
   "execution_count": 15,
   "metadata": {
    "collapsed": true
   },
   "outputs": [],
   "source": [
    "%%cython\n",
    "\n",
    "cimport numpy as np\n",
    "import  numpy as np\n",
    "from scipy import signal\n",
    "\n",
    "\n",
    "cpdef cython_v(double [:, :] CWF, double [:] adc_to_pes,\n",
    "               int n_MAU = 200  , double thr_MAU = 5):\n",
    "    cdef int j, k\n",
    "    cdef int NPMT = CWF.shape[0]\n",
    "    cdef int NWF  = CWF.shape[1]\n",
    "    cdef list PMT = list(range(NPMT))\n",
    "\n",
    "    cdef double [:] MAU = np.array(np.ones(n_MAU),\n",
    "                                   dtype = np.double) * (1 / n_MAU)\n",
    "\n",
    "    # CWF if above MAU threshold\n",
    "    cdef double [:, :] pmt_thr  = np.zeros((NPMT, NWF), dtype=np.double)\n",
    "    cdef double [:, :] pmt_thr_mau  = np.zeros((NPMT, NWF), dtype=np.double)\n",
    "    cdef double [:]    MAU_pmt  = np.zeros(      NWF, dtype=np.double)\n",
    "\n",
    "    for j in PMT:\n",
    "        # MAU for each of the PMTs, following the waveform\n",
    "        MAU_pmt = signal.lfilter(MAU, 1, CWF[j,:])\n",
    "\n",
    "        for k in range(NWF):\n",
    "            pmt_thr[j,k] = CWF[j,k] * 1 / adc_to_pes[j]\n",
    "            if CWF[j,k] >= MAU_pmt[k] + thr_MAU: # >= not >: found testing!\n",
    "                pmt_thr_mau[j,k] = CWF[j,k] * 1 / adc_to_pes[j]\n",
    "\n",
    "    return np.asarray(pmt_thr), np.asarray(pmt_thr_mau)"
   ]
  },
  {
   "cell_type": "code",
   "execution_count": 22,
   "metadata": {
    "collapsed": true
   },
   "outputs": [],
   "source": [
    "NPMT, NWF  =   5, 100\n",
    "n_MAU, thr = 100, 3.0\n",
    "\n",
    "random_wfs = np.random.rand(NPMT, NWF) * 10\n",
    "adc_to_pes = np.random.rand(NPMT)\n",
    "active     = np.ones_like  (adc_to_pes, dtype=bool)"
   ]
  },
  {
   "cell_type": "code",
   "execution_count": 23,
   "metadata": {},
   "outputs": [],
   "source": [
    "py_result = python_v(random_wfs, adc_to_pes, active, n_MAU, thr)\n",
    "cy_result = cython_v(random_wfs, adc_to_pes,         n_MAU, thr)"
   ]
  },
  {
   "cell_type": "code",
   "execution_count": 28,
   "metadata": {},
   "outputs": [
    {
     "data": {
      "text/plain": [
       "True"
      ]
     },
     "execution_count": 28,
     "metadata": {},
     "output_type": "execute_result"
    }
   ],
   "source": [
    "py_result[1] == approx(cy_result[1])"
   ]
  },
  {
   "cell_type": "code",
   "execution_count": 60,
   "metadata": {
    "collapsed": true
   },
   "outputs": [],
   "source": [
    "def python_v(rwfs, adc_to_pes, thr, n_MAU=100):\n",
    "    unifm = np.full(n_MAU, 1/n_MAU)\n",
    "    blswf = rwfs.T - np.mean(rwfs ,           axis=1)\n",
    "    mau   = signal.lfilter  (unifm, 1, blswf, axis=0)\n",
    "    calwf = np.where(blswf > mau + thr * adc_to_pes, blswf / adc_to_pes, 0)\n",
    "    return calwf.T"
   ]
  },
  {
   "cell_type": "code",
   "execution_count": 56,
   "metadata": {},
   "outputs": [],
   "source": [
    "%%cython\n",
    "\n",
    "cimport numpy as np\n",
    "import  numpy as np\n",
    "from scipy import signal\n",
    "\n",
    "\n",
    "\n",
    "cpdef cython_v(np.ndarray[np.int16_t, ndim=2] SIPM,\n",
    "                   double [:] adc_to_pes, thr,\n",
    "                   int n_MAU=100):\n",
    "    cdef int j, k\n",
    "    cdef double [:, :] SiWF = SIPM.astype(np.double)\n",
    "    cdef int NSiPM = SiWF.shape[0]\n",
    "    cdef int NSiWF = SiWF.shape[1]\n",
    "    cdef double [:] MAU = np.array(np.ones(n_MAU),\n",
    "                                   dtype = np.double) * (1 / n_MAU)\n",
    "\n",
    "    cdef double [:, :] siwf = np.zeros((NSiPM, NSiWF), dtype=np.double)\n",
    "    cdef double [:]    MAU_ = np.zeros(        NSiWF , dtype=np.double)\n",
    "    cdef double [:]    thrs = np.full ( NSiPM, thr)\n",
    "    cdef double pmean\n",
    "\n",
    "    # loop over all SiPMs. Skip any SiPM with adc_to_pes constant = 0\n",
    "    # since this means SiPM is dead\n",
    "    for j in range(NSiPM):\n",
    "        if adc_to_pes[j] == 0:\n",
    "            #print('adc_to_pes[{}] = 0, setting sipm waveform to zero'.format(j))\n",
    "            continue\n",
    "\n",
    "        # compute and subtract the baseline\n",
    "        pmean = 0\n",
    "        for k in range(NSiWF):\n",
    "            pmean += SiWF[j,k]\n",
    "        pmean /= NSiWF\n",
    "\n",
    "        for k in range(NSiWF):\n",
    "            SiWF[j,k] = SiWF[j,k] - pmean\n",
    "\n",
    "        # MAU for each of the SiPMs, following the ZS waveform\n",
    "        MAU_ = signal.lfilter(MAU, 1, SiWF[j,:])\n",
    "\n",
    "        # threshold using the MAU\n",
    "        for k in range(NSiWF):\n",
    "            if SiWF[j,k]  > MAU_[k] + thrs[j] * adc_to_pes[j]:\n",
    "                siwf[j,k] = SiWF[j,k] / adc_to_pes[j]\n",
    "\n",
    "    return np.asarray(siwf)"
   ]
  },
  {
   "cell_type": "code",
   "execution_count": 57,
   "metadata": {
    "collapsed": true
   },
   "outputs": [],
   "source": [
    "random_wfs = np.random.randint(0, 10, size=(NPMT, NWF)).astype(np.int16)"
   ]
  },
  {
   "cell_type": "code",
   "execution_count": 61,
   "metadata": {},
   "outputs": [],
   "source": [
    "py_result = python_v(random_wfs, adc_to_pes, thr, n_MAU)\n",
    "cy_result = cython_v(random_wfs, adc_to_pes, thr, n_MAU)"
   ]
  },
  {
   "cell_type": "code",
   "execution_count": 62,
   "metadata": {},
   "outputs": [
    {
     "data": {
      "text/plain": [
       "True"
      ]
     },
     "execution_count": 62,
     "metadata": {},
     "output_type": "execute_result"
    }
   ],
   "source": [
    "py_result == approx(cy_result)"
   ]
  },
  {
   "cell_type": "code",
   "execution_count": null,
   "metadata": {
    "collapsed": true
   },
   "outputs": [],
   "source": []
  }
 ],
 "metadata": {
  "kernelspec": {
   "display_name": "Python 3",
   "language": "python",
   "name": "python3"
  },
  "language_info": {
   "codemirror_mode": {
    "name": "ipython",
    "version": 3
   },
   "file_extension": ".py",
   "mimetype": "text/x-python",
   "name": "python",
   "nbconvert_exporter": "python",
   "pygments_lexer": "ipython3",
   "version": "3.6.1"
  }
 },
 "nbformat": 4,
 "nbformat_minor": 2
}
