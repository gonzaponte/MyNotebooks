{
 "cells": [
  {
   "cell_type": "code",
   "execution_count": null,
   "metadata": {},
   "outputs": [],
   "source": [
    "import numpy as np\n",
    "\n",
    "import matplotlib.pyplot as plt"
   ]
  },
  {
   "cell_type": "code",
   "execution_count": null,
   "metadata": {},
   "outputs": [],
   "source": [
    "%matplotlib inline\n",
    "\n",
    "plt.rcParams[\"figure.figsize\"] = 10, 8"
   ]
  },
  {
   "cell_type": "code",
   "execution_count": null,
   "metadata": {},
   "outputs": [],
   "source": [
    "RMAX   = 15\n",
    "ZMAX   = 0.3\n",
    "STEP   = 5e-3\n",
    "NPART  = int(1e4)\n",
    "NSPLIT = int(1e4)\n",
    "\n",
    "RMAX2 = RMAX**2\n",
    "\n"
   ]
  },
  {
   "cell_type": "code",
   "execution_count": null,
   "metadata": {},
   "outputs": [],
   "source": [
    "def coordinates():\n",
    "    while True:\n",
    "        for i in np.random.uniform(-STEP, STEP, size=(int(1e6), 3)):\n",
    "            yield i\n",
    "\n",
    "def r2_z(pos):\n",
    "    return pos[0]**2 + pos[1]**2, pos[2]\n",
    "\n",
    "\n",
    "def propagate(x0, y0, z0, weight, rsplit=np.inf):\n",
    "    pos     = np.array([x0, y0, z0], dtype=np.float)\n",
    "    rsplit2 = rsplit**2\n",
    "    for step in coordinates():\n",
    "        pos += step\n",
    "        r2, z = r2_z(pos)\n",
    "        \n",
    "        if r2 >= RMAX2 or abs(z) >= ZMAX:\n",
    "            yield pos, weight\n",
    "        \n",
    "        if r2 >= rsplit2:\n",
    "            for _ in range(nsplit):\n",
    "                for p, w in propagate(*pos, rmax, zmax, weight/NSPLIT, rsplit=1.5*rsplit):\n",
    "                    yield p, w\n",
    "\n",
    "def simulate_cr(*args, **kwargs):\n",
    "    return list(propagate(*args, **kwargs))"
   ]
  },
  {
   "cell_type": "code",
   "execution_count": null,
   "metadata": {},
   "outputs": [],
   "source": [
    "positions = []\n",
    "weights   = []\n",
    "for _ in range(NPART):\n",
    "    pos, w = zip(*simulate_cr(0, 0, 0, 1))\n",
    "    positions.extend(pos)\n",
    "    weights  .extend(weights)"
   ]
  },
  {
   "cell_type": "code",
   "execution_count": null,
   "metadata": {},
   "outputs": [],
   "source": [
    "ps = np.concatenate(positions, axis=0)\n",
    "r  = np.sqrt(ps[:, 0]**2 + ps[:, 1]**2)\n",
    "z  = ps[:, 2]\n",
    "w  = np.array(weights)"
   ]
  },
  {
   "cell_type": "code",
   "execution_count": null,
   "metadata": {},
   "outputs": [],
   "source": [
    "bins = (np.linspace(0, RMAX, 101), np.linspace(-ZMAX, ZMAX, 101))\n",
    "plt.hist2d(r, z, bins)\n",
    "plt.xlabel(\"R\")\n",
    "plt.ylabel(\"Z\")\n"
   ]
  },
  {
   "cell_type": "code",
   "execution_count": null,
   "metadata": {},
   "outputs": [],
   "source": []
  }
 ],
 "metadata": {
  "kernelspec": {
   "display_name": "Python 3",
   "language": "python",
   "name": "python3"
  },
  "language_info": {
   "codemirror_mode": {
    "name": "ipython",
    "version": 3
   },
   "file_extension": ".py",
   "mimetype": "text/x-python",
   "name": "python",
   "nbconvert_exporter": "python",
   "pygments_lexer": "ipython3",
   "version": "3.7.5"
  }
 },
 "nbformat": 4,
 "nbformat_minor": 2
}
