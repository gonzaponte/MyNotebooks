{
 "cells": [
  {
   "cell_type": "code",
   "execution_count": 1,
   "metadata": {},
   "outputs": [],
   "source": [
    "from CCfit import *"
   ]
  },
  {
   "cell_type": "code",
   "execution_count": 8,
   "metadata": {},
   "outputs": [],
   "source": [
    "import matplotlib.pyplot as plt\n",
    "%matplotlib inline\n",
    "plt.rcParams[\"figure.figsize\"] = 12, 8"
   ]
  },
  {
   "cell_type": "code",
   "execution_count": 38,
   "metadata": {},
   "outputs": [],
   "source": [
    "coeffs = []\n",
    "errors = []\n",
    "N      = int(1e4)\n",
    "M      = int(1e5)\n",
    "means  = np.random.uniform(50, 100, size=N)\n",
    "sigmas = np.random.uniform(10,  25, size=N)\n",
    "for mean, sigma in zip(means, sigmas):\n",
    "    data   = np.random.normal(mean, sigma, size=M)\n",
    "    bins   = np.linspace(mean - 5*sigma, mean + 5*sigma, 101)\n",
    "    y, x   = np.histogram(data, bins)\n",
    "    f      = fit(gauss, bin_centers(x), y, (M, mean + 1, sigma - 1), sigma=poisson_sigma(y))\n",
    "    coeffs.append(f.values)\n",
    "    errors.append(f.errors)\n",
    "    \n",
    "coeffs = np.array(coeffs)\n",
    "errors = np.array(errors)"
   ]
  },
  {
   "cell_type": "code",
   "execution_count": 39,
   "metadata": {},
   "outputs": [
    {
     "name": "stdout",
     "output_type": "stream",
     "text": [
      "0 [215040.53218996  -1197.45375115    414.33191895]\n",
      "1 [ 1.00006220e+03 -1.26740383e-02  1.01635654e+00]\n",
      "2 [ 9.98899388e+02 -5.35655338e-01  1.02254148e+00]\n"
     ]
    },
    {
     "data": {
      "image/png": "[encoded data removed]",
      "text/plain": [
       "<Figure size 1728x576 with 3 Axes>"
      ]
     },
     "metadata": {
      "needs_background": "light"
     },
     "output_type": "display_data"
    }
   ],
   "source": [
    "pbins = np.linspace(-5, 5, 101)\n",
    "plt.figure(figsize=(24, 8))\n",
    "trues = [M * np.diff(bins)[0], means, sigmas]\n",
    "for i in range(3):\n",
    "    plt.subplot(1, 3, i+1)\n",
    "    c = coeffs[:, i]\n",
    "    e = errors[:, i]\n",
    "    p = (c - trues[i]) / e\n",
    "    y, *_ = plt.hist(p, pbins)\n",
    "    print(i, fit(gauss, bin_centers(pbins), y, (1, 0, 1), maxfev=int(1e5)).values)\n",
    "    "
   ]
  },
  {
   "cell_type": "code",
   "execution_count": 3,
   "metadata": {},
   "outputs": [
    {
     "data": {
      "text/plain": [
       "datetime.timedelta(microseconds=123000)"
      ]
     },
     "execution_count": 3,
     "metadata": {},
     "output_type": "execute_result"
    }
   ],
   "source": [
    "import datetime\n",
    "datetime.timedelta(milliseconds=123)"
   ]
  },
  {
   "cell_type": "code",
   "execution_count": 4,
   "metadata": {},
   "outputs": [
    {
     "data": {
      "text/html": [
       "<div>\n",
       "<style scoped>\n",
       "    .dataframe tbody tr th:only-of-type {\n",
       "        vertical-align: middle;\n",
       "    }\n",
       "\n",
       "    .dataframe tbody tr th {\n",
       "        vertical-align: top;\n",
       "    }\n",
       "\n",
       "    .dataframe thead th {\n",
       "        text-align: right;\n",
       "    }\n",
       "</style>\n",
       "<table border=\"1\" class=\"dataframe\">\n",
       "  <thead>\n",
       "    <tr style=\"text-align: right;\">\n",
       "      <th></th>\n",
       "      <th>a</th>\n",
       "    </tr>\n",
       "  </thead>\n",
       "  <tbody>\n",
       "    <tr>\n",
       "      <th>0</th>\n",
       "      <td>00:00:00.123000</td>\n",
       "    </tr>\n",
       "  </tbody>\n",
       "</table>\n",
       "</div>"
      ],
      "text/plain": [
       "                a\n",
       "0 00:00:00.123000"
      ]
     },
     "execution_count": 4,
     "metadata": {},
     "output_type": "execute_result"
    }
   ],
   "source": [
    "import pandas as pd\n",
    "pd.DataFrame(dict(a = [datetime.timedelta(milliseconds=123)]))"
   ]
  },
  {
   "cell_type": "code",
   "execution_count": 9,
   "metadata": {},
   "outputs": [
    {
     "data": {
      "text/plain": [
       "datetime.datetime(2009, 2, 14, 1, 31, 30)"
      ]
     },
     "execution_count": 9,
     "metadata": {},
     "output_type": "execute_result"
    }
   ],
   "source": [
    "datetime.datetime.fromtimestamp(1234567890.)"
   ]
  },
  {
   "cell_type": "code",
   "execution_count": null,
   "metadata": {},
   "outputs": [],
   "source": []
  }
 ],
 "metadata": {
  "kernelspec": {
   "display_name": "Python 3",
   "language": "python",
   "name": "python3"
  },
  "language_info": {
   "codemirror_mode": {
    "name": "ipython",
    "version": 3
   },
   "file_extension": ".py",
   "mimetype": "text/x-python",
   "name": "python",
   "nbconvert_exporter": "python",
   "pygments_lexer": "ipython3",
   "version": "3.7.3"
  }
 },
 "nbformat": 4,
 "nbformat_minor": 2
}
