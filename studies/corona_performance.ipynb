{
 "cells": [
  {
   "cell_type": "code",
   "execution_count": 1,
   "metadata": {
    "collapsed": true
   },
   "outputs": [],
   "source": [
    "import os\n",
    "import glob\n",
    "\n",
    "import numpy             as np\n",
    "import tables            as tb\n",
    "import pandas            as pd\n",
    "import matplotlib.pyplot as plt\n",
    "\n",
    "from invisible_cities.io  .pmaps_io      import load_pmaps\n",
    "from invisible_cities.io  .mcinfo_io     import load_mchits\n",
    "from invisible_cities.reco.xy_algorithms import corona"
   ]
  },
  {
   "cell_type": "code",
   "execution_count": 2,
   "metadata": {
    "collapsed": true
   },
   "outputs": [],
   "source": [
    "%matplotlib inline\n",
    "\n",
    "plt.rcParams[\"figure.figsize\"] = 12, 8\n",
    "plt.rcParams[  \"font.size\"   ] = 15"
   ]
  },
  {
   "cell_type": "code",
   "execution_count": 55,
   "metadata": {},
   "outputs": [],
   "source": [
    "def make_track(hits):\n",
    "    x = np.array([hit.X for hit in hits])\n",
    "    y = np.array([hit.Y for hit in hits])\n",
    "    z = np.array([hit.Z for hit in hits])\n",
    "    e = np.array([hit.E for hit in hits])\n",
    "\n",
    "    xt = []\n",
    "    yt = []\n",
    "    zt = []\n",
    "    et = []\n",
    "    \n",
    "    zmin = min(z)\n",
    "    zmax = max(z)\n",
    "    while zmin <= zmax:\n",
    "        indx  = (z >= zmin) & (z < zmin + 1)\n",
    "        zmin += 1\n",
    "        if np.count_nonzero(indx) == 0: continue\n",
    "\n",
    "        xi = x[indx]\n",
    "        yi = y[indx]\n",
    "        ei = e[indx]\n",
    "        zi = zmin - 0.5\n",
    "        \n",
    "        clusters = corona(np.stack((xi, yi), axis=1), ei, msipm=1, lm_radius=10, new_lm_radius=10, pitch=0)\n",
    "        xt.extend([c.X for c in clusters])\n",
    "        yt.extend([c.Y for c in clusters])\n",
    "        zt.extend([zi  for c in clusters])\n",
    "        et.extend([c.Q for c in clusters])\n",
    "        \n",
    "    return xt, yt, zt, et"
   ]
  },
  {
   "cell_type": "code",
   "execution_count": 30,
   "metadata": {},
   "outputs": [],
   "source": [
    "filenames = glob.glob(\"/Users/Gonzalo/github/NEXTdata/MC/Th/runiv/pmaps/Tl208_NEW_v1_03_01_nexus_v5_03_04_UPPER_PORT_IC2610993_pmaps.*.h5\")\n",
    "pmaps     = {}\n",
    "mc_hits   = {}\n",
    "mc_tracks = {}\n",
    "mc_energy = {}\n",
    "for filename in filenames:\n",
    "    pmaps.update(load_pmaps(filename))\n",
    "    for evt_no, hits in load_mchits(filename).items():\n",
    "        mc_hits  [evt_no] = hits\n",
    "        mc_tracks[evt_no] = make_track(hits)\n",
    "        mc_energy[evt_no] = sum(hit.E for hit in hits)"
   ]
  },
  {
   "cell_type": "code",
   "execution_count": 31,
   "metadata": {
    "collapsed": true
   },
   "outputs": [
    {
     "data": {
      "text/plain": [
       "(129, 117379, 117379, 117379)"
      ]
     },
     "execution_count": 31,
     "metadata": {},
     "output_type": "execute_result"
    }
   ],
   "source": [
    "len(filenames), len(pmaps), len(mc_hits), len(mc_energy)"
   ]
  },
  {
   "cell_type": "code",
   "execution_count": 29,
   "metadata": {},
   "outputs": [],
   "source": [
    "double_scape_limits = 1.590, 1.595\n",
    "photopeak_limits    = 2.614, 2.615"
   ]
  },
  {
   "cell_type": "code",
   "execution_count": 28,
   "metadata": {},
   "outputs": [
    {
     "data": {
      "image/png": "[encoded data removed]",
      "text/plain": [
       "<matplotlib.figure.Figure at 0x1774a7780>"
      ]
     },
     "metadata": {},
     "output_type": "display_data"
    }
   ],
   "source": [
    "plt.hist(list(mc_energy.values()), np.linspace(0, 3, 201))\n",
    "plt.yscale(\"log\")"
   ]
  },
  {
   "cell_type": "code",
   "execution_count": 56,
   "metadata": {},
   "outputs": [
    {
     "ename": "ClusterEmptyList",
     "evalue": "",
     "output_type": "error",
     "traceback": [
      "\u001b[0;31m---------------------------------------------------------------------------\u001b[0m",
      "\u001b[0;31mClusterEmptyList\u001b[0m                          Traceback (most recent call last)",
      "\u001b[0;32m<ipython-input-56-141551d498ab>\u001b[0m in \u001b[0;36m<module>\u001b[0;34m()\u001b[0m\n\u001b[1;32m      6\u001b[0m \u001b[0;34m\u001b[0m\u001b[0m\n\u001b[1;32m      7\u001b[0m     \u001b[0mhits\u001b[0m \u001b[0;34m=\u001b[0m \u001b[0mmc_hits\u001b[0m\u001b[0;34m[\u001b[0m\u001b[0mevent_no\u001b[0m\u001b[0;34m]\u001b[0m\u001b[0;34m\u001b[0m\u001b[0m\n\u001b[0;32m----> 8\u001b[0;31m     \u001b[0mtrck\u001b[0m \u001b[0;34m=\u001b[0m \u001b[0mmake_track\u001b[0m\u001b[0;34m(\u001b[0m\u001b[0mhits\u001b[0m\u001b[0;34m)\u001b[0m\u001b[0;34m\u001b[0m\u001b[0m\n\u001b[0m\u001b[1;32m      9\u001b[0m     \u001b[0mx\u001b[0m    \u001b[0;34m=\u001b[0m \u001b[0mnp\u001b[0m\u001b[0;34m.\u001b[0m\u001b[0marray\u001b[0m\u001b[0;34m(\u001b[0m\u001b[0;34m[\u001b[0m\u001b[0mhit\u001b[0m\u001b[0;34m.\u001b[0m\u001b[0mX\u001b[0m \u001b[0;32mfor\u001b[0m \u001b[0mhit\u001b[0m \u001b[0;32min\u001b[0m \u001b[0mhits\u001b[0m\u001b[0;34m]\u001b[0m\u001b[0;34m)\u001b[0m\u001b[0;34m\u001b[0m\u001b[0m\n\u001b[1;32m     10\u001b[0m     \u001b[0my\u001b[0m    \u001b[0;34m=\u001b[0m \u001b[0mnp\u001b[0m\u001b[0;34m.\u001b[0m\u001b[0marray\u001b[0m\u001b[0;34m(\u001b[0m\u001b[0;34m[\u001b[0m\u001b[0mhit\u001b[0m\u001b[0;34m.\u001b[0m\u001b[0mY\u001b[0m \u001b[0;32mfor\u001b[0m \u001b[0mhit\u001b[0m \u001b[0;32min\u001b[0m \u001b[0mhits\u001b[0m\u001b[0;34m]\u001b[0m\u001b[0;34m)\u001b[0m\u001b[0;34m\u001b[0m\u001b[0m\n",
      "\u001b[0;32m<ipython-input-55-0ea96902aae4>\u001b[0m in \u001b[0;36mmake_track\u001b[0;34m(hits)\u001b[0m\n\u001b[1;32m     22\u001b[0m         \u001b[0mzi\u001b[0m \u001b[0;34m=\u001b[0m \u001b[0mzmin\u001b[0m \u001b[0;34m-\u001b[0m \u001b[0;36m0.5\u001b[0m\u001b[0;34m\u001b[0m\u001b[0m\n\u001b[1;32m     23\u001b[0m \u001b[0;34m\u001b[0m\u001b[0m\n\u001b[0;32m---> 24\u001b[0;31m         \u001b[0mclusters\u001b[0m \u001b[0;34m=\u001b[0m \u001b[0mcorona\u001b[0m\u001b[0;34m(\u001b[0m\u001b[0mnp\u001b[0m\u001b[0;34m.\u001b[0m\u001b[0mstack\u001b[0m\u001b[0;34m(\u001b[0m\u001b[0;34m(\u001b[0m\u001b[0mxi\u001b[0m\u001b[0;34m,\u001b[0m \u001b[0myi\u001b[0m\u001b[0;34m)\u001b[0m\u001b[0;34m,\u001b[0m \u001b[0maxis\u001b[0m\u001b[0;34m=\u001b[0m\u001b[0;36m1\u001b[0m\u001b[0;34m)\u001b[0m\u001b[0;34m,\u001b[0m \u001b[0mei\u001b[0m\u001b[0;34m,\u001b[0m \u001b[0mmsipm\u001b[0m\u001b[0;34m=\u001b[0m\u001b[0;36m1\u001b[0m\u001b[0;34m,\u001b[0m \u001b[0mlm_radius\u001b[0m\u001b[0;34m=\u001b[0m\u001b[0;36m10\u001b[0m\u001b[0;34m,\u001b[0m \u001b[0mnew_lm_radius\u001b[0m\u001b[0;34m=\u001b[0m\u001b[0;36m10\u001b[0m\u001b[0;34m,\u001b[0m \u001b[0mpitch\u001b[0m\u001b[0;34m=\u001b[0m\u001b[0;36m0\u001b[0m\u001b[0;34m)\u001b[0m\u001b[0;34m\u001b[0m\u001b[0m\n\u001b[0m\u001b[1;32m     25\u001b[0m         \u001b[0mxt\u001b[0m\u001b[0;34m.\u001b[0m\u001b[0mextend\u001b[0m\u001b[0;34m(\u001b[0m\u001b[0;34m[\u001b[0m\u001b[0mc\u001b[0m\u001b[0;34m.\u001b[0m\u001b[0mX\u001b[0m \u001b[0;32mfor\u001b[0m \u001b[0mc\u001b[0m \u001b[0;32min\u001b[0m \u001b[0mclusters\u001b[0m\u001b[0;34m]\u001b[0m\u001b[0;34m)\u001b[0m\u001b[0;34m\u001b[0m\u001b[0m\n\u001b[1;32m     26\u001b[0m         \u001b[0myt\u001b[0m\u001b[0;34m.\u001b[0m\u001b[0mextend\u001b[0m\u001b[0;34m(\u001b[0m\u001b[0;34m[\u001b[0m\u001b[0mc\u001b[0m\u001b[0;34m.\u001b[0m\u001b[0mY\u001b[0m \u001b[0;32mfor\u001b[0m \u001b[0mc\u001b[0m \u001b[0;32min\u001b[0m \u001b[0mclusters\u001b[0m\u001b[0;34m]\u001b[0m\u001b[0;34m)\u001b[0m\u001b[0;34m\u001b[0m\u001b[0m\n",
      "\u001b[0;32m~/github/IC/invisible_cities/reco/xy_algorithms.py\u001b[0m in \u001b[0;36mcorona\u001b[0;34m(pos, qs, Qthr, Qlm, lm_radius, new_lm_radius, msipm, pitch, masked_sipm)\u001b[0m\n\u001b[1;32m    193\u001b[0m         \u001b[0mpos\u001b[0m\u001b[0;34m,\u001b[0m \u001b[0mqs\u001b[0m \u001b[0;34m=\u001b[0m \u001b[0mdiscard_sipms\u001b[0m\u001b[0;34m(\u001b[0m\u001b[0mwithin_new_lm_radius\u001b[0m\u001b[0;34m,\u001b[0m \u001b[0mpos\u001b[0m\u001b[0;34m,\u001b[0m \u001b[0mqs\u001b[0m\u001b[0;34m)\u001b[0m\u001b[0;34m\u001b[0m\u001b[0m\n\u001b[1;32m    194\u001b[0m \u001b[0;34m\u001b[0m\u001b[0m\n\u001b[0;32m--> 195\u001b[0;31m     \u001b[0;32mif\u001b[0m \u001b[0;32mnot\u001b[0m \u001b[0mlen\u001b[0m\u001b[0;34m(\u001b[0m\u001b[0mc\u001b[0m\u001b[0;34m)\u001b[0m\u001b[0;34m:\u001b[0m \u001b[0;32mraise\u001b[0m \u001b[0mClusterEmptyList\u001b[0m\u001b[0;34m\u001b[0m\u001b[0m\n\u001b[0m\u001b[1;32m    196\u001b[0m \u001b[0;34m\u001b[0m\u001b[0m\n\u001b[1;32m    197\u001b[0m     \u001b[0;32mreturn\u001b[0m \u001b[0mc\u001b[0m\u001b[0;34m\u001b[0m\u001b[0m\n",
      "\u001b[0;31mClusterEmptyList\u001b[0m: "
     ]
    }
   ],
   "source": [
    "n = 0\n",
    "for event_no, energy in mc_energy.items():\n",
    "    if not (photopeak_limits[0] < energy < photopeak_limits[1]): continue\n",
    "    n += 1\n",
    "    if n > 1: break\n",
    "    \n",
    "    hits = mc_hits[event_no]\n",
    "    trck = make_track(hits)\n",
    "    x    = np.array([hit.X for hit in hits])\n",
    "    y    = np.array([hit.Y for hit in hits])\n",
    "    z    = np.array([hit.Z for hit in hits])\n",
    "    e    = np.array([hit.E for hit in hits])\n",
    "\n",
    "    plt.figure(figsize=(24,8))\n",
    "    plt.subplot(1, 3, 1)\n",
    "    plt.scatter(z, x, c=\"k\", marker=\"x\")\n",
    "    plt.xlabel(\"z\")\n",
    "    plt.ylabel(\"x\")\n",
    "\n",
    "    plt.subplot(1, 3, 2)\n",
    "    plt.scatter(z, y, c=\"k\", marker=\"x\")\n",
    "    plt.xlabel(\"z\")\n",
    "    plt.ylabel(\"y\")\n",
    "\n",
    "    plt.subplot(1, 3, 3)\n",
    "    plt.scatter(x, y, c=\"k\", marker=\"x\")\n",
    "    plt.xlabel(\"x\")\n",
    "    plt.ylabel(\"y\")"
   ]
  },
  {
   "cell_type": "code",
   "execution_count": null,
   "metadata": {},
   "outputs": [],
   "source": []
  }
 ],
 "metadata": {
  "kernelspec": {
   "display_name": "Python 3",
   "language": "python",
   "name": "python3"
  },
  "language_info": {
   "codemirror_mode": {
    "name": "ipython",
    "version": 3
   },
   "file_extension": ".py",
   "mimetype": "text/x-python",
   "name": "python",
   "nbconvert_exporter": "python",
   "pygments_lexer": "ipython3",
   "version": "3.6.1"
  }
 },
 "nbformat": 4,
 "nbformat_minor": 2
}
