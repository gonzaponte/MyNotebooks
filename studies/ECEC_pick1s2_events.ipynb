{
 "cells": [
  {
   "cell_type": "markdown",
   "metadata": {},
   "source": [
    "# Configuration"
   ]
  },
  {
   "cell_type": "code",
   "execution_count": 1,
   "metadata": {},
   "outputs": [],
   "source": [
    "data_path       = \"/Users/Gonzalo/github/NEXTdata/MC/ECEC/v2_center/kdst/output/data\"\n",
    "output_filename = \"center_1s2.npy\""
   ]
  },
  {
   "cell_type": "markdown",
   "metadata": {},
   "source": [
    "# Imports"
   ]
  },
  {
   "cell_type": "code",
   "execution_count": 2,
   "metadata": {},
   "outputs": [],
   "source": [
    "import os\n",
    "import glob\n",
    "\n",
    "import numpy  as np\n",
    "import pandas as pd\n",
    "import tables as tb"
   ]
  },
  {
   "cell_type": "markdown",
   "metadata": {},
   "source": [
    "# Load data and corrections"
   ]
  },
  {
   "cell_type": "code",
   "execution_count": 3,
   "metadata": {},
   "outputs": [],
   "source": [
    "filenames = glob.glob(os.path.join(data_path, \"*\"))\n",
    "dfs       = [pd.DataFrame.from_records(tb.open_file(filename).root.DST.Events.read())\n",
    "             for filename in filenames]\n",
    "df        = pd.concat(dfs)\n",
    "subdf     = df[df.nS2 == 1]\n",
    "events    = subdf.event.drop_duplicates().values.astype(int)"
   ]
  },
  {
   "cell_type": "code",
   "execution_count": 4,
   "metadata": {},
   "outputs": [],
   "source": [
    "np.save(output_filename, events)"
   ]
  },
  {
   "cell_type": "code",
   "execution_count": 5,
   "metadata": {},
   "outputs": [],
   "source": [
    "n_events_generated = int(1e5)\n",
    "n_events_kdst      = np.unique(   df.event).size\n",
    "n_events_2S2       = np.unique(subdf.event).size"
   ]
  },
  {
   "cell_type": "markdown",
   "metadata": {},
   "source": [
    "# Efficiency"
   ]
  },
  {
   "cell_type": "code",
   "execution_count": 6,
   "metadata": {},
   "outputs": [
    {
     "name": "stdout",
     "output_type": "stream",
     "text": [
      "Total number of events generated:   100000 = 100.00 %\n",
      "Total number of events in kDST  :    96881 =  96.88 %\n",
      "Total number of events with 2 S2:    55436 =  55.44 %\n"
     ]
    }
   ],
   "source": [
    "print(f\"Total number of events generated: {n_events_generated:>8} = {100 * n_events_generated / n_events_generated:>6.2f} %\")\n",
    "print(f\"Total number of events in kDST  : {n_events_kdst     :>8} = {100 * n_events_kdst      / n_events_generated:>6.2f} %\")\n",
    "print(f\"Total number of events with 2 S2: {n_events_2S2      :>8} = {100 * n_events_2S2       / n_events_generated:>6.2f} %\")\n"
   ]
  }
 ],
 "metadata": {
  "kernelspec": {
   "display_name": "Python 3",
   "language": "python",
   "name": "python3"
  },
  "language_info": {
   "codemirror_mode": {
    "name": "ipython",
    "version": 3
   },
   "file_extension": ".py",
   "mimetype": "text/x-python",
   "name": "python",
   "nbconvert_exporter": "python",
   "pygments_lexer": "ipython3",
   "version": "3.7.1"
  }
 },
 "nbformat": 4,
 "nbformat_minor": 2
}
