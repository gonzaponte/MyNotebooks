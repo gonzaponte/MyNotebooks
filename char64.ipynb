{
 "cells": [
  {
   "cell_type": "code",
   "execution_count": 2,
   "metadata": {
    "collapsed": true
   },
   "outputs": [],
   "source": [
    "import numpy as np"
   ]
  },
  {
   "cell_type": "code",
   "execution_count": 4,
   "metadata": {
    "collapsed": false
   },
   "outputs": [],
   "source": [
    "__chars__ = list(\"0123456789ABCDEFGHIJKLMNOPQRSTUVWXYZabcdefghijklmnopqrstuvwxyz?_\")\n",
    "class char64:\n",
    "    def __init__(self, number):\n",
    "        if isinstance(number, self.__class__):\n",
    "            self.value = number.value\n",
    "        elif isinstance(number, str):\n",
    "            self.value = number\n",
    "        elif isinstance(number, int):\n",
    "            self.value = char64.cast(number)\n",
    "        else:\n",
    "            raise ValueError(\"Data type not supported\")\n",
    "    \n",
    "    def cast(number):\n",
    "        if not number:\n",
    "            return __chars__[0]\n",
    "        value = \"\"\n",
    "        while number:\n",
    "            value = __chars__[number % 64] + value\n",
    "            number //=64\n",
    "        return value\n",
    "    \n",
    "    def __str__(self):\n",
    "        return str(self.value)\n",
    "    \n",
    "    def __repr__(self):\n",
    "        return self.__str__()\n",
    "    \n",
    "    def __add__(self):\n",
    "        return"
   ]
  },
  {
   "cell_type": "code",
   "execution_count": 5,
   "metadata": {
    "collapsed": false
   },
   "outputs": [
    {
     "data": {
      "text/plain": [
       "array([0, 1, 2, 3, 4, 5, 6, 7, 8, 9, A, B, C, D, E, F, G, H, I, J, K, L, M,\n",
       "       N, O, P, Q, R, S, T, U, V, W, X, Y, Z, a, b, c, d, e, f, g, h, i, j,\n",
       "       k, l, m, n, o, p, q, r, s, t, u, v, w, x, y, z, ?, _, 10, 11, 12,\n",
       "       13, 14, 15, 16, 17, 18, 19, 1A, 1B, 1C, 1D, 1E, 1F, 1G, 1H, 1I, 1J,\n",
       "       1K, 1L, 1M, 1N, 1O, 1P, 1Q, 1R, 1S, 1T, 1U, 1V, 1W, 1X, 1Y, 1Z], dtype=object)"
      ]
     },
     "execution_count": 5,
     "metadata": {},
     "output_type": "execute_result"
    }
   ],
   "source": [
    "np.array(list(map(char64, range(100))))"
   ]
  }
 ],
 "metadata": {
  "kernelspec": {
   "display_name": "Python 3",
   "language": "python",
   "name": "python3"
  },
  "language_info": {
   "codemirror_mode": {
    "name": "ipython",
    "version": 3
   },
   "file_extension": ".py",
   "mimetype": "text/x-python",
   "name": "python",
   "nbconvert_exporter": "python",
   "pygments_lexer": "ipython3",
   "version": "3.5.2"
  }
 },
 "nbformat": 4,
 "nbformat_minor": 2
}
