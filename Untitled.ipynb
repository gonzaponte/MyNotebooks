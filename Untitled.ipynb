{
 "cells": [
  {
   "cell_type": "code",
   "execution_count": 15,
   "metadata": {},
   "outputs": [
    {
     "data": {
      "text/plain": [
       "<matplotlib.legend.Legend at 0x7f290c790050>"
      ]
     },
     "execution_count": 15,
     "metadata": {},
     "output_type": "execute_result"
    },
    {
     "data": {
      "image/png": "[encoded data removed]",
      "text/plain": [
       "<Figure size 432x288 with 1 Axes>"
      ]
     },
     "metadata": {
      "needs_background": "light"
     },
     "output_type": "display_data"
    }
   ],
   "source": [
    "import numpy as np\n",
    "Ps = np.array([0.6, 0.3, 0.05, 0.05])*0.5\n",
    "num_trials = 1000\n",
    "poiss_trials = []\n",
    "justos_trials = []\n",
    "for i in range(num_trials):\n",
    "    init_num_ph = 1000\n",
    "    init_num_ph = np.random.poisson(init_num_ph)\n",
    "    rand_nums = np.random.rand(init_num_ph)\n",
    "    msk1 = (rand_nums<Ps[0]).sum()\n",
    "    msk2 = ((rand_nums>=Ps[0]) & (rand_nums<Ps[0]+Ps[1])).sum()\n",
    "    msk3 = ((rand_nums>=Ps[0]+Ps[1]) & (rand_nums<Ps[0]+Ps[1]+Ps[2])).sum()\n",
    "    msk4 = ((rand_nums>=Ps[0]+Ps[1]+Ps[2]) & (rand_nums<Ps[0]+Ps[1]+Ps[2]+Ps[3])).sum()\n",
    "    justos_arr = np.array([msk1, msk2, msk3, msk4])\n",
    "    pois = np.random.poisson(Ps*init_num_ph)\n",
    "    poiss_trials.append(pois)\n",
    "    justos_trials.append(justos_arr)\n",
    "poiss_trials=np.array(poiss_trials)\n",
    "justos_trials = np.array(justos_trials)\n",
    "import matplotlib.pyplot as plt\n",
    "plt.hist(poiss_trials.sum(axis=1), label = 'poisson', density=True, alpha=0.5)\n",
    "plt.hist(justos_trials.sum(axis=1), label ='justo method', density=True, alpha=0.5)\n",
    "plt.legend()"
   ]
  },
  {
   "cell_type": "code",
   "execution_count": null,
   "metadata": {},
   "outputs": [],
   "source": []
  }
 ],
 "metadata": {
  "kernelspec": {
   "display_name": "Python 3",
   "language": "python",
   "name": "python3"
  },
  "language_info": {
   "codemirror_mode": {
    "name": "ipython",
    "version": 3
   },
   "file_extension": ".py",
   "mimetype": "text/x-python",
   "name": "python",
   "nbconvert_exporter": "python",
   "pygments_lexer": "ipython3",
   "version": "3.7.7"
  }
 },
 "nbformat": 4,
 "nbformat_minor": 4
}
