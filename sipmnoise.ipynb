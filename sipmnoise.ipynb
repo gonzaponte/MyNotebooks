{
 "cells": [
  {
   "cell_type": "code",
   "execution_count": 1,
   "metadata": {
    "collapsed": true
   },
   "outputs": [],
   "source": [
    "import os\n",
    "import glob\n",
    "\n",
    "import numpy             as np\n",
    "import pandas            as pd\n",
    "import tables            as tb\n",
    "import matplotlib.pyplot as plt\n",
    "\n",
    "import invisible_cities.database.load_db as DB"
   ]
  },
  {
   "cell_type": "code",
   "execution_count": 2,
   "metadata": {
    "collapsed": true
   },
   "outputs": [],
   "source": [
    "%matplotlib inline\n",
    "\n",
    "plt.rcParams[\"figure.figsize\"] = 12, 8"
   ]
  },
  {
   "cell_type": "code",
   "execution_count": 4,
   "metadata": {
    "collapsed": true
   },
   "outputs": [],
   "source": [
    "filenames = glob.glob(os.path.expandvars(\"$IC_DATA/MC/Kr/preprod_201710/*\"))\n",
    "DataSiPM  = DB.DataSiPM(-4715)\n",
    "blines    = DB.SiPMNoise(4715)[-1]"
   ]
  },
  {
   "cell_type": "code",
   "execution_count": 5,
   "metadata": {},
   "outputs": [
    {
     "name": "stderr",
     "output_type": "stream",
     "text": [
      "/Applications/anaconda3/envs/IC3.6/lib/python3.6/site-packages/ipykernel_launcher.py:1: ParserWarning: Falling back to the 'python' engine because the 'c' engine does not support regex separators (separators > 1 char and different from '\\s+' are interpreted as regex); you can avoid this warning by specifying engine='python'.\n",
      "  \"\"\"Entry point for launching an IPython kernel.\n"
     ]
    }
   ],
   "source": [
    "true_pdf = pd.read_csv(\"/Users/Gonzalo/SiPMnoisePDF_4714.csv\", sep=\", \")"
   ]
  },
  {
   "cell_type": "code",
   "execution_count": 55,
   "metadata": {},
   "outputs": [
    {
     "data": {
      "image/png": "[encoded data removed]",
      "text/plain": [
       "<matplotlib.figure.Figure at 0x122cfa908>"
      ]
     },
     "metadata": {},
     "output_type": "display_data"
    }
   ],
   "source": [
    "eps = 1e-20\n",
    "for filename in filenames:\n",
    "    with tb.open_file(filename) as f:\n",
    "        rwf = f.root.RD.sipmrwf[:1000, :, :100]\n",
    "        sipms  = np.concatenate(rwf, axis=1)\n",
    "#        bline  = sipms.mean(axis=1)\n",
    "#        sipms  = sipms - bline[:, np.newaxis]\n",
    "        sipms  = sipms / (DataSiPM.adc_to_pes.values[:, np.newaxis] + eps)\n",
    "        for i in range(105, 106):\n",
    "            sipm = sipms[i]\n",
    "#            print(bline[i], blines[i])\n",
    "            pdf  = true_pdf[true_pdf.SensorID == DataSiPM.SensorID.values[i]]\n",
    "            plt.hist(sipm, np.linspace(-5, 15, 301), normed=True)\n",
    "            plt.yscale(\"log\")\n",
    "            plt.errorbar(pdf.BinEnergyPes, pdf.Probability, fmt=\"kp\")\n",
    "            plt.xlim(.5, 5)\n",
    "            break\n",
    "    break"
   ]
  },
  {
   "cell_type": "code",
   "execution_count": 6,
   "metadata": {},
   "outputs": [],
   "source": [
    "f = tb.open_file(filenames[0])\n",
    "rwf = f.root.RD.sipmrwf[:, :, :100]\n",
    "f.close()"
   ]
  },
  {
   "cell_type": "code",
   "execution_count": 7,
   "metadata": {
    "collapsed": true
   },
   "outputs": [],
   "source": [
    "sipms_adc = np.concatenate(rwf, axis=1)\n",
    "sipms_pes = sipms_adc / (DataSiPM.adc_to_pes.values[:, np.newaxis] + 1e-20)"
   ]
  },
  {
   "cell_type": "code",
   "execution_count": 8,
   "metadata": {
    "collapsed": true
   },
   "outputs": [],
   "source": [
    "i = 219\n",
    "s = DataSiPM.SensorID.values[i]\n",
    "pdf = true_pdf[true_pdf.SensorID == s]"
   ]
  },
  {
   "cell_type": "code",
   "execution_count": 9,
   "metadata": {},
   "outputs": [
    {
     "data": {
      "text/plain": [
       "(0.5, 5)"
      ]
     },
     "execution_count": 9,
     "metadata": {},
     "output_type": "execute_result"
    },
    {
     "data": {
      "image/png": "[encoded data removed]",
      "text/plain": [
       "<matplotlib.figure.Figure at 0x10a912eb8>"
      ]
     },
     "metadata": {},
     "output_type": "display_data"
    }
   ],
   "source": [
    "plt.hist(sipms_pes[i], np.linspace(-5, 15, 301), normed=True)\n",
    "plt.yscale(\"log\")\n",
    "plt.errorbar(pdf.BinEnergyPes, pdf.Probability, fmt=\"kp\")\n",
    "plt.xlim(.5, 5)"
   ]
  },
  {
   "cell_type": "code",
   "execution_count": null,
   "metadata": {
    "collapsed": true
   },
   "outputs": [],
   "source": []
  }
 ],
 "metadata": {
  "kernelspec": {
   "display_name": "Python 3",
   "language": "python",
   "name": "python3"
  },
  "language_info": {
   "codemirror_mode": {
    "name": "ipython",
    "version": 3
   },
   "file_extension": ".py",
   "mimetype": "text/x-python",
   "name": "python",
   "nbconvert_exporter": "python",
   "pygments_lexer": "ipython3",
   "version": "3.6.1"
  }
 },
 "nbformat": 4,
 "nbformat_minor": 2
}
