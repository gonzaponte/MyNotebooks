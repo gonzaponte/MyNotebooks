{
 "cells": [
  {
   "cell_type": "code",
   "execution_count": null,
   "metadata": {
    "collapsed": true
   },
   "outputs": [],
   "source": [
    "run_number         = XXXX\n",
    "input_file_pattern = \"/Users/Gonzalo/github/NEXTdata/Na22/{}/rwf/*.h5\".format(run_number)\n",
    "output_file_name   = \"/Users/Gonzalo/github/NEXTdata/evt_class_{}.h5\" .format(run_number)\n",
    "\n",
    "min_time = 450 # in mus\n",
    "max_rms  = [15]*11"
   ]
  },
  {
   "cell_type": "markdown",
   "metadata": {},
   "source": [
    "# Notebook configuration"
   ]
  },
  {
   "cell_type": "code",
   "execution_count": null,
   "metadata": {
    "collapsed": true
   },
   "outputs": [],
   "source": [
    "import glob\n",
    "\n",
    "import numpy             as np\n",
    "import tables            as tb\n",
    "import matplotlib.pyplot as plt\n",
    "\n",
    "import invisible_cities.database.load_db           as     db\n",
    "from   invisible_cities.core    .system_of_units_c import units\n",
    "import invisible_cities.reco    .tbl_functions     as     tbl"
   ]
  },
  {
   "cell_type": "markdown",
   "metadata": {},
   "source": [
    "## Plotting options"
   ]
  },
  {
   "cell_type": "code",
   "execution_count": null,
   "metadata": {
    "collapsed": true
   },
   "outputs": [],
   "source": [
    "%matplotlib inline\n",
    "plt.rcParams[\"figure.figsize\"] = 16, 12"
   ]
  },
  {
   "cell_type": "markdown",
   "metadata": {},
   "source": [
    "# Initialization"
   ]
  },
  {
   "cell_type": "code",
   "execution_count": null,
   "metadata": {
    "collapsed": true
   },
   "outputs": [],
   "source": [
    "rms_array    = []\n",
    "evt_no_array = []\n",
    "has_grass    = []\n",
    "\n",
    "min_index = min_time * units.mus // (25 * units.ns)\n",
    "active = db.DataPMT(run_number).Active.values.astype(bool)\n",
    "\n",
    "max_rms = np.array(max_rms)\n",
    "\n",
    "input_file_names = glob.glob(input_file_pattern)"
   ]
  },
  {
   "cell_type": "markdown",
   "metadata": {},
   "source": [
    "# Classify events"
   ]
  },
  {
   "cell_type": "code",
   "execution_count": null,
   "metadata": {
    "collapsed": true
   },
   "outputs": [],
   "source": [
    "for input_file_name in input_file_names:\n",
    "    with tb.open_file(input_file_name, \"r\") as h5out:\n",
    "        pmtrwf = tbl.get_rwf_vectors(h5in)[1]\n",
    "        evt_nos, _            = tbl.get_event_numbers_and_timestamps_from_file(h5in)\n",
    "\n",
    "        evt_no_array.extend(evt_nos.tolist())\n",
    "        for evt, evt_no in enumerate(evt_nos):\n",
    "            wf  = pmtrwf[evt, active, min_index:]\n",
    "            rms = np.std(wf, axis=1)\n",
    "            rms_array.append(rms)\n",
    "            has_grass.append(np.all(rms >= max_rms))\n",
    "\n",
    "rms_array    = np.array(   rms_array)\n",
    "evt_no_array = np.array(evt_no_array)\n",
    "has_grass    = np.array(has_grass)"
   ]
  },
  {
   "cell_type": "code",
   "execution_count": null,
   "metadata": {
    "collapsed": true
   },
   "outputs": [],
   "source": [
    "rms_bins = np.linspace(0, rms_array.max(), 101)\n",
    "plt.hist(rms_array[ has_grass], rms_bins, label=\"Grassy    events\")\n",
    "plt.hist(rms_array[~has_grass], rms_bins, label=\"Grassless events\")\n",
    "plt.legend()\n",
    "plt.xlabel(\"Waveform RMS after pulse (adc)\")\n",
    "plt.ylabel(\"Entries\")"
   ]
  },
  {
   "cell_type": "markdown",
   "metadata": {},
   "source": [
    "# Save events"
   ]
  },
  {
   "cell_type": "code",
   "execution_count": null,
   "metadata": {
    "collapsed": true
   },
   "outputs": [],
   "source": [
    "with tb.open_file(output_file_name, \"w\") as h5out:\n",
    "    tb.create_array(h5in.root, \"Grassless\", evt_no_array[~has_grass], \"Events without grass\")\n",
    "    tb.create_array(h5in.root, \"Grassy\"   , evt_no_array[ has_grass], \"Events with grass\")"
   ]
  }
 ],
 "metadata": {
  "kernelspec": {
   "display_name": "Python 3",
   "language": "python",
   "name": "python3"
  },
  "language_info": {
   "codemirror_mode": {
    "name": "ipython",
    "version": 3
   },
   "file_extension": ".py",
   "mimetype": "text/x-python",
   "name": "python",
   "nbconvert_exporter": "python",
   "pygments_lexer": "ipython3",
   "version": "3.6.1"
  }
 },
 "nbformat": 4,
 "nbformat_minor": 2
}
