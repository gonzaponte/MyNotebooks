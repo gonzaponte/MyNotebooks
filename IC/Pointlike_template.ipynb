{
 "cells": [
  {
   "cell_type": "markdown",
   "metadata": {},
   "source": [
    "# Notebook configuration"
   ]
  },
  {
   "cell_type": "code",
   "execution_count": null,
   "metadata": {
    "collapsed": true
   },
   "outputs": [],
   "source": [
    "run_numbers         = XXXX,\n",
    "data_type           = \"YY\"\n",
    "input_pattern       = \"/Users/Gonzalo/github/NEXTdata/{}/dst_{}.root.h5\"\n",
    "output_folder       = \"plots/{}/{}/\".format(data_type, run_numbers)\n",
    "plots_format        = \"png\"\n",
    "save_plots          = False\n",
    "corr_pitch          = 5.4 # 4.0, 5.4, 8.1, 16.5\n",
    "correction_filename = \"/Users/Gonzalo/github/ICARO/icaro/KrMay/run4446_corrections_{:.1f}mm.h5\"\n",
    "\n",
    "Zrange              =     0, 600\n",
    "XYrange             =  -198, 198\n",
    "Rrange              =     0, max(XYrange)\n",
    "Prange              =  -3.2, 3.2  \n",
    "Qrange              =     0, 5e2\n",
    "QErange             =     0, 0.1\n",
    "Frange              =   0.8, 1.5\n",
    "Urange              =  1e-2, 1e-1\n",
    "\n",
    "NSirange            =     0, 30\n",
    "fixed_lifetime      = False\n",
    "\n",
    "nbins_LT            =    10\n",
    "Zrange_LT           =    50, 520\n",
    "Zrange_XY           =     0, 520\n",
    "nX, nY, nZ, nR      =    50,  50,  50,  50\n",
    "\n",
    "XR_range            =   4e3,  12e3\n",
    "PP_range            = 160e3, 220e3\n",
    "full_range          =     0, 230e3\n",
    "\n",
    "XR_fit_range        =  8200, 12000\n",
    "PP_fit_range        = 180e3, 205e3\n",
    "\n",
    "XR1_fit_seed        =  8500\n",
    "XR2_fit_seed        = 10000\n",
    "PP1_fit_seed        = 198e3\n",
    "PP2_fit_seed        = 190e3\n",
    "\n",
    "XR1_energy_keV      = 29.7\n",
    "XR2_energy_keV      = 33.8\n",
    "\n",
    "PP1_energy_keV      = 662\n",
    "PP2_energy_keV      = PP1_energy_keV - XR1_energy_keV\n",
    "\n",
    "Qbb_energy_keV      = 2458"
   ]
  },
  {
   "cell_type": "markdown",
   "metadata": {},
   "source": [
    "# Imports"
   ]
  },
  {
   "cell_type": "code",
   "execution_count": null,
   "metadata": {
    "collapsed": true
   },
   "outputs": [],
   "source": [
    "import os\n",
    "import functools\n",
    "import time\n",
    "print(\"Running on \", time.asctime())\n",
    "\n",
    "import numpy             as np\n",
    "import tables            as tb\n",
    "import matplotlib.pyplot as plt\n",
    "from   matplotlib.colors import LogNorm\n",
    "\n",
    "import invisible_cities.core.core_functions as coref\n",
    "import invisible_cities.core.fit_functions  as fitf\n",
    "import invisible_cities.reco.dst_functions  as dstf\n",
    "import invisible_cities.io  . dst_io        as dstio\n",
    "import invisible_cities.io  .kdst_io        as kdstio\n",
    "import invisible_cities.reco.corrections    as corrf\n",
    "\n",
    "from invisible_cities.icaro.hst_functions import hist\n",
    "from invisible_cities.icaro.hst_functions import hist2d\n",
    "from invisible_cities.icaro.hst_functions import pdf\n",
    "from invisible_cities.icaro.hst_functions import labels\n",
    "from invisible_cities.icaro.hst_functions import display_matrix\n",
    "from invisible_cities.icaro.hst_functions import covariance\n",
    "from invisible_cities.icaro.hst_functions import resolution\n",
    "from invisible_cities.icaro.hst_functions import gausstext\n",
    "from invisible_cities.icaro.hst_functions import measurement_string\n",
    "from invisible_cities.icaro.hst_functions import shift_to_bin_centers\n",
    "from invisible_cities.icaro.hst_functions import poisson_sigma\n",
    "from invisible_cities.icaro.hst_functions import plot_writer\n",
    "\n",
    "pi   = np.pi\n",
    "save = plot_writer(save_to_folder, outputfolder) if save_plots else lambda *x: None"
   ]
  },
  {
   "cell_type": "markdown",
   "metadata": {},
   "source": [
    "# Plotting options"
   ]
  },
  {
   "cell_type": "code",
   "execution_count": null,
   "metadata": {
    "collapsed": true
   },
   "outputs": [],
   "source": [
    "%matplotlib inline\n",
    "np.warnings.filterwarnings('ignore')\n",
    "\n",
    "plt.rcParams[\"figure.figsize\"         ] = 8, 6\n",
    "plt.rcParams[\"figure.max_open_warning\"] = 100\n",
    "plt.rcParams[\"font.size\"              ] = 15\n",
    "\n",
    "data0_draw_opt      = \"kp\"\n",
    "data1_draw_opt      = \"mp\"\n",
    "data2_draw_opt      = \"cp\"\n",
    "prof_draw_opt       = \"kp--\"\n",
    "bkg_fit_draw_opt    = \"g-\"\n",
    "global_fit_draw_opt = \"r-\"\n",
    "peak_1_fit_draw_opt = \"k-\"\n",
    "peak_2_fit_draw_opt = \"b-\""
   ]
  },
  {
   "cell_type": "markdown",
   "metadata": {},
   "source": [
    "# Initialization"
   ]
  },
  {
   "cell_type": "code",
   "execution_count": null,
   "metadata": {
    "collapsed": true
   },
   "outputs": [],
   "source": [
    "XYcorrection    = dstf .load_xy_corrections(correction_filename.format(corr_pitch))\n",
    "save            = plot_writer(output_folder, plots_format)\n",
    "\n",
    "full_range_bins = np.linspace(*full_range, 100)\n",
    "XR_range_bins   = np.linspace(*  XR_range, 100)\n",
    "PP_range_bins   = np.linspace(*  PP_range, 100)\n",
    "Zbins           = np.linspace(*    Zrange,  nZ)\n",
    "\n",
    "full_bin_size   = np.diff(full_range_bins)[0]\n",
    "XR_bin_size     = np.diff(  XR_range_bins)[0]\n",
    "PP_bin_size     = np.diff(  PP_range_bins)[0]\n",
    "\n",
    "resolution_at_xr_string  = \"Resolution at {: <4} keV:\".format(XR1_energy_keV)\n",
    "resolution_at_pp_string  = \"Resolution at {: <4} keV:\".format(PP1_energy_keV)\n",
    "resolution_at_qbb_string = \"Resolution at {: <4} keV:\".format(Qbb_energy_keV)\n",
    "chi2_string              = \"Chi2{}:\".format(\" \"*18) "
   ]
  },
  {
   "cell_type": "markdown",
   "metadata": {},
   "source": [
    "# Read data"
   ]
  },
  {
   "cell_type": "code",
   "execution_count": null,
   "metadata": {
    "collapsed": true,
    "scrolled": false
   },
   "outputs": [],
   "source": [
    "full = dstio.load_dsts([input_pattern.format(data_type, run) for run in run_numbers], \"DST\", \"Events\")\n",
    "full = full[full.R<max(Rrange)] # soft radial cut to reduce badly reconstructed events\n",
    "print(len(full))\n",
    "full.head()"
   ]
  },
  {
   "cell_type": "code",
   "execution_count": null,
   "metadata": {
    "collapsed": true
   },
   "outputs": [],
   "source": [
    "hist(full.nS2, 5, (0, 5))\n",
    "labels(\"Number of S2 signals\", \"Entries\", \"Number of S2 signals\")\n",
    "save(\"NS2\")"
   ]
  },
  {
   "cell_type": "code",
   "execution_count": null,
   "metadata": {
    "collapsed": true
   },
   "outputs": [],
   "source": [
    "hist(full.Z, 100, Zrange)\n",
    "labels(\"Drift time ($\\mu$s)\", \"Entries\", \"Z distribution\")\n",
    "save(\"Z\")"
   ]
  },
  {
   "cell_type": "code",
   "execution_count": null,
   "metadata": {
    "collapsed": true
   },
   "outputs": [],
   "source": [
    "T       = full.time.values / 60\n",
    "T      -= np.min(T)\n",
    " \n",
    "y, x, _  = hist(T, 30, (np.min(T), np.max(T)))\n",
    "bin_size = np.diff(x)[0]\n",
    "\n",
    "sel = y > np.mean(y) - np.std(y)\n",
    "f = fitf.fit(fitf.expo, x[sel], y[sel], (np.max(y), -1e4), sigma=poisson_sigma(y[sel]))\n",
    "\n",
    "plt.plot(x, f.fn(x), global_fit_draw_opt)\n",
    "labels(\"Time since run beginning (min)\",\n",
    "       \"Event rate (({:.2f} min)$^{{-1}}$)\".format(bin_size),\n",
    "       \"Trigger rate\")\n",
    "save(\"EventRate\")\n",
    "\n",
    "scale = np.log(2)*bin_size/60/24/365.25\n",
    "print(\"T1/2 = {:.2f} +- {:.2f} y\".format(-f.values[1]*scale, f.errors[1]*scale))"
   ]
  },
  {
   "cell_type": "code",
   "execution_count": null,
   "metadata": {
    "collapsed": true
   },
   "outputs": [],
   "source": [
    "hist(full.S2e, full_range_bins*2)\n",
    "labels(\"S2 energy (pes)\", \"Entries\", \"Energy spectrum\")\n",
    "save(\"Raw_energy_wide\")"
   ]
  },
  {
   "cell_type": "markdown",
   "metadata": {},
   "source": [
    "# S2 energy"
   ]
  },
  {
   "cell_type": "code",
   "execution_count": null,
   "metadata": {
    "collapsed": true
   },
   "outputs": [],
   "source": [
    "hist(full.S2e, full_range_bins)\n",
    "labels(\"S2 energy (pes)\", \"Entries\", \"S2 energy\")\n",
    "save(\"S2energy\")\n",
    "\n",
    "\n",
    "hist2d(full.Z, full.S2e, (Zbins, full_range_bins))\n",
    "labels(\"Drift time ($\\mu$s)\", \"S2 energy (pes)\", \"S2 energy vs Z\")\n",
    "save(\"S2energyvsZ\")"
   ]
  },
  {
   "cell_type": "markdown",
   "metadata": {},
   "source": [
    "# Lifetime calculation"
   ]
  },
  {
   "cell_type": "code",
   "execution_count": null,
   "metadata": {
    "collapsed": true
   },
   "outputs": [],
   "source": [
    "fid = full\n",
    "fid = fid[fid.R < 100] # Fiducialize in order to reduce geometrical effects\n",
    "print(\"Ratio:\", len(fid)/len(full))\n",
    "fid.head()"
   ]
  },
  {
   "cell_type": "markdown",
   "metadata": {},
   "source": [
    "# S2 energy fiducialized"
   ]
  },
  {
   "cell_type": "code",
   "execution_count": null,
   "metadata": {
    "collapsed": true
   },
   "outputs": [],
   "source": [
    "hist(fid.S2e, XR_range_bins)\n",
    "labels(\"S2 energy (pes)\", \"Entries\", \"Fidualized energy spectrum\")\n",
    "save(\"Raw_energy_fiducial\")\n",
    "\n",
    "low_cut   =  8000 * np.exp(-0.0011*fid.Z.values)\n",
    "high_cut  = 11500 * np.exp(-0.0008*fid.Z.values)\n",
    "sel       = coref.in_range(fid.S2e.values, low_cut, high_cut) # remove low and high E background\n",
    "\n",
    "hist2d(fid.Z, fid.S2e, (Zbins, XR_range_bins))\n",
    "x, y, u_y = fitf.profileX(fid.Z[sel], fid.S2e[sel], nZ, xrange=Zrange)\n",
    "\n",
    "plt.plot(x, y, prof_draw_opt)\n",
    "plt.plot(fid.Z.values,  low_cut, \"k.\")\n",
    "plt.plot(fid.Z.values, high_cut, \"k.\")\n",
    "\n",
    "seed = np.max(y), (x[15] - x[5])/np.log(y[15]/y[5])\n",
    "f    = fitf.fit(fitf.expo, x, y, seed, fit_range=Zrange_LT, sigma=u_y)\n",
    "\n",
    "plt.plot(x, f.fn(x), global_fit_draw_opt)\n",
    "print(\"Energy at z=0 =\", measurement_string( f.values[0], f.errors[0]))\n",
    "print(\"Lifetime      =\", measurement_string(-f.values[1], f.errors[1]))\n",
    "print(\"Chi2          =\", f.chi2)\n",
    "\n",
    "labels(\"Drift time ($\\mu$s)\", \"S2 energy (pes)\", \"Fiducialized energy spectrum vs Z\")\n",
    "save(\"Raw_energy_vsZ_fiducial\")\n",
    "\n",
    "LT   = fixed_lifetime        if fixed_lifetime else -f.values[1]\n",
    "u_LT = fixed_lifetime * 0.01 if fixed_lifetime else  f.errors[1]\n",
    "\n",
    "Zcorr = corrf.LifetimeCorrection(LT, u_LT)"
   ]
  },
  {
   "cell_type": "markdown",
   "metadata": {},
   "source": [
    "# Lifetime evolution"
   ]
  },
  {
   "cell_type": "code",
   "execution_count": null,
   "metadata": {
    "collapsed": true
   },
   "outputs": [],
   "source": [
    "low_cut   =  8000 * np.exp(-0.0011*fid.Z.values)\n",
    "high_cut  = 11500 * np.exp(-0.0008*fid.Z.values)\n",
    "sel_E     = coref.in_range(fid.S2e.values, low_cut, high_cut) # remove low and high E background\n",
    "\n",
    "T     = fid.time.values - full.time.values.min()\n",
    "Tbins = np.linspace(0, T.max(), nbins_LT + 1)\n",
    "\n",
    "LTs   = []\n",
    "u_LTs = []\n",
    "E0s   = []\n",
    "u_E0s = []\n",
    "for i in range(nbins_LT):\n",
    "    sel_T = coref.in_range(T, *Tbins[i:i+2])\n",
    "    x, y, u_y = fitf.profileX(fid.Z[sel_E & sel_T], fid.S2e[sel_E & sel_T], nZ, xrange=Zrange)\n",
    "\n",
    "    seed = np.max(y), (x[15] - x[5])/np.log(y[15]/y[5])\n",
    "    f    = fitf.fit(fitf.expo, x[u_y>0], y[u_y>0], seed, fit_range=Zrange_LT, sigma=u_y[u_y>0])\n",
    "\n",
    "    E0s  .append( f.values[0])\n",
    "    u_E0s.append( f.errors[0])\n",
    "    LTs  .append(-f.values[1])\n",
    "    u_LTs.append( f.errors[1])\n",
    "\n",
    "Tbins = shift_to_bin_centers(Tbins)/3600\n",
    "\n",
    "plt.figure()\n",
    "plt.errorbar(Tbins, E0s, u_E0s, np.diff(Tbins)[0] * 0.5, data0_draw_opt)\n",
    "labels(\"Time (h)\", \"Energy at Z=0 (pes)\", \"Energy at Z=0 vs time\")\n",
    "save(\"E0vsT\")\n",
    "\n",
    "plt.figure()\n",
    "plt.errorbar    (Tbins, LTs, u_LTs, np.diff(Tbins)[0] * 0.5, data0_draw_opt)\n",
    "plt.plot        (Tbins, np.full_like(Tbins, LT), color=\"magenta\", label=\"Global lifetime\")\n",
    "plt.fill_between(Tbins, LT - u_LT, LT + u_LT, alpha=0.2, color=\"magenta\", label=\"1-σ\")\n",
    "plt.legend()\n",
    "labels(\"Time (h)\", \"Lifetime (µs)\", \"Lifetime vs time\")\n",
    "save(\"LifetimevsT\")"
   ]
  },
  {
   "cell_type": "code",
   "execution_count": null,
   "metadata": {
    "collapsed": true
   },
   "outputs": [],
   "source": [
    "E_xyzcorr = full.S2e.values * Zcorr(full.Z.values).value * XYcorrection(full.X.values, full.Y.values).value"
   ]
  },
  {
   "cell_type": "markdown",
   "metadata": {},
   "source": [
    "# Time dependence"
   ]
  },
  {
   "cell_type": "code",
   "execution_count": null,
   "metadata": {
    "collapsed": true
   },
   "outputs": [],
   "source": [
    "T     = (full.time.values - np.min(full.time.values))/60\n",
    "nT    = 50\n",
    "Tbins = np.linspace(0, np.max(T), nT+1)\n",
    "\n",
    "hist2d(T, E_xyzcorr, (Tbins, XR_range_bins))\n",
    "x, y, u_y = fitf.profileX(T, E_xyzcorr, nT, yrange=XR_range)\n",
    "plt.plot(x, y, prof_draw_opt)\n",
    "\n",
    "labels(\"Time (min)\", \"Energy (pes)\", \"XYZ-corrected energy vs time\")\n",
    "save(\"EcorrZXYvsT\")\n",
    "\n",
    "Tcorr = corrf.Correction((x,), y, u_y, \"max\")"
   ]
  },
  {
   "cell_type": "code",
   "execution_count": null,
   "metadata": {
    "collapsed": true
   },
   "outputs": [],
   "source": [
    "T          = (full.time.values - np.min(full.time.values))/60\n",
    "E_xyztcorr = E_xyzcorr * Tcorr(T).value"
   ]
  },
  {
   "cell_type": "markdown",
   "metadata": {},
   "source": [
    "# Full spectrum (energy scale from XR)"
   ]
  },
  {
   "cell_type": "code",
   "execution_count": null,
   "metadata": {
    "collapsed": true
   },
   "outputs": [],
   "source": [
    "hist(E_xyztcorr, full_range_bins)\n",
    "labels(\"Energy (pes)\", \"Entries\", \"S2 spectrum\")\n",
    "\n",
    "scale   = 29.6/9100\n",
    "y, x, _ = hist(E_xyztcorr*scale, full_range_bins * scale)\n",
    "\n",
    "sel = coref.in_range(x, PP_range[0]*scale, PP_range[1]*scale)\n",
    "print(\"Peak energy: {} keV\".format(measurement_string(x[sel][np.argmax(y[sel])], np.diff(x)[0]*0.5)))\n",
    "labels(\"Energy (keV)\", \"Entries\", \"S2 spectrum\")"
   ]
  },
  {
   "cell_type": "markdown",
   "metadata": {},
   "source": [
    "# XR peak"
   ]
  },
  {
   "cell_type": "code",
   "execution_count": null,
   "metadata": {
    "collapsed": true
   },
   "outputs": [],
   "source": [
    "y, x, _ = \\\n",
    "hist(E_xyztcorr, XR_range_bins)\n",
    "\n",
    "fun  = lambda x, *args: fitf.gauss  (x, *args[ :3]) + \\\n",
    "                        fitf.gauss  (x, *args[3:6]) + \\\n",
    "                        fitf.polynom(x, *args[6: ])\n",
    "\n",
    "ndat = np.sum(y)\n",
    "seed = ndat    , XR1_fit_seed    , XR1_fit_seed*0.03, ndat    , XR2_fit_seed    , XR2_fit_seed*0.03,  np.mean(y)/10, -1e-2\n",
    "low  = ndat/1e2, XR1_fit_seed*0.9, XR1_fit_seed*0.01, ndat/100, XR2_fit_seed*0.9, XR2_fit_seed*0.01, -np.mean(y)   , -1e+1\n",
    "upp  = ndat*1e2, XR1_fit_seed*1.1, XR1_fit_seed*0.06, ndat*100, XR2_fit_seed*1.1, XR2_fit_seed*0.06,  np.mean(y)   , +1e+1\n",
    "\n",
    "f_XR = fitf.fit(fun, x, y, seed, fit_range=XR_fit_range, sigma=poisson_sigma(y), bounds=(low, upp))\n",
    "assert not np.any(np.isclose(f_XR.values, seed)), np.isclose(f_XR.values, seed)\n",
    "assert not np.any(np.isclose(f_XR.values, low) ), np.isclose(f_XR.values, low )\n",
    "assert not np.any(np.isclose(f_XR.values, upp) ), np.isclose(f_XR.values, upp )\n",
    "\n",
    "plt.plot(x, f_XR.fn     (x                   ), global_fit_draw_opt)\n",
    "plt.plot(x, fitf.gauss  (x, *f_XR.values[ :3]), peak_1_fit_draw_opt)\n",
    "plt.plot(x, fitf.gauss  (x, *f_XR.values[3:6]), peak_2_fit_draw_opt)\n",
    "plt.plot(x, fitf.polynom(x, *f_XR.values[6: ]),    bkg_fit_draw_opt)\n",
    "plt.text(plt.xlim()[0] * 1.05, np.max(y)/2,\n",
    "         gausstext(f_XR.values, f_XR.errors, XR1_energy_keV))\n",
    "\n",
    "reso_XR = resolution(f_XR.values, f_XR.errors, XR1_energy_keV)\n",
    "print(resolution_at_xr_string , measurement_string(*reso_XR[0]))\n",
    "print(resolution_at_qbb_string, measurement_string(*reso_XR[1]))\n",
    "print(             chi2_string, f.chi2)\n",
    "\n",
    "plt.ylim(0)\n",
    "labels(\"Energy (pes)\", \"Entries\", \"XR energy spectrum\")"
   ]
  },
  {
   "cell_type": "markdown",
   "metadata": {},
   "source": [
    "# Photopeak"
   ]
  },
  {
   "cell_type": "code",
   "execution_count": null,
   "metadata": {
    "collapsed": true
   },
   "outputs": [],
   "source": [
    "y, x, _ = \\\n",
    "hist(E_xyztcorr, PP_range_bins)\n",
    "\n",
    "fun  = lambda x, *args: fitf.gauss  (x, *args[ :3]) + \\\n",
    "                        fitf.gauss  (x, *args[3:6]) + \\\n",
    "                        fitf.polynom(x, *args[6: ])\n",
    "\n",
    "ndat = np.sum(y)\n",
    "seed = ndat*1e2, PP1_fit_seed     , PP1_fit_seed*0.010, ndat*2e1, PP2_fit_seed     , PP2_fit_seed*0.010,  2e3, 1e-2, -1e-7\n",
    "low  = ndat    , PP1_fit_seed*0.99, PP1_fit_seed*0.003, ndat    , PP2_fit_seed*0.99, PP2_fit_seed*0.003, -1e5,-1e+3, -1e-1\n",
    "upp  = ndat*1e4, PP1_fit_seed*1.01, PP1_fit_seed*0.020, ndat*1e3, PP2_fit_seed*1.01, PP2_fit_seed*0.030,  1e5, 1e+3, +1e-5\n",
    "\n",
    "f_PP = fitf.fit(fun, x, y, seed, fit_range=PP_fit_range, sigma=poisson_sigma(y), bounds=(low, upp))\n",
    "\n",
    "assert not np.any(np.isclose(f_PP.values, seed)), np.isclose(f_PP.values, seed)\n",
    "assert not np.any(np.isclose(f_PP.values, low) ), np.isclose(f_PP.values, low )\n",
    "assert not np.any(np.isclose(f_PP.values, upp) ), np.isclose(f_PP.values, upp )\n",
    "\n",
    "plt.plot(x, f_PP.fn     (x                   ), global_fit_draw_opt)\n",
    "plt.plot(x, fitf.gauss  (x, *f_PP.values[ :3]), peak_1_fit_draw_opt)\n",
    "plt.plot(x, fitf.gauss  (x, *f_PP.values[3:6]), peak_2_fit_draw_opt)\n",
    "plt.plot(x, fitf.polynom(x, *f_PP.values[6: ]),    bkg_fit_draw_opt)\n",
    "plt.text(plt.xlim()[0] * 1.005, np.max(y)/1.5,\n",
    "         gausstext(f_PP.values, f_PP.errors, PP1_energy_keV))\n",
    "\n",
    "reso_PP = resolution(f_PP.values, f_PP.errors, PP1_energy_keV)\n",
    "print(resolution_at_pp_string , measurement_string(*reso_PP[0]))\n",
    "print(resolution_at_qbb_string, measurement_string(*reso_PP[1]))\n",
    "print(             chi2_string, f.chi2)\n",
    "\n",
    "plt.ylim(0)\n",
    "labels(\"Energy (pes)\", \"Entries\", \"S2 spectrum\")"
   ]
  },
  {
   "cell_type": "markdown",
   "metadata": {},
   "source": [
    "# Fiducialized photopeak"
   ]
  },
  {
   "cell_type": "code",
   "execution_count": null,
   "metadata": {
    "collapsed": true
   },
   "outputs": [],
   "source": [
    "y, x, _ = \\\n",
    "hist(E_xyztcorr[full.R.values < 100], PP_range_bins)\n",
    "\n",
    "fun  = lambda x, *args: fitf.gauss  (x, *args[ :3]) + \\\n",
    "                        fitf.gauss  (x, *args[3:6]) + \\\n",
    "                        fitf.polynom(x, *args[6: ])\n",
    "\n",
    "ndat = np.sum(y)\n",
    "seed = ndat*1e2, PP1_fit_seed     , PP1_fit_seed*0.010, ndat*2e1, PP2_fit_seed     , PP2_fit_seed*0.010,  2e3, 1e-2, -1e-7\n",
    "low  = ndat    , PP1_fit_seed*0.99, PP1_fit_seed*0.003, ndat    , PP2_fit_seed*0.99, PP2_fit_seed*0.003, -1e5,-1e+3, -1e-1\n",
    "upp  = ndat*1e4, PP1_fit_seed*1.01, PP1_fit_seed*0.020, ndat*1e3, PP2_fit_seed*1.01, PP2_fit_seed*0.030,  1e5, 1e+3, +1e-5\n",
    "\n",
    "f = fitf.fit(fun, x, y, seed, fit_range=PP_fit_range, sigma=poisson_sigma(y), bounds=(low, upp))\n",
    "\n",
    "assert not np.any(np.isclose(f.values, seed)), np.isclose(f.values, seed)\n",
    "assert not np.any(np.isclose(f.values, low) ), np.isclose(f.values, low )\n",
    "assert not np.any(np.isclose(f.values, upp) ), np.isclose(f.values, upp )\n",
    "\n",
    "plt.plot(x, f   .fn     (x                ), global_fit_draw_opt)\n",
    "plt.plot(x, fitf.gauss  (x, *f.values[ :3]), peak_1_fit_draw_opt)\n",
    "plt.plot(x, fitf.gauss  (x, *f.values[3:6]), peak_2_fit_draw_opt)\n",
    "plt.plot(x, fitf.polynom(x, *f.values[6: ]),    bkg_fit_draw_opt)\n",
    "plt.text(plt.xlim()[0] * 1.005, np.max(y)/1.5,\n",
    "         gausstext(f.values, f.errors, PP1_energy_keV))\n",
    "\n",
    "reso = resolution(f.values, f.errors, PP1_energy_keV)\n",
    "print(resolution_at_pp_string , measurement_string(*reso[0]))\n",
    "print(resolution_at_qbb_string, measurement_string(*reso[1]))\n",
    "print(             chi2_string, f.chi2)\n",
    "\n",
    "plt.ylim(0)\n",
    "labels(\"Energy (pes)\", \"Entries\", \"S2 spectrum\")"
   ]
  },
  {
   "cell_type": "markdown",
   "metadata": {},
   "source": [
    "# Regions of interest"
   ]
  },
  {
   "cell_type": "code",
   "execution_count": null,
   "metadata": {
    "collapsed": true
   },
   "outputs": [],
   "source": [
    "XRsel = coref.in_range(E_xyztcorr, f_XR.values[1] - f_XR.values[2], f_XR.values[1] + f_XR.values[2])\n",
    "XR    = full[XRsel]\n",
    "PPsel = coref.in_range(E_xyztcorr, f_PP.values[1] - f_PP.values[2], f_PP.values[1] + f_PP.values[2])\n",
    "PP    = full[PPsel]\n",
    "\n",
    "print(\"# events in photopeak:\", np.count_nonzero(XRsel))\n",
    "print(\"# events in XR       :\", np.count_nonzero(PPsel))"
   ]
  },
  {
   "cell_type": "markdown",
   "metadata": {},
   "source": [
    "# Spatial distributions"
   ]
  },
  {
   "cell_type": "code",
   "execution_count": null,
   "metadata": {
    "collapsed": true
   },
   "outputs": [],
   "source": [
    "hist2d(XR.X.values, XR.Y.values, (nX, nY), (XYrange, XYrange))\n",
    "plt.colorbar().set_label(\"# events\")\n",
    "labels(\"x (mm)\", \"y (mm)\", \"X-rays XY distribution\")\n",
    "\n",
    "hist(XR.Z.values, nZ, (Zrange))\n",
    "labels(\"Drift time (µs)\", \"# events\", \"X-rays Z distribution\")"
   ]
  },
  {
   "cell_type": "code",
   "execution_count": null,
   "metadata": {
    "collapsed": true
   },
   "outputs": [],
   "source": [
    "hist2d(PP.X.values, PP.Y.values, (nX, nY), (XYrange, XYrange))\n",
    "plt.colorbar().set_label(\"# events\")\n",
    "labels(\"x (mm)\", \"y (mm)\", \"Photopeak XY distribution\")\n",
    "\n",
    "hist(PP.Z.values, nZ, (Zrange))\n",
    "labels(\"Drift time (µs)\", \"# events\", \"Photopeak Z distribution\")"
   ]
  },
  {
   "cell_type": "markdown",
   "metadata": {},
   "source": [
    "# X-rays"
   ]
  },
  {
   "cell_type": "code",
   "execution_count": null,
   "metadata": {
    "collapsed": true
   },
   "outputs": [],
   "source": [
    "hist2d(XR.Z, XR.S2q, (nZ, 100), range=(Zrange, Qrange))\n",
    "x, y, _ = fitf.profileX(XR.Z, XR.S2q, nZ, xrange=Zrange, yrange=Qrange)\n",
    "plt.plot(x, y, prof_draw_opt)\n",
    "\n",
    "labels(\"Drift time ($\\mu$s)\", \"S2 charge (pes)\", \"Charge vs Z\")\n",
    "save(\"QvsZ\")\n",
    "\n",
    "x, y, Q, u_Q = \\\n",
    "fitf.profileXY(XR.X, XR.Y, XR.S2q, nX, nY, XYrange, XYrange)\n",
    "_, cb = display_matrix(x, y, Q)\n",
    "cb.set_label(\"Q (pes)\")\n",
    "labels(\"x (mm)\", \"y (mm)\", \"Charge vs XY\")\n",
    "save(\"QvsXY\")"
   ]
  },
  {
   "cell_type": "code",
   "execution_count": null,
   "metadata": {
    "collapsed": true,
    "scrolled": false
   },
   "outputs": [],
   "source": [
    "xc, yc, Ec, u_Ec = \\\n",
    "fitf.profileXY(XR.X.values, XR.Y.values, E_xyztcorr[XRsel], nX, nY, XYrange, XYrange)\n",
    "_, cb = display_matrix(xc, yc, Ec)\n",
    "cb.set_label(\"E (pes)\")\n",
    "labels(\"x (mm)\", \"y (mm)\", \"Energy vs XY\")\n",
    "save(\"EvsXY\")\n",
    "\n",
    "XYcorrection_XR = corrf.Correction((xc, yc), Ec, u_Ec, \"index\", index=(nX//2, nY//2))\n",
    "print(\"Reference energy = {} pes\".format(Ec[tuple(np.argwhere(XYcorrection_XR._fs==1)[0])]))"
   ]
  },
  {
   "cell_type": "markdown",
   "metadata": {},
   "source": [
    "# Correction map"
   ]
  },
  {
   "cell_type": "code",
   "execution_count": null,
   "metadata": {
    "collapsed": true
   },
   "outputs": [],
   "source": [
    "XR_map_pitch = np.diff(np.linspace(*XYrange, nX+1))[0]\n",
    "XYcorrection_Kr_same_pitch = dstf.load_xy_corrections(correction_filename.format(XR_map_pitch))"
   ]
  },
  {
   "cell_type": "code",
   "execution_count": null,
   "metadata": {
    "collapsed": true,
    "scrolled": false
   },
   "outputs": [],
   "source": [
    "_r = (np.repeat(xc, yc.size)**2 +\n",
    "      np.tile  (yc, xc.size)**2)**0.5\n",
    "_f = XYcorrection_XR._fs.flatten()\n",
    "_u = XYcorrection_XR._us.flatten()\n",
    "\n",
    "_, cb = display_matrix(xc, yc, _f)\n",
    "labels(\"x (mm)\", \"y (mm)\", \"Correction map\")\n",
    "cb.set_label(\"Correction factor\")\n",
    "save(\"CorrectionMap\")\n",
    "\n",
    "_, cb = display_matrix(xc, yc, _u)\n",
    "labels(\"x (mm)\", \"y (mm)\", \"Correction map uncertainty\")\n",
    "cb.set_label(\"Correction factor uncertainty\")\n",
    "save(\"CorrectionMapUncertainty\")"
   ]
  },
  {
   "cell_type": "code",
   "execution_count": null,
   "metadata": {
    "collapsed": true
   },
   "outputs": [],
   "source": [
    "ratio = XYcorrection_XR._fs / XYcorrection_Kr_same_pitch._fs\n",
    "\n",
    "y, x, _ = \\\n",
    "hist(ratio.flatten(), 50, (0.7, 1.2))\n",
    "labels(\"XR/Kr correction factor\", \"Entries\", \"Correction factor ratio\")\n",
    "\n",
    "#f = fitf.fit(fitf.gauss, x, y, (1e3, 1, 0.1))\n",
    "#plt.plot(x, f.fn(x), global_fit_draw_opt)\n",
    "#plt.text(plt.xlim()[0] * 1.01, plt.ylim()[1]/2,\n",
    "#         \"µ = {}\\nσ = {}\".format(measurement_string(f.values[1], f.errors[1]),\n",
    "#                                 measurement_string(f.values[2], f.errors[2])))\n",
    "save(\"CorrectionMapRatio\")\n",
    "\n",
    "_, cb = display_matrix(xc, yc, ratio, vmin=0.7, vmax=1.2)\n",
    "labels(\"x (mm)\", \"y (mm)\", \"Correction map ratio\")\n",
    "cb.set_label(\"XR/Kr correction factor\")\n",
    "save(\"CorrectionMapRatio_XY\")"
   ]
  },
  {
   "cell_type": "code",
   "execution_count": null,
   "metadata": {
    "collapsed": true
   },
   "outputs": [],
   "source": [
    "pull = (XYcorrection_XR._fs - XYcorrection_Kr_same_pitch._fs) / (XYcorrection_XR._us**2 - XYcorrection_Kr_same_pitch._us**2)**0.5\n",
    "\n",
    "y, x, _ = \\\n",
    "hist(pull.flatten(), 50, (-40, 20))\n",
    "labels(r\"$\\frac{XR - Kr}{\\sqrt{\\sigma_{XR}^2 + \\sigma_{Kr}^2}}$\", \"Entries\", \"Correction factor pull\")\n",
    "\n",
    "#f = fitf.fit(fitf.gauss, x, y, (1e3, 1, 0.1))\n",
    "#plt.plot(x, f.fn(x), global_fit_draw_opt)\n",
    "#plt.text(plt.xlim()[0] * 0.99, plt.ylim()[1]/2,\n",
    "#         \"µ = {}\\nσ = {}\".format(measurement_string(f.values[1], f.errors[1]),\n",
    "#                                 measurement_string(f.values[2], f.errors[2])))\n",
    "save(\"CorrectionMapPull\")\n",
    "\n",
    "_, cb = display_matrix(xc, yc, ratio, vmin=-10, vmax=10)\n",
    "labels(\"x (mm)\", \"y (mm)\", \"Correction map pull\")\n",
    "cb.set_label(r\"$\\frac{XR - Kr}{\\sqrt{\\sigma_{XR}^2 + \\sigma_{Kr}^2}}$\")\n",
    "save(\"CorrectionMapPull_XY\")"
   ]
  },
  {
   "cell_type": "markdown",
   "metadata": {},
   "source": [
    "# Resolution dependences"
   ]
  },
  {
   "cell_type": "code",
   "execution_count": null,
   "metadata": {
    "collapsed": true
   },
   "outputs": [],
   "source": [
    "nx, ny = 10, 10\n",
    "xbins  = np.linspace(*XYrange, nx+1)\n",
    "ybins  = np.linspace(*XYrange, ny+1)\n",
    "\n",
    "fun  = lambda x, *args: fitf.gauss  (x, *args[ :3]) + \\\n",
    "                        fitf.gauss  (x, *args[3:6]) + \\\n",
    "                        fitf.polynom(x, *args[6: ])\n",
    "\n",
    "ndat = len(PP)\n",
    "seed = ndat    , PP1_fit_seed     , PP1_fit_seed*0.010, ndat    , PP2_fit_seed     , PP2_fit_seed*0.010,  2e3, 1e-2, -1e-7\n",
    "low  = ndat*  0, PP1_fit_seed*0.99, PP1_fit_seed*0.003, ndat*  0, PP2_fit_seed*0.99, PP2_fit_seed*0.003, -1e5,-1e+3, -1e-1\n",
    "upp  = ndat*1e8, PP1_fit_seed*1.01, PP1_fit_seed*0.020, ndat*1e8, PP2_fit_seed*1.01, PP2_fit_seed*0.030,  1e5, 1e+3, +1e-5\n",
    "\n",
    "R_values   = np.zeros((nx, ny))\n",
    "u_R_values = np.zeros_like(R_values) \n",
    "\n",
    "plt.figure(figsize=(5*nx, 5*ny))\n",
    "for i in range(nx):\n",
    "    for j in range(ny):\n",
    "        sel = coref.in_range(full.X.values, *xbins[i:i+2]) &\\\n",
    "              coref.in_range(full.Y.values, *ybins[j:j+2]) &\\\n",
    "              coref.in_range(E_xyztcorr   , *PP_range    )\n",
    "        if np.count_nonzero(sel) < 200:\n",
    "            continue\n",
    "        try:\n",
    "            plt.subplot(nx, ny, i*ny + j + 1)\n",
    "\n",
    "            E       = E_xyztcorr[sel]\n",
    "            y, x, _ = hist(E, PP_range_bins, new_figure=False)\n",
    "            title   = \"x $\\in$ [{:.1f}, {:.1f}), y $\\in$ [{:.1f}, {:.1f})\".format(*xbins[i:i+2],\n",
    "                                                                                  *ybins[j:j+2])\n",
    "            labels(\"E (pes)\", \"Entries\", title)\n",
    "\n",
    "            f = fitf.fit(fun, x, y, seed, fit_range=PP_fit_range, sigma=poisson_sigma(y), bounds=(low, upp))\n",
    "\n",
    "            assert not np.any(np.isclose(f.values, seed)), np.isclose(f.values, seed)\n",
    "            assert not np.any(np.isclose(f.values, low) ), np.isclose(f.values, low )\n",
    "            assert not np.any(np.isclose(f.values, upp) ), np.isclose(f.values, upp )\n",
    "\n",
    "            plt.plot(x, f   .fn     (x                ), global_fit_draw_opt)\n",
    "            plt.plot(x, fitf.gauss  (x, *f.values[ :3]), peak_1_fit_draw_opt)\n",
    "            plt.plot(x, fitf.gauss  (x, *f.values[3:6]), peak_2_fit_draw_opt)\n",
    "            plt.plot(x, fitf.polynom(x, *f.values[6: ]),    bkg_fit_draw_opt)\n",
    "            plt.text(plt.xlim()[0] * 1.005, np.max(y)/1.5,\n",
    "                     gausstext(f.values, f.errors, PP1_energy_keV))\n",
    "            plt.ylim(0)\n",
    "\n",
    "            reso             = resolution(f.values, f.errors, PP1_energy_keV)\n",
    "            R_values  [i, j] = reso[1].value\n",
    "            u_R_values[i, j] = reso[1].uncertainty\n",
    "        except:\n",
    "            continue\n",
    "plt.tight_layout()"
   ]
  },
  {
   "cell_type": "code",
   "execution_count": null,
   "metadata": {
    "collapsed": true
   },
   "outputs": [],
   "source": [
    "_x = shift_to_bin_centers(xbins)\n",
    "_y = shift_to_bin_centers(ybins)\n",
    "\n",
    "hist(R_values.flatten(), 100, (0, 1.5))\n",
    "labels(\"FWHM Resolution @ Qbb (%)\", \"Entries\")\n",
    "\n",
    "_, cb = display_matrix(_x, _y,   R_values, vmin=0.6, vmax=1.6)\n",
    "cb.set_label(\"FWHM Resolution @ Qbb\")\n",
    "labels(\"x (mm)\", \"y (mm)\", \"Resolution vs XY\")\n",
    "\n",
    "_, cb = display_matrix(_x, _y, u_R_values)\n",
    "cb.set_label(\"Uncertainty of FWHM Resolution @ Qbb\")\n",
    "labels(\"x (mm)\", \"y (mm)\", \"Resolution uncertainty vs XY\")\n",
    "\n",
    "plt.figure()\n",
    "sel = R_values.flatten() > 0\n",
    "plt.errorbar(np.repeat(_x, ny)[sel], R_values.flatten()[sel], u_R_values.flatten()[sel], fmt=\"k.\")\n",
    "labels(\"x (mm)\", \"FWHM Resolution @ Qbb\", \"Resolution vs X\")"
   ]
  },
  {
   "cell_type": "code",
   "execution_count": null,
   "metadata": {
    "collapsed": true
   },
   "outputs": [],
   "source": [
    "nx     = 9\n",
    "xbins  = np.linspace(*XYrange, nx+1)\n",
    "\n",
    "fun  = lambda x, *args: fitf.gauss  (x, *args[ :3]) + \\\n",
    "                        fitf.gauss  (x, *args[3:6]) + \\\n",
    "                        fitf.polynom(x, *args[6: ])\n",
    "\n",
    "ndat = len(PP)\n",
    "seed = ndat    , PP1_fit_seed     , PP1_fit_seed*0.010, ndat    , PP2_fit_seed     , PP2_fit_seed*0.010,  2e3, 1e-2, -1e-7\n",
    "low  = ndat*  0, PP1_fit_seed*0.99, PP1_fit_seed*0.003, ndat*  0, PP2_fit_seed*0.99, PP2_fit_seed*0.003, -1e5,-1e+3, -1e-1\n",
    "upp  = ndat*1e8, PP1_fit_seed*1.01, PP1_fit_seed*0.020, ndat*1e8, PP2_fit_seed*1.01, PP2_fit_seed*0.030,  1e5, 1e+3, +1e-5\n",
    "\n",
    "R_values   = np.zeros(nx)\n",
    "u_R_values = np.zeros_like(R_values) \n",
    "\n",
    "plt.figure(figsize=(5*nx**0.5, 5*nx**0.5))\n",
    "for i in range(nx):\n",
    "    plt.subplot(nx//int(nx**0.5), nx//int(nx**0.5), i + 1)\n",
    "\n",
    "    sel = coref.in_range(full.X.values, *xbins[i:i+2]) &\\\n",
    "          coref.in_range(E_xyztcorr   , *PP_range    )\n",
    "    if np.count_nonzero(sel) < 200:\n",
    "        continue\n",
    "\n",
    "    try:\n",
    "        E       = E_xyztcorr[sel]\n",
    "        y, x, _ = hist(E, PP_range_bins, new_figure=False)\n",
    "        title   = \"x $\\in$ [{:.1f}, {:.1f})\".format(*xbins[i:i+2])\n",
    "        labels(\"E (pes)\", \"Entries\", title)\n",
    "\n",
    "        f = fitf.fit(fun, x, y, seed, fit_range=PP_fit_range, sigma=poisson_sigma(y), bounds=(low, upp))\n",
    "\n",
    "        assert not np.any(np.isclose(f.values, seed)), np.isclose(f.values, seed)\n",
    "        assert not np.any(np.isclose(f.values, low) ), np.isclose(f.values, low )\n",
    "        assert not np.any(np.isclose(f.values, upp) ), np.isclose(f.values, upp )\n",
    "\n",
    "        plt.plot(x, f   .fn     (x                ), global_fit_draw_opt)\n",
    "        plt.plot(x, fitf.gauss  (x, *f.values[ :3]), peak_1_fit_draw_opt)\n",
    "        plt.plot(x, fitf.gauss  (x, *f.values[3:6]), peak_2_fit_draw_opt)\n",
    "        plt.plot(x, fitf.polynom(x, *f.values[6: ]),    bkg_fit_draw_opt)\n",
    "        plt.text(plt.xlim()[0] * 1.005, np.max(y)/1.5,\n",
    "                 gausstext(f.values, f.errors, PP1_energy_keV))\n",
    "        plt.ylim(0)\n",
    "\n",
    "        res, res_bb   = resolution(f.values, f.errors, PP1_energy_keV)\n",
    "        R_values  [i] = res_bb.value\n",
    "        u_R_values[i] = res_bb.uncertainty\n",
    "    except:\n",
    "        continue\n",
    "plt.tight_layout()"
   ]
  },
  {
   "cell_type": "code",
   "execution_count": null,
   "metadata": {
    "collapsed": true
   },
   "outputs": [],
   "source": [
    "_x = shift_to_bin_centers(xbins)\n",
    "\n",
    "sel = R_values > 0\n",
    "print(R_values)\n",
    "\n",
    "plt.errorbar(_x[sel], R_values[sel], u_R_values[sel], fmt=\"k.\")\n",
    "labels(\"x (mm)\", \"FWHM Resolution @ Qbb\", \"Resolution vs X\")"
   ]
  }
 ],
 "metadata": {
  "kernelspec": {
   "display_name": "Python 3",
   "language": "python",
   "name": "python3"
  },
  "language_info": {
   "codemirror_mode": {
    "name": "ipython",
    "version": 3
   },
   "file_extension": ".py",
   "mimetype": "text/x-python",
   "name": "python",
   "nbconvert_exporter": "python",
   "pygments_lexer": "ipython3",
   "version": "3.6.1"
  }
 },
 "nbformat": 4,
 "nbformat_minor": 2
}
