{
 "cells": [
  {
   "cell_type": "markdown",
   "metadata": {},
   "source": [
    "# Notebook configuration"
   ]
  },
  {
   "cell_type": "code",
   "execution_count": null,
   "metadata": {
    "collapsed": true
   },
   "outputs": [],
   "source": [
    "run_number         = XXXX\n",
    "input_file_pattern = \"/Users/Gonzalo/github/NEXTdata/{}/{}/rwf/*.h5\"      .format(run_number)\n",
    "output_file_name   = \"/Users/Gonzalo/github/NEXTdata/grassless_evts_{}.h5\".format(run_number)"
   ]
  },
  {
   "cell_type": "markdown",
   "metadata": {},
   "source": [
    "# Imports"
   ]
  },
  {
   "cell_type": "code",
   "execution_count": null,
   "metadata": {
    "collapsed": true
   },
   "outputs": [],
   "source": [
    "import glob\n",
    "\n",
    "import numpy             as np\n",
    "import tables            as tb\n",
    "import matplotlib.pyplot as plt\n",
    "\n",
    "import invisible_cities.database.load_db           as     db\n",
    "from   invisible_cities.core    .system_of_units_c import units\n",
    "import invisible_cities.reco    .tbl_functions     as     tbl"
   ]
  },
  {
   "cell_type": "markdown",
   "metadata": {},
   "source": [
    "## Plotting options"
   ]
  },
  {
   "cell_type": "code",
   "execution_count": null,
   "metadata": {
    "collapsed": true
   },
   "outputs": [],
   "source": [
    "%matplotlib inline\n",
    "plt.rcParams[\"figure.figsize\"] = 16, 12"
   ]
  },
  {
   "cell_type": "markdown",
   "metadata": {},
   "source": [
    "# Initialization"
   ]
  },
  {
   "cell_type": "code",
   "execution_count": null,
   "metadata": {
    "collapsed": true
   },
   "outputs": [],
   "source": [
    "active  = db.DataPMT(run_number).Active.values\n",
    "max_evt = 10"
   ]
  },
  {
   "cell_type": "markdown",
   "metadata": {},
   "source": [
    "# Plot waveforms"
   ]
  },
  {
   "cell_type": "code",
   "execution_count": null,
   "metadata": {
    "collapsed": true
   },
   "outputs": [],
   "source": [
    "n = 0\n",
    "for input_file_name in glob.glob(input_file_pattern):\n",
    "    with tb.open_file(input_file_name) as h5in:\n",
    "        pmtrwf  = tbl.get_rwf_vectors(h5in)[1].read()\n",
    "        evt_nos = tbl.get_event_numbers_and_timestamps_from_file(h5in)[0]\n",
    "        for evt, evt_no in enumerate(evt_nos):\n",
    "            wf  = pmtrwf[evt, active, :]\n",
    "            \n",
    "            plt.figure()\n",
    "            for i, pmt in enumerate(wf, start=1):\n",
    "                plt.subplot(4, 3, i)\n",
    "                plt.plot(np.arange(pmt.size)*25*units.ns, pmt)\n",
    "                plt.xlabel(\"Time (ns)\")\n",
    "                plt.ylabel(\"Amplitude (adc)\")\n",
    "            plt.tight_layout()\n",
    "\n",
    "            n += 1\n",
    "            print(n)\n",
    "            if n >= max_evt:\n",
    "                break\n",
    "    if n >= max_evt:\n",
    "        break"
   ]
  }
 ],
 "metadata": {
  "kernelspec": {
   "display_name": "Python 3",
   "language": "python",
   "name": "python3"
  },
  "language_info": {
   "codemirror_mode": {
    "name": "ipython",
    "version": 3
   },
   "file_extension": ".py",
   "mimetype": "text/x-python",
   "name": "python",
   "nbconvert_exporter": "python",
   "pygments_lexer": "ipython3",
   "version": "3.6.1"
  }
 },
 "nbformat": 4,
 "nbformat_minor": 2
}
