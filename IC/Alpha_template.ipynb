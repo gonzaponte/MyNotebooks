{
 "cells": [
  {
   "cell_type": "markdown",
   "metadata": {},
   "source": [
    "# Notebook configuration"
   ]
  },
  {
   "cell_type": "code",
   "execution_count": null,
   "metadata": {
    "collapsed": true
   },
   "outputs": [],
   "source": [
    "run_number    = XXXX\n",
    "save_plots    = False\n",
    "outputfolder  = \"plots/{}/\".format(run_number)\n",
    "corr_filename = \"run{}_corrections.h5\".format(run_number)\n",
    "inputfilename = \"/Users/Gonzalo/github/NEXTdata/Alphas/{0}/dst_{0}.root.h5\".format(run_number)\n",
    "\n",
    "Zrange        =     0, 600\n",
    "XYrange       =  -198, 198\n",
    "Rrange        =     0, max(XYrange)\n",
    "Prange        =  -3.2, 3.2  \n",
    "Erange_raw    =     0, 90e3\n",
    "Erange_zcorr  =  10e3, 70e3\n",
    "Erange_xycorr =  40e3, 80e3\n",
    "Erange_fit    =  45e3, 60e3\n",
    "Qrange        =     0, 5e3\n",
    "QErange       =     0, Qrange[1]/Erange_xycorr[1]\n",
    "Frange        =   0.5, 2.5\n",
    "Urange        =  1e-2, 1e-1\n",
    "\n",
    "S1Erange      =     0, 8e3\n",
    "S1Wrange      =     0, 600\n",
    "S1Hrange      =     0, 1e3\n",
    "S2Wrange      =     0, 20\n",
    "S2Hrange      =     0, 3e4\n",
    "NSirange      =     0, 50\n",
    "\n",
    "Z_cathode     =   540\n",
    "Zrange_S1     =     0, Z_cathode\n",
    "Zrange_LT     =     0, Z_cathode\n",
    "Zrange_XY     =     0, 600\n",
    "nX, nY, nR    =    50,  50, 50\n",
    "x0, y0, r0    =    40, -40, 15 # for lifetime scan\n",
    "\n",
    "extra_pitches = [( 25,  25),\n",
    "                 ( 50,  50),\n",
    "                 ( 75,  75),\n",
    "                 (100, 100)]\n",
    "\n",
    "LT_radial     = False\n",
    "split_sample  = True"
   ]
  },
  {
   "cell_type": "code",
   "execution_count": null,
   "metadata": {
    "collapsed": true
   },
   "outputs": [],
   "source": [
    "Emin_fit      = Erange_fit[0]\n",
    "Emax_fit      = Erange_fit[1]\n",
    "Emean_fit     = 0.5*sum(Erange_fit)"
   ]
  },
  {
   "cell_type": "code",
   "execution_count": null,
   "metadata": {
    "collapsed": true
   },
   "outputs": [],
   "source": [
    "def poisson_sigma(x, default=3):\n",
    "    u = x**0.5\n",
    "    u[x==0] = default\n",
    "    return u"
   ]
  },
  {
   "cell_type": "markdown",
   "metadata": {},
   "source": [
    "# Kr analysis"
   ]
  },
  {
   "cell_type": "code",
   "execution_count": null,
   "metadata": {
    "collapsed": true
   },
   "outputs": [],
   "source": [
    "import os\n",
    "import functools\n",
    "import time\n",
    "print(\"Running on \", time.asctime())\n",
    "\n",
    "import numpy             as np\n",
    "import tables            as tb\n",
    "import matplotlib.pyplot as plt\n",
    "from   matplotlib.colors import LogNorm\n",
    "\n",
    "import invisible_cities.core.core_functions as coref\n",
    "import invisible_cities.core.fit_functions  as fitf\n",
    "import invisible_cities.reco.dst_functions  as dstf\n",
    "import invisible_cities.io  .kdst_io        as dstio\n",
    "import invisible_cities.reco.corrections    as corrf\n",
    "\n",
    "from invisible_cities.icaro.hst_functions import hist\n",
    "from invisible_cities.icaro.hst_functions import hist2d\n",
    "from invisible_cities.icaro.hst_functions import pdf\n",
    "from invisible_cities.icaro.hst_functions import labels\n",
    "from invisible_cities.icaro.hst_functions import display_matrix\n",
    "from invisible_cities.icaro.hst_functions import covariance\n",
    "from invisible_cities.icaro.hst_functions import resolution\n",
    "from invisible_cities.icaro.hst_functions import gausstext\n",
    "from invisible_cities.icaro.hst_functions import shift_to_bin_centers\n",
    "from invisible_cities.icaro.hst_functions import save_to_folder\n",
    "\n",
    "pi   = np.pi\n",
    "save = functools.partial(save_to_folder, outputfolder) if save_plots else lambda *x: None"
   ]
  },
  {
   "cell_type": "markdown",
   "metadata": {},
   "source": [
    "#### General plotting options"
   ]
  },
  {
   "cell_type": "code",
   "execution_count": null,
   "metadata": {
    "collapsed": true
   },
   "outputs": [],
   "source": [
    "%matplotlib inline\n",
    "\n",
    "np.warnings.filterwarnings('ignore')\n",
    "\n",
    "plt.rcParams[\"figure.figsize\"]          = 8, 6\n",
    "plt.rcParams[\"font.size\"]               = 15\n",
    "plt.rcParams[\"figure.max_open_warning\"] = 100\n",
    "\n",
    "profOpt = \"--k\"\n",
    "fitOpt  = \"r\"\n",
    "if not os.path.exists(outputfolder):\n",
    "    os.mkdir(outputfolder)"
   ]
  },
  {
   "cell_type": "markdown",
   "metadata": {},
   "source": [
    "# Read data"
   ]
  },
  {
   "cell_type": "code",
   "execution_count": null,
   "metadata": {
    "collapsed": true,
    "scrolled": false
   },
   "outputs": [],
   "source": [
    "full = dstf.load_dst(inputfilename, \"DST\", \"Events\")\n",
    "full = full[full.R<max(Rrange)] # soft radial cut to reduce badly reconstructed events\n",
    "print(len(full))\n",
    "full.head()"
   ]
  },
  {
   "cell_type": "code",
   "execution_count": null,
   "metadata": {
    "collapsed": true
   },
   "outputs": [],
   "source": [
    "bulk = full[coref.in_range(full.Z.values,         0, Z_cathode)]\n",
    "cath = full[coref.in_range(full.Z.values, Z_cathode,       600)]"
   ]
  },
  {
   "cell_type": "code",
   "execution_count": null,
   "metadata": {
    "collapsed": true
   },
   "outputs": [],
   "source": [
    "if split_sample:\n",
    "    full_data  = full\n",
    "    test_data  = full[::2]\n",
    "    train_data = full[1::2] \n",
    "\n",
    "    full       = train_data"
   ]
  },
  {
   "cell_type": "code",
   "execution_count": null,
   "metadata": {
    "collapsed": true
   },
   "outputs": [],
   "source": [
    "hist(full.nS2, 5, (0, 5))\n",
    "labels(\"Number of S2 signals\", \"Entries\", \"Number of S2 signals\")\n",
    "save(\"NS2\")"
   ]
  },
  {
   "cell_type": "code",
   "execution_count": null,
   "metadata": {
    "collapsed": true
   },
   "outputs": [],
   "source": [
    "hist(full.Z, 100, Zrange)\n",
    "labels(\"Drift time ($\\mu$s)\", \"Entries\", \"Z distribution\")\n",
    "save(\"Z\")"
   ]
  },
  {
   "cell_type": "code",
   "execution_count": null,
   "metadata": {
    "collapsed": true
   },
   "outputs": [],
   "source": [
    "T       = full.time.values / 60\n",
    "T      -= np.min(T)\n",
    " \n",
    "y, x, _ = hist(T, 100, (np.min(T), np.max(T)))\n",
    "labels(\"Time since run beginning (min)\",\n",
    "       \"Event rate (({:.2f} min)$^{{-1}}$)\".format(np.diff(x)[0]),\n",
    "       \"Trigger rate\")\n",
    "save(\"EventRate\")"
   ]
  },
  {
   "cell_type": "code",
   "execution_count": null,
   "metadata": {
    "collapsed": true
   },
   "outputs": [],
   "source": [
    "pdf(full.S2e, 60, (0, 100e3))\n",
    "labels(\"S2 energy (pes)\", \"Entries\", \"Energy spectrum\")\n",
    "save(\"Raw_energy_wide\")\n",
    "\n",
    "hist(full.S2e, 60, Erange_raw)\n",
    "labels(\"S2 energy (pes)\", \"Entries\", \"S2 energy\")\n",
    "save(\"Raw_energy\")"
   ]
  },
  {
   "cell_type": "markdown",
   "metadata": {},
   "source": [
    "# S1 energy"
   ]
  },
  {
   "cell_type": "code",
   "execution_count": null,
   "metadata": {
    "collapsed": true
   },
   "outputs": [],
   "source": [
    "hist(bulk.S1e, 50, range=S1Erange)\n",
    "labels(\"S1 energy (pes)\", \"Entries\", \"S1 energy\")\n",
    "save(\"S1energy\")\n",
    "\n",
    "hist2d(bulk.Z, bulk.S1e, (50, 50), range=(Zrange, S1Erange))\n",
    "x, y, u_y = fitf.profileX(bulk.Z, bulk.S1e, 30, xrange=Zrange, yrange=S1Erange)\n",
    "plt.plot(x, y, profOpt)\n",
    "\n",
    "f = fitf.fit(fitf.polynom, x, y, (1e-5, 1e-3, 1e-1, 1e3), fit_range=(0, Z_cathode), sigma=u_y)\n",
    "plt.plot(x, f.fn(x), fitOpt)\n",
    "\n",
    "labels(\"Drift time ($\\mu$s)\", \"S1 energy (pes)\", \"S1 energy vs Z\")\n",
    "save(\"S1energyvsZ\")\n",
    "\n",
    "short_drift = coref.in_range(bulk.Z  .values,   0,  100) &\\\n",
    "              coref.in_range(bulk.S1e.values, *S1Erange)\n",
    "\n",
    "x, y, S, u_S = \\\n",
    "fitf.profileXY(bulk.X  .values[short_drift],\n",
    "               bulk.Y  .values[short_drift],\n",
    "               bulk.S1e.values[short_drift],\n",
    "               nX, nY, XYrange, XYrange)\n",
    "_, cb = display_matrix(x, y, S)\n",
    "cb.set_label(\"S1 energy (pes)\")\n",
    "labels(\"x (mm)\", \"y (mm)\", \"S1 energy vs XY\")\n",
    "save(\"S1energyvsXY\")"
   ]
  },
  {
   "cell_type": "markdown",
   "metadata": {},
   "source": [
    "# S1 width"
   ]
  },
  {
   "cell_type": "code",
   "execution_count": null,
   "metadata": {
    "collapsed": true
   },
   "outputs": [],
   "source": [
    "nb = max(S1Wrange)//25\n",
    "hist(bulk.S1w, nb, S1Wrange)\n",
    "labels(\"S1 width (ns)\", \"Entries\", \"S1 width\")\n",
    "save(\"S1width\")\n",
    "\n",
    "hist2d(bulk.Z, bulk.S1w, (50, nb), range=(Zrange, S1Wrange))\n",
    "x, y, _ = fitf.profileX(bulk.Z, bulk.S1w, 30, xrange=Zrange, yrange=S1Wrange)\n",
    "plt.plot(x, y, profOpt)\n",
    "\n",
    "labels(\"Drift time ($\\mu$s)\", \"S1 energy (pes)\", \"S1 width vs Z\")\n",
    "save(\"S1widthvsZ\")"
   ]
  },
  {
   "cell_type": "markdown",
   "metadata": {},
   "source": [
    "# S1 height"
   ]
  },
  {
   "cell_type": "code",
   "execution_count": null,
   "metadata": {
    "collapsed": true
   },
   "outputs": [],
   "source": [
    "hist(bulk.S1h, 30, range=S1Hrange)\n",
    "labels(\"S1 height (pes)\", \"Entries\", \"S1 height\")\n",
    "save(\"S1height\")\n",
    "\n",
    "hist2d(bulk.Z, bulk.S1h, (50, 30), range=(Zrange, S1Hrange))\n",
    "x, y, _ = fitf.profileX(bulk.Z, bulk.S1h, 30, xrange=Zrange, yrange=S1Hrange)\n",
    "plt.plot(x, y, profOpt)\n",
    "\n",
    "labels(\"Drift time ($\\mu$s)\", \"S1 height (pes)\", \"S1 height vs Z\")\n",
    "save(\"S1heightvsZ\")"
   ]
  },
  {
   "cell_type": "markdown",
   "metadata": {},
   "source": [
    "# S1 peak to area ratio"
   ]
  },
  {
   "cell_type": "code",
   "execution_count": null,
   "metadata": {
    "collapsed": true
   },
   "outputs": [],
   "source": [
    "S1r    = bulk.S1h/bulk.S1e\n",
    "_range = 0.1, 0.2\n",
    "\n",
    "hist(S1r, 50, range=_range)\n",
    "labels(\"Height/Area\", \"Entries\", \"S1 peak to area ratio\")\n",
    "save(\"S1Peak2Area\")\n",
    "\n",
    "hist2d(bulk.Z, S1r, (50, 50), range=(Zrange, _range))\n",
    "x, y, _ = fitf.profileX(bulk.Z, S1r, 30, xrange=Zrange, yrange=_range)\n",
    "plt.plot(x, y, profOpt)\n",
    "\n",
    "labels(\"Drift time ($\\mu$s)\", \"Height/Area\", \"S1 peak to area ratio vs Z\")\n",
    "save(\"S1Peak2AreavsZ\")"
   ]
  },
  {
   "cell_type": "markdown",
   "metadata": {},
   "source": [
    "# S2 energy"
   ]
  },
  {
   "cell_type": "code",
   "execution_count": null,
   "metadata": {
    "collapsed": true
   },
   "outputs": [],
   "source": [
    "hist(bulk.S2e, 100, range=Erange_raw)\n",
    "labels(\"S2 energy (pes)\", \"Entries\", \"S2 energy\")\n",
    "save(\"S2energy\")\n",
    "\n",
    "hist2d(bulk.Z, bulk.S2e, (50, 100), range=(Zrange, Erange_raw))\n",
    "x, y, _ = fitf.profileX(bulk.Z, bulk.S2e, 30, xrange=Zrange, yrange=Erange_raw)\n",
    "plt.plot(x, y, profOpt)\n",
    "\n",
    "labels(\"Drift time ($\\mu$s)\", \"S2 energy (pes)\", \"S2 energy vs Z\")\n",
    "save(\"S2energyvsZ\")"
   ]
  },
  {
   "cell_type": "markdown",
   "metadata": {},
   "source": [
    "# S2 width"
   ]
  },
  {
   "cell_type": "code",
   "execution_count": null,
   "metadata": {
    "collapsed": true
   },
   "outputs": [],
   "source": [
    "hist(bulk.S2w, S2Wrange[1], range=S2Wrange)\n",
    "labels(\"S2 width ($\\mu$s)\", \"Entries\", \"S2 width\")\n",
    "save(\"S2width\")\n",
    "\n",
    "hist2d(bulk.Z, bulk.S2w, (50, 20), range=(Zrange, S2Wrange))\n",
    "x, y, _ = fitf.profileX(bulk.Z, bulk.S2w, 30, xrange=Zrange, yrange=S2Wrange)\n",
    "plt.plot(x, y, profOpt)\n",
    "\n",
    "labels(\"Drift time ($\\mu$s)\", \"S2 energy (pes)\", \"S2 width vs Z\")\n",
    "save(\"S2widthvsZ\")"
   ]
  },
  {
   "cell_type": "markdown",
   "metadata": {},
   "source": [
    "# S2 height"
   ]
  },
  {
   "cell_type": "code",
   "execution_count": null,
   "metadata": {
    "collapsed": true
   },
   "outputs": [],
   "source": [
    "hist(bulk.S2h, 30, range=S2Hrange)\n",
    "labels(\"S2 height (pes)\", \"Entries\", \"S2 height\")\n",
    "save(\"S2height\")\n",
    "\n",
    "hist2d(bulk.Z, bulk.S2h, (50, 30), range=(Zrange, S2Hrange))\n",
    "x, y, _ = fitf.profileX(bulk.Z, bulk.S2h, 30, xrange=Zrange, yrange=S2Hrange)\n",
    "plt.plot(x, y, profOpt)\n",
    "\n",
    "labels(\"Drift time ($\\mu$s)\", \"S2 height (pes)\")\n",
    "save(\"S2heightvsZ\")"
   ]
  },
  {
   "cell_type": "markdown",
   "metadata": {},
   "source": [
    "# S2 peak to area ratio"
   ]
  },
  {
   "cell_type": "code",
   "execution_count": null,
   "metadata": {
    "collapsed": true
   },
   "outputs": [],
   "source": [
    "_range = 0.1, 0.4\n",
    "\n",
    "S2r = bulk.S2h/bulk.S2e\n",
    "\n",
    "hist(S2r, 50, range=_range)\n",
    "labels(\"Height/Area\", \"Entries\", \"S2 peak to area ratio\")\n",
    "save(\"S2Peak2Area\")\n",
    "\n",
    "hist2d(bulk.Z, S2r, (50, 50), range=(Zrange, _range))\n",
    "x, y, _ = fitf.profileX(bulk.Z, S2r, 30, xrange=Zrange, yrange=_range)\n",
    "plt.plot(x, y, profOpt)\n",
    "\n",
    "labels(\"Drift time ($\\mu$s)\", \"Height/Area\", \"S2 peak to area ratio vs Z\")\n",
    "save(\"S2Peak2AreavsZ\")"
   ]
  },
  {
   "cell_type": "markdown",
   "metadata": {},
   "source": [
    "# S2 vs S1"
   ]
  },
  {
   "cell_type": "code",
   "execution_count": null,
   "metadata": {
    "collapsed": true
   },
   "outputs": [],
   "source": [
    "hist2d(bulk.S1e, bulk.S2e, (50, 50), range=(S1Erange, Erange_raw))\n",
    "\n",
    "sel = coref.in_range(bulk.S1e, *S1Erange) & coref.in_range(bulk.S2e, *Erange_raw)\n",
    "c = covariance(bulk[sel].S1e, bulk[sel].S2e)\n",
    "print(*c)\n",
    "labels(\"S1 energy (pes)\", \"S2 energy (pes)\", \"S2 vs S1\")\n",
    "save(\"S2vsS1\")"
   ]
  },
  {
   "cell_type": "code",
   "execution_count": null,
   "metadata": {
    "collapsed": true
   },
   "outputs": [],
   "source": [
    "_ranges = (0, 0.2), (0, 1)\n",
    "zranges = [(0, Z_cathode), (Z_cathode, 600)]\n",
    "regions = [\"bulk\", \"cathode\"]\n",
    "datas   = [ bulk ,  cath    ]\n",
    "\n",
    "plt.figure(figsize=(15,12))\n",
    "for i, (region, data) in enumerate(zip(regions,datas)):\n",
    "    zrange = zranges[i]\n",
    "    _range = _ranges[i]\n",
    "    S12r   = data.S1e.values/data.S2e.values\n",
    "\n",
    "    plt.subplot(2, 2, 2*i+1)\n",
    "    hist(S12r, 50, range=_range, new_figure=False)\n",
    "    labels(\"S1/S2\", \"Entries\", \"S1/S2 ratio {}\".format(region))\n",
    "    save(\"S12ratio\")\n",
    "\n",
    "    plt.subplot(2, 2, 2*i+2)\n",
    "    hist2d(data.Z.values, S12r, (50, 50), range=(zrange, _range), new_figure=False)\n",
    "    x, y, _ = fitf.profileX(data.Z.values, S12r, 30, xrange=zrange, yrange=_range)\n",
    "    plt.plot(x, y, profOpt)\n",
    "\n",
    "    labels(\"Drift time ($\\mu$s)\", \"S1/S2\", \"S1/S2 ratio {} vs Z\".format(region))\n",
    "    save(\"S12ratiovsZ_{}\".format(region))\n",
    "plt.tight_layout()"
   ]
  },
  {
   "cell_type": "markdown",
   "metadata": {},
   "source": [
    "# Lifetime calculation"
   ]
  },
  {
   "cell_type": "code",
   "execution_count": null,
   "metadata": {
    "collapsed": true
   },
   "outputs": [],
   "source": [
    "fid = bulk\n",
    "fid = fid[fid.R < 100] # Fiducialize in order to reduce geometrical effects\n",
    "print(\"Ratio:\", len(fid)/len(bulk))\n",
    "fid.head()"
   ]
  },
  {
   "cell_type": "markdown",
   "metadata": {},
   "source": [
    "# S2 energy fiducialized"
   ]
  },
  {
   "cell_type": "code",
   "execution_count": null,
   "metadata": {
    "collapsed": true
   },
   "outputs": [],
   "source": [
    "hist(fid.S2e, 50, range=Erange_raw)\n",
    "labels(\"S2 energy (pes)\", \"Entries\", \"Fidualized energy spectrum\")\n",
    "save(\"Raw_energy_fiducial\")\n",
    "\n",
    "hist2d(fid.Z, fid.S2e, (50, 50), range=(Zrange, Erange_raw))\n",
    "x, y, u_y = fitf.profileX(fid.Z.values, fid.S2e.values, 50, xrange=Zrange_LT, yrange=Erange_raw)\n",
    "\n",
    "plt.plot(x, y, profOpt)\n",
    "\n",
    "seed = np.max(y), (x[15] - x[5])/np.log(y[15]/y[5])\n",
    "f    = fitf.fit(fitf.expo, x, y, seed, fit_range=Zrange_LT, sigma=u_y)\n",
    "\n",
    "plt.plot(x, f.fn(x), fitOpt)\n",
    "print(\"Energy at z=0 = {:.1f} +- {:.1f}\".format( f.values[0], f.errors[0]))\n",
    "print(\"Lifetime      = {:.1f} +- {:.1f}\".format(-f.values[1], f.errors[1]))\n",
    "print(\"Chi2          = {:.2f}          \".format(f.chi2))\n",
    "\n",
    "labels(\"Drift time ($\\mu$s)\", \"S2 energy (pes)\", \"Fiducialized energy spectrum vs Z\")\n",
    "save(\"Raw_energy_vsZ_fiducial\")\n",
    "\n",
    "Zcorr = corrf.LifetimeCorrection(-f.values[1], f.errors[1])"
   ]
  },
  {
   "cell_type": "markdown",
   "metadata": {},
   "source": [
    "# Lifetime scan"
   ]
  },
  {
   "cell_type": "code",
   "execution_count": null,
   "metadata": {
    "collapsed": true
   },
   "outputs": [],
   "source": [
    "x0, y0, r0 = 40, -40, 40\n",
    "sel  = ((bulk.X - x0)**2 +\n",
    "        (bulk.Y - y0)**2) < r0**2\n",
    "data = bulk[sel & coref.in_range(bulk.Z.values, 0, Z_cathode)]\n",
    "\n",
    "Z = data.Z  .values\n",
    "E = data.S2e.values\n",
    "x, y, u_y = fitf.profileX(Z, E, 30, xrange=Zrange_LT, yrange=Erange_raw)\n",
    "f = fitf.fit(fitf.expo, x, y, (55e3, -1e3), fit_range=Zrange_LT, sigma=u_y)\n",
    "\n",
    "hist2d(data.Z, data.S2e, 100, (Zrange, Erange_raw))\n",
    "plt.plot(x, y, profOpt)\n",
    "plt.plot(x, f.fn(x),  fitOpt)\n",
    "labels(\"Drift time (µs)\", \"S2 energy\")\n",
    "\n",
    "lts   = np.linspace(-f.values[1] - 5*f.errors[1],\n",
    "                    -f.values[1] + 5*f.errors[1],\n",
    "                    20)\n",
    "sigs  = (lts + f.values[1]) / f.errors[1] \n",
    "res   = np.zeros_like(lts)\n",
    "u_res = np.zeros_like(lts) \n",
    "for i in range(len(lts)):\n",
    "    Ecorr    = E * np.exp(Z/lts[i])\n",
    "    y, x     = np.histogram(Ecorr, 20, Erange_fit)\n",
    "    x        = shift_to_bin_centers(x)\n",
    "    f        = fitf.fit(fitf.gauss, x, y, (1e5, 55e3, 1e3), fit_range=Erange_fit, sigma=poisson_sigma(y))\n",
    "    R        = resolution(f.values, f.errors)[0]\n",
    "    res[i]   = R.value\n",
    "    u_res[i] = R.uncertainty\n",
    "\n",
    "plt.figure()\n",
    "plt.errorbar(lts, res, u_res)\n",
    "labels(\"Lifetime (µs)\", \"Resolution\")\n",
    "\n",
    "res_ticks = plt.yticks()[0]\n",
    "xax = plt.gca().twiny()\n",
    "yax = plt.gca().twinx()\n",
    "\n",
    "\n",
    "xax.set_xlim(min(sigs), max(sigs))\n",
    "xax.set_xticks(range(-5,6,2))\n",
    "xax.set_xlabel(\"Deviation from fit (#$\\sigma$)\")\n",
    "\n",
    "scale = (41.5/2458)**0.5\n",
    "yax.set_ylim(min(res) * scale, max(res) * scale)\n",
    "#yax.set_yticks(res_ticks * scale)\n",
    "yax.set_ylabel(\"Resolution @ Qbb\")"
   ]
  },
  {
   "cell_type": "markdown",
   "metadata": {},
   "source": [
    "# Lifetime dependence"
   ]
  },
  {
   "cell_type": "code",
   "execution_count": null,
   "metadata": {
    "collapsed": true
   },
   "outputs": [],
   "source": [
    "rbins  = np.array([0, 40, 80, 120, 150, 170, 190])\n",
    "nbins  = len(rbins) - 1\n",
    "nx, ny = 2, 3\n",
    "\n",
    "LT     = np.zeros(nbins)\n",
    "u_LT   = np.zeros(nbins)\n",
    "\n",
    "Z = bulk.Z  .values\n",
    "R = bulk.R  .values\n",
    "E = bulk.S2e.values\n",
    "\n",
    "plt.figure(figsize=(8*nx, 3*ny))\n",
    "\n",
    "for i in range(nbins):\n",
    "    sel_r = coref.in_range(E, *Erange_raw) & coref.in_range(R, *rbins[i:i+2])\n",
    "    \n",
    "    plt.subplot(nx, ny, i+1)\n",
    "    n, x, y, _ = \\\n",
    "    hist2d(Z[sel_r], E[sel_r], (40, 50), (Zrange, Erange_raw), new_figure=False)\n",
    "    labels(\"Drift time (µs)\", \"S2 energy (pes)\", \"{:.0f} - {:.0f} mm\".format(*rbins[i:i+2]))\n",
    "    slice_max = np.argmax(n, axis=1)\n",
    "    slice_ene = y[slice_max]\n",
    "    slice_rms = [1.25*np.average((y-mean)**2, weights=w)**0.5 if np.any(w) else 0 for w, mean in zip(n, slice_ene)]\n",
    "    \n",
    "    plt.errorbar(x, slice_ene, slice_rms, fmt=\"*k\")\n",
    "    \n",
    "    f_low = fitf.fit(fitf.expo, x, slice_ene-slice_rms, (1e4, -500), fit_range=Zrange_LT)\n",
    "    f_upp = fitf.fit(fitf.expo, x, slice_ene+slice_rms, (1e4, -500), fit_range=Zrange_LT)\n",
    "    \n",
    "    plt.plot(x, f_low.fn(x), \"r\")\n",
    "    plt.plot(x, f_upp.fn(x), \"r\")\n",
    "\n",
    "    low_cut = f_low.fn(Z)\n",
    "    upp_cut = f_upp.fn(Z)\n",
    "    sel_E   = coref.in_range(E, low_cut, upp_cut) # remove low and high E background\n",
    "\n",
    "    x, y, u_y = fitf.profileX(Z[sel_r & sel_E], E[sel_r & sel_E], 30, xrange=Zrange, yrange=Erange_raw)\n",
    "    plt.errorbar(x, y, u_y, fmt=\"*m\")\n",
    "\n",
    "    seed = np.max(y), (x[15] - x[5])/np.log(y[15]/y[5])\n",
    "    f    = fitf.fit(fitf.expo, x, y, seed, fit_range=Zrange_LT, sigma=u_y)\n",
    "\n",
    "    LT  [i] = -f.values[1]\n",
    "    u_LT[i] =  f.errors[1]\n",
    "plt.tight_layout()\n",
    "\n",
    "dr    = np.diff(rbins) * 0.5\n",
    "rbins = rbins[:-1] + dr \n",
    "plt.figure()\n",
    "plt.errorbar(rbins, LT, u_LT, dr, fmt=\"k*\")\n",
    "\n",
    "seed = (LT[0], 1e-2, 100)\n",
    "func = lambda x, a=0, b=0, c=0, d=0: a - b*x*np.exp(x/c)\n",
    "f = fitf.fit(func, rbins, LT, seed, sigma=u_LT)\n",
    "plt.plot(rbins, f.fn(rbins), \"-r\")\n",
    "labels(\"R (mm)\", \"Lifetime (µs)\", \"Lifetime vs R\")\n",
    "save(\"LifetimevsR_profile\")\n",
    "\n",
    "print(\"Lifetime = \", \"({0:.1f} +- {3:.1f}) - ({1:.3f} +- {4:.3f}) x exp[x/({2:.1f} +- {5:.1f})]\".format(*f.values, *f.errors))\n",
    "print(\"Chi2 =\", f.chi2)\n",
    "Zcorr_R = corrf.LifetimeRCorrection(f.values, f.errors)"
   ]
  },
  {
   "cell_type": "code",
   "execution_count": null,
   "metadata": {
    "collapsed": true
   },
   "outputs": [],
   "source": [
    "nx, ny = 15, 15\n",
    "xbins  = np.linspace(*XYrange, nx+1)\n",
    "ybins  = np.linspace(*XYrange, ny+1)\n",
    "xybins = xbins, ybins\n",
    "\n",
    "LT     = np.zeros((nx, ny))\n",
    "u_LT   = np.zeros((nx, ny))\n",
    "\n",
    "Z = full.Z  .values\n",
    "X = full.X  .values\n",
    "Y = full.Y  .values\n",
    "E = full.S2e.values\n",
    "\n",
    "plt.figure(figsize=(5*nx, 5*ny))\n",
    "\n",
    "for i in range(nx):\n",
    "    for j in range(ny):\n",
    "        sel_r = coref.in_range(E, *Erange_raw)\\\n",
    "              & coref.in_range(X, *xbins[i:i+2])\\\n",
    "              & coref.in_range(Y, *ybins[j:j+2])\n",
    "\n",
    "        if np.count_nonzero(sel_r) < 20: continue\n",
    "\n",
    "#        plt.subplot(ny, ny, i*nx+j+1)\n",
    "#        n, x, y, _ = \\\n",
    "#        hist2d(Z[sel_r], E[sel_r], (30, 50), (Zrange_LT, Erange_raw), new_figure=False)\n",
    "        n, x, y = \\\n",
    "        np.histogram2d(Z[sel_r], E[sel_r], (30, 50), (Zrange_LT, Erange_fit))\n",
    "        x = shift_to_bin_centers(x)\n",
    "        y = shift_to_bin_centers(y)\n",
    "#        labels(\"Drift time (µs)\", \"S2 energy (pes)\",\n",
    "#               \"X {:.0f} - {:.0f} mm; Y {:.0f} - {:.0f} mm\".format(*xbins[i:i+2],\n",
    "#                                                                   *ybins[j:j+2]))\n",
    "\n",
    "        x, y, u_y = fitf.profileX(Z[sel_r], E[sel_r], 20, xrange=Zrange_LT, yrange=Erange_raw)\n",
    "#        plt.errorbar(x, y, u_y, fmt=\"*m\")\n",
    "\n",
    "        seed = np.max(y), (x[7] - x[2])/np.log(y[7]/y[2])\n",
    "        f    = fitf.fit(fitf.expo, x, y, seed, fit_range=Zrange_LT)#, sigma=u_y)\n",
    "#        plt.plot(x, f.fn(x), fitOpt)\n",
    "\n",
    "        LT  [i,j] = -f.values[1] if f.values[1] != seed[1] and f.errors[1] < -f.values[1] else 0\n",
    "        u_LT[i,j] =  f.errors[1] if f.values[1] != seed[1] and f.errors[1] < -f.values[1] else 0\n",
    "#plt.tight_layout()\n",
    "\n",
    "_, cb = display_matrix(shift_to_bin_centers(xbins),\n",
    "                       shift_to_bin_centers(ybins),\n",
    "                       LT, vmin=800, vmax=100)\n",
    "cb.set_label(\"Lifetime (µs)\")\n",
    "labels(\"x (mm)\", \"y (mm)\", \"Lifetime vs XY\")\n",
    "save(\"LifetimevsXY\")\n",
    "\n",
    "_, cb = display_matrix(shift_to_bin_centers(xbins),\n",
    "                       shift_to_bin_centers(ybins),\n",
    "                       u_LT, vmin=0, vmax=100)\n",
    "cb.set_label(\"Lifetime uncertainty(µs)\")\n",
    "labels(\"x (mm)\", \"y (mm)\", \"Lifetime uncertainty vs XY\")\n",
    "save(\"LifetimeUncertaintyvsXY\")\n",
    "\n",
    "plt.figure()\n",
    "_x = np.repeat(shift_to_bin_centers(xbins), ny)\n",
    "_y = np.tile  (shift_to_bin_centers(ybins), nx)\n",
    "_r = (_x**2 + _y**2)**0.5\n",
    "plt.errorbar(_r, LT.flatten(), u_LT.flatten(), fmt=\".k\")\n",
    "plt.xlim(*Rrange)\n",
    "plt.ylim(0, 2000)\n",
    "labels(\"r (mm)\", \"Lifetime (µs)\", \"Lifetime vs R\")\n",
    "save(\"LifetimevsR\")"
   ]
  },
  {
   "cell_type": "markdown",
   "metadata": {},
   "source": [
    "# Correction by attachment"
   ]
  },
  {
   "cell_type": "code",
   "execution_count": null,
   "metadata": {
    "collapsed": true
   },
   "outputs": [],
   "source": [
    "correction = Zcorr(bulk.Z.values, bulk.R.values) if LT_radial else\\\n",
    "             Zcorr(bulk.Z.values)\n",
    "E_zcorr    = bulk.S2e.values * correction.value\n",
    "\n",
    "y, x, _ = hist(E_zcorr, 50, range=Erange_zcorr)\n",
    "\n",
    "fun  = lambda x, *args: fitf.gauss(x, *args[ :3]) +  fitf.gauss(x, *args[3:6])\n",
    "seed = 1e6, 50000, 8000, 1e6, 40000, 1e4\n",
    "low  =  10, 45000,  500,  10, 35000, 500\n",
    "upp  = 1e9, 60000,  2e4, 1e9, 45000, 2e4\n",
    "f    = fitf.fit(fun, x, y, seed, fit_range=(1e4,7e4), bounds=(low, upp))\n",
    "print(f.values)\n",
    "\n",
    "\n",
    "plt.plot(x, f.fn(x), fitOpt)\n",
    "plt.plot(x, fitf.gauss(x, *f.values[ :3]),  fitOpt)\n",
    "plt.plot(x, fitf.gauss(x, *f.values[3:6]),  fitOpt)\n",
    "plt.text(Erange_zcorr[0], max(y)/4, gausstext(f.values, 41.5), color=fitOpt)\n",
    "\n",
    "labels(\"S2 energy (pes)\", \"Entries\", \"Z-corrected energy\")\n",
    "save(\"EcorrZ\")\n",
    "\n",
    "hist2d(bulk.Z.values, E_zcorr, (50, 100), range=(Zrange, Erange_zcorr))\n",
    "labels(\"Drift time ($\\mu$s)\", \"S2 energy (pes)\", \"Z-corrected energy vs Z\")\n",
    "save(\"EcorrZvsZ\")"
   ]
  },
  {
   "cell_type": "code",
   "execution_count": null,
   "metadata": {
    "collapsed": true
   },
   "outputs": [],
   "source": [
    "hist2d(bulk.R.values, E_zcorr, (50, 100), range=(Rrange, Erange_zcorr))\n",
    "labels(\"R (mm)\", \"S2 energy (pes)\", \"Z-corrected energy vs R\")\n",
    "save(\"EcorrZvsR\")"
   ]
  },
  {
   "cell_type": "markdown",
   "metadata": {},
   "source": [
    "# Tracking"
   ]
  },
  {
   "cell_type": "code",
   "execution_count": null,
   "metadata": {
    "collapsed": true
   },
   "outputs": [],
   "source": [
    "hist(bulk.Nsipm, max(NSirange), NSirange)\n",
    "labels(\"# SiPMs\", \"Entries\", \"Number of SiPMs touched\")\n",
    "save(\"Nsipm\")\n",
    "\n",
    "hist2d(bulk.Z, bulk.Nsipm, (30, max(NSirange)), range=(Zrange, NSirange))\n",
    "x, y, _ = fitf.profileX(bulk.Z, bulk.Nsipm, 30, xrange=Zrange, yrange=NSirange)\n",
    "plt.plot(x, y, profOpt)\n",
    "\n",
    "labels(\"Drift time ($\\mu$s)\", \"# SiPMs\", \"Number of SiPMs touched vs Z\")\n",
    "save(\"NsipmvsZ\")\n"
   ]
  },
  {
   "cell_type": "markdown",
   "metadata": {},
   "source": [
    "# Alphas distribution"
   ]
  },
  {
   "cell_type": "code",
   "execution_count": null,
   "metadata": {
    "collapsed": true,
    "scrolled": false
   },
   "outputs": [],
   "source": [
    "hist(bulk.X, 25, range=XYrange)\n",
    "labels(\"x (mm)\", \"Entries\", \"X distribution\")\n",
    "save(\"X\")\n",
    "\n",
    "hist(bulk.Y, 25, range=XYrange)\n",
    "labels(\"y (mm)\", \"Entries\", \"Y distribution\")\n",
    "save(\"Y\")\n",
    "\n",
    "hist(bulk.R, 25, range=Rrange)\n",
    "labels(\"r (mm)\", \"Entries\", \"R distribution\")\n",
    "save(\"R\")\n",
    "\n",
    "hist(bulk.Phi, 25, range=Prange)\n",
    "labels(\"$\\phi$ (rad)\", \"Entries\", \"$\\phi$ distribution\")\n",
    "save(\"Phi\")\n",
    "\n",
    "nXY, xs, ys, _ = \\\n",
    "hist2d(bulk.X, bulk.Y, (nX, nY), range=(XYrange, XYrange))\n",
    "plt.colorbar().set_label(\"# events\")\n",
    "labels(\"x (mm)\", \"y (mm)\", \"XY distribution\")\n",
    "save(\"XY\")\n",
    "\n",
    "hist2d(bulk.R, bulk.Phi, (nX, nY), range=(Rrange, Prange))\n",
    "plt.colorbar().set_label(\"# events\")\n",
    "labels(\"r (mm)\", \"$\\phi$ (mm)\", \"R$\\phi$ distribution\")\n",
    "save(\"RPhi\")"
   ]
  },
  {
   "cell_type": "markdown",
   "metadata": {},
   "source": [
    "# Tracking charge"
   ]
  },
  {
   "cell_type": "code",
   "execution_count": null,
   "metadata": {
    "collapsed": true
   },
   "outputs": [],
   "source": [
    "hist(bulk.S2q, 100, range=Qrange)\n",
    "labels(\"S2 charge (pes)\", \"Entries\", \"Charge\")\n",
    "save(\"Q\")\n",
    "\n",
    "hist2d(bulk.Z, bulk.S2q, (50, 100), range=(Zrange, Qrange))\n",
    "x, y, _ = fitf.profileX(bulk.Z, bulk.S2q, 30, xrange=Zrange, yrange=Qrange)\n",
    "plt.plot(x, y, profOpt)\n",
    "\n",
    "labels(\"Drift time ($\\mu$s)\", \"S2 charge (pes)\", \"Charge vs Z\")\n",
    "save(\"QvsZ\")"
   ]
  },
  {
   "cell_type": "code",
   "execution_count": null,
   "metadata": {
    "collapsed": true,
    "scrolled": false
   },
   "outputs": [],
   "source": [
    "x, y, Q, u_Q = \\\n",
    "fitf.profileXY(bulk.X, bulk.Y, bulk.S2q, nX, nY, XYrange, XYrange)\n",
    "_, cb = display_matrix(x, y, Q)\n",
    "cb.set_label(\"Q (pes)\")\n",
    "labels(\"x (mm)\", \"y (mm)\", \"Charge vs XY\")\n",
    "save(\"QvsXY\")\n",
    "\n",
    "x, y, q, u_q = \\\n",
    "fitf.profileXY(bulk.R, bulk.Phi, bulk.S2q, nX, nY, Rrange, Prange)\n",
    "_, cb = display_matrix(x, y, q)\n",
    "cb.set_label(\"Q (pes)\")\n",
    "labels(\"r (mm)\", \"$\\phi$ (rad)\", \"Charge vs R$\\phi$\")\n",
    "save(\"QvsRPhi\")\n",
    "\n",
    "hist2d(bulk.R, bulk.S2q, (50, 50), (Rrange, Qrange))\n",
    "x, y, _ = fitf.profileX(bulk.R, bulk.S2q, 50, xrange=Rrange, yrange=Qrange)\n",
    "plt.plot(x, y, profOpt)\n",
    "labels(\"r (mm)\", \"S2 charge (pes)\", \"Charge vs R\")\n",
    "save(\"QvsR\")\n",
    "\n",
    "hist2d(bulk.Phi, bulk.S2q, (50, 50), range=(Prange, Qrange))\n",
    "x, y, _ = fitf.profileX(bulk.Phi, bulk.S2q, 50, xrange=Prange, yrange=Qrange)\n",
    "plt.plot(x, y, profOpt)\n",
    "labels(\"phi (rad)\", \"S2 charge (pes)\", \"Charge vs $\\phi$\")\n",
    "save(\"QvsPhi\")"
   ]
  },
  {
   "cell_type": "markdown",
   "metadata": {},
   "source": [
    "# Energy vs position"
   ]
  },
  {
   "cell_type": "code",
   "execution_count": null,
   "metadata": {
    "collapsed": true,
    "scrolled": false
   },
   "outputs": [],
   "source": [
    "sel = sel_Kr = coref.in_range(bulk.Z.values, *Zrange_XY)\n",
    "\n",
    "xc, yc, Ec, u_Ec = \\\n",
    "fitf.profileXY(bulk.X.values[sel], bulk.Y.values[sel], E_zcorr[sel], nX, nY, XYrange, XYrange)\n",
    "_, cb = display_matrix(xc, yc, Ec)\n",
    "cb.set_label(\"E (pes)\")\n",
    "labels(\"x (mm)\", \"y (mm)\", \"Energy vs XY\")\n",
    "save(\"EvsXY\")\n",
    "\n",
    "rc, pc, ec, u_ec = \\\n",
    "fitf.profileXY(bulk.R.values[sel], bulk.Phi.values[sel], E_zcorr[sel], nX, nY, Rrange, Prange)\n",
    "_, cb = display_matrix(xc, yc, ec)\n",
    "cb.set_label(\"E (pes)\")\n",
    "labels(\"r (mm)\", \"$\\phi$ (rad)\", \"Energy vs R$\\phi$\")\n",
    "save(\"EvsRPhi\")\n",
    "\n",
    "hist2d(bulk.R.values[sel], E_zcorr[sel], (50, 50), range=(Rrange, Erange_zcorr))\n",
    "x, y, _ = fitf.profileX(bulk.R.values[sel], E_zcorr[sel], 50, xrange=Rrange, yrange=Erange_zcorr)\n",
    "plt.plot(x, y, profOpt)\n",
    "labels(\"r (mm)\", \"S2 energy (pes)\")\n",
    "save(\"EvsR\")\n",
    "\n",
    "hist2d(bulk.Phi.values[sel], E_zcorr[sel], (50, 50), range=(Prange, Erange_zcorr))\n",
    "x, y, _ = fitf.profileX(bulk.Phi.values[sel], E_zcorr[sel], 50, xrange=Prange, yrange=Erange_zcorr)\n",
    "plt.plot(x, y, profOpt)\n",
    "labels(\"phi (rad)\", \"S2 energy (pes)\")\n",
    "save(\"EvsPhi\")\n",
    "\n",
    "XYcorr    = corrf.Correction((xc, yc), Ec, u_Ec, \"index\", index=(nX//2, nY//2))\n",
    "corr_file = tb.open_file(corr_filename, \"w\")\n",
    "dstio.xy_writer(corr_file)(*XYcorr._xs, XYcorr._fs, XYcorr._us, nXY)\n",
    "corr_file.close()\n",
    "print(\"Reference energy = {} pes\".format(Ec[tuple(np.argwhere(XYcorr._fs==1)[0])]))"
   ]
  },
  {
   "cell_type": "code",
   "execution_count": null,
   "metadata": {
    "collapsed": true
   },
   "outputs": [],
   "source": [
    "plt.figure(figsize=(15,12))\n",
    "for i, (nx, ny) in enumerate(extra_pitches):\n",
    "    plt.subplot(2, 2, i+1)\n",
    "    xc_, yc_, Ec_, u_Ec_ = \\\n",
    "    fitf.profileXY(bulk.X.values[sel], bulk.Y.values[sel], E_zcorr[sel], nx, ny, XYrange, XYrange)\n",
    "    _, cb = display_matrix(xc_, yc_, Ec_, new_figure=False)\n",
    "    cb.set_label(\"E (pes)\")\n",
    "    pitch = np.diff(np.linspace(*XYrange, nx))[0]\n",
    "    labels(\"x (mm)\", \"y (mm)\", \"Energy vs XY pitch = {:.1f} mm\".format(pitch))\n",
    "    nXY_ = np.histogram2d(bulk.X.values[sel],\n",
    "                          bulk.Y.values[sel],\n",
    "                          (nx, ny),\n",
    "                          (XYrange, XYrange))[0]\n",
    "    \n",
    "    XYcorr_        = corrf.Correction((xc_, yc_), Ec_, u_Ec_, \"index\", index=(nx//2, ny//2))\n",
    "    corr_filename_ = corr_filename.replace(\".h5\", \"_{:.1f}mm.h5\".format(pitch))\n",
    "    corr_file_     = tb.open_file(corr_filename_, \"w\")\n",
    "    dstio.xy_writer(corr_file_)(*XYcorr_._xs, XYcorr_._fs, XYcorr_._us, nXY_)\n",
    "    corr_file_.close()\n",
    "    print(\"Reference energy = {} pes\".format(Ec_[tuple(np.argwhere(XYcorr_._fs==1)[0])]))\n",
    "plt.tight_layout()"
   ]
  },
  {
   "cell_type": "markdown",
   "metadata": {},
   "source": [
    "# Correction maps"
   ]
  },
  {
   "cell_type": "code",
   "execution_count": null,
   "metadata": {
    "collapsed": true
   },
   "outputs": [],
   "source": [
    "_r = (np.repeat(xc, yc.size)**2 +\n",
    "      np.tile  (yc, xc.size)**2)**0.5\n",
    "_f = XYcorr._fs.flatten()\n",
    "_u = XYcorr._us.flatten()\n",
    "\n",
    "_, cb = display_matrix(xc, yc, _f)\n",
    "labels(\"x (mm)\", \"y (mm)\", \"Correction map\")\n",
    "cb.set_label(\"Correction factor\")\n",
    "save(\"CorrectionMap\")\n",
    "\n",
    "_, cb = display_matrix(xc, yc, _u)\n",
    "labels(\"x (mm)\", \"y (mm)\", \"Correction map uncertainty\")\n",
    "cb.set_label(\"Correction factor uncertainty\")\n",
    "save(\"CorrectionMapUncertainty\")\n",
    "\n",
    "hist(_f, 100, Frange)\n",
    "labels(\"Correction factor\", \"Entries\")\n",
    "save(\"CorrectionMapHist\")\n",
    "\n",
    "hist(_u[_u > 0], 100, Urange)\n",
    "plt.yscale(\"log\")\n",
    "labels(\"Correction factor uncertainty\", \"Entries\")\n",
    "save(\"CorrectionMapUncertaintyHist\")\n",
    "\n",
    "hist2d(_r, _f, (nR, 100), (Rrange, Frange))\n",
    "labels(\"r (mm)\", \"Correction factor\", \"Correction factor vs R\")\n",
    "save(\"CorrectionFactorVsR\")\n",
    "\n",
    "hist2d(_r, _u, (nR, 100), (Rrange, Urange), norm=LogNorm())\n",
    "labels(\"r (mm)\", \"Correction factor uncertainty\", \"Correction factor uncertainty vs R\")\n",
    "save(\"CorrectionFactorUncertaintyVsR\")"
   ]
  },
  {
   "cell_type": "code",
   "execution_count": null,
   "metadata": {
    "collapsed": true
   },
   "outputs": [],
   "source": [
    "_x  = np.repeat(xc                      , yc.size - 1)\n",
    "_y  = np.tile  (shift_to_bin_centers(yc), xc.size    )\n",
    "_fx = np.diff(XYcorr._fs, axis=1) / (XYcorr._us[:, :-1]**2 + XYcorr._us[:, 1:]**2)**0.5\n",
    "sel = ~np.isnan(_fx).flatten()\n",
    "\n",
    "_min = np.nanmean(_fx) - .4*np.nanstd(_fx)\n",
    "_max = np.nanmean(_fx) + .4*np.nanstd(_fx)\n",
    "\n",
    "hist(_fx.flatten(), 50,  (_min, _max))\n",
    "labels(\"Correction map variation along X\", \"Entries\")\n",
    "\n",
    "hist2d(_x[sel], _y[sel], (nX, nY), (XYrange, XYrange), weights=_fx.flatten()[sel], vmin=_min, vmax=_max)\n",
    "labels(\"x (mm)\", \"y (mm)\", \"Correction map variation along X\")\n",
    "plt.colorbar().set_label(\"Correction factor variation along X\")\n",
    "save(\"CorrectionMapVariationX\")\n",
    "\n",
    "_x  = np.repeat(shift_to_bin_centers(xc), yc.size    )\n",
    "_y  = np.tile  (yc                      , xc.size - 1)\n",
    "_fy = np.diff(XYcorr._fs, axis=0) / (XYcorr._us[:-1, :]**2 + XYcorr._us[1:, :]**2)**0.5\n",
    "sel = ~np.isnan(_fy).flatten()\n",
    "\n",
    "_min = np.nanmean(_fy) - .4*np.nanstd(_fy)\n",
    "_max = np.nanmean(_fy) + .4*np.nanstd(_fy)\n",
    "\n",
    "hist(_fy.flatten(), 50,  (_min, _max))\n",
    "labels(\"Correction map variation along Y\", \"Entries\")\n",
    "#plt.yscale(\"log\")\n",
    "\n",
    "hist2d(_x[sel], _y[sel], (nX, nY), (XYrange, XYrange), weights=_fy.flatten()[sel], vmin=_min, vmax=_max)\n",
    "labels(\"x (mm)\", \"y (mm)\", \"Correction map variation along Y\")\n",
    "plt.colorbar().set_label(\"Correction factor variation along Y\")\n",
    "save(\"CorrectionMapVariationX\")"
   ]
  },
  {
   "cell_type": "markdown",
   "metadata": {},
   "source": [
    "# Charge/Energy ratio"
   ]
  },
  {
   "cell_type": "code",
   "execution_count": null,
   "metadata": {
    "collapsed": true
   },
   "outputs": [],
   "source": [
    "ratio = Q/Ec\n",
    "\n",
    "hist(ratio.flatten(), 100, QErange)\n",
    "cb.set_label(\"Q/E\")\n",
    "labels(\"x (mm)\", \"y (mm)\", \"Charge/Energy ratio vs XY\")\n",
    "save(\"QoverEvsXY\")\n",
    "\n",
    "_, cb = display_matrix(xc, yc, ratio)\n",
    "cb.set_label(\"Q/E\")\n",
    "labels(\"x (mm)\", \"y (mm)\", \"Charge/Energy ratio vs XY\")\n",
    "save(\"QoverEvsXY\")"
   ]
  },
  {
   "cell_type": "markdown",
   "metadata": {},
   "source": [
    "# Correction by position"
   ]
  },
  {
   "cell_type": "code",
   "execution_count": null,
   "metadata": {
    "collapsed": true
   },
   "outputs": [],
   "source": [
    "E_xyzcorr = E_zcorr * XYcorr(bulk.X.values, bulk.Y.values).value\n",
    "\n",
    "bins     = np.linspace(*Erange_xycorr, 80)\n",
    "bin_size = np.diff(bins)[0]\n",
    "y, x, _  = hist(E_xyzcorr, bins)\n",
    "\n",
    "fun  = fitf.gauss\n",
    "ndata = E_xyzcorr.size\n",
    "seed  = ndata * bin_size  , Emean_fit, Emean_fit * 0.02\n",
    "low   = ndata * bin_size/2, Emin_fit , Emin_fit  * 0.01\n",
    "upp   = ndata * bin_size*2, Emax_fit , Emax_fit  * 0.03\n",
    "\n",
    "f    = fitf.fit(fun, x, y, seed, fit_range=Erange_fit, bounds=(low, upp), sigma=poisson_sigma(y))\n",
    "print(\"Fit values:\", f.values)\n",
    "print(\"Fit errors:\", f.errors)\n",
    "print(\"Chi2      :\", f.chi2)\n",
    "\n",
    "plt.plot(x, f.fn(x), fitOpt)\n",
    "plt.plot(x, fitf.gauss(x, *f.values),  fitOpt)\n",
    "plt.text(Erange_xycorr[0], 1*max(y)/4, gausstext(f.values, 41.5), color=fitOpt)\n",
    "labels(\"E (pes)\", \"Entries\", \"XYZ-corrected energy\")\n",
    "save(\"EcorrZXY\")"
   ]
  },
  {
   "cell_type": "code",
   "execution_count": null,
   "metadata": {
    "collapsed": true,
    "scrolled": false
   },
   "outputs": [],
   "source": [
    "x, y, e, u_e = fitf.profileXY(bulk.X.values, bulk.Y.values, E_xyzcorr, 50, 50, XYrange, XYrange)\n",
    "_, cb = display_matrix(x, y, e)\n",
    "cb.set_label(\"E (pes)\")\n",
    "labels(\"x (mm)\", \"y (mm)\", \"XYZ-corrected energy vs XY\")\n",
    "save(\"EcorrZXYvsXY\")\n",
    "\n",
    "x, y, e, u_e = fitf.profileXY(bulk.R.values, bulk.Phi.values, E_xyzcorr, 50, 50, Rrange, Prange)\n",
    "_, cb = display_matrix(x, y, e)\n",
    "cb.set_label(\"E (pes)\")\n",
    "labels(\"r (mm)\", \"$\\phi$ (rad)\", \"XYZ-corrected energy vs R$\\phi$\")\n",
    "save(\"EcorrZXYvsRPhi\")\n",
    "\n",
    "hist2d(bulk.R.values, E_xyzcorr, (50, 50), range=(Rrange, Erange_xycorr))\n",
    "x, y, _ = fitf.profileX(bulk.R.values, E_xyzcorr, 50, Rrange, Erange_xycorr)\n",
    "plt.plot(x, y, profOpt)\n",
    "labels(\"r (mm)\", \"S2 energy (pes)\", \"XYZ-corrected energy vs R\")\n",
    "save(\"EcorrZXYvsR\")\n",
    "\n",
    "hist2d(bulk.Phi.values, E_xyzcorr, (50, 50), range=(Prange, Erange_xycorr))\n",
    "x, y, _ = fitf.profileX(bulk.Phi.values, E_xyzcorr, 50, xrange=Prange, yrange=Erange_xycorr)\n",
    "plt.plot(x, y, profOpt)\n",
    "labels(\"phi (rad)\", \"S2 energy (pes)\", \"XYZ-corrected energy vs $\\phi$\")\n",
    "save(\"EcorrZXYvsPhi\")"
   ]
  },
  {
   "cell_type": "markdown",
   "metadata": {},
   "source": [
    "# Correction by time"
   ]
  },
  {
   "cell_type": "code",
   "execution_count": null,
   "metadata": {
    "collapsed": true
   },
   "outputs": [],
   "source": [
    "T      = (bulk.time.values - np.min(bulk.time.values))/60\n",
    "Trange = 0, np.max(T)\n",
    "\n",
    "hist2d(T, E_xyzcorr, (50, 50), range=(Trange, Erange_xycorr))\n",
    "\n",
    "x, y, u_y = fitf.profileX(T, E_xyzcorr, 50, Trange, Erange_xycorr)\n",
    "plt.plot(x, y, profOpt)\n",
    "\n",
    "labels(\"Time (min)\", \"Energy (pes)\", \"XYZ-corrected energy vs time\")\n",
    "save(\"EcorrZXYvsT\")\n",
    "\n",
    "Tcorr = corrf.Correction((x,), y, u_y, \"max\")"
   ]
  },
  {
   "cell_type": "code",
   "execution_count": null,
   "metadata": {
    "collapsed": true
   },
   "outputs": [],
   "source": [
    "E_xyztcorr = E_xyzcorr * Tcorr(T).value\n",
    "\n",
    "bins     = np.linspace(*Erange_xycorr, 80)\n",
    "bin_size = np.diff(bins)[0]\n",
    "y, x, _  = hist(E_xyztcorr, bins)\n",
    "\n",
    "fun  = fitf.gauss\n",
    "ndata = E_xyztcorr.size\n",
    "seed  = ndata * bin_size  , Emean_fit, Emean_fit * 0.02\n",
    "low   = ndata * bin_size/2, Emin_fit , Emin_fit  * 0.01\n",
    "upp   = ndata * bin_size*2, Emax_fit , Emax_fit  * 0.03\n",
    "\n",
    "f    = fitf.fit(fun, x, y, seed, fit_range=Erange_fit, bounds=(low, upp), sigma=poisson_sigma(y))\n",
    "print(\"Fit values:\", f.values)\n",
    "print(\"Fit errors:\", f.errors)\n",
    "print(\"Chi2      :\", f.chi2)\n",
    "\n",
    "plt.plot(x, f.fn(x), fitOpt)\n",
    "plt.text(Erange_xycorr[0], max(y)/2, gausstext(f.values, 41.5))\n",
    "labels(\"E (pes)\", \"Entries\", \"XYZT-corrected energy\")\n",
    "save(\"EcorrZXYT\")"
   ]
  },
  {
   "cell_type": "code",
   "execution_count": null,
   "metadata": {
    "collapsed": true,
    "scrolled": false
   },
   "outputs": [],
   "source": [
    "hist2d(T, E_xyztcorr, (50, 50), range=(Trange, Erange_xycorr))\n",
    "x, y, _ = fitf.profileX(T, E_xyztcorr, 50, Trange)\n",
    "plt.plot(x, y, profOpt)\n",
    "\n",
    "labels(\"Time (min)\", \"Energy (pes)\", \"XYZT-corrected energy vs time\")\n",
    "save(\"EcorrZXYTvsT\")"
   ]
  },
  {
   "cell_type": "markdown",
   "metadata": {},
   "source": [
    "# Resolution dependance"
   ]
  },
  {
   "cell_type": "code",
   "execution_count": null,
   "metadata": {
    "collapsed": true
   },
   "outputs": [],
   "source": [
    "sel_r  = coref.in_range(bulk.R.values, 0, 100)\n",
    "\n",
    "bins     = np.linspace(*Erange_xycorr, 80)\n",
    "bin_size = np.diff(bins)[0]\n",
    "y, x, _  = hist(E_xyztcorr[sel_r], bins)\n",
    "\n",
    "fun   =  fitf.gauss\n",
    "ndata = np.count_nonzero(sel_r)\n",
    "seed  = ndata * bin_size  , Emean_fit, Emean_fit * 0.02\n",
    "low   = ndata * bin_size/2, Emin_fit , Emin_fit  * 0.01\n",
    "upp   = ndata * bin_size*2, Emax_fit , Emax_fit  * 0.03\n",
    "\n",
    "f    = fitf.fit(fun, x, y, seed, fit_range=Erange_fit, bounds=(low, upp), sigma=poisson_sigma(y))\n",
    "print(\"Fit values:\", f.values)\n",
    "print(\"Fit errors:\", f.errors)\n",
    "print(\"Chi2      :\", f.chi2)\n",
    "\n",
    "plt.plot(x, f.fn(x), fitOpt)\n",
    "plt.text(Erange_xycorr[0], max(y)/2, gausstext(f.values, 41.5))\n",
    "\n",
    "labels(\"E (pes)\", \"Entries\", \"XYZT-corrected energy fiducial\")\n",
    "save(\"EcorrZXYT_fiducial\")"
   ]
  },
  {
   "cell_type": "code",
   "execution_count": null,
   "metadata": {
    "collapsed": true
   },
   "outputs": [],
   "source": [
    "sel_z  = coref.in_range(bulk.Z.values, 0, 100)\n",
    "\n",
    "bins     = np.linspace(*Erange_xycorr, 80)\n",
    "bin_size = np.diff(bins)[0]\n",
    "y, x, _  = hist(E_xyztcorr[sel_z], bins)\n",
    "\n",
    "fun   = fitf.gauss\n",
    "ndata = np.count_nonzero(sel_z)\n",
    "seed  = ndata * bin_size  , Emean_fit, Emean_fit * 0.02\n",
    "low   = ndata * bin_size/2, Emin_fit , Emin_fit  * 0.01\n",
    "upp   = ndata * bin_size*2, Emax_fit , Emax_fit  * 0.03\n",
    "\n",
    "f    = fitf.fit(fun, x, y, seed, fit_range=Erange_fit, bounds=(low, upp), sigma=poisson_sigma(y))\n",
    "print(\"Fit values:\", f.values)\n",
    "print(\"Fit errors:\", f.errors)\n",
    "print(\"Chi2      :\", f.chi2)\n",
    "\n",
    "plt.plot(x, f.fn(x), fitOpt)\n",
    "plt.text(Erange_xycorr[0], max(y)/2, gausstext(f.values, 41.5))\n",
    "\n",
    "labels(\"E (pes)\", \"Entries\", \"XYZT-corrected energy short drift\")\n",
    "save(\"EcorrZXYT_short_drift\")"
   ]
  },
  {
   "cell_type": "code",
   "execution_count": null,
   "metadata": {
    "collapsed": true
   },
   "outputs": [],
   "source": [
    "sel_zr = sel_z & sel_r\n",
    "\n",
    "bins     = np.linspace(*Erange_xycorr, 80)\n",
    "bin_size = np.diff(bins)[0]\n",
    "y, x, _  = hist(E_xyztcorr[sel_zr], bins)\n",
    "\n",
    "fun   = fitf.gauss\n",
    "ndata = np.count_nonzero(sel_zr)\n",
    "seed  = ndata * bin_size  , Emean_fit, Emean_fit * 0.02\n",
    "low   = ndata * bin_size/2, Emin_fit , Emin_fit  * 0.01\n",
    "upp   = ndata * bin_size*2, Emax_fit , Emax_fit  * 0.03\n",
    "\n",
    "f    = fitf.fit(fun, x, y, seed, fit_range=Erange_fit, bounds=(low, upp), sigma=poisson_sigma(y))\n",
    "print(\"Fit values:\", f.values)\n",
    "print(\"Fit errors:\", f.errors)\n",
    "print(\"Chi2      :\", f.chi2)\n",
    "\n",
    "plt.plot(x, f.fn(x), fitOpt)\n",
    "plt.text(Erange_xycorr[0], max(y)/2, gausstext(f.values, 41.5))\n",
    "\n",
    "labels(\"E (pes)\", \"Entries\", \"XYZT-corrected energy fiducial short drift\")\n",
    "save(\"EcorrZXYT_fiducial_short_drift\")"
   ]
  },
  {
   "cell_type": "code",
   "execution_count": null,
   "metadata": {
    "collapsed": true
   },
   "outputs": [],
   "source": [
    "#Rbins = [0, 40, 60, 80, 100, 115, 130, 140, 150, 160, 170, 180, 190]\n",
    "Rbins = np.linspace(0, 192, 13)\n",
    "nbins = len(Rbins) - 1\n",
    "r     = shift_to_bin_centers(Rbins)\n",
    "dr    = 0.5 * np.diff       (Rbins)\n",
    "\n",
    "R, Rbb, u_R, u_Rbb = np.zeros((4, nbins), dtype=np.double)\n",
    "plt.figure(figsize=(15,12))\n",
    "\n",
    "for i in range(nbins):\n",
    "    plt.subplot(3, 4, i+1)\n",
    "\n",
    "    sel = coref.in_range(bulk.R.values, *Rbins[i:i+2]) & sel_z\n",
    "\n",
    "    bins     = np.linspace(*Erange_xycorr, 80)\n",
    "    bin_size = np.diff(bins)[0]\n",
    "    y, x, _  = hist(E_xyztcorr[sel], bins, new_figure=False)\n",
    "\n",
    "    fun   = fitf.gauss\n",
    "    ndata = np.count_nonzero(sel)\n",
    "    seed  = ndata * bin_size  , Emean_fit, Emean_fit * 0.02\n",
    "    low   = ndata * bin_size/2, Emin_fit , Emin_fit  * 0.01\n",
    "    upp   = ndata * bin_size*2, Emax_fit , Emax_fit  * 0.03\n",
    "    \n",
    "    f = fitf.fit(fun, x, y, seed, fit_range=Erange_fit, bounds=(low, upp))\n",
    "    plt.plot(x, f.fn(x), fitOpt)\n",
    "    labels(\"E (pes)\", \"Entries\", \"{:.0f} - {:.0f} mm\".format(*Rbins[i:i+2]))\n",
    "\n",
    "    reso = resolution(f.values, f.errors, E_from=41.5)\n",
    "    R  [i], u_R  [i] = reso[0]\n",
    "    Rbb[i], u_Rbb[i] = reso[1]\n",
    "plt.tight_layout()\n",
    "save(\"EcorrZXYT_Rslices\")"
   ]
  },
  {
   "cell_type": "code",
   "execution_count": null,
   "metadata": {
    "collapsed": true
   },
   "outputs": [],
   "source": [
    "plt.errorbar(r, R, u_R, dr, \"kp\")\n",
    "labels(\"R (mm)\", \"Resolution\", \"Resolution vs R\")\n",
    "\n",
    "new_lims  = [lim * (41.5/2458)**0.5 for lim in plt.ylim()]\n",
    "new_ticks = np.linspace(*new_lims, 7)\n",
    "str_ticks = [\"{:.2f}\".format(i) for i in new_ticks]\n",
    "ax2       = plt.gca().twinx()\n",
    "\n",
    "ax2.set_ylim       (*new_lims )\n",
    "ax2.set_yticks     ( new_ticks)\n",
    "ax2.set_yticklabels( str_ticks)\n",
    "ax2.set_ylabel(\"Resolution @ Qbb\", rotation=-90, labelpad=20);\n",
    "save(\"ResolutionvsR\")"
   ]
  },
  {
   "cell_type": "code",
   "execution_count": null,
   "metadata": {
    "collapsed": true
   },
   "outputs": [],
   "source": [
    "Zbins = np.linspace(0, 450, 10)\n",
    "nbins = len(Zbins) - 1\n",
    "z     = shift_to_bin_centers(Zbins)\n",
    "dz    = 0.5 * np.diff       (Zbins)\n",
    "\n",
    "R, Rbb, u_R, u_Rbb = np.zeros((4, nbins), dtype=np.double)\n",
    "plt.figure(figsize=(15,12))\n",
    "\n",
    "for i in range(nbins):\n",
    "    plt.subplot(3, 3, i+1)\n",
    "    \n",
    "    sel = coref.in_range(bulk.Z.values, *Zbins[i:i+2]) & sel_r\n",
    "\n",
    "    bins     = np.linspace(*Erange_xycorr, 80)\n",
    "    bin_size = np.diff(bins)[0]\n",
    "    y, x, _  = hist(E_xyztcorr[sel], bins, new_figure=False)\n",
    "\n",
    "    fun   = fitf.gauss\n",
    "    ndata = np.count_nonzero(sel)\n",
    "    seed  = ndata * bin_size  , Emean_fit, Emean_fit * 0.02\n",
    "    low   = ndata * bin_size/2, Emin_fit , Emin_fit  * 0.01\n",
    "    upp   = ndata * bin_size*2, Emax_fit , Emax_fit  * 0.03\n",
    "    \n",
    "    f = fitf.fit(fun, x, y, seed, fit_range=Erange_fit, bounds=(low, upp))\n",
    "    plt.plot(x, f.fn(x), fitOpt)\n",
    "    labels(\"E (pes)\", \"Entries\", \"{:.0f} - {:.0f} mm\".format(*Zbins[i:i+2]))\n",
    "\n",
    "    reso = resolution(f.values, f.errors, E_from=41.5)\n",
    "    R  [i], u_R  [i] = reso[0]\n",
    "    Rbb[i], u_Rbb[i] = reso[1]\n",
    "plt.tight_layout()\n",
    "save(\"EcorrZXYT_Zslices\")"
   ]
  },
  {
   "cell_type": "code",
   "execution_count": null,
   "metadata": {
    "collapsed": true
   },
   "outputs": [],
   "source": [
    "plt.errorbar(z, R, u_R, dz, \"kp\")\n",
    "labels(\"Drift time (µs)\", \"Resolution\", \"Resolution vs Z\")\n",
    "\n",
    "new_lims  = [lim * (41.5/2458)**0.5 for lim in plt.ylim()]\n",
    "new_ticks = np.linspace(*new_lims, 7)\n",
    "str_ticks = [\"{:.2f}\".format(i) for i in new_ticks]\n",
    "ax2       = plt.gca().twinx()\n",
    "\n",
    "ax2.set_ylim       (*new_lims )\n",
    "ax2.set_yticks     ( new_ticks)\n",
    "ax2.set_yticklabels( str_ticks)\n",
    "ax2.set_ylabel(\"Resolution @ Qbb\", rotation=-90, labelpad=20);\n",
    "print(\"Resolutions\", Rbb)\n",
    "save(\"ResolutionvsZ\")"
   ]
  },
  {
   "cell_type": "markdown",
   "metadata": {},
   "source": [
    "# Apply map to a orthogonal dataset"
   ]
  },
  {
   "cell_type": "code",
   "execution_count": null,
   "metadata": {
    "collapsed": true
   },
   "outputs": [],
   "source": [
    "if split_sample:\n",
    "    test_T     = (test_data.time.values - np.min(full_data.time.values))/60\n",
    "    correction = Zcorr(test_data.Z.values, test_data.R.values) if LT_radial else\\\n",
    "                 Zcorr(test_data.Z.values)\n",
    "    Etest_corr = test_data.S2e.values * correction.value\\\n",
    "                                      * XYcorr(test_data.X.values,\n",
    "                                               test_data.Y.values).value\\\n",
    "                                      * Tcorr(test_T).value\n",
    "\n",
    "    bins     = np.linspace(*Erange_xycorr, 80)\n",
    "    bin_size = np.diff(bins)[0]\n",
    "    y, x, _  = hist(Etest_corr, bins, new_figure=False)\n",
    "\n",
    "    fun   = lambda x, *args: fitf.gauss(x, *args[:3]) + args[3]\n",
    "    ndata = Etest_corr.size\n",
    "    seed  = ndata * bin_size  , Emean_fit, Emean_fit * 0.02, 1e2\n",
    "    low   = ndata * bin_size/2, Emin_fit , Emin_fit  * 0.01, 0e2\n",
    "    upp   = ndata * bin_size*2, Emax_fit , Emax_fit  * 0.03, 1e4\n",
    "    \n",
    "    f    = fitf.fit(fun, x, y, seed, fit_range=Erange_fit, bounds=(low, upp), sigma=poisson_sigma(y))\n",
    "    print(\"Fit values:\", f.values)\n",
    "    print(\"Fit errors:\", f.errors)\n",
    "    print(\"Chi2      :\", f.chi2)\n",
    "\n",
    "    plt.plot(x, f.fn(x), fitOpt)\n",
    "    plt.text(Erange_xycorr[0], max(y)/2, gausstext(f.values, 41.5))\n",
    "\n",
    "    labels(\"E (pes)\", \"Entries\", \"XYZT-corrected energy\")\n",
    "    save(\"Etest\")"
   ]
  }
 ],
 "metadata": {
  "kernelspec": {
   "display_name": "Python 3",
   "language": "python",
   "name": "python3"
  },
  "language_info": {
   "codemirror_mode": {
    "name": "ipython",
    "version": 3
   },
   "file_extension": ".py",
   "mimetype": "text/x-python",
   "name": "python",
   "nbconvert_exporter": "python",
   "pygments_lexer": "ipython3",
   "version": "3.6.1"
  }
 },
 "nbformat": 4,
 "nbformat_minor": 2
}
