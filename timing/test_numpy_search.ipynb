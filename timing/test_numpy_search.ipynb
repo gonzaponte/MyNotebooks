{
 "cells": [
  {
   "cell_type": "code",
   "execution_count": 24,
   "metadata": {
    "collapsed": true
   },
   "outputs": [],
   "source": [
    "import numpy as np"
   ]
  },
  {
   "cell_type": "code",
   "execution_count": 10,
   "metadata": {
    "collapsed": true
   },
   "outputs": [],
   "source": [
    "N = int(1e4)\n",
    "X = np.linspace(0, 100, N, endpoint=False) - 50\n",
    "X = X.reshape(X.size, 1)"
   ]
  },
  {
   "cell_type": "code",
   "execution_count": 11,
   "metadata": {
    "collapsed": true
   },
   "outputs": [],
   "source": [
    "pitch = np.diff(X.flatten())[0]\n",
    "min_X = np.min(X)"
   ]
  },
  {
   "cell_type": "code",
   "execution_count": 12,
   "metadata": {
    "collapsed": true
   },
   "outputs": [],
   "source": [
    "def find_closest_brute_force(x):\n",
    "    return X[np.argmin(np.abs(x-X), axis=0)]\n",
    "\n",
    "def find_closest_smart(x):\n",
    "    return X[((x - min_X) // pitch).astype(int)]"
   ]
  },
  {
   "cell_type": "code",
   "execution_count": 21,
   "metadata": {
    "collapsed": true
   },
   "outputs": [],
   "source": [
    "x = np.random.rand(int(1e4))"
   ]
  },
  {
   "cell_type": "code",
   "execution_count": 22,
   "metadata": {},
   "outputs": [
    {
     "data": {
      "text/plain": [
       "False"
      ]
     },
     "execution_count": 22,
     "metadata": {},
     "output_type": "execute_result"
    }
   ],
   "source": [
    "np.alltrue(find_closest_brute_force(x) == find_closest_smart(x))"
   ]
  },
  {
   "cell_type": "code",
   "execution_count": 23,
   "metadata": {},
   "outputs": [
    {
     "name": "stdout",
     "output_type": "stream",
     "text": [
      "3.56 s ± 31.9 ms per loop (mean ± std. dev. of 7 runs, 1 loop each)\n",
      "220 µs ± 4.42 µs per loop (mean ± std. dev. of 7 runs, 1000 loops each)\n"
     ]
    }
   ],
   "source": [
    "%timeit find_closest_brute_force(x)\n",
    "%timeit find_closest_smart(x)"
   ]
  },
  {
   "cell_type": "code",
   "execution_count": 19,
   "metadata": {
    "collapsed": true
   },
   "outputs": [],
   "source": [
    "%%timeit?"
   ]
  },
  {
   "cell_type": "code",
   "execution_count": null,
   "metadata": {
    "collapsed": true
   },
   "outputs": [],
   "source": []
  },
  {
   "cell_type": "code",
   "execution_count": 48,
   "metadata": {
    "collapsed": true
   },
   "outputs": [],
   "source": [
    "import matplotlib.pyplot as plt\n",
    "import matplotlib.dates as mdates\n",
    "\n",
    "import datetime\n",
    "\n",
    "%matplotlib inline"
   ]
  },
  {
   "cell_type": "code",
   "execution_count": 49,
   "metadata": {},
   "outputs": [],
   "source": [
    "datetime.datetime?"
   ]
  },
  {
   "cell_type": "code",
   "execution_count": 50,
   "metadata": {},
   "outputs": [
    {
     "data": {
      "text/plain": [
       "<matplotlib.text.Text at 0x116420400>"
      ]
     },
     "execution_count": 50,
     "metadata": {},
     "output_type": "execute_result"
    },
    {
     "data": {
      "image/png": "[encoded data removed]",
      "text/plain": [
       "<matplotlib.figure.Figure at 0x1162ff908>"
      ]
     },
     "metadata": {},
     "output_type": "display_data"
    }
   ],
   "source": [
    "V = np.array([280, 210, 130, 115])\n",
    "D = [datetime.datetime(2016, 4, 1),\n",
    "     datetime.datetime(2016, 5, 1),\n",
    "     datetime.datetime(2017, 5, 1),\n",
    "     datetime.datetime(2017, 8, 1)]\n",
    "#D = np.array(list(map(datetime.datetime,[\"04/2016\", \"05/2016\", \"05/2017\", \"08/2017\"])))\n",
    "\n",
    "#plt.figure(figsize=(15,15))\n",
    "plt.rcParams[\"figure.figsize\"] = 12, 8\n",
    "plt.rcParams[\"font.size\"] = 15\n",
    "plt.plot(D, V, \"k*\")\n",
    "plt.xticks(D)\n",
    "\n",
    "plt.gca().get_xaxis().set_major_formatter(mdates.DateFormatter('%M/%Y'))\n",
    "\n",
    "plt.ylabel(\"Voltage (V)\")"
   ]
  },
  {
   "cell_type": "code",
   "execution_count": null,
   "metadata": {
    "collapsed": true
   },
   "outputs": [],
   "source": []
  }
 ],
 "metadata": {
  "kernelspec": {
   "display_name": "Python 3",
   "language": "python",
   "name": "python3"
  },
  "language_info": {
   "codemirror_mode": {
    "name": "ipython",
    "version": 3
   },
   "file_extension": ".py",
   "mimetype": "text/x-python",
   "name": "python",
   "nbconvert_exporter": "python",
   "pygments_lexer": "ipython3",
   "version": "3.6.1"
  }
 },
 "nbformat": 4,
 "nbformat_minor": 2
}
