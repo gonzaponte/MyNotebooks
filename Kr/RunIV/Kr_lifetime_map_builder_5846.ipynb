{
 "cells": [
  {
   "cell_type": "markdown",
   "metadata": {},
   "source": [
    "# Produce lifetime XY map"
   ]
  },
  {
   "cell_type": "markdown",
   "metadata": {},
   "source": [
    "<i>\n",
    "This notebook takes a clean kDST, measures the lifetime at\n",
    "different points of the XY plane and stores this map in\n",
    "a hdf5 file.\n",
    "</i>"
   ]
  },
  {
   "cell_type": "markdown",
   "metadata": {},
   "source": [
    "### Notebook configuration"
   ]
  },
  {
   "cell_type": "code",
   "execution_count": 1,
   "metadata": {
    "scrolled": true
   },
   "outputs": [],
   "source": [
    "run_number          = 5846\n",
    "input_dst_filename  = f\"$IC_DATA/RunIV/kdst_{run_number}_filtered.h5\"\n",
    "correction_filename = f\"$IC_DATA/XYmaps/corrections_run{run_number}.h5\"\n",
    "plots_output_folder = f\"plots/{run_number}/\"\n",
    "\n",
    "Zrange  =  100,  550\n",
    "XYrange = -200,  200\n",
    "Erange  =  2e3, 20e3\n",
    "Qrange  =  100, 1500\n",
    "Znbins  =   10\n",
    "XYnbins =   60\n",
    "Enbins  =  100\n",
    "Qnbins  =  100\n",
    "\n",
    "# Plotting style\n",
    "default_cmap = \"jet\"\n",
    "figure_size  = 16, 12\n",
    "font_size    = 15\n",
    "\n",
    "save_plots   = True\n",
    "with_titles  = False\n",
    "plots_format = \"pdf\""
   ]
  },
  {
   "cell_type": "markdown",
   "metadata": {},
   "source": [
    "### Imports"
   ]
  },
  {
   "cell_type": "code",
   "execution_count": 2,
   "metadata": {
    "scrolled": true
   },
   "outputs": [],
   "source": [
    "import os\n",
    "import time\n",
    "import collections\n",
    "\n",
    "import tables            as tb\n",
    "import numpy             as np\n",
    "import matplotlib.pyplot as plt\n",
    "\n",
    "import invisible_cities.core.fit_functions as fitf\n",
    "import invisible_cities.reco.dst_functions as dstf\n",
    "import invisible_cities.io  .kdst_io       as kdstio\n",
    "\n",
    "from invisible_cities.core .core_functions import in_range\n",
    "from invisible_cities.core .core_functions import weighted_mean_and_std\n",
    "from invisible_cities.icaro. hst_functions import display_matrix\n",
    "from invisible_cities.icaro. hst_functions import shift_to_bin_centers\n",
    "from invisible_cities.icaro. hst_functions import measurement_string\n",
    "from invisible_cities.icaro. hst_functions import plot_writer\n",
    "\n",
    "from icaro.core.fit_functions import quick_gauss_fit\n",
    "from icaro.core.fit_functions import fit_slices_2d_expo\n",
    "from icaro.core.fit_functions import expo_seed\n",
    "from icaro.core.fit_functions import to_relative\n",
    "from icaro.core.fit_functions import conditional_labels\n",
    "\n",
    "from table_info import RunInfo\n",
    "from table_info import MapInfo\n",
    "\n",
    "labels = conditional_labels(with_titles)\n",
    "\n",
    "%matplotlib inline"
   ]
  },
  {
   "cell_type": "markdown",
   "metadata": {},
   "source": [
    "### Initialization"
   ]
  },
  {
   "cell_type": "code",
   "execution_count": 3,
   "metadata": {
    "scrolled": true
   },
   "outputs": [],
   "source": [
    "Zbins     = np.linspace(* Zrange,  Znbins + 1)\n",
    "Ebins     = np.linspace(* Erange,  Enbins + 1)\n",
    "Qbins     = np.linspace(* Qrange,  Qnbins + 1)\n",
    "XYbins    = np.linspace(*XYrange, XYnbins + 1)\n",
    "XYcenters = shift_to_bin_centers(XYbins)\n",
    "XYpitch   = np.diff(XYbins)[0]\n",
    "\n",
    "input_dst_filename  = os.path.expandvars( input_dst_filename)\n",
    "correction_filename = os.path.expandvars(correction_filename)\n",
    "\n",
    "save = plot_writer(plots_output_folder, plots_format) if save_plots else lambda *x: None\n",
    "\n",
    "plt.rcParams[\"figure.figsize\"] = figure_size\n",
    "plt.rcParams[  \"font.size\"   ] =   font_size"
   ]
  },
  {
   "cell_type": "markdown",
   "metadata": {},
   "source": [
    "### Read data"
   ]
  },
  {
   "cell_type": "code",
   "execution_count": 4,
   "metadata": {
    "scrolled": true
   },
   "outputs": [
    {
     "ename": "OSError",
     "evalue": "``/Users/Gonzalo/github/NEXTdata//RunIV/kdst_5846_filtered.h5`` does not exist",
     "output_type": "error",
     "traceback": [
      "\u001b[0;31m---------------------------------------------------------------------------\u001b[0m",
      "\u001b[0;31mOSError\u001b[0m                                   Traceback (most recent call last)",
      "\u001b[0;32m<ipython-input-4-ee59f9a0c169>\u001b[0m in \u001b[0;36m<module>\u001b[0;34m()\u001b[0m\n\u001b[0;32m----> 1\u001b[0;31m \u001b[0mdst\u001b[0m           \u001b[0;34m=\u001b[0m \u001b[0mdstf\u001b[0m\u001b[0;34m.\u001b[0m\u001b[0mload_dst\u001b[0m\u001b[0;34m(\u001b[0m\u001b[0minput_dst_filename\u001b[0m\u001b[0;34m,\u001b[0m \u001b[0;34m\"DST\"\u001b[0m\u001b[0;34m,\u001b[0m \u001b[0;34m\"Events\"\u001b[0m\u001b[0;34m)\u001b[0m\u001b[0;34m\u001b[0m\u001b[0m\n\u001b[0m\u001b[1;32m      2\u001b[0m \u001b[0munique_events\u001b[0m \u001b[0;34m=\u001b[0m \u001b[0;34m~\u001b[0m\u001b[0mdst\u001b[0m\u001b[0;34m.\u001b[0m\u001b[0mevent\u001b[0m\u001b[0;34m.\u001b[0m\u001b[0mduplicated\u001b[0m\u001b[0;34m(\u001b[0m\u001b[0;34m)\u001b[0m\u001b[0;34m\u001b[0m\u001b[0m\n\u001b[1;32m      3\u001b[0m \u001b[0;34m\u001b[0m\u001b[0m\n\u001b[1;32m      4\u001b[0m \u001b[0mnumber_of_S2s_full\u001b[0m  \u001b[0;34m=\u001b[0m \u001b[0mnp\u001b[0m\u001b[0;34m.\u001b[0m\u001b[0msize\u001b[0m         \u001b[0;34m(\u001b[0m\u001b[0munique_events\u001b[0m\u001b[0;34m)\u001b[0m\u001b[0;34m\u001b[0m\u001b[0m\n\u001b[1;32m      5\u001b[0m \u001b[0mnumber_of_evts_full\u001b[0m \u001b[0;34m=\u001b[0m \u001b[0mnp\u001b[0m\u001b[0;34m.\u001b[0m\u001b[0mcount_nonzero\u001b[0m\u001b[0;34m(\u001b[0m\u001b[0munique_events\u001b[0m\u001b[0;34m)\u001b[0m\u001b[0;34m\u001b[0m\u001b[0m\n",
      "\u001b[0;32m~/github/IC/invisible_cities/io/dst_io.py\u001b[0m in \u001b[0;36mload_dst\u001b[0;34m(filename, group, node)\u001b[0m\n\u001b[1;32m      4\u001b[0m \u001b[0;34m\u001b[0m\u001b[0m\n\u001b[1;32m      5\u001b[0m \u001b[0;32mdef\u001b[0m \u001b[0mload_dst\u001b[0m\u001b[0;34m(\u001b[0m\u001b[0mfilename\u001b[0m\u001b[0;34m,\u001b[0m \u001b[0mgroup\u001b[0m\u001b[0;34m,\u001b[0m \u001b[0mnode\u001b[0m\u001b[0;34m)\u001b[0m\u001b[0;34m:\u001b[0m\u001b[0;34m\u001b[0m\u001b[0m\n\u001b[0;32m----> 6\u001b[0;31m     \u001b[0;32mwith\u001b[0m \u001b[0mtb\u001b[0m\u001b[0;34m.\u001b[0m\u001b[0mopen_file\u001b[0m\u001b[0;34m(\u001b[0m\u001b[0mfilename\u001b[0m\u001b[0;34m)\u001b[0m \u001b[0;32mas\u001b[0m \u001b[0mh5in\u001b[0m\u001b[0;34m:\u001b[0m\u001b[0;34m\u001b[0m\u001b[0m\n\u001b[0m\u001b[1;32m      7\u001b[0m         \u001b[0mtable\u001b[0m \u001b[0;34m=\u001b[0m \u001b[0mgetattr\u001b[0m\u001b[0;34m(\u001b[0m\u001b[0mgetattr\u001b[0m\u001b[0;34m(\u001b[0m\u001b[0mh5in\u001b[0m\u001b[0;34m.\u001b[0m\u001b[0mroot\u001b[0m\u001b[0;34m,\u001b[0m \u001b[0mgroup\u001b[0m\u001b[0;34m)\u001b[0m\u001b[0;34m,\u001b[0m \u001b[0mnode\u001b[0m\u001b[0;34m)\u001b[0m\u001b[0;34m.\u001b[0m\u001b[0mread\u001b[0m\u001b[0;34m(\u001b[0m\u001b[0;34m)\u001b[0m\u001b[0;34m\u001b[0m\u001b[0m\n\u001b[1;32m      8\u001b[0m         \u001b[0;32mreturn\u001b[0m \u001b[0mpd\u001b[0m\u001b[0;34m.\u001b[0m\u001b[0mDataFrame\u001b[0m\u001b[0;34m.\u001b[0m\u001b[0mfrom_records\u001b[0m\u001b[0;34m(\u001b[0m\u001b[0mtable\u001b[0m\u001b[0;34m)\u001b[0m\u001b[0;34m\u001b[0m\u001b[0m\n",
      "\u001b[0;32m/Applications/anaconda3/envs/IC3.6/lib/python3.6/site-packages/tables/file.py\u001b[0m in \u001b[0;36mopen_file\u001b[0;34m(filename, mode, title, root_uep, filters, **kwargs)\u001b[0m\n\u001b[1;32m    318\u001b[0m \u001b[0;34m\u001b[0m\u001b[0m\n\u001b[1;32m    319\u001b[0m     \u001b[0;31m# Finally, create the File instance, and return it\u001b[0m\u001b[0;34m\u001b[0m\u001b[0;34m\u001b[0m\u001b[0m\n\u001b[0;32m--> 320\u001b[0;31m     \u001b[0;32mreturn\u001b[0m \u001b[0mFile\u001b[0m\u001b[0;34m(\u001b[0m\u001b[0mfilename\u001b[0m\u001b[0;34m,\u001b[0m \u001b[0mmode\u001b[0m\u001b[0;34m,\u001b[0m \u001b[0mtitle\u001b[0m\u001b[0;34m,\u001b[0m \u001b[0mroot_uep\u001b[0m\u001b[0;34m,\u001b[0m \u001b[0mfilters\u001b[0m\u001b[0;34m,\u001b[0m \u001b[0;34m**\u001b[0m\u001b[0mkwargs\u001b[0m\u001b[0;34m)\u001b[0m\u001b[0;34m\u001b[0m\u001b[0m\n\u001b[0m\u001b[1;32m    321\u001b[0m \u001b[0;34m\u001b[0m\u001b[0m\n\u001b[1;32m    322\u001b[0m \u001b[0;34m\u001b[0m\u001b[0m\n",
      "\u001b[0;32m/Applications/anaconda3/envs/IC3.6/lib/python3.6/site-packages/tables/file.py\u001b[0m in \u001b[0;36m__init__\u001b[0;34m(self, filename, mode, title, root_uep, filters, **kwargs)\u001b[0m\n\u001b[1;32m    781\u001b[0m \u001b[0;34m\u001b[0m\u001b[0m\n\u001b[1;32m    782\u001b[0m         \u001b[0;31m# Now, it is time to initialize the File extension\u001b[0m\u001b[0;34m\u001b[0m\u001b[0;34m\u001b[0m\u001b[0m\n\u001b[0;32m--> 783\u001b[0;31m         \u001b[0mself\u001b[0m\u001b[0;34m.\u001b[0m\u001b[0m_g_new\u001b[0m\u001b[0;34m(\u001b[0m\u001b[0mfilename\u001b[0m\u001b[0;34m,\u001b[0m \u001b[0mmode\u001b[0m\u001b[0;34m,\u001b[0m \u001b[0;34m**\u001b[0m\u001b[0mparams\u001b[0m\u001b[0;34m)\u001b[0m\u001b[0;34m\u001b[0m\u001b[0m\n\u001b[0m\u001b[1;32m    784\u001b[0m \u001b[0;34m\u001b[0m\u001b[0m\n\u001b[1;32m    785\u001b[0m         \u001b[0;31m# Check filters and set PyTables format version for new files.\u001b[0m\u001b[0;34m\u001b[0m\u001b[0;34m\u001b[0m\u001b[0m\n",
      "\u001b[0;32mtables/hdf5extension.pyx\u001b[0m in \u001b[0;36mtables.hdf5extension.File._g_new (tables/hdf5extension.c:4580)\u001b[0;34m()\u001b[0m\n",
      "\u001b[0;32m/Applications/anaconda3/envs/IC3.6/lib/python3.6/site-packages/tables/utils.py\u001b[0m in \u001b[0;36mcheck_file_access\u001b[0;34m(filename, mode)\u001b[0m\n\u001b[1;32m    154\u001b[0m         \u001b[0;31m# The file should be readable.\u001b[0m\u001b[0;34m\u001b[0m\u001b[0;34m\u001b[0m\u001b[0m\n\u001b[1;32m    155\u001b[0m         \u001b[0;32mif\u001b[0m \u001b[0;32mnot\u001b[0m \u001b[0mos\u001b[0m\u001b[0;34m.\u001b[0m\u001b[0maccess\u001b[0m\u001b[0;34m(\u001b[0m\u001b[0mfilename\u001b[0m\u001b[0;34m,\u001b[0m \u001b[0mos\u001b[0m\u001b[0;34m.\u001b[0m\u001b[0mF_OK\u001b[0m\u001b[0;34m)\u001b[0m\u001b[0;34m:\u001b[0m\u001b[0;34m\u001b[0m\u001b[0m\n\u001b[0;32m--> 156\u001b[0;31m             \u001b[0;32mraise\u001b[0m \u001b[0mIOError\u001b[0m\u001b[0;34m(\u001b[0m\u001b[0;34m\"``%s`` does not exist\"\u001b[0m \u001b[0;34m%\u001b[0m \u001b[0;34m(\u001b[0m\u001b[0mfilename\u001b[0m\u001b[0;34m,\u001b[0m\u001b[0;34m)\u001b[0m\u001b[0;34m)\u001b[0m\u001b[0;34m\u001b[0m\u001b[0m\n\u001b[0m\u001b[1;32m    157\u001b[0m         \u001b[0;32mif\u001b[0m \u001b[0;32mnot\u001b[0m \u001b[0mos\u001b[0m\u001b[0;34m.\u001b[0m\u001b[0mpath\u001b[0m\u001b[0;34m.\u001b[0m\u001b[0misfile\u001b[0m\u001b[0;34m(\u001b[0m\u001b[0mfilename\u001b[0m\u001b[0;34m)\u001b[0m\u001b[0;34m:\u001b[0m\u001b[0;34m\u001b[0m\u001b[0m\n\u001b[1;32m    158\u001b[0m             \u001b[0;32mraise\u001b[0m \u001b[0mIOError\u001b[0m\u001b[0;34m(\u001b[0m\u001b[0;34m\"``%s`` is not a regular file\"\u001b[0m \u001b[0;34m%\u001b[0m \u001b[0;34m(\u001b[0m\u001b[0mfilename\u001b[0m\u001b[0;34m,\u001b[0m\u001b[0;34m)\u001b[0m\u001b[0;34m)\u001b[0m\u001b[0;34m\u001b[0m\u001b[0m\n",
      "\u001b[0;31mOSError\u001b[0m: ``/Users/Gonzalo/github/NEXTdata//RunIV/kdst_5846_filtered.h5`` does not exist"
     ]
    }
   ],
   "source": [
    "dst           = dstf.load_dst(input_dst_filename, \"DST\", \"Events\")\n",
    "unique_events = ~dst.event.duplicated()\n",
    "\n",
    "number_of_S2s_full  = np.size         (unique_events)\n",
    "number_of_evts_full = np.count_nonzero(unique_events)\n",
    "\n",
    "print(f\"Total number of S2s   : {number_of_S2s_full} \")\n",
    "print(f\"Total number of events: {number_of_evts_full}\")"
   ]
  },
  {
   "cell_type": "code",
   "execution_count": 5,
   "metadata": {
    "scrolled": true
   },
   "outputs": [
    {
     "ename": "NameError",
     "evalue": "name 'dst' is not defined",
     "output_type": "error",
     "traceback": [
      "\u001b[0;31m---------------------------------------------------------------------------\u001b[0m",
      "\u001b[0;31mNameError\u001b[0m                                 Traceback (most recent call last)",
      "\u001b[0;32m<ipython-input-5-dc0dac68968f>\u001b[0m in \u001b[0;36m<module>\u001b[0;34m()\u001b[0m\n\u001b[0;32m----> 1\u001b[0;31m \u001b[0mX\u001b[0m \u001b[0;34m=\u001b[0m \u001b[0mdst\u001b[0m\u001b[0;34m.\u001b[0m\u001b[0mX\u001b[0m  \u001b[0;34m.\u001b[0m\u001b[0mvalues\u001b[0m\u001b[0;34m\u001b[0m\u001b[0m\n\u001b[0m\u001b[1;32m      2\u001b[0m \u001b[0mY\u001b[0m \u001b[0;34m=\u001b[0m \u001b[0mdst\u001b[0m\u001b[0;34m.\u001b[0m\u001b[0mY\u001b[0m  \u001b[0;34m.\u001b[0m\u001b[0mvalues\u001b[0m\u001b[0;34m\u001b[0m\u001b[0m\n\u001b[1;32m      3\u001b[0m \u001b[0mZ\u001b[0m \u001b[0;34m=\u001b[0m \u001b[0mdst\u001b[0m\u001b[0;34m.\u001b[0m\u001b[0mZ\u001b[0m  \u001b[0;34m.\u001b[0m\u001b[0mvalues\u001b[0m\u001b[0;34m\u001b[0m\u001b[0m\n\u001b[1;32m      4\u001b[0m \u001b[0mE\u001b[0m \u001b[0;34m=\u001b[0m \u001b[0mdst\u001b[0m\u001b[0;34m.\u001b[0m\u001b[0mS2e\u001b[0m\u001b[0;34m.\u001b[0m\u001b[0mvalues\u001b[0m\u001b[0;34m\u001b[0m\u001b[0m\n\u001b[1;32m      5\u001b[0m \u001b[0mQ\u001b[0m \u001b[0;34m=\u001b[0m \u001b[0mdst\u001b[0m\u001b[0;34m.\u001b[0m\u001b[0mS2q\u001b[0m\u001b[0;34m.\u001b[0m\u001b[0mvalues\u001b[0m\u001b[0;34m\u001b[0m\u001b[0m\n",
      "\u001b[0;31mNameError\u001b[0m: name 'dst' is not defined"
     ]
    }
   ],
   "source": [
    "X = dst.X  .values\n",
    "Y = dst.Y  .values\n",
    "Z = dst.Z  .values\n",
    "E = dst.S2e.values\n",
    "Q = dst.S2q.values"
   ]
  },
  {
   "cell_type": "markdown",
   "metadata": {},
   "source": [
    "### Event distribution"
   ]
  },
  {
   "cell_type": "code",
   "execution_count": 6,
   "metadata": {
    "scrolled": true
   },
   "outputs": [
    {
     "ename": "NameError",
     "evalue": "name 'X' is not defined",
     "output_type": "error",
     "traceback": [
      "\u001b[0;31m---------------------------------------------------------------------------\u001b[0m",
      "\u001b[0;31mNameError\u001b[0m                                 Traceback (most recent call last)",
      "\u001b[0;32m<ipython-input-6-9cb530cd4543>\u001b[0m in \u001b[0;36m<module>\u001b[0;34m()\u001b[0m\n\u001b[0;32m----> 1\u001b[0;31m \u001b[0mnevt\u001b[0m\u001b[0;34m,\u001b[0m \u001b[0;34m*\u001b[0m\u001b[0m_\u001b[0m \u001b[0;34m=\u001b[0m \u001b[0mplt\u001b[0m\u001b[0;34m.\u001b[0m\u001b[0mhist2d\u001b[0m\u001b[0;34m(\u001b[0m\u001b[0mX\u001b[0m\u001b[0;34m,\u001b[0m \u001b[0mY\u001b[0m\u001b[0;34m,\u001b[0m \u001b[0;34m(\u001b[0m\u001b[0mXYbins\u001b[0m\u001b[0;34m,\u001b[0m \u001b[0mXYbins\u001b[0m\u001b[0;34m)\u001b[0m\u001b[0;34m)\u001b[0m\u001b[0;34m\u001b[0m\u001b[0m\n\u001b[0m\u001b[1;32m      2\u001b[0m \u001b[0mplt\u001b[0m\u001b[0;34m.\u001b[0m\u001b[0mcolorbar\u001b[0m\u001b[0;34m(\u001b[0m\u001b[0;34m)\u001b[0m\u001b[0;34m.\u001b[0m\u001b[0mset_label\u001b[0m\u001b[0;34m(\u001b[0m\u001b[0;34m\"Number of events\"\u001b[0m\u001b[0;34m)\u001b[0m\u001b[0;34m\u001b[0m\u001b[0m\n\u001b[1;32m      3\u001b[0m \u001b[0mlabels\u001b[0m\u001b[0;34m(\u001b[0m\u001b[0;34m\"X (mm)\"\u001b[0m\u001b[0;34m,\u001b[0m \u001b[0;34m\"Y (mm)\"\u001b[0m\u001b[0;34m,\u001b[0m \u001b[0;34mf\"Event distribution for {XYpitch:.1f} mm pitch\"\u001b[0m\u001b[0;34m)\u001b[0m\u001b[0;34m\u001b[0m\u001b[0m\n\u001b[1;32m      4\u001b[0m \u001b[0msave\u001b[0m\u001b[0;34m(\u001b[0m\u001b[0;34mf\"EventDistribution_{XYpitch:.1f}mm_XY\"\u001b[0m\u001b[0;34m)\u001b[0m\u001b[0;34m\u001b[0m\u001b[0m\n",
      "\u001b[0;31mNameError\u001b[0m: name 'X' is not defined"
     ]
    }
   ],
   "source": [
    "nevt, *_ = plt.hist2d(X, Y, (XYbins, XYbins))\n",
    "plt.colorbar().set_label(\"Number of events\")\n",
    "labels(\"X (mm)\", \"Y (mm)\", f\"Event distribution for {XYpitch:.1f} mm pitch\")\n",
    "save(f\"EventDistribution_{XYpitch:.1f}mm_XY\")"
   ]
  },
  {
   "cell_type": "code",
   "execution_count": 7,
   "metadata": {
    "scrolled": true
   },
   "outputs": [
    {
     "ename": "NameError",
     "evalue": "name 'nevt' is not defined",
     "output_type": "error",
     "traceback": [
      "\u001b[0;31m---------------------------------------------------------------------------\u001b[0m",
      "\u001b[0;31mNameError\u001b[0m                                 Traceback (most recent call last)",
      "\u001b[0;32m<ipython-input-7-f9861c765dce>\u001b[0m in \u001b[0;36m<module>\u001b[0;34m()\u001b[0m\n\u001b[0;32m----> 1\u001b[0;31m \u001b[0mnevt_max\u001b[0m \u001b[0;34m=\u001b[0m \u001b[0mint\u001b[0m\u001b[0;34m(\u001b[0m\u001b[0mnp\u001b[0m\u001b[0;34m.\u001b[0m\u001b[0mmax\u001b[0m\u001b[0;34m(\u001b[0m\u001b[0mnevt\u001b[0m\u001b[0;34m)\u001b[0m\u001b[0;34m)\u001b[0m\u001b[0;34m\u001b[0m\u001b[0m\n\u001b[0m\u001b[1;32m      2\u001b[0m \u001b[0mplt\u001b[0m\u001b[0;34m.\u001b[0m\u001b[0mhist\u001b[0m\u001b[0;34m(\u001b[0m\u001b[0mnevt\u001b[0m\u001b[0;34m.\u001b[0m\u001b[0mflatten\u001b[0m\u001b[0;34m(\u001b[0m\u001b[0;34m)\u001b[0m\u001b[0;34m,\u001b[0m \u001b[0mnp\u001b[0m\u001b[0;34m.\u001b[0m\u001b[0marange\u001b[0m\u001b[0;34m(\u001b[0m\u001b[0;36m1\u001b[0m\u001b[0;34m,\u001b[0m \u001b[0mnevt_max\u001b[0m \u001b[0;34m+\u001b[0m \u001b[0;36m2\u001b[0m\u001b[0;34m)\u001b[0m\u001b[0;34m)\u001b[0m\u001b[0;34m\u001b[0m\u001b[0m\n\u001b[1;32m      3\u001b[0m \u001b[0mlabels\u001b[0m\u001b[0;34m(\u001b[0m\u001b[0;34m\"Number of events per bin\"\u001b[0m\u001b[0;34m,\u001b[0m \u001b[0;34m\"Entries\"\u001b[0m\u001b[0;34m,\u001b[0m \u001b[0;34m\"# events per bin\"\u001b[0m\u001b[0;34m)\u001b[0m\u001b[0;34m\u001b[0m\u001b[0m\n\u001b[1;32m      4\u001b[0m \u001b[0msave\u001b[0m\u001b[0;34m(\u001b[0m\u001b[0;34mf\"EventDistribution_{XYpitch:.1f}mm\"\u001b[0m\u001b[0;34m)\u001b[0m\u001b[0;34m\u001b[0m\u001b[0m\n",
      "\u001b[0;31mNameError\u001b[0m: name 'nevt' is not defined"
     ]
    }
   ],
   "source": [
    "nevt_max = int(np.max(nevt))\n",
    "plt.hist(nevt.flatten(), np.arange(1, nevt_max + 2))\n",
    "labels(\"Number of events per bin\", \"Entries\", \"# events per bin\")\n",
    "save(f\"EventDistribution_{XYpitch:.1f}mm\")"
   ]
  },
  {
   "cell_type": "markdown",
   "metadata": {},
   "source": [
    "### Fit examples"
   ]
  },
  {
   "cell_type": "code",
   "execution_count": 8,
   "metadata": {
    "scrolled": true
   },
   "outputs": [
    {
     "ename": "NameError",
     "evalue": "name 'X' is not defined",
     "output_type": "error",
     "traceback": [
      "\u001b[0;31m---------------------------------------------------------------------------\u001b[0m",
      "\u001b[0;31mNameError\u001b[0m                                 Traceback (most recent call last)",
      "\u001b[0;32m<ipython-input-8-1d0cfefa5eeb>\u001b[0m in \u001b[0;36m<module>\u001b[0;34m()\u001b[0m\n\u001b[1;32m      1\u001b[0m \u001b[0mxlim\u001b[0m \u001b[0;34m=\u001b[0m  \u001b[0;36m15\u001b[0m\u001b[0;34m,\u001b[0m  \u001b[0;36m25\u001b[0m\u001b[0;34m\u001b[0m\u001b[0m\n\u001b[1;32m      2\u001b[0m \u001b[0mylim\u001b[0m \u001b[0;34m=\u001b[0m \u001b[0;34m-\u001b[0m\u001b[0;36m25\u001b[0m\u001b[0;34m,\u001b[0m \u001b[0;34m-\u001b[0m\u001b[0;36m15\u001b[0m\u001b[0;34m\u001b[0m\u001b[0m\n\u001b[0;32m----> 3\u001b[0;31m \u001b[0msel\u001b[0m  \u001b[0;34m=\u001b[0m \u001b[0min_range\u001b[0m\u001b[0;34m(\u001b[0m\u001b[0mX\u001b[0m\u001b[0;34m,\u001b[0m \u001b[0;34m*\u001b[0m\u001b[0mxlim\u001b[0m\u001b[0;34m)\u001b[0m \u001b[0;34m&\u001b[0m \u001b[0min_range\u001b[0m\u001b[0;34m(\u001b[0m\u001b[0mY\u001b[0m\u001b[0;34m,\u001b[0m \u001b[0;34m*\u001b[0m\u001b[0mylim\u001b[0m\u001b[0;34m)\u001b[0m\u001b[0;34m\u001b[0m\u001b[0m\n\u001b[0m\u001b[1;32m      4\u001b[0m \u001b[0mz\u001b[0m\u001b[0;34m,\u001b[0m \u001b[0me\u001b[0m \u001b[0;34m=\u001b[0m \u001b[0mZ\u001b[0m\u001b[0;34m[\u001b[0m\u001b[0msel\u001b[0m\u001b[0;34m]\u001b[0m\u001b[0;34m,\u001b[0m \u001b[0mE\u001b[0m\u001b[0;34m[\u001b[0m\u001b[0msel\u001b[0m\u001b[0;34m]\u001b[0m\u001b[0;34m\u001b[0m\u001b[0m\n\u001b[1;32m      5\u001b[0m \u001b[0;34m\u001b[0m\u001b[0m\n",
      "\u001b[0;31mNameError\u001b[0m: name 'X' is not defined"
     ]
    }
   ],
   "source": [
    "xlim =  15,  25\n",
    "ylim = -25, -15\n",
    "sel  = in_range(X, *xlim) & in_range(Y, *ylim)\n",
    "z, e = Z[sel], E[sel]\n",
    "\n",
    "frame_data = plt.gcf().add_axes((.1, .3,\n",
    "                                 .8, .6))\n",
    "plt.hist2d(z, e, (Zbins, Ebins))\n",
    "\n",
    "x, y, yu = fitf.profileX(z, e, Znbins, Zrange)\n",
    "plt.errorbar(x, y, yu, np.diff(x)[0]/2, fmt=\"kp\", ms=7, lw=3)\n",
    "\n",
    "seed = expo_seed(x, y)\n",
    "f    = fitf.fit(fitf.expo, x, y, seed, sigma=yu)\n",
    "plt.plot(x, f.fn(x), \"r-\", lw=4)\n",
    "\n",
    "frame_data.set_xticklabels([])\n",
    "labels(\"\", \"Energy (pes)\", \"Lifetime fit example\")\n",
    "lims = plt.xlim()\n",
    "\n",
    "frame_res = plt.gcf().add_axes((.1, .1,\n",
    "                                .8, .2))\n",
    "plt.errorbar(x, (f.fn(x) - y) / yu, 1, np.diff(x)[0] / 2, fmt=\"p\", c=\"k\")\n",
    "plt.plot(lims, (0, 0), \"g--\")\n",
    "plt.xlim(*lims)\n",
    "plt.ylim(-5, +5)\n",
    "labels(\"Drift time (µs)\", \"Standarized residual\")\n",
    "\n",
    "save(\"Lifetime_fit_example\")"
   ]
  },
  {
   "cell_type": "code",
   "execution_count": 9,
   "metadata": {
    "scrolled": true
   },
   "outputs": [
    {
     "ename": "NameError",
     "evalue": "name 'X' is not defined",
     "output_type": "error",
     "traceback": [
      "\u001b[0;31m---------------------------------------------------------------------------\u001b[0m",
      "\u001b[0;31mNameError\u001b[0m                                 Traceback (most recent call last)",
      "\u001b[0;32m<ipython-input-9-eba2a25ba6da>\u001b[0m in \u001b[0;36m<module>\u001b[0;34m()\u001b[0m\n\u001b[0;32m----> 1\u001b[0;31m \u001b[0mx\u001b[0m\u001b[0;34m,\u001b[0m \u001b[0my\u001b[0m\u001b[0;34m,\u001b[0m \u001b[0mz\u001b[0m\u001b[0;34m,\u001b[0m \u001b[0muz\u001b[0m \u001b[0;34m=\u001b[0m \u001b[0mfitf\u001b[0m\u001b[0;34m.\u001b[0m\u001b[0mprofileXY\u001b[0m\u001b[0;34m(\u001b[0m\u001b[0mX\u001b[0m\u001b[0;34m,\u001b[0m \u001b[0mY\u001b[0m\u001b[0;34m,\u001b[0m \u001b[0mdst\u001b[0m\u001b[0;34m.\u001b[0m\u001b[0mS1e\u001b[0m\u001b[0;34m,\u001b[0m \u001b[0;36m30\u001b[0m\u001b[0;34m,\u001b[0m \u001b[0;36m30\u001b[0m\u001b[0;34m,\u001b[0m \u001b[0mxrange\u001b[0m\u001b[0;34m=\u001b[0m\u001b[0;34m(\u001b[0m\u001b[0;34m-\u001b[0m\u001b[0;36m200\u001b[0m\u001b[0;34m,\u001b[0m \u001b[0;36m200\u001b[0m\u001b[0;34m)\u001b[0m\u001b[0;34m,\u001b[0m \u001b[0myrange\u001b[0m\u001b[0;34m=\u001b[0m\u001b[0;34m(\u001b[0m\u001b[0;34m-\u001b[0m\u001b[0;36m200\u001b[0m\u001b[0;34m,\u001b[0m \u001b[0;36m200\u001b[0m\u001b[0;34m)\u001b[0m\u001b[0;34m)\u001b[0m\u001b[0;34m\u001b[0m\u001b[0m\n\u001b[0m\u001b[1;32m      2\u001b[0m \u001b[0mdisplay_matrix\u001b[0m\u001b[0;34m(\u001b[0m\u001b[0mx\u001b[0m\u001b[0;34m,\u001b[0m \u001b[0my\u001b[0m\u001b[0;34m,\u001b[0m \u001b[0mz\u001b[0m\u001b[0;34m,\u001b[0m \u001b[0mvmin\u001b[0m \u001b[0;34m=\u001b[0m \u001b[0;36m0\u001b[0m\u001b[0;34m,\u001b[0m \u001b[0mvmax\u001b[0m\u001b[0;34m=\u001b[0m\u001b[0;36m20\u001b[0m\u001b[0;34m)\u001b[0m\u001b[0;34m;\u001b[0m\u001b[0;34m\u001b[0m\u001b[0m\n",
      "\u001b[0;31mNameError\u001b[0m: name 'X' is not defined"
     ]
    }
   ],
   "source": [
    "x, y, z, uz = fitf.profileXY(X, Y, dst.S1e, 30, 30, xrange=(-200, 200), yrange=(-200, 200))\n",
    "display_matrix(x, y, z, vmin = 0, vmax=20);"
   ]
  },
  {
   "cell_type": "code",
   "execution_count": 10,
   "metadata": {
    "scrolled": true
   },
   "outputs": [
    {
     "ename": "NameError",
     "evalue": "name 'X' is not defined",
     "output_type": "error",
     "traceback": [
      "\u001b[0;31m---------------------------------------------------------------------------\u001b[0m",
      "\u001b[0;31mNameError\u001b[0m                                 Traceback (most recent call last)",
      "\u001b[0;32m<ipython-input-10-b74a6840a361>\u001b[0m in \u001b[0;36m<module>\u001b[0;34m()\u001b[0m\n\u001b[1;32m      1\u001b[0m \u001b[0mxlim\u001b[0m \u001b[0;34m=\u001b[0m  \u001b[0;36m15\u001b[0m\u001b[0;34m,\u001b[0m  \u001b[0;36m25\u001b[0m\u001b[0;34m\u001b[0m\u001b[0m\n\u001b[1;32m      2\u001b[0m \u001b[0mylim\u001b[0m \u001b[0;34m=\u001b[0m \u001b[0;34m-\u001b[0m\u001b[0;36m25\u001b[0m\u001b[0;34m,\u001b[0m \u001b[0;34m-\u001b[0m\u001b[0;36m15\u001b[0m\u001b[0;34m\u001b[0m\u001b[0m\n\u001b[0;32m----> 3\u001b[0;31m \u001b[0msel\u001b[0m  \u001b[0;34m=\u001b[0m \u001b[0min_range\u001b[0m\u001b[0;34m(\u001b[0m\u001b[0mX\u001b[0m\u001b[0;34m,\u001b[0m \u001b[0;34m*\u001b[0m\u001b[0mxlim\u001b[0m\u001b[0;34m)\u001b[0m \u001b[0;34m&\u001b[0m \u001b[0min_range\u001b[0m\u001b[0;34m(\u001b[0m\u001b[0mY\u001b[0m\u001b[0;34m,\u001b[0m \u001b[0;34m*\u001b[0m\u001b[0mylim\u001b[0m\u001b[0;34m)\u001b[0m\u001b[0;34m\u001b[0m\u001b[0m\n\u001b[0m\u001b[1;32m      4\u001b[0m \u001b[0mz\u001b[0m\u001b[0;34m,\u001b[0m \u001b[0mq\u001b[0m \u001b[0;34m=\u001b[0m \u001b[0mZ\u001b[0m\u001b[0;34m[\u001b[0m\u001b[0msel\u001b[0m\u001b[0;34m]\u001b[0m\u001b[0;34m,\u001b[0m \u001b[0mQ\u001b[0m\u001b[0;34m[\u001b[0m\u001b[0msel\u001b[0m\u001b[0;34m]\u001b[0m\u001b[0;34m\u001b[0m\u001b[0m\n\u001b[1;32m      5\u001b[0m \u001b[0;34m\u001b[0m\u001b[0m\n",
      "\u001b[0;31mNameError\u001b[0m: name 'X' is not defined"
     ]
    }
   ],
   "source": [
    "xlim =  15,  25\n",
    "ylim = -25, -15\n",
    "sel  = in_range(X, *xlim) & in_range(Y, *ylim)\n",
    "z, q = Z[sel], Q[sel]\n",
    "\n",
    "frame_data = plt.gcf().add_axes((.1, .3,\n",
    "                                 .8, .6))\n",
    "plt.hist2d(z, q, (Zbins, Qbins))\n",
    "\n",
    "x, y, yu = fitf.profileX(z, q, Znbins, Zrange)\n",
    "plt.errorbar(x, y, yu, np.diff(x)[0]/2, fmt=\"kp\", ms=7, lw=3)\n",
    "\n",
    "seed = expo_seed(x, y)\n",
    "f    = fitf.fit(fitf.expo, x, y, seed, sigma=yu)\n",
    "plt.plot(x, f.fn(x), \"r-\", lw=4)\n",
    "\n",
    "frame_data.set_xticklabels([])\n",
    "labels(\"\", \"Energy (pes)\", \"Lifetime fit example\")\n",
    "lims = plt.xlim()\n",
    "\n",
    "frame_res = plt.gcf().add_axes((.1, .1,\n",
    "                                .8, .2))\n",
    "plt.errorbar(x, (f.fn(x) - y) / yu, 1, np.diff(x)[0] / 2, fmt=\"p\", c=\"k\")\n",
    "plt.plot(lims, (0, 0), \"g--\")\n",
    "plt.xlim(*lims)\n",
    "plt.ylim(-5, +5)\n",
    "labels(\"Drift time (µs)\", \"Standarized residual\")\n",
    "\n",
    "save(\"LifetimeQ_fit_example\")"
   ]
  },
  {
   "cell_type": "markdown",
   "metadata": {},
   "source": [
    "### Compute lifetime maps"
   ]
  },
  {
   "cell_type": "code",
   "execution_count": 11,
   "metadata": {
    "scrolled": true
   },
   "outputs": [
    {
     "ename": "NameError",
     "evalue": "name 'X' is not defined",
     "output_type": "error",
     "traceback": [
      "\u001b[0;31m---------------------------------------------------------------------------\u001b[0m",
      "\u001b[0;31mNameError\u001b[0m                                 Traceback (most recent call last)",
      "\u001b[0;32m<ipython-input-11-c476e8613487>\u001b[0m in \u001b[0;36m<module>\u001b[0;34m()\u001b[0m\n\u001b[0;32m----> 1\u001b[0;31m \u001b[0mEscale\u001b[0m\u001b[0;34m,\u001b[0m \u001b[0mELT\u001b[0m\u001b[0;34m,\u001b[0m\u001b[0mEchi2\u001b[0m\u001b[0;34m,\u001b[0m \u001b[0mEok\u001b[0m \u001b[0;34m=\u001b[0m \u001b[0mfit_slices_2d_expo\u001b[0m\u001b[0;34m(\u001b[0m\u001b[0mX\u001b[0m\u001b[0;34m,\u001b[0m \u001b[0mY\u001b[0m\u001b[0;34m,\u001b[0m \u001b[0mZ\u001b[0m\u001b[0;34m,\u001b[0m \u001b[0mE\u001b[0m\u001b[0;34m,\u001b[0m \u001b[0mXYbins\u001b[0m\u001b[0;34m,\u001b[0m \u001b[0mXYbins\u001b[0m\u001b[0;34m,\u001b[0m \u001b[0mZnbins\u001b[0m\u001b[0;34m,\u001b[0m \u001b[0mzrange\u001b[0m\u001b[0;34m=\u001b[0m\u001b[0mZrange\u001b[0m\u001b[0;34m,\u001b[0m \u001b[0mmin_entries\u001b[0m\u001b[0;34m=\u001b[0m\u001b[0;36m50\u001b[0m\u001b[0;34m)\u001b[0m\u001b[0;34m\u001b[0m\u001b[0m\n\u001b[0m\u001b[1;32m      2\u001b[0m \u001b[0mEok\u001b[0m        \u001b[0;34m=\u001b[0m \u001b[0mEok\u001b[0m \u001b[0;34m&\u001b[0m \u001b[0;34m(\u001b[0m\u001b[0mELT\u001b[0m\u001b[0;34m.\u001b[0m\u001b[0mvalue\u001b[0m \u001b[0;34m<\u001b[0m \u001b[0;34m-\u001b[0m\u001b[0;36m100\u001b[0m\u001b[0;34m)\u001b[0m \u001b[0;34m&\u001b[0m \u001b[0;34m(\u001b[0m\u001b[0mELT\u001b[0m\u001b[0;34m.\u001b[0m\u001b[0mvalue\u001b[0m \u001b[0;34m>\u001b[0m \u001b[0;34m-\u001b[0m\u001b[0;36m1e5\u001b[0m\u001b[0;34m)\u001b[0m \u001b[0;34m&\u001b[0m \u001b[0mnp\u001b[0m\u001b[0;34m.\u001b[0m\u001b[0misfinite\u001b[0m\u001b[0;34m(\u001b[0m\u001b[0mEchi2\u001b[0m\u001b[0;34m)\u001b[0m\u001b[0;34m\u001b[0m\u001b[0m\n\u001b[1;32m      3\u001b[0m \u001b[0mEscale_rel\u001b[0m \u001b[0;34m=\u001b[0m \u001b[0mto_relative\u001b[0m\u001b[0;34m(\u001b[0m\u001b[0mEscale\u001b[0m\u001b[0;34m,\u001b[0m \u001b[0mpercentual\u001b[0m\u001b[0;34m=\u001b[0m\u001b[0;32mTrue\u001b[0m\u001b[0;34m)\u001b[0m\u001b[0;34m\u001b[0m\u001b[0m\n\u001b[1;32m      4\u001b[0m \u001b[0mELT_rel\u001b[0m    \u001b[0;34m=\u001b[0m \u001b[0mto_relative\u001b[0m\u001b[0;34m(\u001b[0m   \u001b[0mELT\u001b[0m\u001b[0;34m,\u001b[0m \u001b[0mpercentual\u001b[0m\u001b[0;34m=\u001b[0m\u001b[0;32mTrue\u001b[0m\u001b[0;34m)\u001b[0m\u001b[0;34m\u001b[0m\u001b[0m\n",
      "\u001b[0;31mNameError\u001b[0m: name 'X' is not defined"
     ]
    }
   ],
   "source": [
    "Escale, ELT,\\\n",
    "Echi2, Eok = fit_slices_2d_expo(X, Y, Z, E, XYbins, XYbins, Znbins, zrange=Zrange, min_entries=50)\n",
    "Eok        = Eok & (ELT.value < -100) & (ELT.value > -1e5) & np.isfinite(Echi2)\n",
    "Escale_rel = to_relative(Escale, percentual=True)\n",
    "ELT_rel    = to_relative(   ELT, percentual=True)"
   ]
  },
  {
   "cell_type": "code",
   "execution_count": 12,
   "metadata": {
    "scrolled": true
   },
   "outputs": [
    {
     "ename": "NameError",
     "evalue": "name 'X' is not defined",
     "output_type": "error",
     "traceback": [
      "\u001b[0;31m---------------------------------------------------------------------------\u001b[0m",
      "\u001b[0;31mNameError\u001b[0m                                 Traceback (most recent call last)",
      "\u001b[0;32m<ipython-input-12-3dc57788439c>\u001b[0m in \u001b[0;36m<module>\u001b[0;34m()\u001b[0m\n\u001b[0;32m----> 1\u001b[0;31m \u001b[0mQscale\u001b[0m\u001b[0;34m,\u001b[0m \u001b[0mQLT\u001b[0m\u001b[0;34m,\u001b[0m\u001b[0mQchi2\u001b[0m\u001b[0;34m,\u001b[0m \u001b[0mQok\u001b[0m \u001b[0;34m=\u001b[0m \u001b[0mfit_slices_2d_expo\u001b[0m\u001b[0;34m(\u001b[0m\u001b[0mX\u001b[0m\u001b[0;34m,\u001b[0m \u001b[0mY\u001b[0m\u001b[0;34m,\u001b[0m \u001b[0mZ\u001b[0m\u001b[0;34m,\u001b[0m \u001b[0mQ\u001b[0m\u001b[0;34m,\u001b[0m \u001b[0mXYbins\u001b[0m\u001b[0;34m,\u001b[0m \u001b[0mXYbins\u001b[0m\u001b[0;34m,\u001b[0m \u001b[0mZnbins\u001b[0m\u001b[0;34m,\u001b[0m \u001b[0mzrange\u001b[0m\u001b[0;34m=\u001b[0m\u001b[0mZrange\u001b[0m\u001b[0;34m,\u001b[0m \u001b[0mmin_entries\u001b[0m\u001b[0;34m=\u001b[0m\u001b[0;36m50\u001b[0m\u001b[0;34m)\u001b[0m\u001b[0;34m\u001b[0m\u001b[0m\n\u001b[0m\u001b[1;32m      2\u001b[0m \u001b[0mQok\u001b[0m        \u001b[0;34m=\u001b[0m \u001b[0mQok\u001b[0m \u001b[0;34m&\u001b[0m \u001b[0;34m(\u001b[0m\u001b[0mQLT\u001b[0m\u001b[0;34m.\u001b[0m\u001b[0mvalue\u001b[0m \u001b[0;34m<\u001b[0m \u001b[0;34m-\u001b[0m\u001b[0;36m100\u001b[0m\u001b[0;34m)\u001b[0m \u001b[0;34m&\u001b[0m \u001b[0;34m(\u001b[0m\u001b[0mQLT\u001b[0m\u001b[0;34m.\u001b[0m\u001b[0mvalue\u001b[0m \u001b[0;34m>\u001b[0m \u001b[0;34m-\u001b[0m\u001b[0;36m1e5\u001b[0m\u001b[0;34m)\u001b[0m \u001b[0;34m&\u001b[0m \u001b[0mnp\u001b[0m\u001b[0;34m.\u001b[0m\u001b[0misfinite\u001b[0m\u001b[0;34m(\u001b[0m\u001b[0mQchi2\u001b[0m\u001b[0;34m)\u001b[0m\u001b[0;34m\u001b[0m\u001b[0m\n\u001b[1;32m      3\u001b[0m \u001b[0mQscale_rel\u001b[0m \u001b[0;34m=\u001b[0m \u001b[0mto_relative\u001b[0m\u001b[0;34m(\u001b[0m\u001b[0mQscale\u001b[0m\u001b[0;34m,\u001b[0m \u001b[0mpercentual\u001b[0m\u001b[0;34m=\u001b[0m\u001b[0;32mTrue\u001b[0m\u001b[0;34m)\u001b[0m\u001b[0;34m\u001b[0m\u001b[0m\n\u001b[1;32m      4\u001b[0m \u001b[0mQLT_rel\u001b[0m    \u001b[0;34m=\u001b[0m \u001b[0mto_relative\u001b[0m\u001b[0;34m(\u001b[0m   \u001b[0mQLT\u001b[0m\u001b[0;34m,\u001b[0m \u001b[0mpercentual\u001b[0m\u001b[0;34m=\u001b[0m\u001b[0;32mTrue\u001b[0m\u001b[0;34m)\u001b[0m\u001b[0;34m\u001b[0m\u001b[0m\n",
      "\u001b[0;31mNameError\u001b[0m: name 'X' is not defined"
     ]
    }
   ],
   "source": [
    "Qscale, QLT,\\\n",
    "Qchi2, Qok = fit_slices_2d_expo(X, Y, Z, Q, XYbins, XYbins, Znbins, zrange=Zrange, min_entries=50)\n",
    "Qok        = Qok & (QLT.value < -100) & (QLT.value > -1e5) & np.isfinite(Qchi2)\n",
    "Qscale_rel = to_relative(Qscale, percentual=True)\n",
    "QLT_rel    = to_relative(   QLT, percentual=True)"
   ]
  },
  {
   "cell_type": "code",
   "execution_count": 13,
   "metadata": {
    "scrolled": true
   },
   "outputs": [
    {
     "ename": "NameError",
     "evalue": "name 'ELT' is not defined",
     "output_type": "error",
     "traceback": [
      "\u001b[0;31m---------------------------------------------------------------------------\u001b[0m",
      "\u001b[0;31mNameError\u001b[0m                                 Traceback (most recent call last)",
      "\u001b[0;32m<ipython-input-13-0ad0a5e21187>\u001b[0m in \u001b[0;36m<module>\u001b[0;34m()\u001b[0m\n\u001b[0;32m----> 1\u001b[0;31m \u001b[0mELT_min\u001b[0m  \u001b[0;34m=\u001b[0m \u001b[0mnp\u001b[0m\u001b[0;34m.\u001b[0m\u001b[0mnanpercentile\u001b[0m\u001b[0;34m(\u001b[0m\u001b[0;34m-\u001b[0m\u001b[0mELT\u001b[0m    \u001b[0;34m.\u001b[0m\u001b[0mvalue\u001b[0m      \u001b[0;34m[\u001b[0m\u001b[0mEok\u001b[0m\u001b[0;34m]\u001b[0m\u001b[0;34m,\u001b[0m  \u001b[0;36m0.0\u001b[0m\u001b[0;34m)\u001b[0m\u001b[0;34m\u001b[0m\u001b[0m\n\u001b[0m\u001b[1;32m      2\u001b[0m \u001b[0mELT_max\u001b[0m  \u001b[0;34m=\u001b[0m \u001b[0mnp\u001b[0m\u001b[0;34m.\u001b[0m\u001b[0mnanpercentile\u001b[0m\u001b[0;34m(\u001b[0m\u001b[0;34m-\u001b[0m\u001b[0mELT\u001b[0m    \u001b[0;34m.\u001b[0m\u001b[0mvalue\u001b[0m      \u001b[0;34m[\u001b[0m\u001b[0mEok\u001b[0m\u001b[0;34m]\u001b[0m\u001b[0;34m,\u001b[0m \u001b[0;36m99.0\u001b[0m\u001b[0;34m)\u001b[0m\u001b[0;34m\u001b[0m\u001b[0m\n\u001b[1;32m      3\u001b[0m \u001b[0mELTu_min\u001b[0m \u001b[0;34m=\u001b[0m \u001b[0mnp\u001b[0m\u001b[0;34m.\u001b[0m\u001b[0mnanpercentile\u001b[0m\u001b[0;34m(\u001b[0m \u001b[0mELT_rel\u001b[0m\u001b[0;34m.\u001b[0m\u001b[0muncertainty\u001b[0m\u001b[0;34m[\u001b[0m\u001b[0mEok\u001b[0m\u001b[0;34m]\u001b[0m\u001b[0;34m,\u001b[0m  \u001b[0;36m0.1\u001b[0m\u001b[0;34m)\u001b[0m\u001b[0;34m\u001b[0m\u001b[0m\n\u001b[1;32m      4\u001b[0m \u001b[0mELTu_max\u001b[0m \u001b[0;34m=\u001b[0m \u001b[0mnp\u001b[0m\u001b[0;34m.\u001b[0m\u001b[0mnanpercentile\u001b[0m\u001b[0;34m(\u001b[0m \u001b[0mELT_rel\u001b[0m\u001b[0;34m.\u001b[0m\u001b[0muncertainty\u001b[0m\u001b[0;34m[\u001b[0m\u001b[0mEok\u001b[0m\u001b[0;34m]\u001b[0m\u001b[0;34m,\u001b[0m \u001b[0;36m90.0\u001b[0m\u001b[0;34m)\u001b[0m\u001b[0;34m\u001b[0m\u001b[0m\n\u001b[1;32m      5\u001b[0m \u001b[0;34m\u001b[0m\u001b[0m\n",
      "\u001b[0;31mNameError\u001b[0m: name 'ELT' is not defined"
     ]
    }
   ],
   "source": [
    "ELT_min  = np.nanpercentile(-ELT    .value      [Eok],  0.0)\n",
    "ELT_max  = np.nanpercentile(-ELT    .value      [Eok], 99.0)\n",
    "ELTu_min = np.nanpercentile( ELT_rel.uncertainty[Eok],  0.1)\n",
    "ELTu_max = np.nanpercentile( ELT_rel.uncertainty[Eok], 90.0)\n",
    "\n",
    "E_min    = np.nanpercentile(Escale    .value      [Eok],  0.1)\n",
    "E_max    = np.nanpercentile(Escale    .value      [Eok], 99.9)\n",
    "Eu_min   = np.nanpercentile(Escale_rel.uncertainty[Eok],  0.1)\n",
    "Eu_max   = np.nanpercentile(Escale_rel.uncertainty[Eok], 85.0)\n",
    "\n",
    "QLT_min  = np.nanpercentile(-QLT    .value      [Qok],  0.0)\n",
    "QLT_max  = np.nanpercentile(-QLT    .value      [Qok], 99.5)\n",
    "QLTu_min = np.nanpercentile( QLT_rel.uncertainty[Qok],  0.1)\n",
    "QLTu_max = np.nanpercentile( QLT_rel.uncertainty[Qok], 95.0)\n",
    "\n",
    "Q_min    = np.nanpercentile(Qscale    .value      [Qok],  0.1)\n",
    "Q_max    = np.nanpercentile(Qscale    .value      [Qok], 99.9)\n",
    "Qu_min   = np.nanpercentile(Qscale_rel.uncertainty[Qok],  0.1)\n",
    "Qu_max   = np.nanpercentile(Qscale_rel.uncertainty[Qok], 90.0)\n",
    "\n",
    "print(ELT_min, ELT_max, ELTu_min, ELTu_max)\n",
    "print(E_min  , E_max  , Eu_min  , Eu_max)\n",
    "print(QLT_min, QLT_max, QLTu_min, QLTu_max)\n",
    "print(Q_min  , Q_max  , Qu_min  , Qu_max)"
   ]
  },
  {
   "cell_type": "markdown",
   "metadata": {},
   "source": [
    "### Map display"
   ]
  },
  {
   "cell_type": "code",
   "execution_count": 14,
   "metadata": {
    "scrolled": true
   },
   "outputs": [
    {
     "ename": "NameError",
     "evalue": "name 'E_min' is not defined",
     "output_type": "error",
     "traceback": [
      "\u001b[0;31m---------------------------------------------------------------------------\u001b[0m",
      "\u001b[0;31mNameError\u001b[0m                                 Traceback (most recent call last)",
      "\u001b[0;32m<ipython-input-14-cf209ead74c0>\u001b[0m in \u001b[0;36m<module>\u001b[0;34m()\u001b[0m\n\u001b[1;32m      1\u001b[0m \u001b[0mplt\u001b[0m\u001b[0;34m.\u001b[0m\u001b[0msubplot\u001b[0m\u001b[0;34m(\u001b[0m\u001b[0;36m2\u001b[0m\u001b[0;34m,\u001b[0m \u001b[0;36m2\u001b[0m\u001b[0;34m,\u001b[0m \u001b[0;36m1\u001b[0m\u001b[0;34m)\u001b[0m\u001b[0;34m\u001b[0m\u001b[0m\n\u001b[0;32m----> 2\u001b[0;31m \u001b[0mbins\u001b[0m    \u001b[0;34m=\u001b[0m \u001b[0mnp\u001b[0m\u001b[0;34m.\u001b[0m\u001b[0mlinspace\u001b[0m\u001b[0;34m(\u001b[0m\u001b[0mE_min\u001b[0m\u001b[0;34m,\u001b[0m \u001b[0mE_max\u001b[0m\u001b[0;34m,\u001b[0m \u001b[0;36m101\u001b[0m\u001b[0;34m)\u001b[0m\u001b[0;34m\u001b[0m\u001b[0m\n\u001b[0m\u001b[1;32m      3\u001b[0m \u001b[0my\u001b[0m\u001b[0;34m,\u001b[0m \u001b[0mx\u001b[0m\u001b[0;34m,\u001b[0m \u001b[0m_\u001b[0m \u001b[0;34m=\u001b[0m \u001b[0mplt\u001b[0m\u001b[0;34m.\u001b[0m\u001b[0mhist\u001b[0m\u001b[0;34m(\u001b[0m\u001b[0mEscale_rel\u001b[0m\u001b[0;34m.\u001b[0m\u001b[0mvalue\u001b[0m\u001b[0;34m[\u001b[0m\u001b[0mEok\u001b[0m\u001b[0;34m]\u001b[0m\u001b[0;34m,\u001b[0m \u001b[0mbins\u001b[0m\u001b[0;34m)\u001b[0m\u001b[0;34m\u001b[0m\u001b[0m\n\u001b[1;32m      4\u001b[0m \u001b[0me_mean\u001b[0m\u001b[0;34m,\u001b[0m \u001b[0me_std\u001b[0m \u001b[0;34m=\u001b[0m \u001b[0mweighted_mean_and_std\u001b[0m\u001b[0;34m(\u001b[0m\u001b[0mshift_to_bin_centers\u001b[0m\u001b[0;34m(\u001b[0m\u001b[0mx\u001b[0m\u001b[0;34m)\u001b[0m\u001b[0;34m,\u001b[0m \u001b[0my\u001b[0m\u001b[0;34m)\u001b[0m\u001b[0;34m\u001b[0m\u001b[0m\n\u001b[1;32m      5\u001b[0m \u001b[0mlabels\u001b[0m\u001b[0;34m(\u001b[0m\u001b[0;34m\"Energy at z=0 (pes)\"\u001b[0m\u001b[0;34m,\u001b[0m \u001b[0;34m\"Entries\"\u001b[0m\u001b[0;34m,\u001b[0m \u001b[0;34m\"Energy scale distribution\"\u001b[0m\u001b[0;34m)\u001b[0m\u001b[0;34m\u001b[0m\u001b[0m\n",
      "\u001b[0;31mNameError\u001b[0m: name 'E_min' is not defined"
     ]
    },
    {
     "data": {
      "image/png": "[encoded data removed]",
      "text/plain": [
       "<matplotlib.figure.Figure at 0x11b2bf048>"
      ]
     },
     "metadata": {},
     "output_type": "display_data"
    }
   ],
   "source": [
    "plt.subplot(2, 2, 1)\n",
    "bins    = np.linspace(E_min, E_max, 101)\n",
    "y, x, _ = plt.hist(Escale_rel.value[Eok], bins)\n",
    "e_mean, e_std = weighted_mean_and_std(shift_to_bin_centers(x), y)\n",
    "labels(\"Energy at z=0 (pes)\", \"Entries\", \"Energy scale distribution\")\n",
    "\n",
    "plt.subplot(2, 2, 2)\n",
    "bins    = np.linspace(Eu_min, Eu_max, 101)\n",
    "y, x, _ = plt.hist(Escale_rel.uncertainty[Eok], bins)\n",
    "eu_mean, eu_std = weighted_mean_and_std(shift_to_bin_centers(x), y)\n",
    "labels(\"Energy at z=0 uncertainty(%)\", \"Entries\", \"Energy scale uncertainty distribution\")\n",
    "\n",
    "plt.subplot(2, 2, 3)\n",
    "bins    = np.linspace(ELT_min, ELT_max, 101)\n",
    "y, x, _ = plt.hist(-ELT_rel.value[Eok], bins)\n",
    "elt_mean, elt_std = weighted_mean_and_std(shift_to_bin_centers(x), y)\n",
    "labels(\"Lifetime (µs)\", \"Entries\", \"Lifetime distribution\")\n",
    "\n",
    "plt.subplot(2, 2, 4)\n",
    "bins    = np.linspace(ELTu_min, ELTu_max, 101)\n",
    "y, x, _ = plt.hist(ELT_rel.uncertainty[Eok], bins)\n",
    "eltu_mean, eltu_std = weighted_mean_and_std(shift_to_bin_centers(x), y)\n",
    "labels(\"Lifetime uncertainty (%)\", \"Entries\", \"Lifetime uncertainty distribution\")\n",
    "\n",
    "plt.tight_layout()\n",
    "\n",
    "save(\"Lifetime_and_energy_scale_distributions\")\n",
    "\n",
    "print(\"Average lifetime             (mean +- rms) = ({}) µs\" .format(measurement_string( elt_mean,  elt_std)))\n",
    "print(\"Average lifetime uncertainty (mean +- rms) = ({}) (%)\".format(measurement_string(eltu_mean, eltu_std)))"
   ]
  },
  {
   "cell_type": "code",
   "execution_count": 15,
   "metadata": {
    "scrolled": true
   },
   "outputs": [
    {
     "ename": "NameError",
     "evalue": "name 'Q_min' is not defined",
     "output_type": "error",
     "traceback": [
      "\u001b[0;31m---------------------------------------------------------------------------\u001b[0m",
      "\u001b[0;31mNameError\u001b[0m                                 Traceback (most recent call last)",
      "\u001b[0;32m<ipython-input-15-866e36f7a8cc>\u001b[0m in \u001b[0;36m<module>\u001b[0;34m()\u001b[0m\n\u001b[1;32m      1\u001b[0m \u001b[0mplt\u001b[0m\u001b[0;34m.\u001b[0m\u001b[0msubplot\u001b[0m\u001b[0;34m(\u001b[0m\u001b[0;36m2\u001b[0m\u001b[0;34m,\u001b[0m \u001b[0;36m2\u001b[0m\u001b[0;34m,\u001b[0m \u001b[0;36m1\u001b[0m\u001b[0;34m)\u001b[0m\u001b[0;34m\u001b[0m\u001b[0m\n\u001b[0;32m----> 2\u001b[0;31m \u001b[0mbins\u001b[0m    \u001b[0;34m=\u001b[0m \u001b[0mnp\u001b[0m\u001b[0;34m.\u001b[0m\u001b[0mlinspace\u001b[0m\u001b[0;34m(\u001b[0m\u001b[0mQ_min\u001b[0m\u001b[0;34m,\u001b[0m \u001b[0mQ_max\u001b[0m\u001b[0;34m,\u001b[0m \u001b[0;36m101\u001b[0m\u001b[0;34m)\u001b[0m\u001b[0;34m\u001b[0m\u001b[0m\n\u001b[0m\u001b[1;32m      3\u001b[0m \u001b[0my\u001b[0m\u001b[0;34m,\u001b[0m \u001b[0mx\u001b[0m\u001b[0;34m,\u001b[0m \u001b[0m_\u001b[0m \u001b[0;34m=\u001b[0m \u001b[0mplt\u001b[0m\u001b[0;34m.\u001b[0m\u001b[0mhist\u001b[0m\u001b[0;34m(\u001b[0m\u001b[0mQscale_rel\u001b[0m\u001b[0;34m.\u001b[0m\u001b[0mvalue\u001b[0m\u001b[0;34m[\u001b[0m\u001b[0mQok\u001b[0m\u001b[0;34m]\u001b[0m\u001b[0;34m,\u001b[0m \u001b[0mbins\u001b[0m\u001b[0;34m)\u001b[0m\u001b[0;34m\u001b[0m\u001b[0m\n\u001b[1;32m      4\u001b[0m \u001b[0mq_mean\u001b[0m\u001b[0;34m,\u001b[0m \u001b[0mq_std\u001b[0m \u001b[0;34m=\u001b[0m \u001b[0mweighted_mean_and_std\u001b[0m\u001b[0;34m(\u001b[0m\u001b[0mshift_to_bin_centers\u001b[0m\u001b[0;34m(\u001b[0m\u001b[0mx\u001b[0m\u001b[0;34m)\u001b[0m\u001b[0;34m,\u001b[0m \u001b[0my\u001b[0m\u001b[0;34m)\u001b[0m\u001b[0;34m\u001b[0m\u001b[0m\n\u001b[1;32m      5\u001b[0m \u001b[0mlabels\u001b[0m\u001b[0;34m(\u001b[0m\u001b[0;34m\"Charge at z=0 (pes)\"\u001b[0m\u001b[0;34m,\u001b[0m \u001b[0;34m\"Entries\"\u001b[0m\u001b[0;34m,\u001b[0m \u001b[0;34m\"Charge scale distribution\"\u001b[0m\u001b[0;34m)\u001b[0m\u001b[0;34m\u001b[0m\u001b[0m\n",
      "\u001b[0;31mNameError\u001b[0m: name 'Q_min' is not defined"
     ]
    },
    {
     "data": {
      "image/png": "[encoded data removed]",
      "text/plain": [
       "<matplotlib.figure.Figure at 0x11dd3d6a0>"
      ]
     },
     "metadata": {},
     "output_type": "display_data"
    }
   ],
   "source": [
    "plt.subplot(2, 2, 1)\n",
    "bins    = np.linspace(Q_min, Q_max, 101)\n",
    "y, x, _ = plt.hist(Qscale_rel.value[Qok], bins)\n",
    "q_mean, q_std = weighted_mean_and_std(shift_to_bin_centers(x), y)\n",
    "labels(\"Charge at z=0 (pes)\", \"Entries\", \"Charge scale distribution\")\n",
    "\n",
    "plt.subplot(2, 2, 2)\n",
    "bins    = np.linspace(Qu_min, Qu_max, 101)\n",
    "y, x, _ = plt.hist(Qscale_rel.uncertainty[Qok], bins)\n",
    "qu_mean, qu_std = weighted_mean_and_std(shift_to_bin_centers(x), y)\n",
    "labels(\"Charge at z=0 uncertainty(%)\", \"Entries\", \"Charge scale uncertainty distribution\")\n",
    "\n",
    "plt.subplot(2, 2, 3)\n",
    "bins    = np.linspace(QLT_min, QLT_max, 101)\n",
    "y, x, _ = plt.hist(-QLT_rel.value[Qok], bins)\n",
    "qlt_mean, qlt_std = weighted_mean_and_std(shift_to_bin_centers(x), y)\n",
    "labels(\"Charge lifetime (µs)\", \"Entries\", \"Charge lifetime distribution\")\n",
    "\n",
    "plt.subplot(2, 2, 4)\n",
    "bins    = np.linspace(QLTu_min, QLTu_max, 101)\n",
    "y, x, _ = plt.hist(QLT_rel.uncertainty[Qok], bins)\n",
    "qltu_mean, qltu_std = weighted_mean_and_std(shift_to_bin_centers(x), y)\n",
    "labels(\"Charge lifetime uncertainty (%)\", \"Entries\", \"Charge lifetime uncertainty distribution\")\n",
    "\n",
    "plt.tight_layout()\n",
    "\n",
    "save(\"Lifetime_and_charge_scale_distributions\")\n",
    "\n",
    "print(\"Average lifetime             (mean +- rms) = ({}) µs\" .format(measurement_string( qlt_mean,  qlt_std)))\n",
    "print(\"Average lifetime uncertainty (mean +- rms) = ({}) (%)\".format(measurement_string(qltu_mean, qltu_std)))"
   ]
  },
  {
   "cell_type": "code",
   "execution_count": 16,
   "metadata": {
    "scrolled": true
   },
   "outputs": [
    {
     "ename": "NameError",
     "evalue": "name 'Escale_rel' is not defined",
     "output_type": "error",
     "traceback": [
      "\u001b[0;31m---------------------------------------------------------------------------\u001b[0m",
      "\u001b[0;31mNameError\u001b[0m                                 Traceback (most recent call last)",
      "\u001b[0;32m<ipython-input-16-a406d1a5daf0>\u001b[0m in \u001b[0;36m<module>\u001b[0;34m()\u001b[0m\n\u001b[1;32m      1\u001b[0m \u001b[0mplt\u001b[0m\u001b[0;34m.\u001b[0m\u001b[0msubplot\u001b[0m\u001b[0;34m(\u001b[0m\u001b[0;36m2\u001b[0m\u001b[0;34m,\u001b[0m \u001b[0;36m2\u001b[0m\u001b[0;34m,\u001b[0m \u001b[0;36m1\u001b[0m\u001b[0;34m)\u001b[0m\u001b[0;34m\u001b[0m\u001b[0m\n\u001b[0;32m----> 2\u001b[0;31m *_, cb = display_matrix(XYcenters, XYcenters, Escale_rel.value,\n\u001b[0m\u001b[1;32m      3\u001b[0m                         \u001b[0mcmin\u001b[0m \u001b[0;34m=\u001b[0m \u001b[0mE_min\u001b[0m\u001b[0;34m,\u001b[0m\u001b[0;34m\u001b[0m\u001b[0m\n\u001b[1;32m      4\u001b[0m                         \u001b[0mcmax\u001b[0m \u001b[0;34m=\u001b[0m \u001b[0mE_max\u001b[0m\u001b[0;34m,\u001b[0m\u001b[0;34m\u001b[0m\u001b[0m\n\u001b[1;32m      5\u001b[0m                         \u001b[0mcmap\u001b[0m \u001b[0;34m=\u001b[0m \u001b[0mdefault_cmap\u001b[0m\u001b[0;34m,\u001b[0m\u001b[0;34m\u001b[0m\u001b[0m\n",
      "\u001b[0;31mNameError\u001b[0m: name 'Escale_rel' is not defined"
     ]
    },
    {
     "data": {
      "image/png": "[encoded data removed]",
      "text/plain": [
       "<matplotlib.figure.Figure at 0x11de54a90>"
      ]
     },
     "metadata": {},
     "output_type": "display_data"
    }
   ],
   "source": [
    "plt.subplot(2, 2, 1)\n",
    "*_, cb = display_matrix(XYcenters, XYcenters, Escale_rel.value,\n",
    "                        cmin = E_min,\n",
    "                        cmax = E_max,\n",
    "                        cmap = default_cmap,\n",
    "                        new_figure = False);\n",
    "cb.set_label(\"Energy scale at z=0 (pes)\")\n",
    "labels(\"X (mm)\", \"Y (mm)\", \"Energy scale\")\n",
    "\n",
    "plt.subplot(2, 2, 2)\n",
    "*_, cb = display_matrix(XYcenters, XYcenters, Escale_rel.uncertainty,\n",
    "                        cmin = Eu_min,\n",
    "                        cmax = Eu_max,\n",
    "                        cmap = default_cmap,\n",
    "                        new_figure = False);\n",
    "cb.set_label(\"Relative energy scale uncertainty (%)\")\n",
    "labels(\"X (mm)\", \"Y (mm)\", \"Relative energy scale uncertainty\")\n",
    "\n",
    "plt.subplot(2, 2, 3)\n",
    "*_, cb = display_matrix(XYcenters, XYcenters, -ELT_rel.value,\n",
    "                        cmin = ELT_min,\n",
    "                        cmax = ELT_max,\n",
    "                        cmap = default_cmap,\n",
    "                        new_figure = False);\n",
    "cb.set_label(\"Lifetime (µs)\")\n",
    "labels(\"X (mm)\", \"Y (mm)\", \"Lifetime\")\n",
    "\n",
    "plt.subplot(2, 2, 4)\n",
    "*_, cb = display_matrix(XYcenters, XYcenters, ELT_rel.uncertainty,\n",
    "                        cmin = ELTu_min,\n",
    "                        cmax = ELTu_max,\n",
    "                        cmap = default_cmap,\n",
    "                        new_figure = False);\n",
    "cb.set_label(\"Relative lifetime uncertainty (%)\")\n",
    "labels(\"X (mm)\", \"Y (mm)\", \"Relative lifetime uncertainty\")\n",
    "\n",
    "plt.tight_layout()\n",
    "save(\"Lifetime_and_energy_scale_maps\")"
   ]
  },
  {
   "cell_type": "code",
   "execution_count": 17,
   "metadata": {
    "scrolled": true
   },
   "outputs": [
    {
     "ename": "NameError",
     "evalue": "name 'Qscale_rel' is not defined",
     "output_type": "error",
     "traceback": [
      "\u001b[0;31m---------------------------------------------------------------------------\u001b[0m",
      "\u001b[0;31mNameError\u001b[0m                                 Traceback (most recent call last)",
      "\u001b[0;32m<ipython-input-17-19cecc49c7a4>\u001b[0m in \u001b[0;36m<module>\u001b[0;34m()\u001b[0m\n\u001b[1;32m      1\u001b[0m \u001b[0mplt\u001b[0m\u001b[0;34m.\u001b[0m\u001b[0msubplot\u001b[0m\u001b[0;34m(\u001b[0m\u001b[0;36m2\u001b[0m\u001b[0;34m,\u001b[0m \u001b[0;36m2\u001b[0m\u001b[0;34m,\u001b[0m \u001b[0;36m1\u001b[0m\u001b[0;34m)\u001b[0m\u001b[0;34m\u001b[0m\u001b[0m\n\u001b[0;32m----> 2\u001b[0;31m *_, cb = display_matrix(XYcenters, XYcenters, Qscale_rel.value,\n\u001b[0m\u001b[1;32m      3\u001b[0m                         \u001b[0mcmin\u001b[0m \u001b[0;34m=\u001b[0m \u001b[0mQ_min\u001b[0m\u001b[0;34m,\u001b[0m\u001b[0;34m\u001b[0m\u001b[0m\n\u001b[1;32m      4\u001b[0m                         \u001b[0mcmax\u001b[0m \u001b[0;34m=\u001b[0m \u001b[0mQ_max\u001b[0m\u001b[0;34m,\u001b[0m\u001b[0;34m\u001b[0m\u001b[0m\n\u001b[1;32m      5\u001b[0m                         \u001b[0mcmap\u001b[0m \u001b[0;34m=\u001b[0m \u001b[0mdefault_cmap\u001b[0m\u001b[0;34m,\u001b[0m\u001b[0;34m\u001b[0m\u001b[0m\n",
      "\u001b[0;31mNameError\u001b[0m: name 'Qscale_rel' is not defined"
     ]
    },
    {
     "data": {
      "image/png": "[encoded data removed]",
      "text/plain": [
       "<matplotlib.figure.Figure at 0x11df92358>"
      ]
     },
     "metadata": {},
     "output_type": "display_data"
    }
   ],
   "source": [
    "plt.subplot(2, 2, 1)\n",
    "*_, cb = display_matrix(XYcenters, XYcenters, Qscale_rel.value,\n",
    "                        cmin = Q_min,\n",
    "                        cmax = Q_max,\n",
    "                        cmap = default_cmap,\n",
    "                        new_figure = False);\n",
    "cb.set_label(\"Charge scale at z=0 (pes)\")\n",
    "labels(\"X (mm)\", \"Y (mm)\", \"Charge scale\")\n",
    "\n",
    "plt.subplot(2, 2, 2)\n",
    "*_, cb = display_matrix(XYcenters, XYcenters, Qscale_rel.uncertainty,\n",
    "                        cmin = Qu_min,\n",
    "                        cmax = Qu_max,\n",
    "                        cmap = default_cmap,\n",
    "                        new_figure = False);\n",
    "cb.set_label(\"Relative charge scale uncertainty (%)\")\n",
    "labels(\"X (mm)\", \"Y (mm)\", \"Relative charge scale uncertainty\")\n",
    "\n",
    "plt.subplot(2, 2, 3)\n",
    "*_, cb = display_matrix(XYcenters, XYcenters, -QLT_rel.value,\n",
    "                        cmin = QLT_min,\n",
    "                        cmax = QLT_max,\n",
    "                        cmap = default_cmap,\n",
    "                        new_figure = False);\n",
    "cb.set_label(\"Lifetime (µs)\")\n",
    "labels(\"X (mm)\", \"Y (mm)\", \"Lifetime\")\n",
    "\n",
    "plt.subplot(2, 2, 4)\n",
    "*_, cb = display_matrix(XYcenters, XYcenters, QLT_rel.uncertainty,\n",
    "                        vmin = QLTu_min,\n",
    "                        vmax = QLTu_max,\n",
    "                        cmap = default_cmap,\n",
    "                        new_figure = False);\n",
    "cb.set_label(\"Relative lifetime uncertainty (%)\")\n",
    "labels(\"X (mm)\", \"Y (mm)\", \"Relative lifetime uncertainty\")\n",
    "\n",
    "plt.tight_layout()\n",
    "save(\"Lifetime_and_charge_scale_maps\")"
   ]
  },
  {
   "cell_type": "code",
   "execution_count": 18,
   "metadata": {
    "scrolled": true
   },
   "outputs": [
    {
     "ename": "NameError",
     "evalue": "name 'Echi2' is not defined",
     "output_type": "error",
     "traceback": [
      "\u001b[0;31m---------------------------------------------------------------------------\u001b[0m",
      "\u001b[0;31mNameError\u001b[0m                                 Traceback (most recent call last)",
      "\u001b[0;32m<ipython-input-18-4db4c87f0992>\u001b[0m in \u001b[0;36m<module>\u001b[0;34m()\u001b[0m\n\u001b[0;32m----> 1\u001b[0;31m \u001b[0mEchi2_min\u001b[0m \u001b[0;34m=\u001b[0m \u001b[0mnp\u001b[0m\u001b[0;34m.\u001b[0m\u001b[0mnanpercentile\u001b[0m\u001b[0;34m(\u001b[0m\u001b[0mEchi2\u001b[0m\u001b[0;34m[\u001b[0m\u001b[0mEchi2\u001b[0m \u001b[0;34m>\u001b[0m \u001b[0;36m0\u001b[0m\u001b[0;34m]\u001b[0m\u001b[0;34m,\u001b[0m  \u001b[0;36m0.0\u001b[0m\u001b[0;34m)\u001b[0m\u001b[0;34m\u001b[0m\u001b[0m\n\u001b[0m\u001b[1;32m      2\u001b[0m \u001b[0mEchi2_max\u001b[0m \u001b[0;34m=\u001b[0m \u001b[0mnp\u001b[0m\u001b[0;34m.\u001b[0m\u001b[0mnanpercentile\u001b[0m\u001b[0;34m(\u001b[0m\u001b[0mEchi2\u001b[0m           \u001b[0;34m,\u001b[0m \u001b[0;36m99.0\u001b[0m\u001b[0;34m)\u001b[0m\u001b[0;34m\u001b[0m\u001b[0m\n\u001b[1;32m      3\u001b[0m \u001b[0;34m\u001b[0m\u001b[0m\n\u001b[1;32m      4\u001b[0m \u001b[0mQchi2_min\u001b[0m \u001b[0;34m=\u001b[0m \u001b[0mnp\u001b[0m\u001b[0;34m.\u001b[0m\u001b[0mnanpercentile\u001b[0m\u001b[0;34m(\u001b[0m\u001b[0mQchi2\u001b[0m\u001b[0;34m[\u001b[0m\u001b[0mQchi2\u001b[0m \u001b[0;34m>\u001b[0m \u001b[0;36m0\u001b[0m\u001b[0;34m]\u001b[0m\u001b[0;34m,\u001b[0m  \u001b[0;36m0.0\u001b[0m\u001b[0;34m)\u001b[0m\u001b[0;34m\u001b[0m\u001b[0m\n\u001b[1;32m      5\u001b[0m \u001b[0mQchi2_max\u001b[0m \u001b[0;34m=\u001b[0m \u001b[0mnp\u001b[0m\u001b[0;34m.\u001b[0m\u001b[0mnanpercentile\u001b[0m\u001b[0;34m(\u001b[0m\u001b[0mQchi2\u001b[0m           \u001b[0;34m,\u001b[0m \u001b[0;36m99.0\u001b[0m\u001b[0;34m)\u001b[0m\u001b[0;34m\u001b[0m\u001b[0m\n",
      "\u001b[0;31mNameError\u001b[0m: name 'Echi2' is not defined"
     ]
    }
   ],
   "source": [
    "Echi2_min = np.nanpercentile(Echi2[Echi2 > 0],  0.0)\n",
    "Echi2_max = np.nanpercentile(Echi2           , 99.0)\n",
    "\n",
    "Qchi2_min = np.nanpercentile(Qchi2[Qchi2 > 0],  0.0)\n",
    "Qchi2_max = np.nanpercentile(Qchi2           , 99.0)\n",
    "\n",
    "print(Echi2_min, Echi2_max)\n",
    "print(Qchi2_min, Qchi2_max)"
   ]
  },
  {
   "cell_type": "code",
   "execution_count": 19,
   "metadata": {
    "scrolled": true
   },
   "outputs": [
    {
     "ename": "NameError",
     "evalue": "name 'Echi2_min' is not defined",
     "output_type": "error",
     "traceback": [
      "\u001b[0;31m---------------------------------------------------------------------------\u001b[0m",
      "\u001b[0;31mNameError\u001b[0m                                 Traceback (most recent call last)",
      "\u001b[0;32m<ipython-input-19-6c978f254db2>\u001b[0m in \u001b[0;36m<module>\u001b[0;34m()\u001b[0m\n\u001b[0;32m----> 1\u001b[0;31m \u001b[0mbins\u001b[0m \u001b[0;34m=\u001b[0m \u001b[0mnp\u001b[0m\u001b[0;34m.\u001b[0m\u001b[0mlinspace\u001b[0m\u001b[0;34m(\u001b[0m\u001b[0mEchi2_min\u001b[0m\u001b[0;34m,\u001b[0m \u001b[0mEchi2_max\u001b[0m\u001b[0;34m,\u001b[0m \u001b[0;36m101\u001b[0m\u001b[0;34m)\u001b[0m\u001b[0;34m\u001b[0m\u001b[0m\n\u001b[0m\u001b[1;32m      2\u001b[0m \u001b[0mplt\u001b[0m\u001b[0;34m.\u001b[0m\u001b[0mhist\u001b[0m\u001b[0;34m(\u001b[0m\u001b[0mEchi2\u001b[0m\u001b[0;34m[\u001b[0m\u001b[0mEok\u001b[0m\u001b[0;34m]\u001b[0m\u001b[0;34m,\u001b[0m \u001b[0mbins\u001b[0m\u001b[0;34m)\u001b[0m\u001b[0;34m\u001b[0m\u001b[0m\n\u001b[1;32m      3\u001b[0m \u001b[0mlabels\u001b[0m\u001b[0;34m(\u001b[0m\u001b[0;34m\"$\\chi^2$\"\u001b[0m\u001b[0;34m,\u001b[0m \u001b[0;34m\"Entries\"\u001b[0m\u001b[0;34m,\u001b[0m \u001b[0;34m\"$\\chi^2$ distribution\"\u001b[0m\u001b[0;34m)\u001b[0m\u001b[0;34m\u001b[0m\u001b[0m\n\u001b[1;32m      4\u001b[0m \u001b[0;34m\u001b[0m\u001b[0m\n\u001b[1;32m      5\u001b[0m *_, cb = display_matrix(XYcenters, XYcenters, Echi2.flatten(),\n",
      "\u001b[0;31mNameError\u001b[0m: name 'Echi2_min' is not defined"
     ]
    }
   ],
   "source": [
    "bins = np.linspace(Echi2_min, Echi2_max, 101)\n",
    "plt.hist(Echi2[Eok], bins)\n",
    "labels(\"$\\chi^2$\", \"Entries\", \"$\\chi^2$ distribution\")\n",
    "\n",
    "*_, cb = display_matrix(XYcenters, XYcenters, Echi2.flatten(),\n",
    "                        cmin = Echi2_min,\n",
    "                        cmax = Echi2_max,\n",
    "                        cmap = default_cmap)\n",
    "cb.set_label(\"$\\chi^2$\")\n",
    "labels(\"X (mm)\", \"Y (mm)\", \"$\\chi^2$ vs XY\")"
   ]
  },
  {
   "cell_type": "code",
   "execution_count": 20,
   "metadata": {
    "scrolled": true
   },
   "outputs": [
    {
     "ename": "NameError",
     "evalue": "name 'Qchi2_min' is not defined",
     "output_type": "error",
     "traceback": [
      "\u001b[0;31m---------------------------------------------------------------------------\u001b[0m",
      "\u001b[0;31mNameError\u001b[0m                                 Traceback (most recent call last)",
      "\u001b[0;32m<ipython-input-20-4d80a7b6bab0>\u001b[0m in \u001b[0;36m<module>\u001b[0;34m()\u001b[0m\n\u001b[0;32m----> 1\u001b[0;31m \u001b[0mbins\u001b[0m \u001b[0;34m=\u001b[0m \u001b[0mnp\u001b[0m\u001b[0;34m.\u001b[0m\u001b[0mlinspace\u001b[0m\u001b[0;34m(\u001b[0m\u001b[0mQchi2_min\u001b[0m\u001b[0;34m,\u001b[0m \u001b[0mQchi2_max\u001b[0m\u001b[0;34m,\u001b[0m \u001b[0;36m101\u001b[0m\u001b[0;34m)\u001b[0m\u001b[0;34m\u001b[0m\u001b[0m\n\u001b[0m\u001b[1;32m      2\u001b[0m \u001b[0mplt\u001b[0m\u001b[0;34m.\u001b[0m\u001b[0mhist\u001b[0m\u001b[0;34m(\u001b[0m\u001b[0mQchi2\u001b[0m\u001b[0;34m[\u001b[0m\u001b[0mQok\u001b[0m\u001b[0;34m]\u001b[0m\u001b[0;34m,\u001b[0m \u001b[0mbins\u001b[0m\u001b[0;34m)\u001b[0m\u001b[0;34m\u001b[0m\u001b[0m\n\u001b[1;32m      3\u001b[0m \u001b[0mlabels\u001b[0m\u001b[0;34m(\u001b[0m\u001b[0;34m\"$\\chi^2$\"\u001b[0m\u001b[0;34m,\u001b[0m \u001b[0;34m\"Entries\"\u001b[0m\u001b[0;34m,\u001b[0m \u001b[0;34m\"$\\chi^2$ distribution\"\u001b[0m\u001b[0;34m)\u001b[0m\u001b[0;34m\u001b[0m\u001b[0m\n\u001b[1;32m      4\u001b[0m \u001b[0;34m\u001b[0m\u001b[0m\n\u001b[1;32m      5\u001b[0m *_, cb = display_matrix(XYcenters, XYcenters, Qchi2.flatten(),\n",
      "\u001b[0;31mNameError\u001b[0m: name 'Qchi2_min' is not defined"
     ]
    }
   ],
   "source": [
    "bins = np.linspace(Qchi2_min, Qchi2_max, 101)\n",
    "plt.hist(Qchi2[Qok], bins)\n",
    "labels(\"$\\chi^2$\", \"Entries\", \"$\\chi^2$ distribution\")\n",
    "\n",
    "*_, cb = display_matrix(XYcenters, XYcenters, Qchi2.flatten(),\n",
    "                        cmin = Qchi2_min,\n",
    "                        cmax = Qchi2_max,\n",
    "                        cmap = default_cmap)\n",
    "cb.set_label(\"$\\chi^2$\")\n",
    "labels(\"X (mm)\", \"Y (mm)\", \"$\\chi^2$ vs XY\")"
   ]
  },
  {
   "cell_type": "markdown",
   "metadata": {},
   "source": [
    "### Produce HDF5 output"
   ]
  },
  {
   "cell_type": "code",
   "execution_count": 21,
   "metadata": {
    "scrolled": true
   },
   "outputs": [
    {
     "ename": "NameError",
     "evalue": "name 'dst' is not defined",
     "output_type": "error",
     "traceback": [
      "\u001b[0;31m---------------------------------------------------------------------------\u001b[0m",
      "\u001b[0;31mNameError\u001b[0m                                 Traceback (most recent call last)",
      "\u001b[0;32m<ipython-input-21-5203f74d809e>\u001b[0m in \u001b[0;36m<module>\u001b[0;34m()\u001b[0m\n\u001b[0;32m----> 1\u001b[0;31m \u001b[0mt_min\u001b[0m \u001b[0;34m=\u001b[0m \u001b[0mint\u001b[0m\u001b[0;34m(\u001b[0m\u001b[0mdst\u001b[0m\u001b[0;34m.\u001b[0m\u001b[0mtime\u001b[0m\u001b[0;34m.\u001b[0m\u001b[0mvalues\u001b[0m\u001b[0;34m.\u001b[0m\u001b[0mmin\u001b[0m\u001b[0;34m(\u001b[0m\u001b[0;34m)\u001b[0m\u001b[0;34m)\u001b[0m\u001b[0;34m\u001b[0m\u001b[0m\n\u001b[0m\u001b[1;32m      2\u001b[0m \u001b[0mt_max\u001b[0m \u001b[0;34m=\u001b[0m \u001b[0mint\u001b[0m\u001b[0;34m(\u001b[0m\u001b[0mdst\u001b[0m\u001b[0;34m.\u001b[0m\u001b[0mtime\u001b[0m\u001b[0;34m.\u001b[0m\u001b[0mvalues\u001b[0m\u001b[0;34m.\u001b[0m\u001b[0mmax\u001b[0m\u001b[0;34m(\u001b[0m\u001b[0;34m)\u001b[0m\u001b[0;34m)\u001b[0m\u001b[0;34m\u001b[0m\u001b[0m\n\u001b[1;32m      3\u001b[0m \u001b[0;32mwith\u001b[0m \u001b[0mtb\u001b[0m\u001b[0;34m.\u001b[0m\u001b[0mopen_file\u001b[0m\u001b[0;34m(\u001b[0m\u001b[0mcorrection_filename\u001b[0m\u001b[0;34m,\u001b[0m \u001b[0;34m\"w\"\u001b[0m\u001b[0;34m)\u001b[0m \u001b[0;32mas\u001b[0m \u001b[0mcorrection_file\u001b[0m\u001b[0;34m:\u001b[0m\u001b[0;34m\u001b[0m\u001b[0m\n\u001b[1;32m      4\u001b[0m     \u001b[0mrun_table\u001b[0m \u001b[0;34m=\u001b[0m \u001b[0mcorrection_file\u001b[0m\u001b[0;34m.\u001b[0m\u001b[0mcreate_table\u001b[0m\u001b[0;34m(\u001b[0m\u001b[0mcorrection_file\u001b[0m\u001b[0;34m.\u001b[0m\u001b[0mroot\u001b[0m\u001b[0;34m,\u001b[0m \u001b[0;34m\"RunInfo\"\u001b[0m  \u001b[0;34m,\u001b[0m \u001b[0mRunInfo\u001b[0m\u001b[0;34m,\u001b[0m \u001b[0;34m\"Run metadata\"\u001b[0m\u001b[0;34m)\u001b[0m\u001b[0;34m\u001b[0m\u001b[0m\n\u001b[1;32m      5\u001b[0m     \u001b[0mmap_table\u001b[0m \u001b[0;34m=\u001b[0m \u001b[0mcorrection_file\u001b[0m\u001b[0;34m.\u001b[0m\u001b[0mcreate_table\u001b[0m\u001b[0;34m(\u001b[0m\u001b[0mcorrection_file\u001b[0m\u001b[0;34m.\u001b[0m\u001b[0mroot\u001b[0m\u001b[0;34m,\u001b[0m \u001b[0;34m\"LTMapInfo\"\u001b[0m\u001b[0;34m,\u001b[0m \u001b[0mMapInfo\u001b[0m\u001b[0;34m,\u001b[0m \u001b[0;34m\"Map metadata\"\u001b[0m\u001b[0;34m)\u001b[0m\u001b[0;34m\u001b[0m\u001b[0m\n",
      "\u001b[0;31mNameError\u001b[0m: name 'dst' is not defined"
     ]
    }
   ],
   "source": [
    "t_min = int(dst.time.values.min())\n",
    "t_max = int(dst.time.values.max())\n",
    "with tb.open_file(correction_filename, \"w\") as correction_file:\n",
    "    run_table = correction_file.create_table(correction_file.root, \"RunInfo\"  , RunInfo, \"Run metadata\")\n",
    "    map_table = correction_file.create_table(correction_file.root, \"LTMapInfo\", MapInfo, \"Map metadata\")\n",
    "\n",
    "    row = run_table.row\n",
    "    row[\"run_number\"] = run_number\n",
    "    row[\"t_min\"     ] = t_min\n",
    "    row[\"t_max\"     ] = t_max\n",
    "    row.append()\n",
    "\n",
    "    row = map_table.row\n",
    "    row[\"x_nbins\"] = XYnbins\n",
    "    row[\"y_nbins\"] = XYnbins\n",
    "    row[\"x_pitch\"] = XYpitch\n",
    "    row[\"y_pitch\"] = XYpitch\n",
    "    row[\"x_min\"  ] = XYrange[0]\n",
    "    row[\"x_max\"  ] = XYrange[1]\n",
    "    row[\"y_min\"  ] = XYrange[0]\n",
    "    row[\"y_max\"  ] = XYrange[1]\n",
    "    row.append()"
   ]
  },
  {
   "cell_type": "code",
   "execution_count": 22,
   "metadata": {},
   "outputs": [
    {
     "ename": "NameError",
     "evalue": "name 'Eok' is not defined",
     "output_type": "error",
     "traceback": [
      "\u001b[0;31m---------------------------------------------------------------------------\u001b[0m",
      "\u001b[0;31mNameError\u001b[0m                                 Traceback (most recent call last)",
      "\u001b[0;32m<ipython-input-22-6f4a6151a11a>\u001b[0m in \u001b[0;36m<module>\u001b[0;34m()\u001b[0m\n\u001b[1;32m      7\u001b[0m \u001b[0;31m# resolution.\u001b[0m\u001b[0;34m\u001b[0m\u001b[0;34m\u001b[0m\u001b[0m\n\u001b[1;32m      8\u001b[0m \u001b[0;34m\u001b[0m\u001b[0m\n\u001b[0;32m----> 9\u001b[0;31m \u001b[0mEscale_safe\u001b[0m  \u001b[0;34m=\u001b[0m \u001b[0mnp\u001b[0m\u001b[0;34m.\u001b[0m\u001b[0mwhere\u001b[0m\u001b[0;34m(\u001b[0m\u001b[0mEok\u001b[0m\u001b[0;34m,\u001b[0m \u001b[0mEscale\u001b[0m\u001b[0;34m.\u001b[0m\u001b[0mvalue\u001b[0m      \u001b[0;34m,\u001b[0m    \u001b[0me_mean\u001b[0m\u001b[0;34m)\u001b[0m\u001b[0;34m\u001b[0m\u001b[0m\n\u001b[0m\u001b[1;32m     10\u001b[0m \u001b[0mEscaleu_safe\u001b[0m \u001b[0;34m=\u001b[0m \u001b[0mnp\u001b[0m\u001b[0;34m.\u001b[0m\u001b[0mwhere\u001b[0m\u001b[0;34m(\u001b[0m\u001b[0mEok\u001b[0m\u001b[0;34m,\u001b[0m \u001b[0mEscale\u001b[0m\u001b[0;34m.\u001b[0m\u001b[0muncertainty\u001b[0m\u001b[0;34m,\u001b[0m   \u001b[0meu_mean\u001b[0m \u001b[0;34m*\u001b[0m   \u001b[0me_mean\u001b[0m \u001b[0;34m/\u001b[0m \u001b[0;36m100\u001b[0m\u001b[0;34m)\u001b[0m\u001b[0;34m\u001b[0m\u001b[0m\n\u001b[1;32m     11\u001b[0m \u001b[0;34m\u001b[0m\u001b[0m\n",
      "\u001b[0;31mNameError\u001b[0m: name 'Eok' is not defined"
     ]
    }
   ],
   "source": [
    "# This is to avoid the effect of low stat bins\n",
    "# to the map. Data points in that bin could be\n",
    "# loss or corrected with an unrealistic lifetime.\n",
    "# Thus, we assign the average value. This works\n",
    "# because correcting with a slightly different\n",
    "# lifetime does not have a big impact on energy\n",
    "# resolution.\n",
    "\n",
    "Escale_safe  = np.where(Eok, Escale.value      ,    e_mean)\n",
    "Escaleu_safe = np.where(Eok, Escale.uncertainty,   eu_mean *   e_mean / 100)\n",
    "\n",
    "ELT_safe     = np.where(Eok,   -ELT.value      ,  elt_mean)\n",
    "ELTu_safe    = np.where(Eok,    ELT.uncertainty, eltu_mean * elt_mean / 100)\n",
    "\n",
    "Qscale_safe  = np.where(Qok, Qscale.value      ,    q_mean)\n",
    "Qscaleu_safe = np.where(Qok, Qscale.uncertainty,   qu_mean *   q_mean / 100)\n",
    "\n",
    "QLT_safe     = np.where(Qok,   -QLT.value      ,  qlt_mean)\n",
    "QLTu_safe    = np.where(Qok,    QLT.uncertainty, qltu_mean * qlt_mean / 100)\n",
    "\n",
    "with tb.open_file(correction_filename, \"a\") as correction_file:    \n",
    "    write_escale = kdstio.xy_writer(correction_file,\n",
    "                                    group       = \"XYcorrections\",\n",
    "                                    name        = \"Escale\",\n",
    "                                    description = \"XY-dependent energy scale\",\n",
    "                                    compression = \"ZLIB4\")\n",
    "    write_escale(XYcenters, XYcenters, Escale_safe, Escaleu_safe, nevt)\n",
    "\n",
    "    write_lifetime = kdstio.xy_writer(correction_file,\n",
    "                                      group       = \"XYcorrections\",\n",
    "                                      name        = \"Elifetime\",\n",
    "                                      description = \"XY-dependent lifetime values\",\n",
    "                                      compression = \"ZLIB4\")\n",
    "    write_lifetime(XYcenters, XYcenters, ELT_safe, ELTu_safe, nevt)\n",
    "\n",
    "    write_qscale = kdstio.xy_writer(correction_file,\n",
    "                                    group       = \"XYcorrections\",\n",
    "                                    name        = \"Qscale\",\n",
    "                                    description = \"XY-dependent energy scale\",\n",
    "                                    compression = \"ZLIB4\")\n",
    "    write_escale(XYcenters, XYcenters, Qscale_safe, Qscaleu_safe, nevt)\n",
    "\n",
    "    write_lifetime = kdstio.xy_writer(correction_file,\n",
    "                                      group       = \"XYcorrections\",\n",
    "                                      name        = \"Qlifetime\",\n",
    "                                      description = \"XY-dependent lifetime values\",\n",
    "                                      compression = \"ZLIB4\")\n",
    "    write_lifetime(XYcenters, XYcenters, QLT_safe, QLTu_safe, nevt)\n"
   ]
  }
 ],
 "metadata": {
  "kernelspec": {
   "display_name": "Python 3",
   "language": "python",
   "name": "python3"
  },
  "language_info": {
   "codemirror_mode": {
    "name": "ipython",
    "version": 3
   },
   "file_extension": ".py",
   "mimetype": "text/x-python",
   "name": "python",
   "nbconvert_exporter": "python",
   "pygments_lexer": "ipython3",
   "version": "3.6.1"
  }
 },
 "nbformat": 4,
 "nbformat_minor": 2
}
