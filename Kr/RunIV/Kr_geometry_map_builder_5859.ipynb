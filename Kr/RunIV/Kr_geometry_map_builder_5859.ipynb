{
 "cells": [
  {
   "cell_type": "markdown",
   "metadata": {},
   "source": [
    "# Produce geometrical XY map"
   ]
  },
  {
   "cell_type": "markdown",
   "metadata": {},
   "source": [
    "<i>\n",
    "This notebook takes a clean kDST and a correction file,\n",
    "performs the lifetime correction and measures the energy\n",
    "at different points of the XY plane. The resulting map\n",
    "is stored in the same correction file.\n",
    "</i>"
   ]
  },
  {
   "cell_type": "markdown",
   "metadata": {},
   "source": [
    "### Notebook configuration"
   ]
  },
  {
   "cell_type": "code",
   "execution_count": 1,
   "metadata": {},
   "outputs": [],
   "source": [
    "run_number          = 5859\n",
    "input_dst_filename  = f\"$IC_DATA/RunIV/kdst_{run_number}_filtered.h5\"\n",
    "correction_filename = f\"$IC_DATA/XYmaps/corrections_run{run_number}.h5\"\n",
    "plots_output_folder = f\"plots/{run_number}/\"\n",
    "overwrite           = True\n",
    "\n",
    "Zrange  =  100,  550\n",
    "XYrange = -200,  200\n",
    "Znbins  =   10\n",
    "XYnbins =  100\n",
    "\n",
    "# Plotting style\n",
    "default_cmap = \"viridis\"\n",
    "figure_size  = 16, 12\n",
    "font_size    = 15\n",
    "\n",
    "save_plots   = True\n",
    "with_titles  = False\n",
    "plots_format = \"pdf\""
   ]
  },
  {
   "cell_type": "markdown",
   "metadata": {},
   "source": [
    "### Imports"
   ]
  },
  {
   "cell_type": "code",
   "execution_count": 2,
   "metadata": {},
   "outputs": [],
   "source": [
    "import os\n",
    "import time\n",
    "import collections\n",
    "import warnings\n",
    "\n",
    "import tables            as tb\n",
    "import numpy             as np\n",
    "import matplotlib.pyplot as plt\n",
    "\n",
    "import invisible_cities.core.fit_functions as fitf\n",
    "import invisible_cities.reco.dst_functions as dstf\n",
    "import invisible_cities.io  .kdst_io       as kdstio\n",
    "\n",
    "from invisible_cities.core .core_functions import in_range\n",
    "from invisible_cities.core .stat_functions import poisson_sigma\n",
    "from invisible_cities.icaro. hst_functions import hist\n",
    "from invisible_cities.icaro. hst_functions import display_matrix\n",
    "from invisible_cities.icaro. hst_functions import shift_to_bin_centers\n",
    "from invisible_cities.icaro. hst_functions import plot_writer\n",
    "\n",
    "from icaro.core.fit_functions import gauss_seed\n",
    "from icaro.core.fit_functions import relative_errors\n",
    "from icaro.core.fit_functions import conditional_labels\n",
    "\n",
    "from table_info import MapInfo\n",
    "\n",
    "labels = conditional_labels(with_titles)\n",
    "save   = plot_writer(plots_output_folder, plots_format) if save_plots else lambda *x: None\n",
    "\n",
    "%matplotlib inline"
   ]
  },
  {
   "cell_type": "markdown",
   "metadata": {},
   "source": [
    "### Initialization"
   ]
  },
  {
   "cell_type": "code",
   "execution_count": 3,
   "metadata": {},
   "outputs": [],
   "source": [
    "Zbins     = np.linspace(* Zrange,  Znbins + 1)\n",
    "XYbins    = np.linspace(*XYrange, XYnbins + 1)\n",
    "XYcenters = shift_to_bin_centers(XYbins)\n",
    "XYpitch   = np.diff(XYbins)[0]\n",
    "\n",
    "input_dst_filename   = os.path.expandvars( input_dst_filename)\n",
    "correction_filename  = os.path.expandvars(correction_filename)\n",
    "\n",
    "plt.rcParams[\"figure.figsize\"] = figure_size\n",
    "plt.rcParams[  \"font.size\"   ] =   font_size\n",
    "\n",
    "warnings.filterwarnings('ignore', category=tb.NaturalNameWarning)"
   ]
  },
  {
   "cell_type": "markdown",
   "metadata": {},
   "source": [
    "### Read data"
   ]
  },
  {
   "cell_type": "code",
   "execution_count": 4,
   "metadata": {},
   "outputs": [
    {
     "name": "stdout",
     "output_type": "stream",
     "text": [
      "Total number of S2s   : 49476 \n",
      "Total number of events: 49290\n"
     ]
    }
   ],
   "source": [
    "dst           = dstf.load_dst(input_dst_filename, \"DST\", \"Events\")\n",
    "unique_events = ~dst.event.duplicated()\n",
    "\n",
    "number_of_S2s_full  = np.size         (unique_events)\n",
    "number_of_evts_full = np.count_nonzero(unique_events)\n",
    "\n",
    "print(f\"Total number of S2s   : {number_of_S2s_full} \")\n",
    "print(f\"Total number of events: {number_of_evts_full}\")"
   ]
  },
  {
   "cell_type": "code",
   "execution_count": 5,
   "metadata": {},
   "outputs": [
    {
     "ename": "NoSuchNodeError",
     "evalue": "group ``/`` does not have a child named ``XYcorrections``",
     "output_type": "error",
     "traceback": [
      "\u001b[0;31m---------------------------------------------------------------------------\u001b[0m",
      "\u001b[0;31mNoSuchNodeError\u001b[0m                           Traceback (most recent call last)",
      "\u001b[0;32m<ipython-input-5-999b79e8b087>\u001b[0m in \u001b[0;36m<module>\u001b[0;34m()\u001b[0m\n\u001b[1;32m      1\u001b[0m ZcorrectionE = dstf.load_lifetime_xy_corrections(correction_filename,\n\u001b[1;32m      2\u001b[0m                                                  \u001b[0mgroup\u001b[0m \u001b[0;34m=\u001b[0m \u001b[0;34m\"XYcorrections\"\u001b[0m\u001b[0;34m,\u001b[0m\u001b[0;34m\u001b[0m\u001b[0m\n\u001b[0;32m----> 3\u001b[0;31m                                                  node  = \"Elifetime\")\n\u001b[0m\u001b[1;32m      4\u001b[0m \u001b[0;34m\u001b[0m\u001b[0m\n\u001b[1;32m      5\u001b[0m ZcorrectionQ = dstf.load_lifetime_xy_corrections(correction_filename,\n",
      "\u001b[0;32m~/github/IC/invisible_cities/reco/dst_functions.py\u001b[0m in \u001b[0;36mload_lifetime_xy_corrections\u001b[0;34m(filename, group, node, scale, **kwargs)\u001b[0m\n\u001b[1;32m     46\u001b[0m     \u001b[0mOther\u001b[0m \u001b[0mkwargs\u001b[0m \u001b[0mare\u001b[0m \u001b[0mpassed\u001b[0m \u001b[0mto\u001b[0m \u001b[0mthe\u001b[0m \u001b[0mcontructor\u001b[0m \u001b[0mof\u001b[0m \u001b[0mLifetimeXYCorrection\u001b[0m\u001b[0;34m.\u001b[0m\u001b[0;34m\u001b[0m\u001b[0m\n\u001b[1;32m     47\u001b[0m     \"\"\"\n\u001b[0;32m---> 48\u001b[0;31m     \u001b[0mdst\u001b[0m  \u001b[0;34m=\u001b[0m \u001b[0mload_dst\u001b[0m\u001b[0;34m(\u001b[0m\u001b[0mfilename\u001b[0m\u001b[0;34m,\u001b[0m \u001b[0mgroup\u001b[0m\u001b[0;34m,\u001b[0m \u001b[0mnode\u001b[0m\u001b[0;34m)\u001b[0m\u001b[0;34m\u001b[0m\u001b[0m\n\u001b[0m\u001b[1;32m     49\u001b[0m     \u001b[0mx\u001b[0m\u001b[0;34m,\u001b[0m \u001b[0my\u001b[0m \u001b[0;34m=\u001b[0m \u001b[0mnp\u001b[0m\u001b[0;34m.\u001b[0m\u001b[0munique\u001b[0m\u001b[0;34m(\u001b[0m\u001b[0mdst\u001b[0m\u001b[0;34m.\u001b[0m\u001b[0mx\u001b[0m\u001b[0;34m.\u001b[0m\u001b[0mvalues\u001b[0m\u001b[0;34m)\u001b[0m\u001b[0;34m,\u001b[0m \u001b[0mnp\u001b[0m\u001b[0;34m.\u001b[0m\u001b[0munique\u001b[0m\u001b[0;34m(\u001b[0m\u001b[0mdst\u001b[0m\u001b[0;34m.\u001b[0m\u001b[0my\u001b[0m\u001b[0;34m.\u001b[0m\u001b[0mvalues\u001b[0m\u001b[0;34m)\u001b[0m\u001b[0;34m\u001b[0m\u001b[0m\n\u001b[1;32m     50\u001b[0m     \u001b[0mf\u001b[0m\u001b[0;34m,\u001b[0m \u001b[0mu\u001b[0m \u001b[0;34m=\u001b[0m \u001b[0mdst\u001b[0m\u001b[0;34m.\u001b[0m\u001b[0mfactor\u001b[0m\u001b[0;34m.\u001b[0m\u001b[0mvalues\u001b[0m \u001b[0;34m*\u001b[0m \u001b[0mscale\u001b[0m\u001b[0;34m,\u001b[0m \u001b[0mdst\u001b[0m\u001b[0;34m.\u001b[0m\u001b[0muncertainty\u001b[0m\u001b[0;34m.\u001b[0m\u001b[0mvalues\u001b[0m \u001b[0;34m*\u001b[0m \u001b[0mscale\u001b[0m\u001b[0;34m\u001b[0m\u001b[0m\n",
      "\u001b[0;32m~/github/IC/invisible_cities/io/dst_io.py\u001b[0m in \u001b[0;36mload_dst\u001b[0;34m(filename, group, node)\u001b[0m\n\u001b[1;32m      5\u001b[0m \u001b[0;32mdef\u001b[0m \u001b[0mload_dst\u001b[0m\u001b[0;34m(\u001b[0m\u001b[0mfilename\u001b[0m\u001b[0;34m,\u001b[0m \u001b[0mgroup\u001b[0m\u001b[0;34m,\u001b[0m \u001b[0mnode\u001b[0m\u001b[0;34m)\u001b[0m\u001b[0;34m:\u001b[0m\u001b[0;34m\u001b[0m\u001b[0m\n\u001b[1;32m      6\u001b[0m     \u001b[0;32mwith\u001b[0m \u001b[0mtb\u001b[0m\u001b[0;34m.\u001b[0m\u001b[0mopen_file\u001b[0m\u001b[0;34m(\u001b[0m\u001b[0mfilename\u001b[0m\u001b[0;34m)\u001b[0m \u001b[0;32mas\u001b[0m \u001b[0mh5in\u001b[0m\u001b[0;34m:\u001b[0m\u001b[0;34m\u001b[0m\u001b[0m\n\u001b[0;32m----> 7\u001b[0;31m         \u001b[0mtable\u001b[0m \u001b[0;34m=\u001b[0m \u001b[0mgetattr\u001b[0m\u001b[0;34m(\u001b[0m\u001b[0mgetattr\u001b[0m\u001b[0;34m(\u001b[0m\u001b[0mh5in\u001b[0m\u001b[0;34m.\u001b[0m\u001b[0mroot\u001b[0m\u001b[0;34m,\u001b[0m \u001b[0mgroup\u001b[0m\u001b[0;34m)\u001b[0m\u001b[0;34m,\u001b[0m \u001b[0mnode\u001b[0m\u001b[0;34m)\u001b[0m\u001b[0;34m.\u001b[0m\u001b[0mread\u001b[0m\u001b[0;34m(\u001b[0m\u001b[0;34m)\u001b[0m\u001b[0;34m\u001b[0m\u001b[0m\n\u001b[0m\u001b[1;32m      8\u001b[0m         \u001b[0;32mreturn\u001b[0m \u001b[0mpd\u001b[0m\u001b[0;34m.\u001b[0m\u001b[0mDataFrame\u001b[0m\u001b[0;34m.\u001b[0m\u001b[0mfrom_records\u001b[0m\u001b[0;34m(\u001b[0m\u001b[0mtable\u001b[0m\u001b[0;34m)\u001b[0m\u001b[0;34m\u001b[0m\u001b[0m\n\u001b[1;32m      9\u001b[0m \u001b[0;34m\u001b[0m\u001b[0m\n",
      "\u001b[0;32m/Applications/anaconda3/envs/IC3.6/lib/python3.6/site-packages/tables/group.py\u001b[0m in \u001b[0;36m__getattr__\u001b[0;34m(self, name)\u001b[0m\n\u001b[1;32m    816\u001b[0m             \u001b[0mself\u001b[0m\u001b[0;34m.\u001b[0m\u001b[0m_g_add_children_names\u001b[0m\u001b[0;34m(\u001b[0m\u001b[0;34m)\u001b[0m\u001b[0;34m\u001b[0m\u001b[0m\n\u001b[1;32m    817\u001b[0m             \u001b[0;32mreturn\u001b[0m \u001b[0mself\u001b[0m\u001b[0;34m.\u001b[0m\u001b[0m__dict__\u001b[0m\u001b[0;34m[\u001b[0m\u001b[0mname\u001b[0m\u001b[0;34m]\u001b[0m\u001b[0;34m\u001b[0m\u001b[0m\n\u001b[0;32m--> 818\u001b[0;31m         \u001b[0;32mreturn\u001b[0m \u001b[0mself\u001b[0m\u001b[0;34m.\u001b[0m\u001b[0m_f_get_child\u001b[0m\u001b[0;34m(\u001b[0m\u001b[0mname\u001b[0m\u001b[0;34m)\u001b[0m\u001b[0;34m\u001b[0m\u001b[0m\n\u001b[0m\u001b[1;32m    819\u001b[0m \u001b[0;34m\u001b[0m\u001b[0m\n\u001b[1;32m    820\u001b[0m     \u001b[0;32mdef\u001b[0m \u001b[0m__setattr__\u001b[0m\u001b[0;34m(\u001b[0m\u001b[0mself\u001b[0m\u001b[0;34m,\u001b[0m \u001b[0mname\u001b[0m\u001b[0;34m,\u001b[0m \u001b[0mvalue\u001b[0m\u001b[0;34m)\u001b[0m\u001b[0;34m:\u001b[0m\u001b[0;34m\u001b[0m\u001b[0m\n",
      "\u001b[0;32m/Applications/anaconda3/envs/IC3.6/lib/python3.6/site-packages/tables/group.py\u001b[0m in \u001b[0;36m_f_get_child\u001b[0;34m(self, childname)\u001b[0m\n\u001b[1;32m    696\u001b[0m         \u001b[0mself\u001b[0m\u001b[0;34m.\u001b[0m\u001b[0m_g_check_open\u001b[0m\u001b[0;34m(\u001b[0m\u001b[0;34m)\u001b[0m\u001b[0;34m\u001b[0m\u001b[0m\n\u001b[1;32m    697\u001b[0m \u001b[0;34m\u001b[0m\u001b[0m\n\u001b[0;32m--> 698\u001b[0;31m         \u001b[0mself\u001b[0m\u001b[0;34m.\u001b[0m\u001b[0m_g_check_has_child\u001b[0m\u001b[0;34m(\u001b[0m\u001b[0mchildname\u001b[0m\u001b[0;34m)\u001b[0m\u001b[0;34m\u001b[0m\u001b[0m\n\u001b[0m\u001b[1;32m    699\u001b[0m \u001b[0;34m\u001b[0m\u001b[0m\n\u001b[1;32m    700\u001b[0m         \u001b[0mchildpath\u001b[0m \u001b[0;34m=\u001b[0m \u001b[0mjoin_path\u001b[0m\u001b[0;34m(\u001b[0m\u001b[0mself\u001b[0m\u001b[0;34m.\u001b[0m\u001b[0m_v_pathname\u001b[0m\u001b[0;34m,\u001b[0m \u001b[0mchildname\u001b[0m\u001b[0;34m)\u001b[0m\u001b[0;34m\u001b[0m\u001b[0m\n",
      "\u001b[0;32m/Applications/anaconda3/envs/IC3.6/lib/python3.6/site-packages/tables/group.py\u001b[0m in \u001b[0;36m_g_check_has_child\u001b[0;34m(self, name)\u001b[0m\n\u001b[1;32m    393\u001b[0m             raise NoSuchNodeError(\n\u001b[1;32m    394\u001b[0m                 \u001b[0;34m\"group ``%s`` does not have a child named ``%s``\"\u001b[0m\u001b[0;34m\u001b[0m\u001b[0m\n\u001b[0;32m--> 395\u001b[0;31m                 % (self._v_pathname, name))\n\u001b[0m\u001b[1;32m    396\u001b[0m         \u001b[0;32mreturn\u001b[0m \u001b[0mnode_type\u001b[0m\u001b[0;34m\u001b[0m\u001b[0m\n\u001b[1;32m    397\u001b[0m \u001b[0;34m\u001b[0m\u001b[0m\n",
      "\u001b[0;31mNoSuchNodeError\u001b[0m: group ``/`` does not have a child named ``XYcorrections``"
     ]
    }
   ],
   "source": [
    "ZcorrectionE = dstf.load_lifetime_xy_corrections(correction_filename,\n",
    "                                                 group = \"XYcorrections\",\n",
    "                                                 node  = \"Elifetime\")\n",
    "\n",
    "ZcorrectionQ = dstf.load_lifetime_xy_corrections(correction_filename,\n",
    "                                                 group = \"XYcorrections\",\n",
    "                                                 node  = \"Qlifetime\")"
   ]
  },
  {
   "cell_type": "code",
   "execution_count": 6,
   "metadata": {},
   "outputs": [
    {
     "ename": "NameError",
     "evalue": "name 'ZcorrectionE' is not defined",
     "output_type": "error",
     "traceback": [
      "\u001b[0;31m---------------------------------------------------------------------------\u001b[0m",
      "\u001b[0;31mNameError\u001b[0m                                 Traceback (most recent call last)",
      "\u001b[0;32m<ipython-input-6-87ce1fcf3e79>\u001b[0m in \u001b[0;36m<module>\u001b[0;34m()\u001b[0m\n\u001b[1;32m      2\u001b[0m \u001b[0mY\u001b[0m \u001b[0;34m=\u001b[0m \u001b[0mdst\u001b[0m\u001b[0;34m.\u001b[0m\u001b[0mY\u001b[0m  \u001b[0;34m.\u001b[0m\u001b[0mvalues\u001b[0m\u001b[0;34m\u001b[0m\u001b[0m\n\u001b[1;32m      3\u001b[0m \u001b[0mZ\u001b[0m \u001b[0;34m=\u001b[0m \u001b[0mdst\u001b[0m\u001b[0;34m.\u001b[0m\u001b[0mZ\u001b[0m  \u001b[0;34m.\u001b[0m\u001b[0mvalues\u001b[0m\u001b[0;34m\u001b[0m\u001b[0m\n\u001b[0;32m----> 4\u001b[0;31m \u001b[0mE\u001b[0m \u001b[0;34m=\u001b[0m \u001b[0mdst\u001b[0m\u001b[0;34m.\u001b[0m\u001b[0mS2e\u001b[0m\u001b[0;34m.\u001b[0m\u001b[0mvalues\u001b[0m \u001b[0;34m*\u001b[0m \u001b[0mZcorrectionE\u001b[0m\u001b[0;34m(\u001b[0m\u001b[0mZ\u001b[0m\u001b[0;34m,\u001b[0m \u001b[0mX\u001b[0m\u001b[0;34m,\u001b[0m \u001b[0mY\u001b[0m\u001b[0;34m)\u001b[0m\u001b[0;34m.\u001b[0m\u001b[0mvalue\u001b[0m\u001b[0;34m\u001b[0m\u001b[0m\n\u001b[0m\u001b[1;32m      5\u001b[0m \u001b[0mQ\u001b[0m \u001b[0;34m=\u001b[0m \u001b[0mdst\u001b[0m\u001b[0;34m.\u001b[0m\u001b[0mS2q\u001b[0m\u001b[0;34m.\u001b[0m\u001b[0mvalues\u001b[0m \u001b[0;34m*\u001b[0m \u001b[0mZcorrectionQ\u001b[0m\u001b[0;34m(\u001b[0m\u001b[0mZ\u001b[0m\u001b[0;34m,\u001b[0m \u001b[0mX\u001b[0m\u001b[0;34m,\u001b[0m \u001b[0mY\u001b[0m\u001b[0;34m)\u001b[0m\u001b[0;34m.\u001b[0m\u001b[0mvalue\u001b[0m\u001b[0;34m\u001b[0m\u001b[0m\n",
      "\u001b[0;31mNameError\u001b[0m: name 'ZcorrectionE' is not defined"
     ]
    }
   ],
   "source": [
    "X = dst.X  .values\n",
    "Y = dst.Y  .values\n",
    "Z = dst.Z  .values\n",
    "E = dst.S2e.values * ZcorrectionE(Z, X, Y).value\n",
    "Q = dst.S2q.values * ZcorrectionQ(Z, X, Y).value"
   ]
  },
  {
   "cell_type": "markdown",
   "metadata": {},
   "source": [
    "### Event distribution"
   ]
  },
  {
   "cell_type": "code",
   "execution_count": 7,
   "metadata": {},
   "outputs": [
    {
     "data": {
      "image/png": "[encoded data removed]",
      "text/plain": [
       "<matplotlib.figure.Figure at 0x112c625f8>"
      ]
     },
     "metadata": {},
     "output_type": "display_data"
    }
   ],
   "source": [
    "Nevt, *_ = plt.hist2d(X, Y, (XYbins, XYbins))\n",
    "plt.colorbar().set_label(\"Number of events\")\n",
    "labels(\"X (mm)\", \"Y (mm)\", f\"Event distribution for {XYpitch:.1f} mm pitch\")\n",
    "\n",
    "plt.tight_layout()\n",
    "save(\"Event_distribution_different_pitches_XY\")"
   ]
  },
  {
   "cell_type": "code",
   "execution_count": 8,
   "metadata": {},
   "outputs": [
    {
     "data": {
      "image/png": "[encoded data removed]",
      "text/plain": [
       "<matplotlib.figure.Figure at 0x116642d30>"
      ]
     },
     "metadata": {},
     "output_type": "display_data"
    }
   ],
   "source": [
    "Nevt_max = int(np.max(Nevt))\n",
    "bins = np.arange(Nevt_max) + 1\n",
    "plt.hist(Nevt.flatten(), bins)\n",
    "labels(\"Number of events per bin\", \"Entries\", f\"# events per bin for {XYpitch:.1f} mm pitch\")\n",
    "\n",
    "plt.tight_layout()\n",
    "save(\"Event_distribution_different_pitches\")"
   ]
  },
  {
   "cell_type": "markdown",
   "metadata": {},
   "source": [
    "### Fit example"
   ]
  },
  {
   "cell_type": "code",
   "execution_count": 9,
   "metadata": {},
   "outputs": [
    {
     "ename": "NameError",
     "evalue": "name 'E' is not defined",
     "output_type": "error",
     "traceback": [
      "\u001b[0;31m---------------------------------------------------------------------------\u001b[0m",
      "\u001b[0;31mNameError\u001b[0m                                 Traceback (most recent call last)",
      "\u001b[0;32m<ipython-input-9-15f2f233227b>\u001b[0m in \u001b[0;36m<module>\u001b[0;34m()\u001b[0m\n\u001b[1;32m      2\u001b[0m \u001b[0mylim\u001b[0m \u001b[0;34m=\u001b[0m \u001b[0;34m-\u001b[0m\u001b[0;36m25\u001b[0m\u001b[0;34m,\u001b[0m \u001b[0;34m-\u001b[0m\u001b[0;36m10\u001b[0m\u001b[0;34m\u001b[0m\u001b[0m\n\u001b[1;32m      3\u001b[0m \u001b[0msel\u001b[0m  \u001b[0;34m=\u001b[0m \u001b[0min_range\u001b[0m\u001b[0;34m(\u001b[0m\u001b[0mX\u001b[0m\u001b[0;34m,\u001b[0m \u001b[0;34m*\u001b[0m\u001b[0mxlim\u001b[0m\u001b[0;34m)\u001b[0m \u001b[0;34m&\u001b[0m \u001b[0min_range\u001b[0m\u001b[0;34m(\u001b[0m\u001b[0mY\u001b[0m\u001b[0;34m,\u001b[0m \u001b[0;34m*\u001b[0m\u001b[0mylim\u001b[0m\u001b[0;34m)\u001b[0m\u001b[0;34m\u001b[0m\u001b[0m\n\u001b[0;32m----> 4\u001b[0;31m \u001b[0me\u001b[0m    \u001b[0;34m=\u001b[0m \u001b[0mE\u001b[0m\u001b[0;34m[\u001b[0m\u001b[0msel\u001b[0m\u001b[0;34m]\u001b[0m\u001b[0;34m\u001b[0m\u001b[0m\n\u001b[0m\u001b[1;32m      5\u001b[0m \u001b[0;34m\u001b[0m\u001b[0m\n\u001b[1;32m      6\u001b[0m frame_data = plt.gcf().add_axes((.1, .3,\n",
      "\u001b[0;31mNameError\u001b[0m: name 'E' is not defined"
     ]
    }
   ],
   "source": [
    "xlim =  15,  20\n",
    "ylim = -25, -10\n",
    "sel  = in_range(X, *xlim) & in_range(Y, *ylim)\n",
    "e    = E[sel]\n",
    "\n",
    "frame_data = plt.gcf().add_axes((.1, .3,\n",
    "                                 .8, .6))\n",
    "y, x, _   = hist(e, 100, new_figure=False)\n",
    "seed      = gauss_seed(x, y)\n",
    "fit_range = seed[1] - 1.5 * seed[2], seed[1] + 1.5 * seed[2]\n",
    "x, y      = x[in_range(x, *fit_range)], y[in_range(x, *fit_range)]\n",
    "f         = fitf.fit(fitf.gauss, x, y, seed, sigma=poisson_sigma(y))\n",
    "plt.plot(x, f.fn(x), \"r-\", lw=4)\n",
    "\n",
    "frame_data.set_xticklabels([])\n",
    "labels(\"\", \"Entries\", \"Energy fit example\")\n",
    "lims = plt.xlim()\n",
    "\n",
    "frame_res = plt.gcf().add_axes((.1, .1,\n",
    "                                .8, .2))\n",
    "plt.errorbar(x, (f.fn(x) - y) / poisson_sigma(y), 1, np.diff(x)[0] / 2, fmt=\"p\", c=\"k\")\n",
    "plt.plot(lims, (0, 0), \"g--\")\n",
    "plt.xlim(*lims)\n",
    "plt.ylim(-5, +5)\n",
    "labels(\"Energy (pes)\", \"Standarized residual\")\n",
    "\n",
    "save(\"Energy_fit_example\")"
   ]
  },
  {
   "cell_type": "code",
   "execution_count": 10,
   "metadata": {},
   "outputs": [
    {
     "ename": "NameError",
     "evalue": "name 'Q' is not defined",
     "output_type": "error",
     "traceback": [
      "\u001b[0;31m---------------------------------------------------------------------------\u001b[0m",
      "\u001b[0;31mNameError\u001b[0m                                 Traceback (most recent call last)",
      "\u001b[0;32m<ipython-input-10-eb529741a5bd>\u001b[0m in \u001b[0;36m<module>\u001b[0;34m()\u001b[0m\n\u001b[1;32m      2\u001b[0m \u001b[0mylim\u001b[0m \u001b[0;34m=\u001b[0m \u001b[0;34m-\u001b[0m\u001b[0;36m25\u001b[0m\u001b[0;34m,\u001b[0m \u001b[0;34m-\u001b[0m\u001b[0;36m10\u001b[0m\u001b[0;34m\u001b[0m\u001b[0m\n\u001b[1;32m      3\u001b[0m \u001b[0msel\u001b[0m  \u001b[0;34m=\u001b[0m \u001b[0min_range\u001b[0m\u001b[0;34m(\u001b[0m\u001b[0mX\u001b[0m\u001b[0;34m,\u001b[0m \u001b[0;34m*\u001b[0m\u001b[0mxlim\u001b[0m\u001b[0;34m)\u001b[0m \u001b[0;34m&\u001b[0m \u001b[0min_range\u001b[0m\u001b[0;34m(\u001b[0m\u001b[0mY\u001b[0m\u001b[0;34m,\u001b[0m \u001b[0;34m*\u001b[0m\u001b[0mylim\u001b[0m\u001b[0;34m)\u001b[0m\u001b[0;34m\u001b[0m\u001b[0m\n\u001b[0;32m----> 4\u001b[0;31m \u001b[0mq\u001b[0m    \u001b[0;34m=\u001b[0m \u001b[0mQ\u001b[0m\u001b[0;34m[\u001b[0m\u001b[0msel\u001b[0m\u001b[0;34m]\u001b[0m\u001b[0;34m\u001b[0m\u001b[0m\n\u001b[0m\u001b[1;32m      5\u001b[0m \u001b[0;34m\u001b[0m\u001b[0m\n\u001b[1;32m      6\u001b[0m frame_data = plt.gcf().add_axes((.1, .3,\n",
      "\u001b[0;31mNameError\u001b[0m: name 'Q' is not defined"
     ]
    }
   ],
   "source": [
    "xlim =  15,  20\n",
    "ylim = -25, -10\n",
    "sel  = in_range(X, *xlim) & in_range(Y, *ylim)\n",
    "q    = Q[sel]\n",
    "\n",
    "frame_data = plt.gcf().add_axes((.1, .3,\n",
    "                                 .8, .6))\n",
    "y, x, _   = hist(q, 100, new_figure=False)\n",
    "seed      = gauss_seed(x, y)\n",
    "fit_range = seed[1] - 5 * seed[2], seed[1] + 5 * seed[2]\n",
    "x, y      = x[in_range(x, *fit_range)], y[in_range(x, *fit_range)]\n",
    "f         = fitf.fit(fitf.gauss, x, y, seed, sigma=poisson_sigma(y))\n",
    "plt.plot(x, f.fn(x), \"r-\", lw=4)\n",
    "\n",
    "frame_data.set_xticklabels([])\n",
    "labels(\"\", \"Entries\", \"Energy fit example\")\n",
    "lims = plt.xlim()\n",
    "\n",
    "frame_res = plt.gcf().add_axes((.1, .1,\n",
    "                                .8, .2))\n",
    "plt.errorbar(x, (f.fn(x) - y) / poisson_sigma(y), 1, np.diff(x)[0] / 2, fmt=\"p\", c=\"k\")\n",
    "plt.plot(lims, (0, 0), \"g--\")\n",
    "plt.xlim(*lims)\n",
    "plt.ylim(-5, +5)\n",
    "labels(\"Energy (pes)\", \"Standarized residual\")\n",
    "\n",
    "save(\"Charge_fit_example\")"
   ]
  },
  {
   "cell_type": "markdown",
   "metadata": {},
   "source": [
    "### Compute geometry map"
   ]
  },
  {
   "cell_type": "code",
   "execution_count": 11,
   "metadata": {},
   "outputs": [
    {
     "ename": "NameError",
     "evalue": "name 'E' is not defined",
     "output_type": "error",
     "traceback": [
      "\u001b[0;31m---------------------------------------------------------------------------\u001b[0m",
      "\u001b[0;31mNameError\u001b[0m                                 Traceback (most recent call last)",
      "\u001b[0;32m<ipython-input-11-ef639843fb6b>\u001b[0m in \u001b[0;36m<module>\u001b[0;34m()\u001b[0m\n\u001b[0;32m----> 1\u001b[0;31m \u001b[0;34m*\u001b[0m\u001b[0m_\u001b[0m\u001b[0;34m,\u001b[0m \u001b[0mEave\u001b[0m\u001b[0;34m,\u001b[0m \u001b[0mEaveu\u001b[0m \u001b[0;34m=\u001b[0m \u001b[0mfitf\u001b[0m\u001b[0;34m.\u001b[0m\u001b[0mprofileXY\u001b[0m\u001b[0;34m(\u001b[0m\u001b[0mX\u001b[0m\u001b[0;34m,\u001b[0m \u001b[0mY\u001b[0m\u001b[0;34m,\u001b[0m \u001b[0mE\u001b[0m\u001b[0;34m,\u001b[0m \u001b[0mXYnbins\u001b[0m\u001b[0;34m,\u001b[0m \u001b[0mXYnbins\u001b[0m\u001b[0;34m,\u001b[0m \u001b[0mXYrange\u001b[0m\u001b[0;34m,\u001b[0m \u001b[0mXYrange\u001b[0m\u001b[0;34m)\u001b[0m\u001b[0;34m\u001b[0m\u001b[0m\n\u001b[0m\u001b[1;32m      2\u001b[0m \u001b[0;34m*\u001b[0m\u001b[0m_\u001b[0m\u001b[0;34m,\u001b[0m \u001b[0mQave\u001b[0m\u001b[0;34m,\u001b[0m \u001b[0mQaveu\u001b[0m \u001b[0;34m=\u001b[0m \u001b[0mfitf\u001b[0m\u001b[0;34m.\u001b[0m\u001b[0mprofileXY\u001b[0m\u001b[0;34m(\u001b[0m\u001b[0mX\u001b[0m\u001b[0;34m,\u001b[0m \u001b[0mY\u001b[0m\u001b[0;34m,\u001b[0m \u001b[0mQ\u001b[0m\u001b[0;34m,\u001b[0m \u001b[0mXYnbins\u001b[0m\u001b[0;34m,\u001b[0m \u001b[0mXYnbins\u001b[0m\u001b[0;34m,\u001b[0m \u001b[0mXYrange\u001b[0m\u001b[0;34m,\u001b[0m \u001b[0mXYrange\u001b[0m\u001b[0;34m)\u001b[0m\u001b[0;34m\u001b[0m\u001b[0m\n\u001b[1;32m      3\u001b[0m \u001b[0;34m\u001b[0m\u001b[0m\n\u001b[1;32m      4\u001b[0m \u001b[0mEaveu_rel\u001b[0m \u001b[0;34m=\u001b[0m \u001b[0mrelative_errors\u001b[0m\u001b[0;34m(\u001b[0m\u001b[0mEave\u001b[0m\u001b[0;34m,\u001b[0m \u001b[0mEaveu\u001b[0m\u001b[0;34m,\u001b[0m \u001b[0mpercentual\u001b[0m\u001b[0;34m=\u001b[0m\u001b[0;32mTrue\u001b[0m\u001b[0;34m)\u001b[0m\u001b[0;34m\u001b[0m\u001b[0m\n\u001b[1;32m      5\u001b[0m \u001b[0mQaveu_rel\u001b[0m \u001b[0;34m=\u001b[0m \u001b[0mrelative_errors\u001b[0m\u001b[0;34m(\u001b[0m\u001b[0mQave\u001b[0m\u001b[0;34m,\u001b[0m \u001b[0mQaveu\u001b[0m\u001b[0;34m,\u001b[0m \u001b[0mpercentual\u001b[0m\u001b[0;34m=\u001b[0m\u001b[0;32mTrue\u001b[0m\u001b[0;34m)\u001b[0m\u001b[0;34m\u001b[0m\u001b[0m\n",
      "\u001b[0;31mNameError\u001b[0m: name 'E' is not defined"
     ]
    }
   ],
   "source": [
    "*_, Eave, Eaveu = fitf.profileXY(X, Y, E, XYnbins, XYnbins, XYrange, XYrange)\n",
    "*_, Qave, Qaveu = fitf.profileXY(X, Y, Q, XYnbins, XYnbins, XYrange, XYrange)\n",
    "\n",
    "Eaveu_rel = relative_errors(Eave, Eaveu, percentual=True)\n",
    "Qaveu_rel = relative_errors(Qave, Qaveu, percentual=True)\n",
    "\n",
    "Eok = Eave > 1e3\n",
    "Qok = Qave > 1e1\n",
    "\n",
    "E_min = np.percentile(Eave[Eok],  0.1)\n",
    "E_max = np.percentile(Eave[Eok], 99.9)\n",
    "\n",
    "Eu_min = np.percentile(Eaveu_rel[Eok],  1.0)\n",
    "Eu_max = np.percentile(Eaveu_rel[Eok], 95.0)\n",
    "\n",
    "Q_min = np.percentile(Qave[Eok],  1.0)\n",
    "Q_max = np.percentile(Qave[Eok], 99.9)\n",
    "\n",
    "Qu_min = np.percentile(Qaveu_rel[Eok],  1.0)\n",
    "Qu_max = np.percentile(Qaveu_rel[Eok], 95.0)"
   ]
  },
  {
   "cell_type": "markdown",
   "metadata": {},
   "source": [
    "### Energy map display"
   ]
  },
  {
   "cell_type": "code",
   "execution_count": 12,
   "metadata": {},
   "outputs": [
    {
     "ename": "NameError",
     "evalue": "name 'E_min' is not defined",
     "output_type": "error",
     "traceback": [
      "\u001b[0;31m---------------------------------------------------------------------------\u001b[0m",
      "\u001b[0;31mNameError\u001b[0m                                 Traceback (most recent call last)",
      "\u001b[0;32m<ipython-input-12-dcc308165ab6>\u001b[0m in \u001b[0;36m<module>\u001b[0;34m()\u001b[0m\n\u001b[0;32m----> 1\u001b[0;31m \u001b[0mbins\u001b[0m \u001b[0;34m=\u001b[0m \u001b[0mnp\u001b[0m\u001b[0;34m.\u001b[0m\u001b[0mlinspace\u001b[0m\u001b[0;34m(\u001b[0m\u001b[0mE_min\u001b[0m\u001b[0;34m,\u001b[0m \u001b[0mE_max\u001b[0m\u001b[0;34m,\u001b[0m \u001b[0;36m101\u001b[0m\u001b[0;34m)\u001b[0m\u001b[0;34m\u001b[0m\u001b[0m\n\u001b[0m\u001b[1;32m      2\u001b[0m \u001b[0mplt\u001b[0m\u001b[0;34m.\u001b[0m\u001b[0mhist\u001b[0m\u001b[0;34m(\u001b[0m\u001b[0mEave\u001b[0m\u001b[0;34m.\u001b[0m\u001b[0mflatten\u001b[0m\u001b[0;34m(\u001b[0m\u001b[0;34m)\u001b[0m\u001b[0;34m,\u001b[0m \u001b[0mbins\u001b[0m\u001b[0;34m)\u001b[0m\u001b[0;34m\u001b[0m\u001b[0m\n\u001b[1;32m      3\u001b[0m \u001b[0mlabels\u001b[0m\u001b[0;34m(\u001b[0m\u001b[0;34m\"Average energy (pes)\"\u001b[0m\u001b[0;34m,\u001b[0m \u001b[0;34m\"Entries\"\u001b[0m\u001b[0;34m,\u001b[0m \u001b[0;34mf\"Average energy for {XYpitch:.1f} mm pitch\"\u001b[0m\u001b[0;34m)\u001b[0m\u001b[0;34m\u001b[0m\u001b[0m\n\u001b[1;32m      4\u001b[0m \u001b[0;34m\u001b[0m\u001b[0m\n\u001b[1;32m      5\u001b[0m \u001b[0mplt\u001b[0m\u001b[0;34m.\u001b[0m\u001b[0mtight_layout\u001b[0m\u001b[0;34m(\u001b[0m\u001b[0;34m)\u001b[0m\u001b[0;34m\u001b[0m\u001b[0m\n",
      "\u001b[0;31mNameError\u001b[0m: name 'E_min' is not defined"
     ]
    }
   ],
   "source": [
    "bins = np.linspace(E_min, E_max, 101)\n",
    "plt.hist(Eave.flatten(), bins)\n",
    "labels(\"Average energy (pes)\", \"Entries\", f\"Average energy for {XYpitch:.1f} mm pitch\")\n",
    "\n",
    "plt.tight_layout()\n",
    "save(\"Energy_distributions\")"
   ]
  },
  {
   "cell_type": "code",
   "execution_count": 13,
   "metadata": {},
   "outputs": [
    {
     "ename": "NameError",
     "evalue": "name 'Eu_min' is not defined",
     "output_type": "error",
     "traceback": [
      "\u001b[0;31m---------------------------------------------------------------------------\u001b[0m",
      "\u001b[0;31mNameError\u001b[0m                                 Traceback (most recent call last)",
      "\u001b[0;32m<ipython-input-13-2fd9d65aacc9>\u001b[0m in \u001b[0;36m<module>\u001b[0;34m()\u001b[0m\n\u001b[0;32m----> 1\u001b[0;31m \u001b[0mbins\u001b[0m \u001b[0;34m=\u001b[0m \u001b[0mnp\u001b[0m\u001b[0;34m.\u001b[0m\u001b[0mlinspace\u001b[0m\u001b[0;34m(\u001b[0m\u001b[0mEu_min\u001b[0m\u001b[0;34m,\u001b[0m \u001b[0mEu_max\u001b[0m\u001b[0;34m,\u001b[0m \u001b[0;36m101\u001b[0m\u001b[0;34m)\u001b[0m\u001b[0;34m\u001b[0m\u001b[0m\n\u001b[0m\u001b[1;32m      2\u001b[0m \u001b[0mplt\u001b[0m\u001b[0;34m.\u001b[0m\u001b[0mhist\u001b[0m\u001b[0;34m(\u001b[0m\u001b[0mEaveu_rel\u001b[0m\u001b[0;34m.\u001b[0m\u001b[0mflatten\u001b[0m\u001b[0;34m(\u001b[0m\u001b[0;34m)\u001b[0m\u001b[0;34m,\u001b[0m \u001b[0mbins\u001b[0m\u001b[0;34m)\u001b[0m\u001b[0;34m\u001b[0m\u001b[0m\n\u001b[1;32m      3\u001b[0m \u001b[0mlabels\u001b[0m\u001b[0;34m(\u001b[0m\u001b[0;34m\"Average energy uncertainty (%)\"\u001b[0m\u001b[0;34m,\u001b[0m \u001b[0;34m\"Entries\"\u001b[0m\u001b[0;34m,\u001b[0m \u001b[0;34mf\"Average energy unc. for {XYpitch:.1f} mm pitch\"\u001b[0m\u001b[0;34m)\u001b[0m\u001b[0;34m\u001b[0m\u001b[0m\n\u001b[1;32m      4\u001b[0m \u001b[0;34m\u001b[0m\u001b[0m\n\u001b[1;32m      5\u001b[0m \u001b[0mplt\u001b[0m\u001b[0;34m.\u001b[0m\u001b[0mtight_layout\u001b[0m\u001b[0;34m(\u001b[0m\u001b[0;34m)\u001b[0m\u001b[0;34m\u001b[0m\u001b[0m\n",
      "\u001b[0;31mNameError\u001b[0m: name 'Eu_min' is not defined"
     ]
    }
   ],
   "source": [
    "bins = np.linspace(Eu_min, Eu_max, 101)\n",
    "plt.hist(Eaveu_rel.flatten(), bins)\n",
    "labels(\"Average energy uncertainty (%)\", \"Entries\", f\"Average energy unc. for {XYpitch:.1f} mm pitch\")\n",
    "\n",
    "plt.tight_layout()\n",
    "save(\"Energy_uncertainty_distributions\")"
   ]
  },
  {
   "cell_type": "code",
   "execution_count": 14,
   "metadata": {},
   "outputs": [
    {
     "ename": "NameError",
     "evalue": "name 'Eave' is not defined",
     "output_type": "error",
     "traceback": [
      "\u001b[0;31m---------------------------------------------------------------------------\u001b[0m",
      "\u001b[0;31mNameError\u001b[0m                                 Traceback (most recent call last)",
      "\u001b[0;32m<ipython-input-14-4804ef5b9a4f>\u001b[0m in \u001b[0;36m<module>\u001b[0;34m()\u001b[0m\n\u001b[0;32m----> 1\u001b[0;31m *_, cb = display_matrix(XYcenters, XYcenters, Eave,\n\u001b[0m\u001b[1;32m      2\u001b[0m                         \u001b[0mcmin\u001b[0m \u001b[0;34m=\u001b[0m \u001b[0mE_min\u001b[0m\u001b[0;34m,\u001b[0m\u001b[0;34m\u001b[0m\u001b[0m\n\u001b[1;32m      3\u001b[0m                         \u001b[0mcmax\u001b[0m \u001b[0;34m=\u001b[0m \u001b[0mE_max\u001b[0m\u001b[0;34m,\u001b[0m\u001b[0;34m\u001b[0m\u001b[0m\n\u001b[1;32m      4\u001b[0m                         \u001b[0mcmap\u001b[0m \u001b[0;34m=\u001b[0m \u001b[0mdefault_cmap\u001b[0m\u001b[0;34m,\u001b[0m\u001b[0;34m\u001b[0m\u001b[0m\n\u001b[1;32m      5\u001b[0m                         new_figure = False)\n",
      "\u001b[0;31mNameError\u001b[0m: name 'Eave' is not defined"
     ]
    }
   ],
   "source": [
    "*_, cb = display_matrix(XYcenters, XYcenters, Eave,\n",
    "                        cmin = E_min,\n",
    "                        cmax = E_max,\n",
    "                        cmap = default_cmap,\n",
    "                        new_figure = False)\n",
    "cb.set_label(\"Average energy (pes)\")\n",
    "labels(\"X (mm)\", \"Y (mm)\", f\"Average energy for {XYpitch:.1f} mm pitch\")\n",
    "\n",
    "plt.tight_layout()\n",
    "save(\"Energy_maps\")"
   ]
  },
  {
   "cell_type": "code",
   "execution_count": 15,
   "metadata": {},
   "outputs": [
    {
     "ename": "NameError",
     "evalue": "name 'Eaveu_rel' is not defined",
     "output_type": "error",
     "traceback": [
      "\u001b[0;31m---------------------------------------------------------------------------\u001b[0m",
      "\u001b[0;31mNameError\u001b[0m                                 Traceback (most recent call last)",
      "\u001b[0;32m<ipython-input-15-eed05c6b25fa>\u001b[0m in \u001b[0;36m<module>\u001b[0;34m()\u001b[0m\n\u001b[0;32m----> 1\u001b[0;31m *_, cb = display_matrix(XYcenters, XYcenters, Eaveu_rel,\n\u001b[0m\u001b[1;32m      2\u001b[0m                         \u001b[0mcmin\u001b[0m \u001b[0;34m=\u001b[0m \u001b[0mEu_min\u001b[0m\u001b[0;34m,\u001b[0m\u001b[0;34m\u001b[0m\u001b[0m\n\u001b[1;32m      3\u001b[0m                         \u001b[0mcmax\u001b[0m \u001b[0;34m=\u001b[0m \u001b[0mEu_max\u001b[0m\u001b[0;34m,\u001b[0m\u001b[0;34m\u001b[0m\u001b[0m\n\u001b[1;32m      4\u001b[0m                         \u001b[0mcmap\u001b[0m \u001b[0;34m=\u001b[0m \u001b[0mdefault_cmap\u001b[0m\u001b[0;34m,\u001b[0m\u001b[0;34m\u001b[0m\u001b[0m\n\u001b[1;32m      5\u001b[0m                         new_figure = False)\n",
      "\u001b[0;31mNameError\u001b[0m: name 'Eaveu_rel' is not defined"
     ]
    }
   ],
   "source": [
    "*_, cb = display_matrix(XYcenters, XYcenters, Eaveu_rel,\n",
    "                        cmin = Eu_min,\n",
    "                        cmax = Eu_max,\n",
    "                        cmap = default_cmap,\n",
    "                        new_figure = False)\n",
    "cb.set_label(\"Average energy uncertainty(%)\")\n",
    "labels(\"X (mm)\", \"Y (mm)\", f\"Average energy unc. for {XYpitch:.1f} mm pitch\")\n",
    "\n",
    "plt.tight_layout()\n",
    "save(\"Energy_uncertainty_maps\")"
   ]
  },
  {
   "cell_type": "markdown",
   "metadata": {},
   "source": [
    "### Charge map display"
   ]
  },
  {
   "cell_type": "code",
   "execution_count": 16,
   "metadata": {},
   "outputs": [
    {
     "ename": "NameError",
     "evalue": "name 'Q_min' is not defined",
     "output_type": "error",
     "traceback": [
      "\u001b[0;31m---------------------------------------------------------------------------\u001b[0m",
      "\u001b[0;31mNameError\u001b[0m                                 Traceback (most recent call last)",
      "\u001b[0;32m<ipython-input-16-f8a363dd72c1>\u001b[0m in \u001b[0;36m<module>\u001b[0;34m()\u001b[0m\n\u001b[0;32m----> 1\u001b[0;31m \u001b[0mbins\u001b[0m \u001b[0;34m=\u001b[0m \u001b[0mnp\u001b[0m\u001b[0;34m.\u001b[0m\u001b[0mlinspace\u001b[0m\u001b[0;34m(\u001b[0m\u001b[0mQ_min\u001b[0m\u001b[0;34m,\u001b[0m \u001b[0mQ_max\u001b[0m\u001b[0;34m,\u001b[0m \u001b[0;36m101\u001b[0m\u001b[0;34m)\u001b[0m\u001b[0;34m\u001b[0m\u001b[0m\n\u001b[0m\u001b[1;32m      2\u001b[0m \u001b[0mplt\u001b[0m\u001b[0;34m.\u001b[0m\u001b[0mhist\u001b[0m\u001b[0;34m(\u001b[0m\u001b[0mQave\u001b[0m\u001b[0;34m.\u001b[0m\u001b[0mflatten\u001b[0m\u001b[0;34m(\u001b[0m\u001b[0;34m)\u001b[0m\u001b[0;34m,\u001b[0m \u001b[0mbins\u001b[0m\u001b[0;34m)\u001b[0m\u001b[0;34m\u001b[0m\u001b[0m\n\u001b[1;32m      3\u001b[0m \u001b[0mlabels\u001b[0m\u001b[0;34m(\u001b[0m\u001b[0;34m\"Average charge (pes)\"\u001b[0m\u001b[0;34m,\u001b[0m \u001b[0;34m\"Entries\"\u001b[0m\u001b[0;34m,\u001b[0m \u001b[0;34mf\"Average charge for {XYpitch:.1f} mm pitch\"\u001b[0m\u001b[0;34m)\u001b[0m\u001b[0;34m\u001b[0m\u001b[0m\n\u001b[1;32m      4\u001b[0m \u001b[0;34m\u001b[0m\u001b[0m\n\u001b[1;32m      5\u001b[0m \u001b[0mplt\u001b[0m\u001b[0;34m.\u001b[0m\u001b[0mtight_layout\u001b[0m\u001b[0;34m(\u001b[0m\u001b[0;34m)\u001b[0m\u001b[0;34m\u001b[0m\u001b[0m\n",
      "\u001b[0;31mNameError\u001b[0m: name 'Q_min' is not defined"
     ]
    }
   ],
   "source": [
    "bins = np.linspace(Q_min, Q_max, 101)\n",
    "plt.hist(Qave.flatten(), bins)\n",
    "labels(\"Average charge (pes)\", \"Entries\", f\"Average charge for {XYpitch:.1f} mm pitch\")\n",
    "\n",
    "plt.tight_layout()\n",
    "save(\"Charge_distributions\")"
   ]
  },
  {
   "cell_type": "code",
   "execution_count": 17,
   "metadata": {},
   "outputs": [
    {
     "ename": "NameError",
     "evalue": "name 'Qu_min' is not defined",
     "output_type": "error",
     "traceback": [
      "\u001b[0;31m---------------------------------------------------------------------------\u001b[0m",
      "\u001b[0;31mNameError\u001b[0m                                 Traceback (most recent call last)",
      "\u001b[0;32m<ipython-input-17-697a80aa85d7>\u001b[0m in \u001b[0;36m<module>\u001b[0;34m()\u001b[0m\n\u001b[0;32m----> 1\u001b[0;31m \u001b[0mbins\u001b[0m \u001b[0;34m=\u001b[0m \u001b[0mnp\u001b[0m\u001b[0;34m.\u001b[0m\u001b[0mlinspace\u001b[0m\u001b[0;34m(\u001b[0m\u001b[0mQu_min\u001b[0m\u001b[0;34m,\u001b[0m \u001b[0mQu_max\u001b[0m\u001b[0;34m,\u001b[0m \u001b[0;36m101\u001b[0m\u001b[0;34m)\u001b[0m\u001b[0;34m\u001b[0m\u001b[0m\n\u001b[0m\u001b[1;32m      2\u001b[0m \u001b[0mplt\u001b[0m\u001b[0;34m.\u001b[0m\u001b[0mhist\u001b[0m\u001b[0;34m(\u001b[0m\u001b[0mQaveu_rel\u001b[0m\u001b[0;34m.\u001b[0m\u001b[0mflatten\u001b[0m\u001b[0;34m(\u001b[0m\u001b[0;34m)\u001b[0m\u001b[0;34m,\u001b[0m \u001b[0mbins\u001b[0m\u001b[0;34m)\u001b[0m\u001b[0;34m\u001b[0m\u001b[0m\n\u001b[1;32m      3\u001b[0m \u001b[0mlabels\u001b[0m\u001b[0;34m(\u001b[0m\u001b[0;34m\"Average charge uncertainty (%)\"\u001b[0m\u001b[0;34m,\u001b[0m \u001b[0;34m\"Entries\"\u001b[0m\u001b[0;34m,\u001b[0m \u001b[0;34mf\"Average charge unc. for {XYpitch:.1f} mm pitch\"\u001b[0m\u001b[0;34m)\u001b[0m\u001b[0;34m\u001b[0m\u001b[0m\n\u001b[1;32m      4\u001b[0m \u001b[0;34m\u001b[0m\u001b[0m\n\u001b[1;32m      5\u001b[0m \u001b[0mplt\u001b[0m\u001b[0;34m.\u001b[0m\u001b[0mtight_layout\u001b[0m\u001b[0;34m(\u001b[0m\u001b[0;34m)\u001b[0m\u001b[0;34m\u001b[0m\u001b[0m\n",
      "\u001b[0;31mNameError\u001b[0m: name 'Qu_min' is not defined"
     ]
    }
   ],
   "source": [
    "bins = np.linspace(Qu_min, Qu_max, 101)\n",
    "plt.hist(Qaveu_rel.flatten(), bins)\n",
    "labels(\"Average charge uncertainty (%)\", \"Entries\", f\"Average charge unc. for {XYpitch:.1f} mm pitch\")\n",
    "\n",
    "plt.tight_layout()\n",
    "save(\"Charge_uncertainty_distributions\")"
   ]
  },
  {
   "cell_type": "code",
   "execution_count": 18,
   "metadata": {},
   "outputs": [
    {
     "ename": "NameError",
     "evalue": "name 'Qave' is not defined",
     "output_type": "error",
     "traceback": [
      "\u001b[0;31m---------------------------------------------------------------------------\u001b[0m",
      "\u001b[0;31mNameError\u001b[0m                                 Traceback (most recent call last)",
      "\u001b[0;32m<ipython-input-18-650f2fc0fa1a>\u001b[0m in \u001b[0;36m<module>\u001b[0;34m()\u001b[0m\n\u001b[0;32m----> 1\u001b[0;31m *_, cb = display_matrix(XYcenters, XYcenters, Qave,\n\u001b[0m\u001b[1;32m      2\u001b[0m                         \u001b[0mcmin\u001b[0m \u001b[0;34m=\u001b[0m \u001b[0mQ_min\u001b[0m\u001b[0;34m,\u001b[0m\u001b[0;34m\u001b[0m\u001b[0m\n\u001b[1;32m      3\u001b[0m                         \u001b[0mcmax\u001b[0m \u001b[0;34m=\u001b[0m \u001b[0mQ_max\u001b[0m\u001b[0;34m,\u001b[0m\u001b[0;34m\u001b[0m\u001b[0m\n\u001b[1;32m      4\u001b[0m                         \u001b[0mcmap\u001b[0m \u001b[0;34m=\u001b[0m \u001b[0mdefault_cmap\u001b[0m\u001b[0;34m,\u001b[0m\u001b[0;34m\u001b[0m\u001b[0m\n\u001b[1;32m      5\u001b[0m                         new_figure = False)\n",
      "\u001b[0;31mNameError\u001b[0m: name 'Qave' is not defined"
     ]
    }
   ],
   "source": [
    "*_, cb = display_matrix(XYcenters, XYcenters, Qave,\n",
    "                        cmin = Q_min,\n",
    "                        cmax = Q_max,\n",
    "                        cmap = default_cmap,\n",
    "                        new_figure = False)\n",
    "cb.set_label(\"Average charge (pes)\")\n",
    "labels(\"X (mm)\", \"Y (mm)\", f\"Average charge for {XYpitch:.1f} mm pitch\")\n",
    "\n",
    "plt.tight_layout()\n",
    "save(\"Charge_maps\")"
   ]
  },
  {
   "cell_type": "code",
   "execution_count": 19,
   "metadata": {},
   "outputs": [
    {
     "ename": "NameError",
     "evalue": "name 'Qaveu_rel' is not defined",
     "output_type": "error",
     "traceback": [
      "\u001b[0;31m---------------------------------------------------------------------------\u001b[0m",
      "\u001b[0;31mNameError\u001b[0m                                 Traceback (most recent call last)",
      "\u001b[0;32m<ipython-input-19-f77421552ba0>\u001b[0m in \u001b[0;36m<module>\u001b[0;34m()\u001b[0m\n\u001b[0;32m----> 1\u001b[0;31m *_, cb = display_matrix(XYcenters, XYcenters, Qaveu_rel,\n\u001b[0m\u001b[1;32m      2\u001b[0m                         \u001b[0mcmin\u001b[0m \u001b[0;34m=\u001b[0m \u001b[0mQu_min\u001b[0m\u001b[0;34m,\u001b[0m\u001b[0;34m\u001b[0m\u001b[0m\n\u001b[1;32m      3\u001b[0m                         \u001b[0mcmax\u001b[0m \u001b[0;34m=\u001b[0m \u001b[0mQu_max\u001b[0m\u001b[0;34m,\u001b[0m\u001b[0;34m\u001b[0m\u001b[0m\n\u001b[1;32m      4\u001b[0m                         \u001b[0mcmap\u001b[0m \u001b[0;34m=\u001b[0m \u001b[0mdefault_cmap\u001b[0m\u001b[0;34m,\u001b[0m\u001b[0;34m\u001b[0m\u001b[0m\n\u001b[1;32m      5\u001b[0m                         new_figure = False)\n",
      "\u001b[0;31mNameError\u001b[0m: name 'Qaveu_rel' is not defined"
     ]
    }
   ],
   "source": [
    "*_, cb = display_matrix(XYcenters, XYcenters, Qaveu_rel,\n",
    "                        cmin = Qu_min,\n",
    "                        cmax = Qu_max,\n",
    "                        cmap = default_cmap,\n",
    "                        new_figure = False)\n",
    "cb.set_label(\"Average charge uncertainty(%)\")\n",
    "labels(\"X (mm)\", \"Y (mm)\", f\"Average charge unc. for {XYpitch:.1f} mm pitch\")\n",
    "\n",
    "plt.tight_layout()\n",
    "save(\"Charge_uncertainty_maps\")"
   ]
  },
  {
   "cell_type": "markdown",
   "metadata": {},
   "source": [
    "### Produce HDF5 output"
   ]
  },
  {
   "cell_type": "code",
   "execution_count": 20,
   "metadata": {},
   "outputs": [],
   "source": [
    "with tb.open_file(correction_filename, \"a\") as correction_file:\n",
    "    map_table = correction_file.create_table(correction_file.root, \"GEOMapInfo\", MapInfo, \"Map metadata\")\n",
    "\n",
    "    row = map_table.row\n",
    "    row[\"x_nbins\"] = XYnbins\n",
    "    row[\"y_nbins\"] = XYnbins\n",
    "    row[\"x_pitch\"] = XYpitch\n",
    "    row[\"y_pitch\"] = XYpitch\n",
    "    row[\"x_min\"  ] = XYrange[0]\n",
    "    row[\"x_max\"  ] = XYrange[1]\n",
    "    row[\"y_min\"  ] = XYrange[0]\n",
    "    row[\"y_max\"  ] = XYrange[1]\n",
    "    row.append()"
   ]
  },
  {
   "cell_type": "code",
   "execution_count": 21,
   "metadata": {},
   "outputs": [
    {
     "ename": "NameError",
     "evalue": "name 'Eave' is not defined",
     "output_type": "error",
     "traceback": [
      "\u001b[0;31m---------------------------------------------------------------------------\u001b[0m",
      "\u001b[0;31mNameError\u001b[0m                                 Traceback (most recent call last)",
      "\u001b[0;32m<ipython-input-21-ed977d2c4a36>\u001b[0m in \u001b[0;36m<module>\u001b[0;34m()\u001b[0m\n\u001b[1;32m      9\u001b[0m                                         \u001b[0mgroup\u001b[0m      \u001b[0;34m=\u001b[0m \u001b[0mgroup\u001b[0m\u001b[0;34m,\u001b[0m\u001b[0;34m\u001b[0m\u001b[0m\n\u001b[1;32m     10\u001b[0m                                         table_name = table_name)\n\u001b[0;32m---> 11\u001b[0;31m     \u001b[0mwrite\u001b[0m\u001b[0;34m(\u001b[0m\u001b[0mXYcenters\u001b[0m\u001b[0;34m,\u001b[0m \u001b[0mXYcenters\u001b[0m\u001b[0;34m,\u001b[0m \u001b[0mEave\u001b[0m\u001b[0;34m,\u001b[0m \u001b[0mEaveu\u001b[0m \u001b[0;34m*\u001b[0m \u001b[0mEave\u001b[0m \u001b[0;34m/\u001b[0m \u001b[0;36m100\u001b[0m\u001b[0;34m,\u001b[0m \u001b[0mNevt\u001b[0m\u001b[0;34m)\u001b[0m\u001b[0;34m\u001b[0m\u001b[0m\n\u001b[0m\u001b[1;32m     12\u001b[0m \u001b[0;34m\u001b[0m\u001b[0m\n\u001b[1;32m     13\u001b[0m     \u001b[0mtable_name\u001b[0m \u001b[0;34m=\u001b[0m \u001b[0;34m\"Qgeometry\"\u001b[0m\u001b[0;34m\u001b[0m\u001b[0m\n",
      "\u001b[0;31mNameError\u001b[0m: name 'Eave' is not defined"
     ]
    }
   ],
   "source": [
    "with tb.open_file(correction_filename, \"r+\") as output_file:\n",
    "    group      = \"XYcorrections\"\n",
    "    table_name = \"Egeometry\"\n",
    "    if (overwrite                                      and\n",
    "        group      in output_file.root                 and\n",
    "        table_name in getattr(output_file.root, group)):\n",
    "        output_file.remove_node(getattr(output_file.root, group), table_name)\n",
    "    write = kdstio.xy_correction_writer(output_file,\n",
    "                                        group      = group,\n",
    "                                        table_name = table_name)\n",
    "    write(XYcenters, XYcenters, Eave, Eaveu * Eave / 100, Nevt)\n",
    "\n",
    "    table_name = \"Qgeometry\"\n",
    "    if (overwrite                                      and\n",
    "        group      in output_file.root                 and\n",
    "        table_name in getattr(output_file.root, group)):\n",
    "        output_file.remove_node(getattr(output_file.root, group), table_name)\n",
    "    write = kdstio.xy_correction_writer(output_file,\n",
    "                                        group      = group,\n",
    "                                        table_name = table_name)\n",
    "    write(XYcenters, XYcenters, Qave, Qaveu * Qave / 100, Nevt)"
   ]
  }
 ],
 "metadata": {
  "kernelspec": {
   "display_name": "Python 3",
   "language": "python",
   "name": "python3"
  },
  "language_info": {
   "codemirror_mode": {
    "name": "ipython",
    "version": 3
   },
   "file_extension": ".py",
   "mimetype": "text/x-python",
   "name": "python",
   "nbconvert_exporter": "python",
   "pygments_lexer": "ipython3",
   "version": "3.6.1"
  }
 },
 "nbformat": 4,
 "nbformat_minor": 2
}
