{
 "cells": [
  {
   "cell_type": "markdown",
   "metadata": {},
   "source": [
    "# Produce geometrical XY map"
   ]
  },
  {
   "cell_type": "markdown",
   "metadata": {},
   "source": [
    "<i>\n",
    "This notebook takes a clean kDST and a correction file,\n",
    "performs the lifetime correction and measures the energy\n",
    "at different points of the XY plane. The resulting map\n",
    "is stored in the same correction file.\n",
    "</i>"
   ]
  },
  {
   "cell_type": "markdown",
   "metadata": {},
   "source": [
    "### Notebook configuration"
   ]
  },
  {
   "cell_type": "code",
   "execution_count": null,
   "metadata": {},
   "outputs": [],
   "source": [
    "run_number          = XXX_RUN_NUMBER_XXX\n",
    "input_dst_filename  = f\"$IC_DATA/RunIV/kdst_{run_number}_filtered.h5\"\n",
    "correction_filename = f\"$IC_DATA/XYmaps/corrections_run{run_number}.h5\"\n",
    "plots_output_folder = f\"plots/{run_number}/\"\n",
    "overwrite           = True\n",
    "\n",
    "Zrange  =  100,  550\n",
    "XYrange = -200,  200\n",
    "Znbins  =   10\n",
    "XYnbins =  100\n",
    "\n",
    "# Plotting style\n",
    "default_cmap = \"viridis\"\n",
    "figure_size  = 16, 12\n",
    "font_size    = 15\n",
    "\n",
    "save_plots   = True\n",
    "with_titles  = False\n",
    "plots_format = \"pdf\""
   ]
  },
  {
   "cell_type": "markdown",
   "metadata": {},
   "source": [
    "### Imports"
   ]
  },
  {
   "cell_type": "code",
   "execution_count": null,
   "metadata": {},
   "outputs": [],
   "source": [
    "import os\n",
    "import time\n",
    "import collections\n",
    "import warnings\n",
    "\n",
    "import tables            as tb\n",
    "import numpy             as np\n",
    "import matplotlib.pyplot as plt\n",
    "\n",
    "import invisible_cities.core.fit_functions as fitf\n",
    "import invisible_cities.reco.dst_functions as dstf\n",
    "import invisible_cities.io  .kdst_io       as kdstio\n",
    "\n",
    "from invisible_cities.core .core_functions import in_range\n",
    "from invisible_cities.core .stat_functions import poisson_sigma\n",
    "from invisible_cities.icaro. hst_functions import hist\n",
    "from invisible_cities.icaro. hst_functions import display_matrix\n",
    "from invisible_cities.icaro. hst_functions import shift_to_bin_centers\n",
    "from invisible_cities.icaro. hst_functions import plot_writer\n",
    "\n",
    "from icaro.core.fit_functions import gauss_seed\n",
    "from icaro.core.fit_functions import relative_errors\n",
    "from icaro.core.fit_functions import conditional_labels\n",
    "\n",
    "from table_info import MapInfo\n",
    "\n",
    "labels = conditional_labels(with_titles)\n",
    "save   = plot_writer(plots_output_folder, plots_format) if save_plots else lambda *x: None\n",
    "\n",
    "%matplotlib inline"
   ]
  },
  {
   "cell_type": "markdown",
   "metadata": {},
   "source": [
    "### Initialization"
   ]
  },
  {
   "cell_type": "code",
   "execution_count": null,
   "metadata": {},
   "outputs": [],
   "source": [
    "Zbins     = np.linspace(* Zrange,  Znbins + 1)\n",
    "XYbins    = np.linspace(*XYrange, XYnbins + 1)\n",
    "XYcenters = shift_to_bin_centers(XYbins)\n",
    "XYpitch   = np.diff(XYbins)[0]\n",
    "\n",
    "input_dst_filename   = os.path.expandvars( input_dst_filename)\n",
    "correction_filename  = os.path.expandvars(correction_filename)\n",
    "\n",
    "plt.rcParams[\"figure.figsize\"] = figure_size\n",
    "plt.rcParams[  \"font.size\"   ] =   font_size\n",
    "\n",
    "warnings.filterwarnings('ignore', category=tb.NaturalNameWarning)"
   ]
  },
  {
   "cell_type": "markdown",
   "metadata": {},
   "source": [
    "### Read data"
   ]
  },
  {
   "cell_type": "code",
   "execution_count": null,
   "metadata": {},
   "outputs": [],
   "source": [
    "dst           = dstf.load_dst(input_dst_filename, \"DST\", \"Events\")\n",
    "unique_events = ~dst.event.duplicated()\n",
    "\n",
    "number_of_S2s_full  = np.size         (unique_events)\n",
    "number_of_evts_full = np.count_nonzero(unique_events)\n",
    "\n",
    "print(f\"Total number of S2s   : {number_of_S2s_full} \")\n",
    "print(f\"Total number of events: {number_of_evts_full}\")"
   ]
  },
  {
   "cell_type": "code",
   "execution_count": null,
   "metadata": {},
   "outputs": [],
   "source": [
    "ZcorrectionE = dstf.load_lifetime_xy_corrections(correction_filename,\n",
    "                                                 group = \"XYcorrections\",\n",
    "                                                 node  = \"Elifetime\")\n",
    "\n",
    "ZcorrectionQ = dstf.load_lifetime_xy_corrections(correction_filename,\n",
    "                                                 group = \"XYcorrections\",\n",
    "                                                 node  = \"Qlifetime\")"
   ]
  },
  {
   "cell_type": "code",
   "execution_count": null,
   "metadata": {},
   "outputs": [],
   "source": [
    "X = dst.X  .values\n",
    "Y = dst.Y  .values\n",
    "Z = dst.Z  .values\n",
    "E = dst.S2e.values * ZcorrectionE(Z, X, Y).value\n",
    "Q = dst.S2q.values * ZcorrectionQ(Z, X, Y).value"
   ]
  },
  {
   "cell_type": "markdown",
   "metadata": {},
   "source": [
    "### Event distribution"
   ]
  },
  {
   "cell_type": "code",
   "execution_count": null,
   "metadata": {},
   "outputs": [],
   "source": [
    "Nevt, *_ = plt.hist2d(X, Y, (XYbins, XYbins))\n",
    "plt.colorbar().set_label(\"Number of events\")\n",
    "labels(\"X (mm)\", \"Y (mm)\", f\"Event distribution for {XYpitch:.1f} mm pitch\")\n",
    "\n",
    "plt.tight_layout()\n",
    "save(\"Event_distribution_different_pitches_XY\")"
   ]
  },
  {
   "cell_type": "code",
   "execution_count": null,
   "metadata": {},
   "outputs": [],
   "source": [
    "Nevt_max = int(np.max(Nevt))\n",
    "bins = np.arange(Nevt_max) + 1\n",
    "plt.hist(Nevt.flatten(), bins)\n",
    "labels(\"Number of events per bin\", \"Entries\", f\"# events per bin for {XYpitch:.1f} mm pitch\")\n",
    "\n",
    "plt.tight_layout()\n",
    "save(\"Event_distribution_different_pitches\")"
   ]
  },
  {
   "cell_type": "markdown",
   "metadata": {},
   "source": [
    "### Fit example"
   ]
  },
  {
   "cell_type": "code",
   "execution_count": null,
   "metadata": {},
   "outputs": [],
   "source": [
    "xlim =  15,  20\n",
    "ylim = -25, -10\n",
    "sel  = in_range(X, *xlim) & in_range(Y, *ylim)\n",
    "e    = E[sel]\n",
    "\n",
    "frame_data = plt.gcf().add_axes((.1, .3,\n",
    "                                 .8, .6))\n",
    "y, x, _   = hist(e, 100, new_figure=False)\n",
    "seed      = gauss_seed(x, y)\n",
    "fit_range = seed[1] - 1.5 * seed[2], seed[1] + 1.5 * seed[2]\n",
    "x, y      = x[in_range(x, *fit_range)], y[in_range(x, *fit_range)]\n",
    "f         = fitf.fit(fitf.gauss, x, y, seed, sigma=poisson_sigma(y))\n",
    "plt.plot(x, f.fn(x), \"r-\", lw=4)\n",
    "\n",
    "frame_data.set_xticklabels([])\n",
    "labels(\"\", \"Entries\", \"Energy fit example\")\n",
    "lims = plt.xlim()\n",
    "\n",
    "frame_res = plt.gcf().add_axes((.1, .1,\n",
    "                                .8, .2))\n",
    "plt.errorbar(x, (f.fn(x) - y) / poisson_sigma(y), 1, np.diff(x)[0] / 2, fmt=\"p\", c=\"k\")\n",
    "plt.plot(lims, (0, 0), \"g--\")\n",
    "plt.xlim(*lims)\n",
    "plt.ylim(-5, +5)\n",
    "labels(\"Energy (pes)\", \"Standarized residual\")\n",
    "\n",
    "save(\"Energy_fit_example\")"
   ]
  },
  {
   "cell_type": "code",
   "execution_count": null,
   "metadata": {},
   "outputs": [],
   "source": [
    "xlim =  15,  20\n",
    "ylim = -25, -10\n",
    "sel  = in_range(X, *xlim) & in_range(Y, *ylim)\n",
    "q    = Q[sel]\n",
    "\n",
    "frame_data = plt.gcf().add_axes((.1, .3,\n",
    "                                 .8, .6))\n",
    "y, x, _   = hist(q, 100, new_figure=False)\n",
    "seed      = gauss_seed(x, y)\n",
    "fit_range = seed[1] - 5 * seed[2], seed[1] + 5 * seed[2]\n",
    "x, y      = x[in_range(x, *fit_range)], y[in_range(x, *fit_range)]\n",
    "f         = fitf.fit(fitf.gauss, x, y, seed, sigma=poisson_sigma(y))\n",
    "plt.plot(x, f.fn(x), \"r-\", lw=4)\n",
    "\n",
    "frame_data.set_xticklabels([])\n",
    "labels(\"\", \"Entries\", \"Energy fit example\")\n",
    "lims = plt.xlim()\n",
    "\n",
    "frame_res = plt.gcf().add_axes((.1, .1,\n",
    "                                .8, .2))\n",
    "plt.errorbar(x, (f.fn(x) - y) / poisson_sigma(y), 1, np.diff(x)[0] / 2, fmt=\"p\", c=\"k\")\n",
    "plt.plot(lims, (0, 0), \"g--\")\n",
    "plt.xlim(*lims)\n",
    "plt.ylim(-5, +5)\n",
    "labels(\"Energy (pes)\", \"Standarized residual\")\n",
    "\n",
    "save(\"Charge_fit_example\")"
   ]
  },
  {
   "cell_type": "markdown",
   "metadata": {},
   "source": [
    "### Compute geometry map"
   ]
  },
  {
   "cell_type": "code",
   "execution_count": null,
   "metadata": {},
   "outputs": [],
   "source": [
    "*_, Eave, Eaveu = fitf.profileXY(X, Y, E, XYnbins, XYnbins, XYrange, XYrange)\n",
    "*_, Qave, Qaveu = fitf.profileXY(X, Y, Q, XYnbins, XYnbins, XYrange, XYrange)\n",
    "\n",
    "Eaveu_rel = relative_errors(Eave, Eaveu, percentual=True)\n",
    "Qaveu_rel = relative_errors(Qave, Qaveu, percentual=True)\n",
    "\n",
    "Eok = Eave > 1e3\n",
    "Qok = Qave > 1e1\n",
    "\n",
    "E_min = np.percentile(Eave[Eok],  0.1)\n",
    "E_max = np.percentile(Eave[Eok], 99.9)\n",
    "\n",
    "Eu_min = np.percentile(Eaveu_rel[Eok],  1.0)\n",
    "Eu_max = np.percentile(Eaveu_rel[Eok], 95.0)\n",
    "\n",
    "Q_min = np.percentile(Qave[Eok],  1.0)\n",
    "Q_max = np.percentile(Qave[Eok], 99.9)\n",
    "\n",
    "Qu_min = np.percentile(Qaveu_rel[Eok],  1.0)\n",
    "Qu_max = np.percentile(Qaveu_rel[Eok], 95.0)"
   ]
  },
  {
   "cell_type": "markdown",
   "metadata": {},
   "source": [
    "### Energy map display"
   ]
  },
  {
   "cell_type": "code",
   "execution_count": null,
   "metadata": {},
   "outputs": [],
   "source": [
    "bins = np.linspace(E_min, E_max, 101)\n",
    "plt.hist(Eave.flatten(), bins)\n",
    "labels(\"Average energy (pes)\", \"Entries\", f\"Average energy for {XYpitch:.1f} mm pitch\")\n",
    "\n",
    "plt.tight_layout()\n",
    "save(\"Energy_distributions\")"
   ]
  },
  {
   "cell_type": "code",
   "execution_count": null,
   "metadata": {},
   "outputs": [],
   "source": [
    "bins = np.linspace(Eu_min, Eu_max, 101)\n",
    "plt.hist(Eaveu_rel.flatten(), bins)\n",
    "labels(\"Average energy uncertainty (%)\", \"Entries\", f\"Average energy unc. for {XYpitch:.1f} mm pitch\")\n",
    "\n",
    "plt.tight_layout()\n",
    "save(\"Energy_uncertainty_distributions\")"
   ]
  },
  {
   "cell_type": "code",
   "execution_count": null,
   "metadata": {},
   "outputs": [],
   "source": [
    "*_, cb = display_matrix(XYcenters, XYcenters, Eave,\n",
    "                        cmin = E_min,\n",
    "                        cmax = E_max,\n",
    "                        cmap = default_cmap,\n",
    "                        new_figure = False)\n",
    "cb.set_label(\"Average energy (pes)\")\n",
    "labels(\"X (mm)\", \"Y (mm)\", f\"Average energy for {XYpitch:.1f} mm pitch\")\n",
    "\n",
    "plt.tight_layout()\n",
    "save(\"Energy_maps\")"
   ]
  },
  {
   "cell_type": "code",
   "execution_count": null,
   "metadata": {},
   "outputs": [],
   "source": [
    "*_, cb = display_matrix(XYcenters, XYcenters, Eaveu_rel,\n",
    "                        cmin = Eu_min,\n",
    "                        cmax = Eu_max,\n",
    "                        cmap = default_cmap,\n",
    "                        new_figure = False)\n",
    "cb.set_label(\"Average energy uncertainty(%)\")\n",
    "labels(\"X (mm)\", \"Y (mm)\", f\"Average energy unc. for {XYpitch:.1f} mm pitch\")\n",
    "\n",
    "plt.tight_layout()\n",
    "save(\"Energy_uncertainty_maps\")"
   ]
  },
  {
   "cell_type": "markdown",
   "metadata": {},
   "source": [
    "### Charge map display"
   ]
  },
  {
   "cell_type": "code",
   "execution_count": null,
   "metadata": {},
   "outputs": [],
   "source": [
    "bins = np.linspace(Q_min, Q_max, 101)\n",
    "plt.hist(Qave.flatten(), bins)\n",
    "labels(\"Average charge (pes)\", \"Entries\", f\"Average charge for {XYpitch:.1f} mm pitch\")\n",
    "\n",
    "plt.tight_layout()\n",
    "save(\"Charge_distributions\")"
   ]
  },
  {
   "cell_type": "code",
   "execution_count": null,
   "metadata": {},
   "outputs": [],
   "source": [
    "bins = np.linspace(Qu_min, Qu_max, 101)\n",
    "plt.hist(Qaveu_rel.flatten(), bins)\n",
    "labels(\"Average charge uncertainty (%)\", \"Entries\", f\"Average charge unc. for {XYpitch:.1f} mm pitch\")\n",
    "\n",
    "plt.tight_layout()\n",
    "save(\"Charge_uncertainty_distributions\")"
   ]
  },
  {
   "cell_type": "code",
   "execution_count": null,
   "metadata": {},
   "outputs": [],
   "source": [
    "*_, cb = display_matrix(XYcenters, XYcenters, Qave,\n",
    "                        cmin = Q_min,\n",
    "                        cmax = Q_max,\n",
    "                        cmap = default_cmap,\n",
    "                        new_figure = False)\n",
    "cb.set_label(\"Average charge (pes)\")\n",
    "labels(\"X (mm)\", \"Y (mm)\", f\"Average charge for {XYpitch:.1f} mm pitch\")\n",
    "\n",
    "plt.tight_layout()\n",
    "save(\"Charge_maps\")"
   ]
  },
  {
   "cell_type": "code",
   "execution_count": null,
   "metadata": {},
   "outputs": [],
   "source": [
    "*_, cb = display_matrix(XYcenters, XYcenters, Qaveu_rel,\n",
    "                        cmin = Qu_min,\n",
    "                        cmax = Qu_max,\n",
    "                        cmap = default_cmap,\n",
    "                        new_figure = False)\n",
    "cb.set_label(\"Average charge uncertainty(%)\")\n",
    "labels(\"X (mm)\", \"Y (mm)\", f\"Average charge unc. for {XYpitch:.1f} mm pitch\")\n",
    "\n",
    "plt.tight_layout()\n",
    "save(\"Charge_uncertainty_maps\")"
   ]
  },
  {
   "cell_type": "markdown",
   "metadata": {},
   "source": [
    "### Produce HDF5 output"
   ]
  },
  {
   "cell_type": "code",
   "execution_count": null,
   "metadata": {},
   "outputs": [],
   "source": [
    "with tb.open_file(correction_filename, \"a\") as correction_file:\n",
    "    map_table = correction_file.create_table(correction_file.root, \"GEOMapInfo\", MapInfo, \"Map metadata\")\n",
    "\n",
    "    row = map_table.row\n",
    "    row[\"x_nbins\"] = XYnbins\n",
    "    row[\"y_nbins\"] = XYnbins\n",
    "    row[\"x_pitch\"] = XYpitch\n",
    "    row[\"y_pitch\"] = XYpitch\n",
    "    row[\"x_min\"  ] = XYrange[0]\n",
    "    row[\"x_max\"  ] = XYrange[1]\n",
    "    row[\"y_min\"  ] = XYrange[0]\n",
    "    row[\"y_max\"  ] = XYrange[1]\n",
    "    row.append()"
   ]
  },
  {
   "cell_type": "code",
   "execution_count": null,
   "metadata": {},
   "outputs": [],
   "source": [
    "with tb.open_file(correction_filename, \"r+\") as output_file:\n",
    "    group      = \"XYcorrections\"\n",
    "    table_name = \"Egeometry\"\n",
    "    if (overwrite                                      and\n",
    "        group      in output_file.root                 and\n",
    "        table_name in getattr(output_file.root, group)):\n",
    "        output_file.remove_node(getattr(output_file.root, group), table_name)\n",
    "    write = kdstio.xy_correction_writer(output_file,\n",
    "                                        group      = group,\n",
    "                                        table_name = table_name)\n",
    "    write(XYcenters, XYcenters, Eave, Eaveu * Eave / 100, Nevt)\n",
    "\n",
    "    table_name = \"Qgeometry\"\n",
    "    if (overwrite                                      and\n",
    "        group      in output_file.root                 and\n",
    "        table_name in getattr(output_file.root, group)):\n",
    "        output_file.remove_node(getattr(output_file.root, group), table_name)\n",
    "    write = kdstio.xy_correction_writer(output_file,\n",
    "                                        group      = group,\n",
    "                                        table_name = table_name)\n",
    "    write(XYcenters, XYcenters, Qave, Qaveu * Qave / 100, Nevt)"
   ]
  }
 ],
 "metadata": {
  "kernelspec": {
   "display_name": "Python 3",
   "language": "python",
   "name": "python3"
  },
  "language_info": {
   "codemirror_mode": {
    "name": "ipython",
    "version": 3
   },
   "file_extension": ".py",
   "mimetype": "text/x-python",
   "name": "python",
   "nbconvert_exporter": "python",
   "pygments_lexer": "ipython3",
   "version": "3.6.1"
  }
 },
 "nbformat": 4,
 "nbformat_minor": 2
}
