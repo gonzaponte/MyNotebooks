{
 "cells": [
  {
   "cell_type": "markdown",
   "metadata": {},
   "source": [
    "# Produce lifetime XY map"
   ]
  },
  {
   "cell_type": "markdown",
   "metadata": {},
   "source": [
    "<i>\n",
    "This notebook takes a clean kDST, measures the lifetime at\n",
    "different points of the XY plane and stores this map in\n",
    "a hdf5 file.\n",
    "</i>"
   ]
  },
  {
   "cell_type": "markdown",
   "metadata": {},
   "source": [
    "### Notebook configuration"
   ]
  },
  {
   "cell_type": "code",
   "execution_count": null,
   "metadata": {
    "scrolled": true
   },
   "outputs": [],
   "source": [
    "run_number          = XXX_RUN_NUMBER_XXX\n",
    "input_dst_filename  = f\"$IC_DATA/RunIV/kdst_{run_number}_filtered.h5\"\n",
    "correction_filename = f\"$IC_DATA/XYmaps/corrections_run{run_number}.h5\"\n",
    "plots_output_folder = f\"plots/{run_number}/\"\n",
    "\n",
    "Zrange  =  100,  550\n",
    "XYrange = -200,  200\n",
    "Erange  =  2e3, 20e3\n",
    "Qrange  =  100, 1500\n",
    "Znbins  =   10\n",
    "XYnbins =   60\n",
    "Enbins  =  100\n",
    "Qnbins  =  100\n",
    "\n",
    "# Plotting style\n",
    "default_cmap = \"jet\"\n",
    "figure_size  = 16, 12\n",
    "font_size    = 15\n",
    "\n",
    "save_plots   = True\n",
    "with_titles  = False\n",
    "plots_format = \"pdf\""
   ]
  },
  {
   "cell_type": "markdown",
   "metadata": {},
   "source": [
    "### Imports"
   ]
  },
  {
   "cell_type": "code",
   "execution_count": null,
   "metadata": {
    "scrolled": true
   },
   "outputs": [],
   "source": [
    "import os\n",
    "import time\n",
    "import collections\n",
    "\n",
    "import tables            as tb\n",
    "import numpy             as np\n",
    "import matplotlib.pyplot as plt\n",
    "\n",
    "import invisible_cities.core.fit_functions as fitf\n",
    "import invisible_cities.reco.dst_functions as dstf\n",
    "import invisible_cities.io  .kdst_io       as kdstio\n",
    "\n",
    "from invisible_cities.core .core_functions import in_range\n",
    "from invisible_cities.core .core_functions import weighted_mean_and_std\n",
    "from invisible_cities.icaro. hst_functions import display_matrix\n",
    "from invisible_cities.icaro. hst_functions import shift_to_bin_centers\n",
    "from invisible_cities.icaro. hst_functions import measurement_string\n",
    "from invisible_cities.icaro. hst_functions import plot_writer\n",
    "\n",
    "from icaro.core.fit_functions import quick_gauss_fit\n",
    "from icaro.core.fit_functions import fit_slices_2d_expo\n",
    "from icaro.core.fit_functions import expo_seed\n",
    "from icaro.core.fit_functions import to_relative\n",
    "from icaro.core.fit_functions import conditional_labels\n",
    "\n",
    "from table_info import RunInfo\n",
    "from table_info import MapInfo\n",
    "\n",
    "labels = conditional_labels(with_titles)\n",
    "\n",
    "%matplotlib inline"
   ]
  },
  {
   "cell_type": "markdown",
   "metadata": {},
   "source": [
    "### Initialization"
   ]
  },
  {
   "cell_type": "code",
   "execution_count": null,
   "metadata": {
    "scrolled": true
   },
   "outputs": [],
   "source": [
    "Zbins     = np.linspace(* Zrange,  Znbins + 1)\n",
    "Ebins     = np.linspace(* Erange,  Enbins + 1)\n",
    "Qbins     = np.linspace(* Qrange,  Qnbins + 1)\n",
    "XYbins    = np.linspace(*XYrange, XYnbins + 1)\n",
    "XYcenters = shift_to_bin_centers(XYbins)\n",
    "XYpitch   = np.diff(XYbins)[0]\n",
    "\n",
    "input_dst_filename  = os.path.expandvars( input_dst_filename)\n",
    "correction_filename = os.path.expandvars(correction_filename)\n",
    "\n",
    "save = plot_writer(plots_output_folder, plots_format) if save_plots else lambda *x: None\n",
    "\n",
    "plt.rcParams[\"figure.figsize\"] = figure_size\n",
    "plt.rcParams[  \"font.size\"   ] =   font_size"
   ]
  },
  {
   "cell_type": "markdown",
   "metadata": {},
   "source": [
    "### Read data"
   ]
  },
  {
   "cell_type": "code",
   "execution_count": null,
   "metadata": {
    "scrolled": true
   },
   "outputs": [],
   "source": [
    "dst           = dstf.load_dst(input_dst_filename, \"DST\", \"Events\")\n",
    "unique_events = ~dst.event.duplicated()\n",
    "\n",
    "number_of_S2s_full  = np.size         (unique_events)\n",
    "number_of_evts_full = np.count_nonzero(unique_events)\n",
    "\n",
    "print(f\"Total number of S2s   : {number_of_S2s_full} \")\n",
    "print(f\"Total number of events: {number_of_evts_full}\")"
   ]
  },
  {
   "cell_type": "code",
   "execution_count": null,
   "metadata": {
    "scrolled": true
   },
   "outputs": [],
   "source": [
    "X = dst.X  .values\n",
    "Y = dst.Y  .values\n",
    "Z = dst.Z  .values\n",
    "E = dst.S2e.values\n",
    "Q = dst.S2q.values"
   ]
  },
  {
   "cell_type": "markdown",
   "metadata": {},
   "source": [
    "### Event distribution"
   ]
  },
  {
   "cell_type": "code",
   "execution_count": null,
   "metadata": {
    "scrolled": true
   },
   "outputs": [],
   "source": [
    "nevt, *_ = plt.hist2d(X, Y, (XYbins, XYbins))\n",
    "plt.colorbar().set_label(\"Number of events\")\n",
    "labels(\"X (mm)\", \"Y (mm)\", f\"Event distribution for {XYpitch:.1f} mm pitch\")\n",
    "save(f\"EventDistribution_{XYpitch:.1f}mm_XY\")"
   ]
  },
  {
   "cell_type": "code",
   "execution_count": null,
   "metadata": {
    "scrolled": true
   },
   "outputs": [],
   "source": [
    "nevt_max = int(np.max(nevt))\n",
    "plt.hist(nevt.flatten(), np.arange(1, nevt_max + 2))\n",
    "labels(\"Number of events per bin\", \"Entries\", \"# events per bin\")\n",
    "save(f\"EventDistribution_{XYpitch:.1f}mm\")"
   ]
  },
  {
   "cell_type": "markdown",
   "metadata": {},
   "source": [
    "### Fit examples"
   ]
  },
  {
   "cell_type": "code",
   "execution_count": null,
   "metadata": {
    "scrolled": true
   },
   "outputs": [],
   "source": [
    "xlim =  15,  25\n",
    "ylim = -25, -15\n",
    "sel  = in_range(X, *xlim) & in_range(Y, *ylim)\n",
    "z, e = Z[sel], E[sel]\n",
    "\n",
    "frame_data = plt.gcf().add_axes((.1, .3,\n",
    "                                 .8, .6))\n",
    "plt.hist2d(z, e, (Zbins, Ebins))\n",
    "\n",
    "x, y, yu = fitf.profileX(z, e, Znbins, Zrange)\n",
    "plt.errorbar(x, y, yu, np.diff(x)[0]/2, fmt=\"kp\", ms=7, lw=3)\n",
    "\n",
    "seed = expo_seed(x, y)\n",
    "f    = fitf.fit(fitf.expo, x, y, seed, sigma=yu)\n",
    "plt.plot(x, f.fn(x), \"r-\", lw=4)\n",
    "\n",
    "frame_data.set_xticklabels([])\n",
    "labels(\"\", \"Energy (pes)\", \"Lifetime fit example\")\n",
    "lims = plt.xlim()\n",
    "\n",
    "frame_res = plt.gcf().add_axes((.1, .1,\n",
    "                                .8, .2))\n",
    "plt.errorbar(x, (f.fn(x) - y) / yu, 1, np.diff(x)[0] / 2, fmt=\"p\", c=\"k\")\n",
    "plt.plot(lims, (0, 0), \"g--\")\n",
    "plt.xlim(*lims)\n",
    "plt.ylim(-5, +5)\n",
    "labels(\"Drift time (µs)\", \"Standarized residual\")\n",
    "\n",
    "save(\"Lifetime_fit_example\")"
   ]
  },
  {
   "cell_type": "code",
   "execution_count": null,
   "metadata": {
    "scrolled": true
   },
   "outputs": [],
   "source": [
    "x, y, z, uz = fitf.profileXY(X, Y, dst.S1e, 30, 30, xrange=(-200, 200), yrange=(-200, 200))\n",
    "display_matrix(x, y, z, vmin = 0, vmax=20);"
   ]
  },
  {
   "cell_type": "code",
   "execution_count": null,
   "metadata": {
    "scrolled": true
   },
   "outputs": [],
   "source": [
    "xlim =  15,  25\n",
    "ylim = -25, -15\n",
    "sel  = in_range(X, *xlim) & in_range(Y, *ylim)\n",
    "z, q = Z[sel], Q[sel]\n",
    "\n",
    "frame_data = plt.gcf().add_axes((.1, .3,\n",
    "                                 .8, .6))\n",
    "plt.hist2d(z, q, (Zbins, Qbins))\n",
    "\n",
    "x, y, yu = fitf.profileX(z, q, Znbins, Zrange)\n",
    "plt.errorbar(x, y, yu, np.diff(x)[0]/2, fmt=\"kp\", ms=7, lw=3)\n",
    "\n",
    "seed = expo_seed(x, y)\n",
    "f    = fitf.fit(fitf.expo, x, y, seed, sigma=yu)\n",
    "plt.plot(x, f.fn(x), \"r-\", lw=4)\n",
    "\n",
    "frame_data.set_xticklabels([])\n",
    "labels(\"\", \"Energy (pes)\", \"Lifetime fit example\")\n",
    "lims = plt.xlim()\n",
    "\n",
    "frame_res = plt.gcf().add_axes((.1, .1,\n",
    "                                .8, .2))\n",
    "plt.errorbar(x, (f.fn(x) - y) / yu, 1, np.diff(x)[0] / 2, fmt=\"p\", c=\"k\")\n",
    "plt.plot(lims, (0, 0), \"g--\")\n",
    "plt.xlim(*lims)\n",
    "plt.ylim(-5, +5)\n",
    "labels(\"Drift time (µs)\", \"Standarized residual\")\n",
    "\n",
    "save(\"LifetimeQ_fit_example\")"
   ]
  },
  {
   "cell_type": "markdown",
   "metadata": {},
   "source": [
    "### Compute lifetime maps"
   ]
  },
  {
   "cell_type": "code",
   "execution_count": null,
   "metadata": {
    "scrolled": true
   },
   "outputs": [],
   "source": [
    "Escale, ELT,\\\n",
    "Echi2, Eok = fit_slices_2d_expo(X, Y, Z, E, XYbins, XYbins, Znbins, zrange=Zrange, min_entries=50)\n",
    "Eok        = Eok & (ELT.value < -100) & (ELT.value > -1e5) & np.isfinite(Echi2)\n",
    "Escale_rel = to_relative(Escale, percentual=True)\n",
    "ELT_rel    = to_relative(   ELT, percentual=True)"
   ]
  },
  {
   "cell_type": "code",
   "execution_count": null,
   "metadata": {
    "scrolled": true
   },
   "outputs": [],
   "source": [
    "Qscale, QLT,\\\n",
    "Qchi2, Qok = fit_slices_2d_expo(X, Y, Z, Q, XYbins, XYbins, Znbins, zrange=Zrange, min_entries=50)\n",
    "Qok        = Qok & (QLT.value < -100) & (QLT.value > -1e5) & np.isfinite(Qchi2)\n",
    "Qscale_rel = to_relative(Qscale, percentual=True)\n",
    "QLT_rel    = to_relative(   QLT, percentual=True)"
   ]
  },
  {
   "cell_type": "code",
   "execution_count": null,
   "metadata": {
    "scrolled": true
   },
   "outputs": [],
   "source": [
    "ELT_min  = np.nanpercentile(-ELT    .value      [Eok],  0.0)\n",
    "ELT_max  = np.nanpercentile(-ELT    .value      [Eok], 99.0)\n",
    "ELTu_min = np.nanpercentile( ELT_rel.uncertainty[Eok],  0.1)\n",
    "ELTu_max = np.nanpercentile( ELT_rel.uncertainty[Eok], 90.0)\n",
    "\n",
    "E_min    = np.nanpercentile(Escale    .value      [Eok],  0.1)\n",
    "E_max    = np.nanpercentile(Escale    .value      [Eok], 99.9)\n",
    "Eu_min   = np.nanpercentile(Escale_rel.uncertainty[Eok],  0.1)\n",
    "Eu_max   = np.nanpercentile(Escale_rel.uncertainty[Eok], 85.0)\n",
    "\n",
    "QLT_min  = np.nanpercentile(-QLT    .value      [Qok],  0.0)\n",
    "QLT_max  = np.nanpercentile(-QLT    .value      [Qok], 99.5)\n",
    "QLTu_min = np.nanpercentile( QLT_rel.uncertainty[Qok],  0.1)\n",
    "QLTu_max = np.nanpercentile( QLT_rel.uncertainty[Qok], 95.0)\n",
    "\n",
    "Q_min    = np.nanpercentile(Qscale    .value      [Qok],  0.1)\n",
    "Q_max    = np.nanpercentile(Qscale    .value      [Qok], 99.9)\n",
    "Qu_min   = np.nanpercentile(Qscale_rel.uncertainty[Qok],  0.1)\n",
    "Qu_max   = np.nanpercentile(Qscale_rel.uncertainty[Qok], 90.0)\n",
    "\n",
    "print(ELT_min, ELT_max, ELTu_min, ELTu_max)\n",
    "print(E_min  , E_max  , Eu_min  , Eu_max)\n",
    "print(QLT_min, QLT_max, QLTu_min, QLTu_max)\n",
    "print(Q_min  , Q_max  , Qu_min  , Qu_max)"
   ]
  },
  {
   "cell_type": "markdown",
   "metadata": {},
   "source": [
    "### Map display"
   ]
  },
  {
   "cell_type": "code",
   "execution_count": null,
   "metadata": {
    "scrolled": true
   },
   "outputs": [],
   "source": [
    "plt.subplot(2, 2, 1)\n",
    "bins    = np.linspace(E_min, E_max, 101)\n",
    "y, x, _ = plt.hist(Escale_rel.value[Eok], bins)\n",
    "e_mean, e_std = weighted_mean_and_std(shift_to_bin_centers(x), y)\n",
    "labels(\"Energy at z=0 (pes)\", \"Entries\", \"Energy scale distribution\")\n",
    "\n",
    "plt.subplot(2, 2, 2)\n",
    "bins    = np.linspace(Eu_min, Eu_max, 101)\n",
    "y, x, _ = plt.hist(Escale_rel.uncertainty[Eok], bins)\n",
    "eu_mean, eu_std = weighted_mean_and_std(shift_to_bin_centers(x), y)\n",
    "labels(\"Energy at z=0 uncertainty(%)\", \"Entries\", \"Energy scale uncertainty distribution\")\n",
    "\n",
    "plt.subplot(2, 2, 3)\n",
    "bins    = np.linspace(ELT_min, ELT_max, 101)\n",
    "y, x, _ = plt.hist(-ELT_rel.value[Eok], bins)\n",
    "elt_mean, elt_std = weighted_mean_and_std(shift_to_bin_centers(x), y)\n",
    "labels(\"Lifetime (µs)\", \"Entries\", \"Lifetime distribution\")\n",
    "\n",
    "plt.subplot(2, 2, 4)\n",
    "bins    = np.linspace(ELTu_min, ELTu_max, 101)\n",
    "y, x, _ = plt.hist(ELT_rel.uncertainty[Eok], bins)\n",
    "eltu_mean, eltu_std = weighted_mean_and_std(shift_to_bin_centers(x), y)\n",
    "labels(\"Lifetime uncertainty (%)\", \"Entries\", \"Lifetime uncertainty distribution\")\n",
    "\n",
    "plt.tight_layout()\n",
    "\n",
    "save(\"Lifetime_and_energy_scale_distributions\")\n",
    "\n",
    "print(\"Average lifetime             (mean +- rms) = ({}) µs\" .format(measurement_string( elt_mean,  elt_std)))\n",
    "print(\"Average lifetime uncertainty (mean +- rms) = ({}) (%)\".format(measurement_string(eltu_mean, eltu_std)))"
   ]
  },
  {
   "cell_type": "code",
   "execution_count": null,
   "metadata": {
    "scrolled": true
   },
   "outputs": [],
   "source": [
    "plt.subplot(2, 2, 1)\n",
    "bins    = np.linspace(Q_min, Q_max, 101)\n",
    "y, x, _ = plt.hist(Qscale_rel.value[Qok], bins)\n",
    "q_mean, q_std = weighted_mean_and_std(shift_to_bin_centers(x), y)\n",
    "labels(\"Charge at z=0 (pes)\", \"Entries\", \"Charge scale distribution\")\n",
    "\n",
    "plt.subplot(2, 2, 2)\n",
    "bins    = np.linspace(Qu_min, Qu_max, 101)\n",
    "y, x, _ = plt.hist(Qscale_rel.uncertainty[Qok], bins)\n",
    "qu_mean, qu_std = weighted_mean_and_std(shift_to_bin_centers(x), y)\n",
    "labels(\"Charge at z=0 uncertainty(%)\", \"Entries\", \"Charge scale uncertainty distribution\")\n",
    "\n",
    "plt.subplot(2, 2, 3)\n",
    "bins    = np.linspace(QLT_min, QLT_max, 101)\n",
    "y, x, _ = plt.hist(-QLT_rel.value[Qok], bins)\n",
    "qlt_mean, qlt_std = weighted_mean_and_std(shift_to_bin_centers(x), y)\n",
    "labels(\"Charge lifetime (µs)\", \"Entries\", \"Charge lifetime distribution\")\n",
    "\n",
    "plt.subplot(2, 2, 4)\n",
    "bins    = np.linspace(QLTu_min, QLTu_max, 101)\n",
    "y, x, _ = plt.hist(QLT_rel.uncertainty[Qok], bins)\n",
    "qltu_mean, qltu_std = weighted_mean_and_std(shift_to_bin_centers(x), y)\n",
    "labels(\"Charge lifetime uncertainty (%)\", \"Entries\", \"Charge lifetime uncertainty distribution\")\n",
    "\n",
    "plt.tight_layout()\n",
    "\n",
    "save(\"Lifetime_and_charge_scale_distributions\")\n",
    "\n",
    "print(\"Average lifetime             (mean +- rms) = ({}) µs\" .format(measurement_string( qlt_mean,  qlt_std)))\n",
    "print(\"Average lifetime uncertainty (mean +- rms) = ({}) (%)\".format(measurement_string(qltu_mean, qltu_std)))"
   ]
  },
  {
   "cell_type": "code",
   "execution_count": null,
   "metadata": {
    "scrolled": true
   },
   "outputs": [],
   "source": [
    "plt.subplot(2, 2, 1)\n",
    "*_, cb = display_matrix(XYcenters, XYcenters, Escale_rel.value,\n",
    "                        cmin = E_min,\n",
    "                        cmax = E_max,\n",
    "                        cmap = default_cmap,\n",
    "                        new_figure = False);\n",
    "cb.set_label(\"Energy scale at z=0 (pes)\")\n",
    "labels(\"X (mm)\", \"Y (mm)\", \"Energy scale\")\n",
    "\n",
    "plt.subplot(2, 2, 2)\n",
    "*_, cb = display_matrix(XYcenters, XYcenters, Escale_rel.uncertainty,\n",
    "                        cmin = Eu_min,\n",
    "                        cmax = Eu_max,\n",
    "                        cmap = default_cmap,\n",
    "                        new_figure = False);\n",
    "cb.set_label(\"Relative energy scale uncertainty (%)\")\n",
    "labels(\"X (mm)\", \"Y (mm)\", \"Relative energy scale uncertainty\")\n",
    "\n",
    "plt.subplot(2, 2, 3)\n",
    "*_, cb = display_matrix(XYcenters, XYcenters, -ELT_rel.value,\n",
    "                        cmin = ELT_min,\n",
    "                        cmax = ELT_max,\n",
    "                        cmap = default_cmap,\n",
    "                        new_figure = False);\n",
    "cb.set_label(\"Lifetime (µs)\")\n",
    "labels(\"X (mm)\", \"Y (mm)\", \"Lifetime\")\n",
    "\n",
    "plt.subplot(2, 2, 4)\n",
    "*_, cb = display_matrix(XYcenters, XYcenters, ELT_rel.uncertainty,\n",
    "                        cmin = ELTu_min,\n",
    "                        cmax = ELTu_max,\n",
    "                        cmap = default_cmap,\n",
    "                        new_figure = False);\n",
    "cb.set_label(\"Relative lifetime uncertainty (%)\")\n",
    "labels(\"X (mm)\", \"Y (mm)\", \"Relative lifetime uncertainty\")\n",
    "\n",
    "plt.tight_layout()\n",
    "save(\"Lifetime_and_energy_scale_maps\")"
   ]
  },
  {
   "cell_type": "code",
   "execution_count": null,
   "metadata": {
    "scrolled": true
   },
   "outputs": [],
   "source": [
    "plt.subplot(2, 2, 1)\n",
    "*_, cb = display_matrix(XYcenters, XYcenters, Qscale_rel.value,\n",
    "                        cmin = Q_min,\n",
    "                        cmax = Q_max,\n",
    "                        cmap = default_cmap,\n",
    "                        new_figure = False);\n",
    "cb.set_label(\"Charge scale at z=0 (pes)\")\n",
    "labels(\"X (mm)\", \"Y (mm)\", \"Charge scale\")\n",
    "\n",
    "plt.subplot(2, 2, 2)\n",
    "*_, cb = display_matrix(XYcenters, XYcenters, Qscale_rel.uncertainty,\n",
    "                        cmin = Qu_min,\n",
    "                        cmax = Qu_max,\n",
    "                        cmap = default_cmap,\n",
    "                        new_figure = False);\n",
    "cb.set_label(\"Relative charge scale uncertainty (%)\")\n",
    "labels(\"X (mm)\", \"Y (mm)\", \"Relative charge scale uncertainty\")\n",
    "\n",
    "plt.subplot(2, 2, 3)\n",
    "*_, cb = display_matrix(XYcenters, XYcenters, -QLT_rel.value,\n",
    "                        cmin = QLT_min,\n",
    "                        cmax = QLT_max,\n",
    "                        cmap = default_cmap,\n",
    "                        new_figure = False);\n",
    "cb.set_label(\"Lifetime (µs)\")\n",
    "labels(\"X (mm)\", \"Y (mm)\", \"Lifetime\")\n",
    "\n",
    "plt.subplot(2, 2, 4)\n",
    "*_, cb = display_matrix(XYcenters, XYcenters, QLT_rel.uncertainty,\n",
    "                        vmin = QLTu_min,\n",
    "                        vmax = QLTu_max,\n",
    "                        cmap = default_cmap,\n",
    "                        new_figure = False);\n",
    "cb.set_label(\"Relative lifetime uncertainty (%)\")\n",
    "labels(\"X (mm)\", \"Y (mm)\", \"Relative lifetime uncertainty\")\n",
    "\n",
    "plt.tight_layout()\n",
    "save(\"Lifetime_and_charge_scale_maps\")"
   ]
  },
  {
   "cell_type": "code",
   "execution_count": null,
   "metadata": {
    "scrolled": true
   },
   "outputs": [],
   "source": [
    "Echi2_min = np.nanpercentile(Echi2[Echi2 > 0],  0.0)\n",
    "Echi2_max = np.nanpercentile(Echi2           , 99.0)\n",
    "\n",
    "Qchi2_min = np.nanpercentile(Qchi2[Qchi2 > 0],  0.0)\n",
    "Qchi2_max = np.nanpercentile(Qchi2           , 99.0)\n",
    "\n",
    "print(Echi2_min, Echi2_max)\n",
    "print(Qchi2_min, Qchi2_max)"
   ]
  },
  {
   "cell_type": "code",
   "execution_count": null,
   "metadata": {
    "scrolled": true
   },
   "outputs": [],
   "source": [
    "bins = np.linspace(Echi2_min, Echi2_max, 101)\n",
    "plt.hist(Echi2[Eok], bins)\n",
    "labels(\"$\\chi^2$\", \"Entries\", \"$\\chi^2$ distribution\")\n",
    "\n",
    "*_, cb = display_matrix(XYcenters, XYcenters, Echi2.flatten(),\n",
    "                        cmin = Echi2_min,\n",
    "                        cmax = Echi2_max,\n",
    "                        cmap = default_cmap)\n",
    "cb.set_label(\"$\\chi^2$\")\n",
    "labels(\"X (mm)\", \"Y (mm)\", \"$\\chi^2$ vs XY\")"
   ]
  },
  {
   "cell_type": "code",
   "execution_count": null,
   "metadata": {
    "scrolled": true
   },
   "outputs": [],
   "source": [
    "bins = np.linspace(Qchi2_min, Qchi2_max, 101)\n",
    "plt.hist(Qchi2[Qok], bins)\n",
    "labels(\"$\\chi^2$\", \"Entries\", \"$\\chi^2$ distribution\")\n",
    "\n",
    "*_, cb = display_matrix(XYcenters, XYcenters, Qchi2.flatten(),\n",
    "                        cmin = Qchi2_min,\n",
    "                        cmax = Qchi2_max,\n",
    "                        cmap = default_cmap)\n",
    "cb.set_label(\"$\\chi^2$\")\n",
    "labels(\"X (mm)\", \"Y (mm)\", \"$\\chi^2$ vs XY\")"
   ]
  },
  {
   "cell_type": "markdown",
   "metadata": {},
   "source": [
    "### Produce HDF5 output"
   ]
  },
  {
   "cell_type": "code",
   "execution_count": null,
   "metadata": {
    "scrolled": true
   },
   "outputs": [],
   "source": [
    "t_min = int(dst.time.values.min())\n",
    "t_max = int(dst.time.values.max())\n",
    "with tb.open_file(correction_filename, \"w\") as correction_file:\n",
    "    run_table = correction_file.create_table(correction_file.root, \"RunInfo\"  , RunInfo, \"Run metadata\")\n",
    "    map_table = correction_file.create_table(correction_file.root, \"LTMapInfo\", MapInfo, \"Map metadata\")\n",
    "\n",
    "    row = run_table.row\n",
    "    row[\"run_number\"] = run_number\n",
    "    row[\"t_min\"     ] = t_min\n",
    "    row[\"t_max\"     ] = t_max\n",
    "    row.append()\n",
    "\n",
    "    row = map_table.row\n",
    "    row[\"x_nbins\"] = XYnbins\n",
    "    row[\"y_nbins\"] = XYnbins\n",
    "    row[\"x_pitch\"] = XYpitch\n",
    "    row[\"y_pitch\"] = XYpitch\n",
    "    row[\"x_min\"  ] = XYrange[0]\n",
    "    row[\"x_max\"  ] = XYrange[1]\n",
    "    row[\"y_min\"  ] = XYrange[0]\n",
    "    row[\"y_max\"  ] = XYrange[1]\n",
    "    row.append()"
   ]
  },
  {
   "cell_type": "code",
   "execution_count": null,
   "metadata": {},
   "outputs": [],
   "source": [
    "# This is to avoid the effect of low stat bins\n",
    "# to the map. Data points in that bin could be\n",
    "# loss or corrected with an unrealistic lifetime.\n",
    "# Thus, we assign the average value. This works\n",
    "# because correcting with a slightly different\n",
    "# lifetime does not have a big impact on energy\n",
    "# resolution.\n",
    "\n",
    "Escale_safe  = np.where(Eok, Escale.value      ,    e_mean)\n",
    "Escaleu_safe = np.where(Eok, Escale.uncertainty,   eu_mean *   e_mean / 100)\n",
    "\n",
    "ELT_safe     = np.where(Eok,   -ELT.value      ,  elt_mean)\n",
    "ELTu_safe    = np.where(Eok,    ELT.uncertainty, eltu_mean * elt_mean / 100)\n",
    "\n",
    "Qscale_safe  = np.where(Qok, Qscale.value      ,    q_mean)\n",
    "Qscaleu_safe = np.where(Qok, Qscale.uncertainty,   qu_mean *   q_mean / 100)\n",
    "\n",
    "QLT_safe     = np.where(Qok,   -QLT.value      ,  qlt_mean)\n",
    "QLTu_safe    = np.where(Qok,    QLT.uncertainty, qltu_mean * qlt_mean / 100)\n",
    "\n",
    "with tb.open_file(correction_filename, \"a\") as correction_file:    \n",
    "    write_escale = kdstio.xy_writer(correction_file,\n",
    "                                    group       = \"XYcorrections\",\n",
    "                                    name        = \"Escale\",\n",
    "                                    description = \"XY-dependent energy scale\",\n",
    "                                    compression = \"ZLIB4\")\n",
    "    write_escale(XYcenters, XYcenters, Escale_safe, Escaleu_safe, nevt)\n",
    "\n",
    "    write_lifetime = kdstio.xy_writer(correction_file,\n",
    "                                      group       = \"XYcorrections\",\n",
    "                                      name        = \"Elifetime\",\n",
    "                                      description = \"XY-dependent lifetime values\",\n",
    "                                      compression = \"ZLIB4\")\n",
    "    write_lifetime(XYcenters, XYcenters, ELT_safe, ELTu_safe, nevt)\n",
    "\n",
    "    write_qscale = kdstio.xy_writer(correction_file,\n",
    "                                    group       = \"XYcorrections\",\n",
    "                                    name        = \"Qscale\",\n",
    "                                    description = \"XY-dependent energy scale\",\n",
    "                                    compression = \"ZLIB4\")\n",
    "    write_escale(XYcenters, XYcenters, Qscale_safe, Qscaleu_safe, nevt)\n",
    "\n",
    "    write_lifetime = kdstio.xy_writer(correction_file,\n",
    "                                      group       = \"XYcorrections\",\n",
    "                                      name        = \"Qlifetime\",\n",
    "                                      description = \"XY-dependent lifetime values\",\n",
    "                                      compression = \"ZLIB4\")\n",
    "    write_lifetime(XYcenters, XYcenters, QLT_safe, QLTu_safe, nevt)\n"
   ]
  }
 ],
 "metadata": {
  "kernelspec": {
   "display_name": "Python 3",
   "language": "python",
   "name": "python3"
  },
  "language_info": {
   "codemirror_mode": {
    "name": "ipython",
    "version": 3
   },
   "file_extension": ".py",
   "mimetype": "text/x-python",
   "name": "python",
   "nbconvert_exporter": "python",
   "pygments_lexer": "ipython3",
   "version": "3.6.1"
  }
 },
 "nbformat": 4,
 "nbformat_minor": 2
}
