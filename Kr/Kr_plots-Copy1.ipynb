{
 "cells": [
  {
   "cell_type": "markdown",
   "metadata": {},
   "source": [
    "# Generate multiple plots about Kr data"
   ]
  },
  {
   "cell_type": "markdown",
   "metadata": {},
   "source": [
    "<i>\n",
    "This notebook takes a kDST file and a correction file,\n",
    "applies all corrections (including time) and makes all\n",
    "kind of plots about the data.\n",
    "</i>"
   ]
  },
  {
   "cell_type": "markdown",
   "metadata": {},
   "source": [
    "### Notebook configuration"
   ]
  },
  {
   "cell_type": "code",
   "execution_count": 1,
   "metadata": {
    "collapsed": true
   },
   "outputs": [],
   "source": [
    "run_number          = 5781\n",
    "correction_filename = f\"$IC_DATA/XYmaps/corrections_run{run_number}.h5\"\n",
    "dst_filename        = f\"$IC_DATA/RunIV/kdst_5781_v0.9.6-29-g2ec1284_20180531_kr.h5\"\n",
    "plots_output_folder = f\"plots/{run_number}/\"\n",
    "\n",
    "XY_pitch            = 5.0\n",
    "\n",
    "Zrange              =     0, 600\n",
    "XYrange             =  -200, 200\n",
    "Rrange              =     0, max(XYrange)\n",
    "Phirange            = -3.14, 3.14\n",
    "\n",
    "Erange              =  33.5, 49.5\n",
    "Qrange              =   200, 1500\n",
    "QErange             =     0, Qrange[1] / Erange[1]\n",
    "\n",
    "S1Erange            =     0, 40\n",
    "S1Wrange            =     0, 500\n",
    "S1Hrange            =     0, 10\n",
    "\n",
    "S2Erange            =     0, 18e3\n",
    "S2Wrange            =     0, 50\n",
    "S2Hrange            =     0, 10e3\n",
    "NSirange            =     0, 80\n",
    "\n",
    "Zrange_DV           =   500, 600\n",
    "Zrange_LT           =    50, 520\n",
    "Zrange_XY           =     0, 520\n",
    "\n",
    "XYnbins             =  50\n",
    "Znbins              = 100\n",
    "Rnbins              = 100\n",
    "Phinbins            = 100\n",
    "Enbins              = 200\n",
    "Qnbins              = 200\n",
    "\n",
    "S1Enbins            = 40\n",
    "S1Wnbins            = 20\n",
    "S1Hnbins            = 50\n",
    "\n",
    "S2Enbins            = 100\n",
    "S2Wnbins            = 50\n",
    "S2Hnbins            = 80\n",
    "NSinbins            = 80\n",
    "\n",
    "DVnbins             = 50\n",
    "\n",
    "R_fiducial          = 100\n",
    "Z_fiducial          = 200\n",
    "\n",
    "# Plotting style\n",
    "default_cmap        = \"jet\"\n",
    "figure_size         = 16, 12\n",
    "font_size           = 20\n",
    "global_linewidth    = 4\n",
    "subfit_linewidth    = 4\n",
    "global_linecolor    = \"r\"\n",
    "subfit_linecolor    = \"m g b y\".split()\n",
    "subfit_linecolor    = \"b m slategrey c b y\".split()\n",
    "\n",
    "save_plots          = True\n",
    "with_titles         = False\n",
    "plots_format        = \"pdf\""
   ]
  },
  {
   "cell_type": "markdown",
   "metadata": {},
   "source": [
    "### Imports"
   ]
  },
  {
   "cell_type": "code",
   "execution_count": 2,
   "metadata": {},
   "outputs": [
    {
     "name": "stdout",
     "output_type": "stream",
     "text": [
      "Running on  Wed Jun  6 23:24:27 2018\n"
     ]
    }
   ],
   "source": [
    "import os\n",
    "import time\n",
    "import collections\n",
    "import itertools\n",
    "print(\"Running on \", time.asctime())\n",
    "\n",
    "import numpy             as np\n",
    "import matplotlib.pyplot as plt\n",
    "\n",
    "import invisible_cities.database.load_db        as DB\n",
    "import invisible_cities.core    .core_functions as coref\n",
    "import invisible_cities.core    .fit_functions  as fitf\n",
    "import invisible_cities.reco    .corrections    as corrf\n",
    "import invisible_cities.reco    .dst_functions  as dstf\n",
    "\n",
    "from invisible_cities.core .stat_functions import poisson_sigma\n",
    "from invisible_cities.icaro. hst_functions import hist\n",
    "from invisible_cities.icaro. hst_functions import hist2d\n",
    "from invisible_cities.icaro. hst_functions import pdf\n",
    "from invisible_cities.icaro. hst_functions import display_matrix\n",
    "from invisible_cities.icaro. hst_functions import resolution\n",
    "from invisible_cities.icaro. hst_functions import gausstext\n",
    "from invisible_cities.icaro. hst_functions import shift_to_bin_centers\n",
    "from invisible_cities.icaro. hst_functions import plot_writer\n",
    "from invisible_cities.icaro. hst_functions import measurement_string\n",
    "\n",
    "from icaro.core.fit_functions import conditional_labels"
   ]
  },
  {
   "cell_type": "markdown",
   "metadata": {},
   "source": [
    "### Initialization"
   ]
  },
  {
   "cell_type": "code",
   "execution_count": 4,
   "metadata": {
    "collapsed": true
   },
   "outputs": [],
   "source": [
    "save   = plot_writer(plots_output_folder, plots_format) if save_plots else lambda *x: None\n",
    "labels = conditional_labels(with_titles)"
   ]
  },
  {
   "cell_type": "code",
   "execution_count": 3,
   "metadata": {
    "collapsed": true
   },
   "outputs": [],
   "source": [
    "%matplotlib inline\n",
    "\n",
    "plt.rcParams[\"figure.figsize\"         ] = figure_size\n",
    "plt.rcParams[  \"font.size\"            ] =   font_size\n",
    "plt.rcParams[\"figure.max_open_warning\"] = 1000"
   ]
  },
  {
   "cell_type": "code",
   "execution_count": 5,
   "metadata": {
    "collapsed": true
   },
   "outputs": [],
   "source": [
    "Zbins     = np.linspace(*  Zrange   ,   Znbins + 1)\n",
    "Ebins     = np.linspace(*  Erange   ,   Enbins + 1)\n",
    "Qbins     = np.linspace(*  Qrange   ,   Qnbins + 1)\n",
    "\n",
    "S1Ebins   = np.linspace(*S1Erange   , S1Enbins + 1)\n",
    "S1Wbins   = np.linspace(*S1Wrange   , S1Wnbins + 1)\n",
    "S1Hbins   = np.linspace(*S1Hrange   , S1Hnbins + 1)\n",
    "\n",
    "S2Ebins   = np.linspace(*S2Erange   , S2Enbins + 1)\n",
    "S2Wbins   = np.linspace(*S2Wrange   , S2Wnbins + 1)\n",
    "S2Hbins   = np.linspace(*S2Hrange   , S2Hnbins + 1)\n",
    "NSibins   = np.linspace(*NSirange   , NSinbins + 1)\n",
    "\n",
    "XYbins    = np.linspace(* XYrange   ,  XYnbins + 1)\n",
    "Rbins     = np.linspace(*  Rrange   ,   Rnbins + 1)\n",
    "Phibins   = np.linspace(*Phirange   , Phinbins + 1)\n",
    "DVbins    = np.linspace(*  Zrange_DV,  DVnbins + 1)\n",
    "\n",
    "dst_filename        = os.path.expandvars(       dst_filename)\n",
    "correction_filename = os.path.expandvars(correction_filename)"
   ]
  },
  {
   "cell_type": "markdown",
   "metadata": {},
   "source": [
    "### Read data"
   ]
  },
  {
   "cell_type": "code",
   "execution_count": 6,
   "metadata": {},
   "outputs": [
    {
     "name": "stdout",
     "output_type": "stream",
     "text": [
      "54977\n"
     ]
    },
    {
     "data": {
      "text/html": [
       "<div>\n",
       "<style>\n",
       "    .dataframe thead tr:only-child th {\n",
       "        text-align: right;\n",
       "    }\n",
       "\n",
       "    .dataframe thead th {\n",
       "        text-align: left;\n",
       "    }\n",
       "\n",
       "    .dataframe tbody tr th {\n",
       "        vertical-align: top;\n",
       "    }\n",
       "</style>\n",
       "<table border=\"1\" class=\"dataframe\">\n",
       "  <thead>\n",
       "    <tr style=\"text-align: right;\">\n",
       "      <th></th>\n",
       "      <th>index</th>\n",
       "      <th>event</th>\n",
       "      <th>time</th>\n",
       "      <th>peak</th>\n",
       "      <th>nS2</th>\n",
       "      <th>S1w</th>\n",
       "      <th>S1h</th>\n",
       "      <th>S1e</th>\n",
       "      <th>S1t</th>\n",
       "      <th>S2w</th>\n",
       "      <th>...</th>\n",
       "      <th>S2t</th>\n",
       "      <th>Nsipm</th>\n",
       "      <th>DT</th>\n",
       "      <th>Z</th>\n",
       "      <th>X</th>\n",
       "      <th>Y</th>\n",
       "      <th>R</th>\n",
       "      <th>Phi</th>\n",
       "      <th>Xrms</th>\n",
       "      <th>Yrms</th>\n",
       "    </tr>\n",
       "  </thead>\n",
       "  <tbody>\n",
       "    <tr>\n",
       "      <th>0</th>\n",
       "      <td>0</td>\n",
       "      <td>1</td>\n",
       "      <td>1.528310e+09</td>\n",
       "      <td>0</td>\n",
       "      <td>1</td>\n",
       "      <td>200.0</td>\n",
       "      <td>2.475378</td>\n",
       "      <td>10.071743</td>\n",
       "      <td>373225.0</td>\n",
       "      <td>13.3625</td>\n",
       "      <td>...</td>\n",
       "      <td>652500.0</td>\n",
       "      <td>20</td>\n",
       "      <td>279.275</td>\n",
       "      <td>279.275</td>\n",
       "      <td>100.695800</td>\n",
       "      <td>37.794316</td>\n",
       "      <td>107.554890</td>\n",
       "      <td>0.359061</td>\n",
       "      <td>53.751641</td>\n",
       "      <td>39.608330</td>\n",
       "    </tr>\n",
       "    <tr>\n",
       "      <th>1</th>\n",
       "      <td>1</td>\n",
       "      <td>2</td>\n",
       "      <td>1.528310e+09</td>\n",
       "      <td>0</td>\n",
       "      <td>1</td>\n",
       "      <td>125.0</td>\n",
       "      <td>2.159454</td>\n",
       "      <td>8.964291</td>\n",
       "      <td>563500.0</td>\n",
       "      <td>15.3125</td>\n",
       "      <td>...</td>\n",
       "      <td>653500.0</td>\n",
       "      <td>25</td>\n",
       "      <td>90.000</td>\n",
       "      <td>90.000</td>\n",
       "      <td>-62.725703</td>\n",
       "      <td>-149.686605</td>\n",
       "      <td>162.297855</td>\n",
       "      <td>-1.967614</td>\n",
       "      <td>26.510575</td>\n",
       "      <td>27.303941</td>\n",
       "    </tr>\n",
       "    <tr>\n",
       "      <th>2</th>\n",
       "      <td>2</td>\n",
       "      <td>6</td>\n",
       "      <td>1.528310e+09</td>\n",
       "      <td>0</td>\n",
       "      <td>1</td>\n",
       "      <td>150.0</td>\n",
       "      <td>2.596024</td>\n",
       "      <td>12.322718</td>\n",
       "      <td>108350.0</td>\n",
       "      <td>15.8250</td>\n",
       "      <td>...</td>\n",
       "      <td>654500.0</td>\n",
       "      <td>28</td>\n",
       "      <td>546.150</td>\n",
       "      <td>546.150</td>\n",
       "      <td>-155.838581</td>\n",
       "      <td>-59.109309</td>\n",
       "      <td>166.672054</td>\n",
       "      <td>-2.779059</td>\n",
       "      <td>15.383045</td>\n",
       "      <td>22.799548</td>\n",
       "    </tr>\n",
       "    <tr>\n",
       "      <th>3</th>\n",
       "      <td>3</td>\n",
       "      <td>7</td>\n",
       "      <td>1.528310e+09</td>\n",
       "      <td>0</td>\n",
       "      <td>1</td>\n",
       "      <td>325.0</td>\n",
       "      <td>1.129503</td>\n",
       "      <td>10.293584</td>\n",
       "      <td>172575.0</td>\n",
       "      <td>13.2250</td>\n",
       "      <td>...</td>\n",
       "      <td>654500.0</td>\n",
       "      <td>26</td>\n",
       "      <td>481.925</td>\n",
       "      <td>481.925</td>\n",
       "      <td>-142.112778</td>\n",
       "      <td>1.518572</td>\n",
       "      <td>142.120891</td>\n",
       "      <td>3.130907</td>\n",
       "      <td>19.326044</td>\n",
       "      <td>24.611592</td>\n",
       "    </tr>\n",
       "    <tr>\n",
       "      <th>4</th>\n",
       "      <td>4</td>\n",
       "      <td>13</td>\n",
       "      <td>1.528310e+09</td>\n",
       "      <td>0</td>\n",
       "      <td>1</td>\n",
       "      <td>125.0</td>\n",
       "      <td>2.400389</td>\n",
       "      <td>10.460179</td>\n",
       "      <td>541550.0</td>\n",
       "      <td>9.5750</td>\n",
       "      <td>...</td>\n",
       "      <td>652500.0</td>\n",
       "      <td>27</td>\n",
       "      <td>110.950</td>\n",
       "      <td>110.950</td>\n",
       "      <td>23.585557</td>\n",
       "      <td>-185.615758</td>\n",
       "      <td>187.108226</td>\n",
       "      <td>-1.444407</td>\n",
       "      <td>37.801982</td>\n",
       "      <td>19.630918</td>\n",
       "    </tr>\n",
       "  </tbody>\n",
       "</table>\n",
       "<p>5 rows × 23 columns</p>\n",
       "</div>"
      ],
      "text/plain": [
       "   index  event          time  peak  nS2    S1w       S1h        S1e  \\\n",
       "0      0      1  1.528310e+09     0    1  200.0  2.475378  10.071743   \n",
       "1      1      2  1.528310e+09     0    1  125.0  2.159454   8.964291   \n",
       "2      2      6  1.528310e+09     0    1  150.0  2.596024  12.322718   \n",
       "3      3      7  1.528310e+09     0    1  325.0  1.129503  10.293584   \n",
       "4      4     13  1.528310e+09     0    1  125.0  2.400389  10.460179   \n",
       "\n",
       "        S1t      S2w    ...           S2t  Nsipm       DT        Z  \\\n",
       "0  373225.0  13.3625    ...      652500.0     20  279.275  279.275   \n",
       "1  563500.0  15.3125    ...      653500.0     25   90.000   90.000   \n",
       "2  108350.0  15.8250    ...      654500.0     28  546.150  546.150   \n",
       "3  172575.0  13.2250    ...      654500.0     26  481.925  481.925   \n",
       "4  541550.0   9.5750    ...      652500.0     27  110.950  110.950   \n",
       "\n",
       "            X           Y           R       Phi       Xrms       Yrms  \n",
       "0  100.695800   37.794316  107.554890  0.359061  53.751641  39.608330  \n",
       "1  -62.725703 -149.686605  162.297855 -1.967614  26.510575  27.303941  \n",
       "2 -155.838581  -59.109309  166.672054 -2.779059  15.383045  22.799548  \n",
       "3 -142.112778    1.518572  142.120891  3.130907  19.326044  24.611592  \n",
       "4   23.585557 -185.615758  187.108226 -1.444407  37.801982  19.630918  \n",
       "\n",
       "[5 rows x 23 columns]"
      ]
     },
     "execution_count": 6,
     "metadata": {},
     "output_type": "execute_result"
    }
   ],
   "source": [
    "dst = dstf.load_dst(dst_filename, \"DST\", \"Events\")\n",
    "dst = dst[dst.R<max(Rrange)] # soft radial cut to reduce badly reconstructed events\n",
    "print(len(dst))\n",
    "dst.head()"
   ]
  },
  {
   "cell_type": "code",
   "execution_count": null,
   "metadata": {
    "collapsed": true
   },
   "outputs": [],
   "source": [
    "ELT_correction  = dstf.load_lifetime_xy_corrections(correction_filename,\n",
    "                                                    group = \"XYcorrections\",\n",
    "                                                    node  = \"Lifetime\")\n",
    "\n",
    "QLT_correction  = dstf.load_lifetime_xy_corrections(correction_filename,\n",
    "                                                    group = \"XYcorrections\",\n",
    "                                                    node  = \"QLifetime\")\n",
    "\n",
    "EGEO_correction = dstf.load_xy_corrections(correction_filename,\n",
    "                                           group         =  \"XYcorrections\",\n",
    "                                           node          = f\"GeometryE_{XY_pitch:.1f}mm\",\n",
    "                                           norm_strategy =  \"index\",\n",
    "                                           norm_opts     = {\"index\": (40, 40)})\n",
    "\n",
    "QGEO_correction = dstf.load_xy_corrections(correction_filename,\n",
    "                                           group         =  \"XYcorrections\",\n",
    "                                           node          = f\"GeometryQ_{XY_pitch:.1f}mm\",\n",
    "                                           norm_strategy =  \"index\",\n",
    "                                           norm_opts     = {\"index\": (40, 40)})"
   ]
  },
  {
   "cell_type": "code",
   "execution_count": 7,
   "metadata": {
    "collapsed": true
   },
   "outputs": [],
   "source": [
    "evt = dst.event.values\n",
    "T   =(dst.time .values -\n",
    "      dst.time .values.min()) / 60\n",
    "S2n = dst.nS2  .values\n",
    "\n",
    "S1e = dst.S1e.values\n",
    "S1w = dst.S1w.values\n",
    "S1h = dst.S1h.values\n",
    "S1t = dst.S1t.values\n",
    "\n",
    "S2e = dst.S2e.values\n",
    "S2w = dst.S2w.values\n",
    "S2h = dst.S2h.values\n",
    "S2t = dst.S2t.values\n",
    "S2q = dst.S2q.values\n",
    "\n",
    "X   = dst.X    .values\n",
    "Y   = dst.Y    .values\n",
    "Z   = dst.DT   .values\n",
    "R   = dst.R    .values\n",
    "Phi = dst.Phi  .values\n",
    "Nsi = dst.Nsipm.values\n",
    "\n",
    "#E   = S2e * ELT_correction(Z, X, Y).value * EGEO_correction(X, Y).value\n",
    "#Q   = S2q * QLT_correction(Z, X, Y).value * QGEO_correction(X, Y).value"
   ]
  },
  {
   "cell_type": "code",
   "execution_count": 13,
   "metadata": {},
   "outputs": [
    {
     "name": "stdout",
     "output_type": "stream",
     "text": [
      "[  9.42087077e+03   5.01851022e+00]\n"
     ]
    },
    {
     "data": {
      "image/png": "[encoded data removed]",
      "text/plain": [
       "<matplotlib.figure.Figure at 0x11b5937f0>"
      ]
     },
     "metadata": {},
     "output_type": "display_data"
    }
   ],
   "source": [
    "t, e, eu = fitf.profileX(T, S2e, 100)\n",
    "hist2d(T, S2e, (np.linspace(0, T.max(), 100), S2Ebins))\n",
    "plt.errorbar(t, e, eu, fmt=\"kp\")\n",
    "\n",
    "f = fitf.fit(fitf.polynom, t, e, (1e4, 1))\n",
    "plt.plot(t, f.fn(t), \"r-\")\n",
    "print(f.values)"
   ]
  },
  {
   "cell_type": "code",
   "execution_count": 12,
   "metadata": {},
   "outputs": [
    {
     "data": {
      "text/plain": [
       "0.031985976057446054"
      ]
     },
     "execution_count": 12,
     "metadata": {},
     "output_type": "execute_result"
    }
   ],
   "source": [
    "(e[-1] - e[0])/e[0]"
   ]
  },
  {
   "cell_type": "markdown",
   "metadata": {},
   "source": [
    "##### Input maps"
   ]
  },
  {
   "cell_type": "code",
   "execution_count": null,
   "metadata": {
    "collapsed": true
   },
   "outputs": [],
   "source": [
    "LTmap = dstf.load_dst(correction_filename,\n",
    "                      group = \"XYcorrections\",\n",
    "                      node  = \"Lifetime\")\n",
    "\n",
    "x   = np.unique(LTmap.x.values)\n",
    "y   = np.unique(LTmap.y.values)\n",
    "LT  = LTmap.factor     .values.reshape(x.size, y.size)\n",
    "LTu = LTmap.uncertainty.values.reshape(x.size, y.size)\n",
    "\n",
    "*_, cb = display_matrix(x, y, LT,\n",
    "                        vmin = np.mean(LT) - 2.5 * np.std(LT),\n",
    "                        vmax = np.mean(LT) + 2.5 * np.std(LT),\n",
    "                        cmap = default_cmap)\n",
    "cb.set_label(\"Lifetime (µs)\")\n",
    "labels(\"X (mm)\", \"Y (mm)\", \"Lifetime map\")\n",
    "save(\"Lifetime_map\")\n",
    "\n",
    "*_, cb = display_matrix(x, y, LTu,\n",
    "                        vmin = 1e-3,\n",
    "                        vmax = np.mean(LTu) + np.std(LTu),\n",
    "                        cmap = default_cmap)\n",
    "\n",
    "cb.set_label(\"Lifetime unceratinty (µs)\")\n",
    "labels(\"X (mm)\", \"Y (mm)\", \"Lifetime uncertainty map\")\n",
    "save(\"Lifetime_uncertainty_map\")"
   ]
  },
  {
   "cell_type": "code",
   "execution_count": null,
   "metadata": {
    "collapsed": true
   },
   "outputs": [],
   "source": [
    "LTmap = dstf.load_dst(correction_filename,\n",
    "                      group = \"XYcorrections\",\n",
    "                      node  = \"QLifetime\")\n",
    "\n",
    "x   = np.unique(LTmap.x.values)\n",
    "y   = np.unique(LTmap.y.values)\n",
    "LT  = LTmap.factor     .values.reshape(x.size, y.size)\n",
    "LTu = LTmap.uncertainty.values.reshape(x.size, y.size)\n",
    "\n",
    "*_, cb = display_matrix(x, y, LT,\n",
    "                        vmin = np.mean(LT) - 2.5 * np.std(LT),\n",
    "                        vmax = np.mean(LT) + 2.5 * np.std(LT),\n",
    "                        cmap = default_cmap)\n",
    "cb.set_label(\"Charge lifetime (µs)\")\n",
    "labels(\"X (mm)\", \"Y (mm)\", \"Charge lifetime map\")\n",
    "save(\"Charge_lifetime_map\")\n",
    "\n",
    "*_, cb = display_matrix(x, y, LTu,\n",
    "                        vmin = 1e-3,\n",
    "                        vmax = np.mean(LTu) + np.std(LTu),\n",
    "                        cmap = default_cmap)\n",
    "\n",
    "cb.set_label(\"Charge lifetime unceratinty (µs)\")\n",
    "labels(\"X (mm)\", \"Y (mm)\", \"Charge lifetime uncertainty map\")\n",
    "save(\"Charge_lifetime_uncertainty_map\")"
   ]
  },
  {
   "cell_type": "code",
   "execution_count": null,
   "metadata": {
    "collapsed": true
   },
   "outputs": [],
   "source": [
    "GEOmap = dstf.load_dst(correction_filename,\n",
    "                       group = \"XYcorrections\",\n",
    "                       node  = f\"GeometryE_{XY_pitch:.1f}mm\")\n",
    "\n",
    "x  = np.unique(GEOmap.x.values)\n",
    "y  = np.unique(GEOmap.y.values)\n",
    "f  = GEOmap.factor     .values.reshape(x.size, y.size)\n",
    "fu = GEOmap.uncertainty.values.reshape(x.size, y.size)\n",
    "\n",
    "*_, cb = display_matrix(x, y, f,\n",
    "                        cmap = default_cmap)\n",
    "cb.set_label(\"Energy(pes)\")\n",
    "labels(\"X (mm)\", \"Y (mm)\", \"Geometry map\")\n",
    "save(\"Energy_map\")\n",
    "\n",
    "*_, cb = display_matrix(x, y, fu,\n",
    "                        vmax = np.mean(fu) + 3 * np.std(fu),\n",
    "                        cmap = default_cmap)\n",
    "cb.set_label(\"Energy unceratinty (pes)\")\n",
    "labels(\"X (mm)\", \"Y (mm)\", \"Geometry uncertainty map\")\n",
    "save(\"Energy_uncertainty_map\")"
   ]
  },
  {
   "cell_type": "code",
   "execution_count": null,
   "metadata": {
    "collapsed": true
   },
   "outputs": [],
   "source": [
    "GEOmap = dstf.load_dst(correction_filename,\n",
    "                       group = \"XYcorrections\",\n",
    "                       node  = f\"GeometryQ_{XY_pitch:.1f}mm\")\n",
    "\n",
    "x  = np.unique(GEOmap.x.values)\n",
    "y  = np.unique(GEOmap.y.values)\n",
    "f  = GEOmap.factor     .values.reshape(x.size, y.size)\n",
    "fu = GEOmap.uncertainty.values.reshape(x.size, y.size)\n",
    "\n",
    "*_, cb = display_matrix(x, y, f,\n",
    "                        vmin = Qrange[0],\n",
    "                        vmax = Qrange[1],\n",
    "                        cmap = default_cmap)\n",
    "cb.set_label(\"Charge(pes)\")\n",
    "labels(\"X (mm)\", \"Y (mm)\", \"Charge map\")\n",
    "save(\"Charge_map\")\n",
    "\n",
    "*_, cb = display_matrix(x, y, fu,\n",
    "                        vmax = np.mean(fu) + 3 * np.std(fu),\n",
    "                        cmap = default_cmap)\n",
    "cb.set_label(\"Charge unceratinty (pes)\")\n",
    "labels(\"X (mm)\", \"Y (mm)\", \"Charge uncertainty map\")\n",
    "save(\"Charge_uncertainty_map\")"
   ]
  },
  {
   "cell_type": "markdown",
   "metadata": {},
   "source": [
    "##### Number of S2s"
   ]
  },
  {
   "cell_type": "code",
   "execution_count": null,
   "metadata": {
    "collapsed": true
   },
   "outputs": [],
   "source": [
    "hist(S2n, 5, (0, 5))\n",
    "plt.yscale(\"log\")\n",
    "labels(\"Number of S2 signals\", \"Entries\", \"Number of S2 signals\")\n",
    "save(\"NS2\")"
   ]
  },
  {
   "cell_type": "markdown",
   "metadata": {},
   "source": [
    "##### Z distribution"
   ]
  },
  {
   "cell_type": "code",
   "execution_count": null,
   "metadata": {
    "collapsed": true
   },
   "outputs": [],
   "source": [
    "hist(Z, Zbins)\n",
    "labels(\"Drift time ($\\mu$s)\", \"Entries\", \"Z distribution\")\n",
    "save(\"Z\")"
   ]
  },
  {
   "cell_type": "markdown",
   "metadata": {},
   "source": [
    "##### Trigger rate"
   ]
  },
  {
   "cell_type": "code",
   "execution_count": null,
   "metadata": {
    "collapsed": true
   },
   "outputs": [],
   "source": [
    "y, x, _ = hist(T, 100, (0, np.max(T)))\n",
    "dt      = np.diff(x)[0]\n",
    "\n",
    "labels( \"Time (min)\",\n",
    "       f\"Event rate (({dt:.2f} min)$^{{-1}}$)\",\n",
    "        \"Trigger rate\")\n",
    "save(\"EventRate\")"
   ]
  },
  {
   "cell_type": "markdown",
   "metadata": {},
   "source": [
    "##### Raw spectrum"
   ]
  },
  {
   "cell_type": "code",
   "execution_count": null,
   "metadata": {
    "collapsed": true
   },
   "outputs": [],
   "source": [
    "pdf(S2e, S2Ebins)\n",
    "labels(\"S2 energy (pes)\", \"Entries\", \"S2 energy\")\n",
    "save(\"Raw_energy_wide\")\n",
    "\n",
    "hist(S2e, S2Ebins)\n",
    "labels(\"S2 energy (pes)\", \"Entries\", \"S2 energy\")\n",
    "save(\"Raw_energy\")"
   ]
  },
  {
   "cell_type": "markdown",
   "metadata": {},
   "source": [
    "##### Drift velocity"
   ]
  },
  {
   "cell_type": "code",
   "execution_count": null,
   "metadata": {
    "collapsed": true
   },
   "outputs": [],
   "source": [
    "y, x, _  = hist(Z, DVbins)\n",
    "\n",
    "sigmoid  = lambda x, A, B, C, D: A / (1 + np.exp((x - B) / C)) + D\n",
    "seed     = np.max(y), np.mean(Zrange_DV), np.diff(Zrange_DV)[0] / 100, np.min(y)\n",
    "f        = fitf.fit(sigmoid, x, y, seed, sigma=poisson_sigma(y))\n",
    "\n",
    "z_cathode = DB.DetectorGeo().ZMAX[0]\n",
    "dv        = z_cathode / f.values[1]\n",
    "u_dv      =        dv / f.values[1] * f.errors[1]\n",
    "\n",
    "plt.plot(x, f.fn(x), lw=global_linewidth, c=global_linecolor)\n",
    "labels(\"Drift time ($\\mu$s)\", \"Entries\", \"Z distribution around cathode\")\n",
    "\n",
    "print(\"Max drift length = {:.3f} +- {:.3f}\".format(f.values[1], f.errors[1]))\n",
    "print(\"Drift velocity   = {:.5f} +- {:.5f}\".format(dv, u_dv))\n",
    "save(\"Drift_velocity\")"
   ]
  },
  {
   "cell_type": "markdown",
   "metadata": {},
   "source": [
    "##### S1 distributions"
   ]
  },
  {
   "cell_type": "code",
   "execution_count": null,
   "metadata": {
    "collapsed": true
   },
   "outputs": [],
   "source": [
    "hist(S1e, S1Ebins)\n",
    "labels(\"S1 energy (pes)\", \"Entries\", \"S1 energy\")\n",
    "save(\"S1energy\")\n",
    "\n",
    "hist2d(Z, S1e, (Zbins, S1Ebins))\n",
    "labels(\"Drift time ($\\mu$s)\", \"S1 energy (pes)\", \"S1 energy vs Z\")\n",
    "save(\"S1energyZ\")"
   ]
  },
  {
   "cell_type": "code",
   "execution_count": null,
   "metadata": {
    "collapsed": true
   },
   "outputs": [],
   "source": [
    "short_drift = coref.in_range(  Z, 0, Z_fiducial) &\\\n",
    "              coref.in_range(S1e, *S1Erange)\n",
    "\n",
    "x, y, S, u_S = fitf.profileXY(X  [short_drift],\n",
    "                              Y  [short_drift],\n",
    "                              S1e[short_drift],\n",
    "                              XYnbins, XYnbins,\n",
    "                              XYrange, XYrange)\n",
    "_, cb = display_matrix(x, y, S)\n",
    "cb.set_label(\"S1 energy (pes)\")\n",
    "labels(\"x (mm)\", \"y (mm)\", \"S1 energy vs XY\")\n",
    "save(\"S1energyXY\")"
   ]
  },
  {
   "cell_type": "code",
   "execution_count": null,
   "metadata": {
    "collapsed": true
   },
   "outputs": [],
   "source": [
    "hist(S1w, S1Wbins)\n",
    "labels(\"S1 width (ns)\", \"Entries\", \"S1 width\")\n",
    "save(\"S1width\")\n",
    "\n",
    "hist2d(Z, S1w, (Zbins, S1Wbins))\n",
    "labels(\"Drift time ($\\mu$s)\", \"S1 width (ns)\", \"S1 width vs Z\")\n",
    "save(\"S1widthZ\")"
   ]
  },
  {
   "cell_type": "code",
   "execution_count": null,
   "metadata": {
    "collapsed": true
   },
   "outputs": [],
   "source": [
    "hist(S1h, S1Hbins)\n",
    "labels(\"S1 height (pes)\", \"Entries\", \"S1 height\")\n",
    "save(\"S1height\")\n",
    "\n",
    "hist2d(Z, S1h, (Zbins, S1Hbins))\n",
    "labels(\"Drift time ($\\mu$s)\", \"S1 height (pes)\", \"S1 height vs Z\")\n",
    "save(\"S1heightZ\")"
   ]
  },
  {
   "cell_type": "code",
   "execution_count": null,
   "metadata": {
    "collapsed": true
   },
   "outputs": [],
   "source": [
    "S1r   = S1h / S1e\n",
    "_bins = np.linspace(0, np.max(S1r), 50)\n",
    "\n",
    "hist(S1r, _bins)\n",
    "labels(\"Height/Area\", \"Entries\", \"S1 peak to area ratio\")\n",
    "save(\"S1Peak2Area\")\n",
    "\n",
    "hist2d(Z, S1r, (Zbins, _bins))\n",
    "labels(\"Drift time ($\\mu$s)\", \"Height/Area\", \"S1 peak to area ratio vs Z\")\n",
    "save(\"S1Peak2AreaZ\")"
   ]
  },
  {
   "cell_type": "markdown",
   "metadata": {},
   "source": [
    "##### S2 distributions"
   ]
  },
  {
   "cell_type": "code",
   "execution_count": null,
   "metadata": {
    "collapsed": true
   },
   "outputs": [],
   "source": [
    "hist(S2e, S2Ebins)\n",
    "labels(\"S2 energy (pes)\", \"Entries\", \"S2 energy\")\n",
    "save(\"S2energy\")\n",
    "\n",
    "hist2d(Z, S2e, (Zbins, S2Ebins))\n",
    "labels(\"Drift time ($\\mu$s)\", \"S2 energy (pes)\", \"S2 energy vs Z\")\n",
    "save(\"S2energyZ\")"
   ]
  },
  {
   "cell_type": "code",
   "execution_count": null,
   "metadata": {
    "collapsed": true
   },
   "outputs": [],
   "source": [
    "hist(S2w, S2Wbins)\n",
    "labels(\"S2 width ($\\mu$s)\", \"Entries\", \"S2 width\")\n",
    "save(\"S2width\")\n",
    "\n",
    "hist2d(Z, S2w, (Zbins, S2Wbins))\n",
    "labels(\"Drift time ($\\mu$s)\", \"S2 width (µs)\", \"S2 width vs Z\")\n",
    "save(\"S2widthZ\")"
   ]
  },
  {
   "cell_type": "code",
   "execution_count": null,
   "metadata": {
    "collapsed": true
   },
   "outputs": [],
   "source": [
    "hist(S2h, S2Hbins)\n",
    "labels(\"S2 height (pes)\", \"Entries\", \"S2 height\")\n",
    "save(\"S2height\")\n",
    "\n",
    "hist2d(Z, S2h, (Zbins, S2Hbins))\n",
    "labels(\"Drift time ($\\mu$s)\", \"S2 height (pes)\")\n",
    "save(\"S2heightZ\")"
   ]
  },
  {
   "cell_type": "code",
   "execution_count": null,
   "metadata": {
    "collapsed": true
   },
   "outputs": [],
   "source": [
    "S2r   = S2h / S2e\n",
    "_bins = np.linspace(0, np.max(S2r), 100)\n",
    "\n",
    "\n",
    "hist(S2r, _bins)\n",
    "labels(\"Height/Area\", \"Entries\", \"S2 peak to area ratio\")\n",
    "save(\"S2Peak2Area\")\n",
    "\n",
    "hist2d(Z, S2r, (Zbins, _bins))\n",
    "labels(\"Drift time ($\\mu$s)\", \"Height/Area\", \"S2 peak to area ratio vs Z\")\n",
    "save(\"S2Peak2AreaZ\")"
   ]
  },
  {
   "cell_type": "markdown",
   "metadata": {},
   "source": [
    "# S2 vs S1"
   ]
  },
  {
   "cell_type": "code",
   "execution_count": null,
   "metadata": {
    "collapsed": true
   },
   "outputs": [],
   "source": [
    "hist2d(S1e, S2e, (S1Ebins, S2Ebins))\n",
    "labels(\"S1 energy (pes)\", \"S2 energy (pes)\", \"S2 vs S1\")\n",
    "save(\"S2S1\")"
   ]
  },
  {
   "cell_type": "code",
   "execution_count": null,
   "metadata": {
    "collapsed": true
   },
   "outputs": [],
   "source": [
    "S12r  = S1e / S2e\n",
    "_bins = np.linspace(0, np.mean(S12r) + 3 * np.std(S12r), 100)\n",
    "\n",
    "hist(S12r, _bins)\n",
    "labels(\"S1/S2\", \"Entries\", \"S1/S2 ratio\")\n",
    "save(\"S12ratio\")\n",
    "\n",
    "hist2d(Z, S12r, (Zbins, _bins))\n",
    "labels(\"Drift time ($\\mu$s)\", \"S1/S2\", \"S1/S2 ratio vs Z\")\n",
    "save(\"S12ratioZ\")"
   ]
  },
  {
   "cell_type": "markdown",
   "metadata": {},
   "source": [
    "##### Tracking"
   ]
  },
  {
   "cell_type": "code",
   "execution_count": null,
   "metadata": {
    "collapsed": true
   },
   "outputs": [],
   "source": [
    "hist(Nsi, NSibins)\n",
    "labels(\"# SiPMs\", \"Entries\", \"Number of SiPMs touched\")\n",
    "save(\"Nsipm\")\n",
    "\n",
    "hist2d(Z, Nsi, (Zbins, NSibins))\n",
    "labels(\"Drift time ($\\mu$s)\", \"# SiPMs\", \"Number of SiPMs touched vs Z\")\n",
    "save(\"NsipmZ\")"
   ]
  },
  {
   "cell_type": "code",
   "execution_count": null,
   "metadata": {
    "collapsed": true
   },
   "outputs": [],
   "source": [
    "hist(X, XYbins)\n",
    "labels(\"x (mm)\", \"Entries\", \"X distribution\")\n",
    "save(\"X\")\n",
    "\n",
    "hist(Y, XYbins)\n",
    "labels(\"y (mm)\", \"Entries\", \"Y distribution\")\n",
    "save(\"Y\")\n",
    "\n",
    "hist(R, Rbins)\n",
    "labels(\"r (mm)\", \"Entries\", \"R distribution\")\n",
    "save(\"R\")\n",
    "\n",
    "hist(Phi, Phibins)\n",
    "labels(\"$\\phi$ (rad)\", \"Entries\", \"$\\phi$ distribution\")\n",
    "save(\"Phi\")\n",
    "\n",
    "hist2d(X, Y, (XYbins, XYbins))\n",
    "plt.colorbar().set_label(\"# events\")\n",
    "labels(\"x (mm)\", \"y (mm)\", \"XY distribution\")\n",
    "save(\"XY\")\n",
    "\n",
    "hist2d(R, Phi, (Rbins, Phibins))\n",
    "plt.colorbar().set_label(\"# events\")\n",
    "labels(\"r (mm)\", \"$\\phi$ (mm)\", \"R$\\phi$ distribution\")\n",
    "save(\"RPhi\")"
   ]
  },
  {
   "cell_type": "code",
   "execution_count": null,
   "metadata": {
    "collapsed": true
   },
   "outputs": [],
   "source": [
    "hist(S2q, Qbins)\n",
    "labels(\"S2 charge (pes)\", \"Entries\", \"Charge\")\n",
    "save(\"Q\")\n",
    "\n",
    "hist2d(Z, S2q, (Zbins, Qbins))\n",
    "labels(\"Drift time ($\\mu$s)\", \"S2 charge (pes)\", \"Charge vs Z\")\n",
    "save(\"QZ\")"
   ]
  },
  {
   "cell_type": "raw",
   "metadata": {},
   "source": [
    "x, y, Q, u_Q = \\\n",
    "fitf.profileXY(X, Y, S2q,\n",
    "               XYnbins, XYnbins,\n",
    "               XYrange, XYrange)\n",
    "_, cb = display_matrix(x, y, Q, vmin=np.min(Q[Q > 0]),\n",
    "                       cmap = default_cmap)\n",
    "cb.set_label(\"Q (pes)\")\n",
    "labels(\"x (mm)\", \"y (mm)\", \"Charge vs XY\")\n",
    "save(\"QXY\")\n",
    "\n",
    "x, y, q, u_q = \\\n",
    "fitf.profileXY(R, Phi, S2q,\n",
    "               Rnbins, Phinbins,\n",
    "               Rrange, Phirange)\n",
    "_, cb = display_matrix(x, y, q, vmin=np.min(q[q > 0]),\n",
    "                       cmap = default_cmap)\n",
    "cb.set_label(\"Q (pes)\")\n",
    "labels(\"r (mm)\", \"$\\phi$ (rad)\", \"Charge vs R$\\phi$\")\n",
    "save(\"QvsRPhi\")\n",
    "\n",
    "hist2d(R, S2q, (Rbins, Qbins))\n",
    "labels(\"r (mm)\", \"S2 charge (pes)\", \"Charge vs R\")\n",
    "save(\"QvsR\")\n",
    "\n",
    "hist2d(Phi, S2q, (Phibins, Qbins))\n",
    "labels(\"phi (rad)\", \"S2 charge (pes)\", \"Charge vs $\\phi$\")\n",
    "save(\"QvsPhi\")"
   ]
  },
  {
   "cell_type": "markdown",
   "metadata": {},
   "source": [
    "##### Energy dependence"
   ]
  },
  {
   "cell_type": "code",
   "execution_count": null,
   "metadata": {
    "collapsed": true
   },
   "outputs": [],
   "source": [
    "x, y, e, eu = \\\n",
    "fitf.profileXY(X, Y, E, XYnbins, XYnbins, XYrange, XYrange)\n",
    "_, cb = display_matrix(x, y, e, vmin=np.min(e[e > 0]),\n",
    "                       cmap = default_cmap)\n",
    "cb.set_label(\"Energy (keV)\")\n",
    "labels(\"x (mm)\", \"y (mm)\", \"Energy vs XY\")\n",
    "save(\"EnergyXY\")\n",
    "\n",
    "r, phi, e, eu = \\\n",
    "fitf.profileXY(R, Phi, E, Rnbins, Phinbins, Rrange, Phirange)\n",
    "_, cb = display_matrix(r, phi, e, vmin=np.min(e[e > 0]),\n",
    "                       cmap = default_cmap)\n",
    "cb.set_label(\"Energy (keV)\")\n",
    "labels(\"r (mm)\", \"$\\phi$ (rad)\", \"Energy vs R$\\phi$\")\n",
    "save(\"EnergyRPhi\")\n",
    "\n",
    "hist2d(Z, E, (Zbins, Ebins))\n",
    "labels(\"Drift time (µs)\", \"SEnergy (keV)\")\n",
    "save(\"EnergyZ\")\n",
    "\n",
    "hist2d(R, E, (Rbins, Ebins))\n",
    "labels(\"R (mm)\", \"Energy (keV)\")\n",
    "save(\"EnergyR\")\n",
    "\n",
    "hist2d(Phi, E, (Phibins, Ebins))\n",
    "labels(\"$\\phi$ (rad)\", \"Energy (keV)\")\n",
    "save(\"EnergyPhi\")\n",
    "\n",
    "hist2d(T, E, (np.linspace(0, T.max(), 100), Ebins))\n",
    "labels(\"Time (min)\", \"Energy (keV)\", \"Energy vs Time\")\n",
    "save(\"EnergyTime\")"
   ]
  },
  {
   "cell_type": "markdown",
   "metadata": {},
   "source": [
    "### Charge dependence"
   ]
  },
  {
   "cell_type": "code",
   "execution_count": null,
   "metadata": {
    "collapsed": true
   },
   "outputs": [],
   "source": [
    "x, y, q, qu = \\\n",
    "fitf.profileXY(X, Y, Q, XYnbins, XYnbins, XYrange, XYrange)\n",
    "_, cb = display_matrix(x, y, q, vmin=np.min(q[q > 0]),\n",
    "                       cmap = default_cmap)\n",
    "cb.set_label(\"Charge (pes)\")\n",
    "labels(\"x (mm)\", \"y (mm)\", \"Charge vs XY\")\n",
    "save(\"ChargeXY\")\n",
    "\n",
    "r, phi, q, qu = \\\n",
    "fitf.profileXY(R, Phi, Q, Rnbins, Phinbins, Rrange, Phirange)\n",
    "_, cb = display_matrix(r, phi, q, vmin=np.min(q[q > 0]),\n",
    "                       cmap = default_cmap)\n",
    "cb.set_label(\"Charge (pes)\")\n",
    "labels(\"r (mm)\", \"$\\phi$ (rad)\", \"Charge vs R$\\phi$\")\n",
    "save(\"ChargeRPhi\")\n",
    "\n",
    "hist2d(Z, Q, (Zbins, Qbins))\n",
    "labels(\"Drift time (µs)\", \"Charge (keV)\")\n",
    "save(\"ChargeZ\")\n",
    "\n",
    "hist2d(R, Q, (Rbins, Qbins))\n",
    "labels(\"R (mm)\", \"Charge (keV)\")\n",
    "save(\"ChargeR\")\n",
    "\n",
    "hist2d(Phi, Q, (Phibins, Qbins))\n",
    "labels(\"$\\phi$ (rad)\", \"Charge (keV)\")\n",
    "save(\"ChargePhi\")\n",
    "\n",
    "hist2d(T, Q, (np.linspace(0, T.max(), 100), Qbins))\n",
    "labels(\"Time (min)\", \"Charge (pes)\", \"Charge vs Time\")\n",
    "save(\"ChargeTime\")"
   ]
  },
  {
   "cell_type": "markdown",
   "metadata": {},
   "source": [
    "##### Charge/Energy ratio"
   ]
  },
  {
   "cell_type": "code",
   "execution_count": null,
   "metadata": {
    "collapsed": true
   },
   "outputs": [],
   "source": [
    "QEratio = Q / E\n",
    "QEratio = np.where(np.isfinite(QEratio), QEratio, 0)\n",
    "\n",
    "QEbins = np.linspace(np.mean(QEratio) - 5 * np.std(QEratio),\n",
    "                     np.mean(QEratio) + 5 * np.std(QEratio), 100)\n",
    "hist(QEratio, QEbins)\n",
    "labels(\"Q/E (pes/keV)\", \"Entries\")\n",
    "save(\"QEratio\")\n",
    "\n",
    "hist2d(Z, QEratio, (Zbins, QEbins))\n",
    "labels(\"Drift time (µs)\", \"Q/E (pes/keV)\", \"Charge/Energy ratio vs Z\")\n",
    "save(\"QEratioZ\")\n",
    "\n",
    "x, y, qe, qeu = \\\n",
    "fitf.profileXY(X, Y, QEratio, XYnbins, XYnbins, XYrange, XYrange)\n",
    "_, cb = display_matrix(x, y, qe,\n",
    "                       cmap = default_cmap)\n",
    "cb.set_label(\"Q/E (pes/keV)\")\n",
    "labels(\"x (mm)\", \"y (mm)\", \"Charge/Energy ratio vs XY\")\n",
    "save(\"QEratioXY\")"
   ]
  },
  {
   "cell_type": "markdown",
   "metadata": {},
   "source": [
    "##### Energy resolution"
   ]
  },
  {
   "cell_type": "raw",
   "metadata": {},
   "source": [
    "xy_data       = collections.namedtuple(      \"xy_data\", \"x y xu yu\"       )\n",
    "reso_fit_data = collections.namedtuple(\"reso_fit_data\", \"xy residuals f R\")\n",
    "\n",
    "def measure_resolution(E, bkg=fitf.gauss):\n",
    "    y, x  = np.histogram(E, Ebins)\n",
    "    x     = shift_to_bin_centers(x)\n",
    "    xu    = np.diff(x)[0] * 0.5\n",
    "    yu    = poisson_sigma(y)\n",
    "\n",
    "    fun   = lambda x, *args: fitf.gauss(x, *args[:3]) + bkg(x, *args[3:])\n",
    "    Npeak = np.size(E) * np.diff(Ebins)[0]\n",
    "    Epeak = np.average( x            , weights=y)\n",
    "    Speak = np.average((x - Epeak)**2, weights=y)**0.5\n",
    "\n",
    "    bkg_seed = (Npeak*2, Epeak, Speak*50) if bkg is fitf.gauss else (1, 1, 1)\n",
    "    sig_seed  = Npeak, Epeak, Speak\n",
    "\n",
    "    seed = (*sig_seed, *bkg_seed)\n",
    "    fit_range = (Epeak - 3 * Speak,\n",
    "                 Epeak + 3 * Speak)\n",
    "    f    = fitf.fit(fun, x, y, seed,\n",
    "                    fit_range = fit_range,\n",
    "                    sigma     = yu,\n",
    "                    maxfev    = 10000)\n",
    "\n",
    "    assert not np.any(np.isclose(f.values, seed)), f.values\n",
    "\n",
    "    R   = resolution(f.values, f.errors, 41.5)\n",
    "    sel = coref.in_range(x, *fit_range)\n",
    "    ry  = (f.fn(x) - y) / yu\n",
    "    return reso_fit_data(xy_data(x, y, xu, yu),\n",
    "                         xy_data(x[sel], ry[sel], xu, yu[sel]),\n",
    "                         f, R)"
   ]
  },
  {
   "cell_type": "code",
   "execution_count": null,
   "metadata": {
    "collapsed": true
   },
   "outputs": [],
   "source": [
    "xy_data       = collections.namedtuple(      \"xy_data\", \"x y xu yu\"       )\n",
    "reso_fit_data = collections.namedtuple(\"reso_fit_data\", \"xy residuals f R\")\n",
    "\n",
    "def measure_resolution(E, bkg=fitf.gauss):\n",
    "    y, x  = np.histogram(E, Ebins)\n",
    "    x     = shift_to_bin_centers(x)\n",
    "    xu    = np.diff(x)[0] * 0.5\n",
    "    yu    = poisson_sigma(y)\n",
    "\n",
    "    fun   = lambda x, *args: fitf.gauss(x, *args[:3]) + bkg(x, *args[3:])\n",
    "    Npeak = np.size(E) * np.diff(Ebins)[0]\n",
    "    Epeak = np.average( x            , weights=y)\n",
    "    Speak = np.average((x - Epeak)**2, weights=y)**0.5\n",
    "\n",
    "    if bkg is fitf.gauss:\n",
    "        seed         = (      Npeak,     Epeak,  Speak, Npeak*2,   Epeak, Speak*50)\n",
    "        lower_bounds = (          0,         0,      0,       0,       0,        0)\n",
    "        upper_bounds = (10 * E.size, np.max(E), np.inf, +np.inf, +np.inf,  +np.inf)\n",
    "    else:\n",
    "        seed         = (      Npeak,     Epeak,  Speak,      -1,       1,       1)\n",
    "        lower_bounds = (          0,         0,      0, -np.inf, -np.inf, -np.inf)\n",
    "        upper_bounds = (10 * E.size, np.max(E), np.inf,       0, +np.inf, +np.inf)\n",
    "\n",
    "    for i in itertools.count():\n",
    "        try:\n",
    "            seed = np.random.normal(seed, np.abs(seed) * 0.2)\n",
    "            seed = np.clip(seed, lower_bounds, upper_bounds)\n",
    "            fit_range = (Epeak - 3 * Speak,\n",
    "                         Epeak + 3 * Speak)\n",
    "            f    = fitf.fit(fun, x, y, seed,\n",
    "                            fit_range = fit_range,\n",
    "                            sigma     = yu,\n",
    "                            bounds    = (lower_bounds, upper_bounds),\n",
    "                            maxfev    = 10000)\n",
    "\n",
    "            assert not np.any(np.isclose(f.values, seed)), f.values\n",
    "            assert f.chi2 < 10\n",
    "\n",
    "            R   = resolution(f.values, f.errors, 41.5)\n",
    "            sel = coref.in_range(x, *fit_range)\n",
    "            ry  = (f.fn(x) - y) / yu\n",
    "            return reso_fit_data(xy_data(x, y, xu, yu),\n",
    "                                 xy_data(x[sel], ry[sel], xu, yu[sel]),\n",
    "                                 f, R)\n",
    "        except (AssertionError, RuntimeError) as e:\n",
    "            print(f\"Failed {i}\")\n",
    "            if i < 10: continue\n",
    "            raise e"
   ]
  },
  {
   "cell_type": "code",
   "execution_count": null,
   "metadata": {
    "collapsed": true
   },
   "outputs": [],
   "source": [
    "bkg  = fitf.polynom\n",
    "data = measure_resolution(E, bkg=bkg)\n",
    "\n",
    "print(\"Resolution at 41.5 keV:\", measurement_string(*data.R[0]))\n",
    "print(\"Resolution at 2458 keV:\", measurement_string(*data.R[1]))\n",
    "print(\"Chi2                  :\", data.f.chi2)\n",
    "\n",
    "x = data.xy.x\n",
    "plt.errorbar    (x, data.xy.y, data.xy.yu, data.xy.xu, \"p\", c=\"k\")\n",
    "plt.plot        (x, data.f.fn   (x)                   , lw=global_linewidth, color=global_linecolor   )\n",
    "plt.plot        (x, fitf.gauss(x, *data.f.values[ :3]), lw=subfit_linewidth, color=subfit_linecolor[0])\n",
    "plt.fill_between(x, fitf.gauss(x, *data.f.values[ :3]),    0,     alpha=0.3, color=subfit_linecolor[0])\n",
    "plt.plot        (x, bkg       (x, *data.f.values[3: ]), lw=subfit_linewidth, color=subfit_linecolor[1])\n",
    "plt.fill_between(x, bkg       (x, *data.f.values[3: ]),    0,     alpha=0.3, color=subfit_linecolor[1])\n",
    "plt.text(plt.xlim()[0] + np.diff(plt.xlim()) * 0.05,\n",
    "         max(data.xy.y) / 1.5,\n",
    "         gausstext(data.f.values, data.f.errors, 41.5))\n",
    "\n",
    "\n",
    "plt.ylim(0)\n",
    "labels(\"E (keV)\", \"Entries\", \"Energy spectrum\")\n",
    "save(\"EnergySpectrum\")"
   ]
  },
  {
   "cell_type": "code",
   "execution_count": null,
   "metadata": {
    "collapsed": true
   },
   "outputs": [],
   "source": [
    "frame_data = plt.gcf().add_axes((.1, .3,\n",
    "                                 .8, .6))\n",
    "plt.errorbar    (x, data.xy.y, data.xy.yu, data.xy.xu, \"p\", c=\"k\")\n",
    "plt.plot        (x, data.f.fn (x)                     , lw=global_linewidth, color=global_linecolor   )\n",
    "plt.plot        (x, fitf.gauss(x, *data.f.values[ :3]), lw=subfit_linewidth, color=subfit_linecolor[0])\n",
    "plt.fill_between(x, fitf.gauss(x, *data.f.values[ :3]),    0,     alpha=0.3, color=subfit_linecolor[0])\n",
    "plt.plot        (x, bkg       (x, *data.f.values[3: ]), lw=subfit_linewidth, color=subfit_linecolor[1])\n",
    "plt.fill_between(x, bkg       (x, *data.f.values[3: ]),    0,     alpha=0.3, color=subfit_linecolor[1])\n",
    "frame_data.set_xticklabels([])\n",
    "plt.ylabel(\"Entries\")\n",
    "plt.ylim(0)\n",
    "lims = plt.xlim()\n",
    "\n",
    "frame_res = plt.gcf().add_axes((.1, .1,\n",
    "                                .8, .2))\n",
    "plt.errorbar(data.residuals.x, data.residuals.y, 1, data.residuals.xu, fmt=\"p\", c=\"k\")\n",
    "plt.plot    (lims, [0,0], \"g--\")\n",
    "plt.xlim(*lims)\n",
    "labels(\"E (keV)\", \"Standarized residual\")\n",
    "save(\"EnergySpectrumCool\")"
   ]
  },
  {
   "cell_type": "markdown",
   "metadata": {},
   "source": [
    "##### Energy resolution best case"
   ]
  },
  {
   "cell_type": "code",
   "execution_count": null,
   "metadata": {
    "collapsed": true
   },
   "outputs": [],
   "source": [
    "sel_r = coref.in_range(R, 0, R_fiducial)\n",
    "bkg   = fitf.polynom\n",
    "data  = measure_resolution(E[sel_r], bkg=bkg)\n",
    "\n",
    "print(\"Resolution at 41.5 keV:\", measurement_string(*data.R[0]))\n",
    "print(\"Resolution at 2458 keV:\", measurement_string(*data.R[1]))\n",
    "print(\"Chi2                  :\", data.f.chi2)\n",
    "\n",
    "x = data.xy.x\n",
    "plt.errorbar    (x, data.xy.y, data.xy.yu, data.xy.xu, \"p\", c=\"k\")\n",
    "plt.plot        (x, data.f.fn (x)                     , lw=global_linewidth, color=global_linecolor   )\n",
    "plt.plot        (x, fitf.gauss(x, *data.f.values[ :3]), lw=subfit_linewidth, color=subfit_linecolor[0])\n",
    "plt.fill_between(x, fitf.gauss(x, *data.f.values[ :3]),    0,     alpha=0.3, color=subfit_linecolor[0])\n",
    "plt.plot        (x, bkg       (x, *data.f.values[3: ]), lw=subfit_linewidth, color=subfit_linecolor[1])\n",
    "plt.fill_between(x, bkg       (x, *data.f.values[3: ]),    0,     alpha=0.3, color=subfit_linecolor[1])\n",
    "\n",
    "plt.text(plt.xlim()[0] + np.diff(plt.xlim()) * 0.05,\n",
    "         max(data.xy.y) / 1.5,\n",
    "         gausstext(data.f.values, data.f.errors, 41.5))\n",
    "\n",
    "\n",
    "plt.ylim(0)\n",
    "labels(\"E (keV)\", \"Entries\", f\"Energy spectrum for R < {R_fiducial:.0f} mm\")\n",
    "save(\"EnergySpectrumFiducialR\")"
   ]
  },
  {
   "cell_type": "code",
   "execution_count": null,
   "metadata": {
    "collapsed": true
   },
   "outputs": [],
   "source": [
    "sel_z = coref.in_range(Z, 0, Z_fiducial)\n",
    "bkg   = fitf.polynom\n",
    "data  = measure_resolution(E[sel_z], bkg=bkg)\n",
    "\n",
    "print(\"Resolution at 41.5 keV:\", measurement_string(*data.R[0]))\n",
    "print(\"Resolution at 2458 keV:\", measurement_string(*data.R[1]))\n",
    "print(\"Chi2                  :\", data.f.chi2)\n",
    "\n",
    "x = data.xy.x\n",
    "plt.errorbar    (x, data.xy.y, data.xy.yu, data.xy.xu, \"p\", c=\"k\")\n",
    "plt.plot        (x, data.f.fn (x)                     , lw=global_linewidth, color=global_linecolor   )\n",
    "plt.plot        (x, fitf.gauss(x, *data.f.values[ :3]), lw=subfit_linewidth, color=subfit_linecolor[0])\n",
    "plt.fill_between(x, fitf.gauss(x, *data.f.values[ :3]),    0,     alpha=0.3, color=subfit_linecolor[0])\n",
    "plt.plot        (x, bkg       (x, *data.f.values[3: ]), lw=subfit_linewidth, color=subfit_linecolor[1])\n",
    "plt.fill_between(x, bkg       (x, *data.f.values[3: ]),    0,     alpha=0.3, color=subfit_linecolor[1])\n",
    "plt.text(plt.xlim()[0] + np.diff(plt.xlim()) * 0.05,\n",
    "         max(data.xy.y) / 1.5,\n",
    "         gausstext(data.f.values, data.f.errors, 41.5))\n",
    "\n",
    "\n",
    "plt.ylim(0)\n",
    "labels(\"E (keV)\", \"Entries\", f\"Energy spectrum for Z < {Z_fiducial:.0f} µs\")\n",
    "save(\"EnergySpectrumFiducialZ\")"
   ]
  },
  {
   "cell_type": "code",
   "execution_count": null,
   "metadata": {
    "collapsed": true
   },
   "outputs": [],
   "source": [
    "sel_r = coref.in_range(R, 0, R_fiducial)\n",
    "sel_z = coref.in_range(Z, 0, Z_fiducial)\n",
    "bkg   = fitf.polynom\n",
    "data  = measure_resolution(E[sel_r & sel_z], bkg=bkg)\n",
    "\n",
    "print(\"Resolution at 41.5 keV:\", measurement_string(*data.R[0]))\n",
    "print(\"Resolution at 2458 keV:\", measurement_string(*data.R[1]))\n",
    "print(\"Chi2                  :\", data.f.chi2)\n",
    "\n",
    "x = data.xy.x\n",
    "plt.errorbar    (x, data.xy.y, data.xy.yu, data.xy.xu, \"p\", c=\"k\")\n",
    "plt.plot        (x, data.f.fn (x)                     , lw=global_linewidth, color=global_linecolor   )\n",
    "plt.plot        (x, fitf.gauss(x, *data.f.values[ :3]), lw=subfit_linewidth, color=subfit_linecolor[0])\n",
    "plt.fill_between(x, fitf.gauss(x, *data.f.values[ :3]),    0,     alpha=0.3, color=subfit_linecolor[0])\n",
    "plt.plot        (x,bkg        (x, *data.f.values[3: ]), lw=subfit_linewidth, color=subfit_linecolor[1])\n",
    "plt.fill_between(x,bkg        (x, *data.f.values[3: ]),    0,     alpha=0.3, color=subfit_linecolor[1])\n",
    "plt.text(plt.xlim()[0] + np.diff(plt.xlim()) * 0.05,\n",
    "         max(data.xy.y) / 1.5,\n",
    "         gausstext(data.f.values, data.f.errors, 41.5))\n",
    "\n",
    "\n",
    "plt.ylim(0)\n",
    "labels(\"E (keV)\", \"Entries\", f\"Energy spectrum for R < {R_fiducial:.0f} mm, Z < {Z_fiducial:.0f} µs\")\n",
    "save(\"EnergySpectrumFiducialRZ\")"
   ]
  },
  {
   "cell_type": "markdown",
   "metadata": {},
   "source": [
    "##### Energy resolution dependence"
   ]
  },
  {
   "cell_type": "code",
   "execution_count": null,
   "metadata": {
    "collapsed": true
   },
   "outputs": [],
   "source": [
    "rbins = np.linspace(*Rrange, 17)\n",
    "nbins = len(rbins) - 1\n",
    "r     = shift_to_bin_centers(rbins)\n",
    "dr    = 0.5 * np.diff       (rbins)\n",
    "\n",
    "valid         = np.zeros(nbins, dtype=bool     )\n",
    "Chi2          = np.zeros(nbins, dtype=np.double)\n",
    "Resolution    = np.zeros(nbins, dtype=np.double)\n",
    "Resolutionu   = np.zeros(nbins, dtype=np.double)\n",
    "ResolutionBB  = np.zeros(nbins, dtype=np.double)\n",
    "ResolutionBBu = np.zeros(nbins, dtype=np.double)\n",
    "\n",
    "sel_z = coref.in_range(Z, 0, Z_fiducial)\n",
    "for i in range(nbins):\n",
    "    plt.subplot(4, 4, i+1)\n",
    "    try:\n",
    "        rmin, rmax = rbins[i:i+2]\n",
    "        sel_r = coref.in_range(R, rmin, rmax)\n",
    "        sel   = sel_r & sel_z\n",
    "        if np.count_nonzero(sel) < 100: continue\n",
    "\n",
    "        data  = measure_resolution(E[sel], bkg=fitf.polynom)\n",
    "\n",
    "        print(f\"R in [{rmin:.1f}, {rmax:.1f}) mm\")\n",
    "        print( \"| Resolution at 2458 keV:\", measurement_string(*data.R[1]))\n",
    "        print( \"| Chi2                  :\", data.f.chi2)\n",
    "\n",
    "        x = data.xy.x\n",
    "        plt.errorbar(x, data.xy.y, data.xy.yu, data.xy.xu, \"p\", c=\"k\")\n",
    "        plt.plot    (x, data.f.fn   (x)                     , lw=global_linewidth, c=global_linecolor)\n",
    "        plt.plot    (x, fitf.gauss  (x, *data.f.values[ :3]), lw=subfit_linewidth, c=subfit_linecolor[0])\n",
    "        plt.plot    (x, fitf.polynom(x, *data.f.values[3: ]), lw=subfit_linewidth, c=subfit_linecolor[1])\n",
    "\n",
    "        plt.ylim(0)\n",
    "        labels(\"E (keV)\", \"Entries\", f\"R $\\in$ [{rmin:.1f}, {rmax:.1f}) mm\")\n",
    "\n",
    "        Resolution  [i], Resolutionu  [i] = data.R[0]\n",
    "        ResolutionBB[i], ResolutionBBu[i] = data.R[1]\n",
    "        Chi2        [i]                   = data.f.chi2\n",
    "        valid       [i]                   = True\n",
    "    except:\n",
    "        pass\n",
    "\n",
    "plt.tight_layout()\n",
    "save(\"ResolutionRslices\")"
   ]
  },
  {
   "cell_type": "code",
   "execution_count": null,
   "metadata": {
    "collapsed": true
   },
   "outputs": [],
   "source": [
    "plt.errorbar(r[valid], Resolution[valid], Resolutionu[valid], dr[valid], \"kp\")\n",
    "labels(\"R (mm)\", \"Resolution\", \"Resolution vs R\")\n",
    "\n",
    "new_lims  = [lim * (41.5 / 2458)**0.5 for lim in plt.ylim()]\n",
    "new_ticks = np.linspace(*new_lims, 7)\n",
    "str_ticks = [\"{:.2f}\".format(i) for i in new_ticks]\n",
    "ax2       = plt.gca().twinx()\n",
    "\n",
    "ax2.set_ylim       (*new_lims )\n",
    "ax2.set_yticks     ( new_ticks)\n",
    "ax2.set_yticklabels( str_ticks)\n",
    "ax2.set_ylabel(\"Resolution @ Qbb\", rotation=-90, labelpad=20);\n",
    "save(\"ResolutionR\")"
   ]
  },
  {
   "cell_type": "code",
   "execution_count": null,
   "metadata": {
    "collapsed": true
   },
   "outputs": [],
   "source": [
    "zbins = np.linspace(*Zrange, 13)\n",
    "nbins = len(zbins) - 1\n",
    "z     = shift_to_bin_centers(zbins)\n",
    "dz    = 0.5 * np.diff       (zbins)\n",
    "\n",
    "valid         = np.zeros(nbins, dtype=bool     )\n",
    "Chi2          = np.zeros(nbins, dtype=np.double)\n",
    "Resolution    = np.zeros(nbins, dtype=np.double)\n",
    "Resolutionu   = np.zeros(nbins, dtype=np.double)\n",
    "ResolutionBB  = np.zeros(nbins, dtype=np.double)\n",
    "ResolutionBBu = np.zeros(nbins, dtype=np.double)\n",
    "\n",
    "sel_r = coref.in_range(R, 0, R_fiducial)\n",
    "for i in range(nbins):\n",
    "    plt.subplot(3, 4, i+1)\n",
    "    try:\n",
    "        zmin, zmax = zbins[i:i+2]\n",
    "        sel_z = coref.in_range(Z, zmin, zmax)\n",
    "        sel   = sel_r & sel_z\n",
    "        if np.count_nonzero(sel) < 100: continue\n",
    "\n",
    "        data  = measure_resolution(E[sel], bkg=fitf.polynom)\n",
    "\n",
    "        print(f\"Z in [{zmin:.1f}, {zmax:.1f}) mm\")\n",
    "        print( \"| Resolution at 2458 keV:\", measurement_string(*data.R[1]))\n",
    "        print( \"| Chi2                  :\", data.f.chi2)\n",
    "\n",
    "        x = data.xy.x\n",
    "        plt.errorbar(x, data.xy.y, data.xy.yu, data.xy.xu, \"p\", c=\"k\")\n",
    "        plt.plot    (x, data.f.fn   (x)                     , lw=global_linewidth, c=global_linecolor)\n",
    "        plt.plot    (x, fitf.gauss  (x, *data.f.values[ :3]), lw=subfit_linewidth, c=subfit_linecolor[0])\n",
    "        plt.plot    (x, fitf.polynom(x, *data.f.values[3: ]), lw=subfit_linewidth, c=subfit_linecolor[1])\n",
    "\n",
    "        plt.ylim(0)\n",
    "        labels(\"E (keV)\", \"Entries\", f\"Z $\\in$ [{zmin:.1f}, {zmax:.1f}) mm\")\n",
    "\n",
    "        Resolution  [i], Resolutionu  [i] = data.R[0]\n",
    "        ResolutionBB[i], ResolutionBBu[i] = data.R[1]\n",
    "        Chi2        [i]                   = data.f.chi2\n",
    "        valid       [i]                   = True\n",
    "    except:\n",
    "        pass\n",
    "\n",
    "plt.tight_layout()\n",
    "save(\"ResolutionZslices\")"
   ]
  },
  {
   "cell_type": "code",
   "execution_count": null,
   "metadata": {
    "collapsed": true
   },
   "outputs": [],
   "source": [
    "plt.errorbar(z[valid], Resolution[valid], Resolutionu[valid], dz[valid], \"kp\")\n",
    "labels(\"Drift time (µs)\", \"Resolution\", \"Resolution vs Z\")\n",
    "\n",
    "new_lims  = [lim * (41.5 / 2458)**0.5 for lim in plt.ylim()]\n",
    "new_ticks = np.linspace(*new_lims, 7)\n",
    "str_ticks = [\"{:.2f}\".format(i) for i in new_ticks]\n",
    "ax2       = plt.gca().twinx()\n",
    "\n",
    "ax2.set_ylim       (*new_lims )\n",
    "ax2.set_yticks     ( new_ticks)\n",
    "ax2.set_yticklabels( str_ticks)\n",
    "ax2.set_ylabel(\"Resolution @ Qbb\", rotation=-90, labelpad=20);\n",
    "save(\"ResolutionZ\")"
   ]
  },
  {
   "cell_type": "code",
   "execution_count": null,
   "metadata": {
    "collapsed": true
   },
   "outputs": [],
   "source": [
    "xybins = np.linspace(*XYrange, 16)\n",
    "nbins  = len(xybins) - 1\n",
    "xy     = shift_to_bin_centers(xybins)\n",
    "dxy    = 0.5 * np.diff       (xybins)\n",
    "\n",
    "valid         = np.zeros((nbins, nbins), dtype=bool     )\n",
    "Chi2          = np.zeros((nbins, nbins), dtype=np.double)\n",
    "Resolution    = np.zeros((nbins, nbins), dtype=np.double)\n",
    "Resolutionu   = np.zeros((nbins, nbins), dtype=np.double)\n",
    "ResolutionBB  = np.zeros((nbins, nbins), dtype=np.double)\n",
    "ResolutionBBu = np.zeros((nbins, nbins), dtype=np.double)\n",
    "\n",
    "plt.figure(figsize=(30, 30))\n",
    "\n",
    "sel_z = coref.in_range(Z, 0, Z_fiducial)\n",
    "for i in range(nbins):\n",
    "    for j in range(nbins):\n",
    "        plt.subplot(nbins, nbins, i * nbins + j + 1)\n",
    "\n",
    "        xmin, xmax = xybins[i : i + 2]\n",
    "        ymin, ymax = xybins[j : j + 2]\n",
    "        sel_x = coref.in_range(X, xmin, xmax)\n",
    "        sel_y = coref.in_range(Y, ymin, ymax)\n",
    "\n",
    "        try:\n",
    "            data  = measure_resolution(E[sel_x & sel_y & sel_z], bkg=fitf.polynom)\n",
    "\n",
    "            x = data.xy.x\n",
    "            plt.errorbar(x, data.xy.y, data.xy.yu, data.xy.xu, \"p\", c=\"k\")\n",
    "            plt.plot    (x, data.f.fn   (x)                     , lw=global_linewidth, c=global_linecolor)\n",
    "            plt.plot    (x, fitf.gauss  (x, *data.f.values[ :3]), lw=subfit_linewidth, c=subfit_linecolor[0])\n",
    "            plt.plot    (x, fitf.polynom(x, *data.f.values[3: ]), lw=subfit_linewidth, c=subfit_linecolor[1])\n",
    "\n",
    "            plt.ylim(0)\n",
    "            labels(\"E (keV)\", \"Entries\", f\"Z $\\in$ [{zmin:.1f}, {zmax:.1f}) mm\")\n",
    "\n",
    "            Resolution  [i, j], Resolutionu  [i, j] = data.R[0]\n",
    "            ResolutionBB[i, j], ResolutionBBu[i, j] = data.R[1]\n",
    "            Chi2        [i, j]                      = data.f.chi2\n",
    "            valid       [i, j]                      = True\n",
    "        except:\n",
    "            pass\n",
    "\n",
    "plt.tight_layout()\n",
    "save(\"ResolutionXYbins\")"
   ]
  },
  {
   "cell_type": "code",
   "execution_count": null,
   "metadata": {
    "collapsed": true
   },
   "outputs": [],
   "source": [
    "*_, cb = display_matrix(xy, xy, ResolutionBB, vmin = 0, vmax = 1,\n",
    "                        cmap = default_cmap)\n",
    "cb.set_label(\"Resolution @ Qbb\")\n",
    "labels(\"X (mm)\", \"Y (mm)\", \"Resolution vs XY\")\n",
    "save(\"ResolutionXY\")"
   ]
  }
 ],
 "metadata": {
  "kernelspec": {
   "display_name": "Python 3",
   "language": "python",
   "name": "python3"
  },
  "language_info": {
   "codemirror_mode": {
    "name": "ipython",
    "version": 3
   },
   "file_extension": ".py",
   "mimetype": "text/x-python",
   "name": "python",
   "nbconvert_exporter": "python",
   "pygments_lexer": "ipython3",
   "version": "3.6.1"
  }
 },
 "nbformat": 4,
 "nbformat_minor": 2
}
