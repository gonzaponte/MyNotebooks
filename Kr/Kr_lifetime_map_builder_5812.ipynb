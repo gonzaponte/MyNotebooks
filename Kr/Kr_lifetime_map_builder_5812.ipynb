{
 "cells": [
  {
   "cell_type": "markdown",
   "metadata": {},
   "source": [
    "# Produce lifetime XY map"
   ]
  },
  {
   "cell_type": "markdown",
   "metadata": {},
   "source": [
    "<i>\n",
    "This notebook takes a clean kDST, measures the lifetime at\n",
    "different points of the XY plane and stores this map in\n",
    "a hdf5 file.\n",
    "</i>"
   ]
  },
  {
   "cell_type": "markdown",
   "metadata": {},
   "source": [
    "### Notebook configuration"
   ]
  },
  {
   "cell_type": "code",
   "execution_count": 1,
   "metadata": {},
   "outputs": [],
   "source": [
    "run_number          = 5812\n",
    "input_dst_filename  = f\"$IC_DATA/Kr/dst_{run_number}_filtered.root.h5\"\n",
    "correction_filename = f\"$IC_DATA/XYmaps/corrections_run{run_number}.h5\"\n",
    "plots_output_folder = f\"plots/{run_number}/\"\n",
    "\n",
    "Zrange  =  100,  550\n",
    "XYrange = -200,  200\n",
    "Erange  =  2e3, 20e3\n",
    "Qrange  =  100, 1500\n",
    "Znbins  =   10\n",
    "XYnbins =   60\n",
    "Enbins  =  100\n",
    "Qnbins  =  100\n",
    "\n",
    "# Plotting style\n",
    "default_cmap = \"jet\"\n",
    "figure_size  = 16, 12\n",
    "font_size    = 15\n",
    "\n",
    "save_plots   = True\n",
    "with_titles  = False\n",
    "plots_format = \"pdf\""
   ]
  },
  {
   "cell_type": "markdown",
   "metadata": {},
   "source": [
    "### Imports"
   ]
  },
  {
   "cell_type": "code",
   "execution_count": 2,
   "metadata": {},
   "outputs": [],
   "source": [
    "import os\n",
    "import time\n",
    "import collections\n",
    "\n",
    "import tables            as tb\n",
    "import numpy             as np\n",
    "import matplotlib.pyplot as plt\n",
    "\n",
    "import invisible_cities.core.fit_functions as fitf\n",
    "import invisible_cities.reco.dst_functions as dstf\n",
    "import invisible_cities.io  .kdst_io       as kdstio\n",
    "\n",
    "from invisible_cities.core .core_functions import in_range\n",
    "from invisible_cities.icaro. hst_functions import display_matrix\n",
    "from invisible_cities.icaro. hst_functions import shift_to_bin_centers\n",
    "from invisible_cities.icaro. hst_functions import measurement_string\n",
    "from invisible_cities.icaro. hst_functions import plot_writer\n",
    "\n",
    "from icaro.core.fit_functions import quick_gauss_fit\n",
    "from icaro.core.fit_functions import fit_slices_2d_expo\n",
    "from icaro.core.fit_functions import expo_seed\n",
    "from icaro.core.fit_functions import to_relative\n",
    "from icaro.core.fit_functions import conditional_labels\n",
    "\n",
    "labels = conditional_labels(with_titles)\n",
    "\n",
    "%matplotlib inline"
   ]
  },
  {
   "cell_type": "markdown",
   "metadata": {},
   "source": [
    "### Initialization"
   ]
  },
  {
   "cell_type": "code",
   "execution_count": 3,
   "metadata": {},
   "outputs": [],
   "source": [
    "Zbins     = np.linspace(* Zrange,  Znbins + 1)\n",
    "Ebins     = np.linspace(* Erange,  Enbins + 1)\n",
    "Qbins     = np.linspace(* Qrange,  Qnbins + 1)\n",
    "XYbins    = np.linspace(*XYrange, XYnbins + 1)\n",
    "XYcenters = shift_to_bin_centers(XYbins)\n",
    "XYpitch   = np.diff(XYbins)[0]\n",
    "\n",
    "input_dst_filename  = os.path.expandvars( input_dst_filename)\n",
    "correction_filename = os.path.expandvars(correction_filename)\n",
    "\n",
    "save = plot_writer(plots_output_folder, plots_format) if save_plots else lambda *x: None\n",
    "\n",
    "plt.rcParams[\"figure.figsize\"] = figure_size\n",
    "plt.rcParams[  \"font.size\"   ] =   font_size"
   ]
  },
  {
   "cell_type": "markdown",
   "metadata": {},
   "source": [
    "### Read data"
   ]
  },
  {
   "cell_type": "code",
   "execution_count": 4,
   "metadata": {},
   "outputs": [
    {
     "ename": "OSError",
     "evalue": "``/Users/Gonzalo/github/NEXTdata//Kr/dst_5812_filtered.root.h5`` does not exist",
     "output_type": "error",
     "traceback": [
      "\u001b[0;31m---------------------------------------------------------------------------\u001b[0m",
      "\u001b[0;31mOSError\u001b[0m                                   Traceback (most recent call last)",
      "\u001b[0;32m<ipython-input-4-ee59f9a0c169>\u001b[0m in \u001b[0;36m<module>\u001b[0;34m()\u001b[0m\n\u001b[0;32m----> 1\u001b[0;31m \u001b[0mdst\u001b[0m           \u001b[0;34m=\u001b[0m \u001b[0mdstf\u001b[0m\u001b[0;34m.\u001b[0m\u001b[0mload_dst\u001b[0m\u001b[0;34m(\u001b[0m\u001b[0minput_dst_filename\u001b[0m\u001b[0;34m,\u001b[0m \u001b[0;34m\"DST\"\u001b[0m\u001b[0;34m,\u001b[0m \u001b[0;34m\"Events\"\u001b[0m\u001b[0;34m)\u001b[0m\u001b[0;34m\u001b[0m\u001b[0m\n\u001b[0m\u001b[1;32m      2\u001b[0m \u001b[0munique_events\u001b[0m \u001b[0;34m=\u001b[0m \u001b[0;34m~\u001b[0m\u001b[0mdst\u001b[0m\u001b[0;34m.\u001b[0m\u001b[0mevent\u001b[0m\u001b[0;34m.\u001b[0m\u001b[0mduplicated\u001b[0m\u001b[0;34m(\u001b[0m\u001b[0;34m)\u001b[0m\u001b[0;34m\u001b[0m\u001b[0m\n\u001b[1;32m      3\u001b[0m \u001b[0;34m\u001b[0m\u001b[0m\n\u001b[1;32m      4\u001b[0m \u001b[0mnumber_of_S2s_full\u001b[0m  \u001b[0;34m=\u001b[0m \u001b[0mnp\u001b[0m\u001b[0;34m.\u001b[0m\u001b[0msize\u001b[0m         \u001b[0;34m(\u001b[0m\u001b[0munique_events\u001b[0m\u001b[0;34m)\u001b[0m\u001b[0;34m\u001b[0m\u001b[0m\n\u001b[1;32m      5\u001b[0m \u001b[0mnumber_of_evts_full\u001b[0m \u001b[0;34m=\u001b[0m \u001b[0mnp\u001b[0m\u001b[0;34m.\u001b[0m\u001b[0mcount_nonzero\u001b[0m\u001b[0;34m(\u001b[0m\u001b[0munique_events\u001b[0m\u001b[0;34m)\u001b[0m\u001b[0;34m\u001b[0m\u001b[0m\n",
      "\u001b[0;32m~/github/IC/invisible_cities/io/dst_io.py\u001b[0m in \u001b[0;36mload_dst\u001b[0;34m(filename, group, node)\u001b[0m\n\u001b[1;32m      4\u001b[0m \u001b[0;34m\u001b[0m\u001b[0m\n\u001b[1;32m      5\u001b[0m \u001b[0;32mdef\u001b[0m \u001b[0mload_dst\u001b[0m\u001b[0;34m(\u001b[0m\u001b[0mfilename\u001b[0m\u001b[0;34m,\u001b[0m \u001b[0mgroup\u001b[0m\u001b[0;34m,\u001b[0m \u001b[0mnode\u001b[0m\u001b[0;34m)\u001b[0m\u001b[0;34m:\u001b[0m\u001b[0;34m\u001b[0m\u001b[0m\n\u001b[0;32m----> 6\u001b[0;31m     \u001b[0;32mwith\u001b[0m \u001b[0mtb\u001b[0m\u001b[0;34m.\u001b[0m\u001b[0mopen_file\u001b[0m\u001b[0;34m(\u001b[0m\u001b[0mfilename\u001b[0m\u001b[0;34m)\u001b[0m \u001b[0;32mas\u001b[0m \u001b[0mh5in\u001b[0m\u001b[0;34m:\u001b[0m\u001b[0;34m\u001b[0m\u001b[0m\n\u001b[0m\u001b[1;32m      7\u001b[0m         \u001b[0mtable\u001b[0m \u001b[0;34m=\u001b[0m \u001b[0mgetattr\u001b[0m\u001b[0;34m(\u001b[0m\u001b[0mgetattr\u001b[0m\u001b[0;34m(\u001b[0m\u001b[0mh5in\u001b[0m\u001b[0;34m.\u001b[0m\u001b[0mroot\u001b[0m\u001b[0;34m,\u001b[0m \u001b[0mgroup\u001b[0m\u001b[0;34m)\u001b[0m\u001b[0;34m,\u001b[0m \u001b[0mnode\u001b[0m\u001b[0;34m)\u001b[0m\u001b[0;34m.\u001b[0m\u001b[0mread\u001b[0m\u001b[0;34m(\u001b[0m\u001b[0;34m)\u001b[0m\u001b[0;34m\u001b[0m\u001b[0m\n\u001b[1;32m      8\u001b[0m         \u001b[0;32mreturn\u001b[0m \u001b[0mpd\u001b[0m\u001b[0;34m.\u001b[0m\u001b[0mDataFrame\u001b[0m\u001b[0;34m.\u001b[0m\u001b[0mfrom_records\u001b[0m\u001b[0;34m(\u001b[0m\u001b[0mtable\u001b[0m\u001b[0;34m)\u001b[0m\u001b[0;34m\u001b[0m\u001b[0m\n",
      "\u001b[0;32m/Applications/anaconda3/envs/IC3.6/lib/python3.6/site-packages/tables/file.py\u001b[0m in \u001b[0;36mopen_file\u001b[0;34m(filename, mode, title, root_uep, filters, **kwargs)\u001b[0m\n\u001b[1;32m    318\u001b[0m \u001b[0;34m\u001b[0m\u001b[0m\n\u001b[1;32m    319\u001b[0m     \u001b[0;31m# Finally, create the File instance, and return it\u001b[0m\u001b[0;34m\u001b[0m\u001b[0;34m\u001b[0m\u001b[0m\n\u001b[0;32m--> 320\u001b[0;31m     \u001b[0;32mreturn\u001b[0m \u001b[0mFile\u001b[0m\u001b[0;34m(\u001b[0m\u001b[0mfilename\u001b[0m\u001b[0;34m,\u001b[0m \u001b[0mmode\u001b[0m\u001b[0;34m,\u001b[0m \u001b[0mtitle\u001b[0m\u001b[0;34m,\u001b[0m \u001b[0mroot_uep\u001b[0m\u001b[0;34m,\u001b[0m \u001b[0mfilters\u001b[0m\u001b[0;34m,\u001b[0m \u001b[0;34m**\u001b[0m\u001b[0mkwargs\u001b[0m\u001b[0;34m)\u001b[0m\u001b[0;34m\u001b[0m\u001b[0m\n\u001b[0m\u001b[1;32m    321\u001b[0m \u001b[0;34m\u001b[0m\u001b[0m\n\u001b[1;32m    322\u001b[0m \u001b[0;34m\u001b[0m\u001b[0m\n",
      "\u001b[0;32m/Applications/anaconda3/envs/IC3.6/lib/python3.6/site-packages/tables/file.py\u001b[0m in \u001b[0;36m__init__\u001b[0;34m(self, filename, mode, title, root_uep, filters, **kwargs)\u001b[0m\n\u001b[1;32m    781\u001b[0m \u001b[0;34m\u001b[0m\u001b[0m\n\u001b[1;32m    782\u001b[0m         \u001b[0;31m# Now, it is time to initialize the File extension\u001b[0m\u001b[0;34m\u001b[0m\u001b[0;34m\u001b[0m\u001b[0m\n\u001b[0;32m--> 783\u001b[0;31m         \u001b[0mself\u001b[0m\u001b[0;34m.\u001b[0m\u001b[0m_g_new\u001b[0m\u001b[0;34m(\u001b[0m\u001b[0mfilename\u001b[0m\u001b[0;34m,\u001b[0m \u001b[0mmode\u001b[0m\u001b[0;34m,\u001b[0m \u001b[0;34m**\u001b[0m\u001b[0mparams\u001b[0m\u001b[0;34m)\u001b[0m\u001b[0;34m\u001b[0m\u001b[0m\n\u001b[0m\u001b[1;32m    784\u001b[0m \u001b[0;34m\u001b[0m\u001b[0m\n\u001b[1;32m    785\u001b[0m         \u001b[0;31m# Check filters and set PyTables format version for new files.\u001b[0m\u001b[0;34m\u001b[0m\u001b[0;34m\u001b[0m\u001b[0m\n",
      "\u001b[0;32mtables/hdf5extension.pyx\u001b[0m in \u001b[0;36mtables.hdf5extension.File._g_new (tables/hdf5extension.c:4580)\u001b[0;34m()\u001b[0m\n",
      "\u001b[0;32m/Applications/anaconda3/envs/IC3.6/lib/python3.6/site-packages/tables/utils.py\u001b[0m in \u001b[0;36mcheck_file_access\u001b[0;34m(filename, mode)\u001b[0m\n\u001b[1;32m    154\u001b[0m         \u001b[0;31m# The file should be readable.\u001b[0m\u001b[0;34m\u001b[0m\u001b[0;34m\u001b[0m\u001b[0m\n\u001b[1;32m    155\u001b[0m         \u001b[0;32mif\u001b[0m \u001b[0;32mnot\u001b[0m \u001b[0mos\u001b[0m\u001b[0;34m.\u001b[0m\u001b[0maccess\u001b[0m\u001b[0;34m(\u001b[0m\u001b[0mfilename\u001b[0m\u001b[0;34m,\u001b[0m \u001b[0mos\u001b[0m\u001b[0;34m.\u001b[0m\u001b[0mF_OK\u001b[0m\u001b[0;34m)\u001b[0m\u001b[0;34m:\u001b[0m\u001b[0;34m\u001b[0m\u001b[0m\n\u001b[0;32m--> 156\u001b[0;31m             \u001b[0;32mraise\u001b[0m \u001b[0mIOError\u001b[0m\u001b[0;34m(\u001b[0m\u001b[0;34m\"``%s`` does not exist\"\u001b[0m \u001b[0;34m%\u001b[0m \u001b[0;34m(\u001b[0m\u001b[0mfilename\u001b[0m\u001b[0;34m,\u001b[0m\u001b[0;34m)\u001b[0m\u001b[0;34m)\u001b[0m\u001b[0;34m\u001b[0m\u001b[0m\n\u001b[0m\u001b[1;32m    157\u001b[0m         \u001b[0;32mif\u001b[0m \u001b[0;32mnot\u001b[0m \u001b[0mos\u001b[0m\u001b[0;34m.\u001b[0m\u001b[0mpath\u001b[0m\u001b[0;34m.\u001b[0m\u001b[0misfile\u001b[0m\u001b[0;34m(\u001b[0m\u001b[0mfilename\u001b[0m\u001b[0;34m)\u001b[0m\u001b[0;34m:\u001b[0m\u001b[0;34m\u001b[0m\u001b[0m\n\u001b[1;32m    158\u001b[0m             \u001b[0;32mraise\u001b[0m \u001b[0mIOError\u001b[0m\u001b[0;34m(\u001b[0m\u001b[0;34m\"``%s`` is not a regular file\"\u001b[0m \u001b[0;34m%\u001b[0m \u001b[0;34m(\u001b[0m\u001b[0mfilename\u001b[0m\u001b[0;34m,\u001b[0m\u001b[0;34m)\u001b[0m\u001b[0;34m)\u001b[0m\u001b[0;34m\u001b[0m\u001b[0m\n",
      "\u001b[0;31mOSError\u001b[0m: ``/Users/Gonzalo/github/NEXTdata//Kr/dst_5812_filtered.root.h5`` does not exist"
     ]
    }
   ],
   "source": [
    "dst           = dstf.load_dst(input_dst_filename, \"DST\", \"Events\")\n",
    "unique_events = ~dst.event.duplicated()\n",
    "\n",
    "number_of_S2s_full  = np.size         (unique_events)\n",
    "number_of_evts_full = np.count_nonzero(unique_events)\n",
    "\n",
    "print(f\"Total number of S2s   : {number_of_S2s_full} \")\n",
    "print(f\"Total number of events: {number_of_evts_full}\")"
   ]
  },
  {
   "cell_type": "code",
   "execution_count": 5,
   "metadata": {},
   "outputs": [
    {
     "ename": "NameError",
     "evalue": "name 'dst' is not defined",
     "output_type": "error",
     "traceback": [
      "\u001b[0;31m---------------------------------------------------------------------------\u001b[0m",
      "\u001b[0;31mNameError\u001b[0m                                 Traceback (most recent call last)",
      "\u001b[0;32m<ipython-input-5-dc0dac68968f>\u001b[0m in \u001b[0;36m<module>\u001b[0;34m()\u001b[0m\n\u001b[0;32m----> 1\u001b[0;31m \u001b[0mX\u001b[0m \u001b[0;34m=\u001b[0m \u001b[0mdst\u001b[0m\u001b[0;34m.\u001b[0m\u001b[0mX\u001b[0m  \u001b[0;34m.\u001b[0m\u001b[0mvalues\u001b[0m\u001b[0;34m\u001b[0m\u001b[0m\n\u001b[0m\u001b[1;32m      2\u001b[0m \u001b[0mY\u001b[0m \u001b[0;34m=\u001b[0m \u001b[0mdst\u001b[0m\u001b[0;34m.\u001b[0m\u001b[0mY\u001b[0m  \u001b[0;34m.\u001b[0m\u001b[0mvalues\u001b[0m\u001b[0;34m\u001b[0m\u001b[0m\n\u001b[1;32m      3\u001b[0m \u001b[0mZ\u001b[0m \u001b[0;34m=\u001b[0m \u001b[0mdst\u001b[0m\u001b[0;34m.\u001b[0m\u001b[0mZ\u001b[0m  \u001b[0;34m.\u001b[0m\u001b[0mvalues\u001b[0m\u001b[0;34m\u001b[0m\u001b[0m\n\u001b[1;32m      4\u001b[0m \u001b[0mE\u001b[0m \u001b[0;34m=\u001b[0m \u001b[0mdst\u001b[0m\u001b[0;34m.\u001b[0m\u001b[0mS2e\u001b[0m\u001b[0;34m.\u001b[0m\u001b[0mvalues\u001b[0m\u001b[0;34m\u001b[0m\u001b[0m\n\u001b[1;32m      5\u001b[0m \u001b[0mQ\u001b[0m \u001b[0;34m=\u001b[0m \u001b[0mdst\u001b[0m\u001b[0;34m.\u001b[0m\u001b[0mS2q\u001b[0m\u001b[0;34m.\u001b[0m\u001b[0mvalues\u001b[0m\u001b[0;34m\u001b[0m\u001b[0m\n",
      "\u001b[0;31mNameError\u001b[0m: name 'dst' is not defined"
     ]
    }
   ],
   "source": [
    "X = dst.X  .values\n",
    "Y = dst.Y  .values\n",
    "Z = dst.Z  .values\n",
    "E = dst.S2e.values\n",
    "Q = dst.S2q.values"
   ]
  },
  {
   "cell_type": "markdown",
   "metadata": {},
   "source": [
    "### Event distribution"
   ]
  },
  {
   "cell_type": "code",
   "execution_count": 6,
   "metadata": {},
   "outputs": [
    {
     "ename": "NameError",
     "evalue": "name 'X' is not defined",
     "output_type": "error",
     "traceback": [
      "\u001b[0;31m---------------------------------------------------------------------------\u001b[0m",
      "\u001b[0;31mNameError\u001b[0m                                 Traceback (most recent call last)",
      "\u001b[0;32m<ipython-input-6-9cb530cd4543>\u001b[0m in \u001b[0;36m<module>\u001b[0;34m()\u001b[0m\n\u001b[0;32m----> 1\u001b[0;31m \u001b[0mnevt\u001b[0m\u001b[0;34m,\u001b[0m \u001b[0;34m*\u001b[0m\u001b[0m_\u001b[0m \u001b[0;34m=\u001b[0m \u001b[0mplt\u001b[0m\u001b[0;34m.\u001b[0m\u001b[0mhist2d\u001b[0m\u001b[0;34m(\u001b[0m\u001b[0mX\u001b[0m\u001b[0;34m,\u001b[0m \u001b[0mY\u001b[0m\u001b[0;34m,\u001b[0m \u001b[0;34m(\u001b[0m\u001b[0mXYbins\u001b[0m\u001b[0;34m,\u001b[0m \u001b[0mXYbins\u001b[0m\u001b[0;34m)\u001b[0m\u001b[0;34m)\u001b[0m\u001b[0;34m\u001b[0m\u001b[0m\n\u001b[0m\u001b[1;32m      2\u001b[0m \u001b[0mplt\u001b[0m\u001b[0;34m.\u001b[0m\u001b[0mcolorbar\u001b[0m\u001b[0;34m(\u001b[0m\u001b[0;34m)\u001b[0m\u001b[0;34m.\u001b[0m\u001b[0mset_label\u001b[0m\u001b[0;34m(\u001b[0m\u001b[0;34m\"Number of events\"\u001b[0m\u001b[0;34m)\u001b[0m\u001b[0;34m\u001b[0m\u001b[0m\n\u001b[1;32m      3\u001b[0m \u001b[0mlabels\u001b[0m\u001b[0;34m(\u001b[0m\u001b[0;34m\"X (mm)\"\u001b[0m\u001b[0;34m,\u001b[0m \u001b[0;34m\"Y (mm)\"\u001b[0m\u001b[0;34m,\u001b[0m \u001b[0;34mf\"Event distribution for {XYpitch:.1f} mm pitch\"\u001b[0m\u001b[0;34m)\u001b[0m\u001b[0;34m\u001b[0m\u001b[0m\n\u001b[1;32m      4\u001b[0m \u001b[0msave\u001b[0m\u001b[0;34m(\u001b[0m\u001b[0;34mf\"EventDistribution_{XYpitch:.1f}mm_XY\"\u001b[0m\u001b[0;34m)\u001b[0m\u001b[0;34m\u001b[0m\u001b[0m\n",
      "\u001b[0;31mNameError\u001b[0m: name 'X' is not defined"
     ]
    }
   ],
   "source": [
    "nevt, *_ = plt.hist2d(X, Y, (XYbins, XYbins))\n",
    "plt.colorbar().set_label(\"Number of events\")\n",
    "labels(\"X (mm)\", \"Y (mm)\", f\"Event distribution for {XYpitch:.1f} mm pitch\")\n",
    "save(f\"EventDistribution_{XYpitch:.1f}mm_XY\")"
   ]
  },
  {
   "cell_type": "code",
   "execution_count": 7,
   "metadata": {},
   "outputs": [
    {
     "ename": "NameError",
     "evalue": "name 'nevt' is not defined",
     "output_type": "error",
     "traceback": [
      "\u001b[0;31m---------------------------------------------------------------------------\u001b[0m",
      "\u001b[0;31mNameError\u001b[0m                                 Traceback (most recent call last)",
      "\u001b[0;32m<ipython-input-7-f9861c765dce>\u001b[0m in \u001b[0;36m<module>\u001b[0;34m()\u001b[0m\n\u001b[0;32m----> 1\u001b[0;31m \u001b[0mnevt_max\u001b[0m \u001b[0;34m=\u001b[0m \u001b[0mint\u001b[0m\u001b[0;34m(\u001b[0m\u001b[0mnp\u001b[0m\u001b[0;34m.\u001b[0m\u001b[0mmax\u001b[0m\u001b[0;34m(\u001b[0m\u001b[0mnevt\u001b[0m\u001b[0;34m)\u001b[0m\u001b[0;34m)\u001b[0m\u001b[0;34m\u001b[0m\u001b[0m\n\u001b[0m\u001b[1;32m      2\u001b[0m \u001b[0mplt\u001b[0m\u001b[0;34m.\u001b[0m\u001b[0mhist\u001b[0m\u001b[0;34m(\u001b[0m\u001b[0mnevt\u001b[0m\u001b[0;34m.\u001b[0m\u001b[0mflatten\u001b[0m\u001b[0;34m(\u001b[0m\u001b[0;34m)\u001b[0m\u001b[0;34m,\u001b[0m \u001b[0mnp\u001b[0m\u001b[0;34m.\u001b[0m\u001b[0marange\u001b[0m\u001b[0;34m(\u001b[0m\u001b[0;36m1\u001b[0m\u001b[0;34m,\u001b[0m \u001b[0mnevt_max\u001b[0m \u001b[0;34m+\u001b[0m \u001b[0;36m2\u001b[0m\u001b[0;34m)\u001b[0m\u001b[0;34m)\u001b[0m\u001b[0;34m\u001b[0m\u001b[0m\n\u001b[1;32m      3\u001b[0m \u001b[0mlabels\u001b[0m\u001b[0;34m(\u001b[0m\u001b[0;34m\"Number of events per bin\"\u001b[0m\u001b[0;34m,\u001b[0m \u001b[0;34m\"Entries\"\u001b[0m\u001b[0;34m,\u001b[0m \u001b[0;34m\"# events per bin\"\u001b[0m\u001b[0;34m)\u001b[0m\u001b[0;34m\u001b[0m\u001b[0m\n\u001b[1;32m      4\u001b[0m \u001b[0msave\u001b[0m\u001b[0;34m(\u001b[0m\u001b[0;34mf\"EventDistribution_{XYpitch:.1f}mm\"\u001b[0m\u001b[0;34m)\u001b[0m\u001b[0;34m\u001b[0m\u001b[0m\n",
      "\u001b[0;31mNameError\u001b[0m: name 'nevt' is not defined"
     ]
    }
   ],
   "source": [
    "nevt_max = int(np.max(nevt))\n",
    "plt.hist(nevt.flatten(), np.arange(1, nevt_max + 2))\n",
    "labels(\"Number of events per bin\", \"Entries\", \"# events per bin\")\n",
    "save(f\"EventDistribution_{XYpitch:.1f}mm\")"
   ]
  },
  {
   "cell_type": "markdown",
   "metadata": {},
   "source": [
    "### Compute lifetime maps"
   ]
  },
  {
   "cell_type": "code",
   "execution_count": 8,
   "metadata": {},
   "outputs": [
    {
     "ename": "NameError",
     "evalue": "name 'X' is not defined",
     "output_type": "error",
     "traceback": [
      "\u001b[0;31m---------------------------------------------------------------------------\u001b[0m",
      "\u001b[0;31mNameError\u001b[0m                                 Traceback (most recent call last)",
      "\u001b[0;32m<ipython-input-8-9acdb11151d2>\u001b[0m in \u001b[0;36m<module>\u001b[0;34m()\u001b[0m\n\u001b[0;32m----> 1\u001b[0;31m \u001b[0mEscale_abs\u001b[0m\u001b[0;34m,\u001b[0m \u001b[0mELT_abs\u001b[0m\u001b[0;34m,\u001b[0m\u001b[0mEchi2\u001b[0m\u001b[0;34m,\u001b[0m \u001b[0mEok\u001b[0m \u001b[0;34m=\u001b[0m \u001b[0mfit_slices_2d_expo\u001b[0m\u001b[0;34m(\u001b[0m\u001b[0mX\u001b[0m\u001b[0;34m,\u001b[0m \u001b[0mY\u001b[0m\u001b[0;34m,\u001b[0m \u001b[0mZ\u001b[0m\u001b[0;34m,\u001b[0m \u001b[0mE\u001b[0m\u001b[0;34m,\u001b[0m \u001b[0mXYbins\u001b[0m\u001b[0;34m,\u001b[0m \u001b[0mXYbins\u001b[0m\u001b[0;34m,\u001b[0m \u001b[0mZnbins\u001b[0m\u001b[0;34m,\u001b[0m \u001b[0mzrange\u001b[0m\u001b[0;34m=\u001b[0m\u001b[0mZrange\u001b[0m\u001b[0;34m,\u001b[0m \u001b[0mmin_entries\u001b[0m\u001b[0;34m=\u001b[0m\u001b[0;36m50\u001b[0m\u001b[0;34m)\u001b[0m\u001b[0;34m\u001b[0m\u001b[0m\n\u001b[0m\u001b[1;32m      2\u001b[0m \u001b[0mEok\u001b[0m        \u001b[0;34m=\u001b[0m \u001b[0mELT_abs\u001b[0m\u001b[0;34m.\u001b[0m\u001b[0mvalue\u001b[0m \u001b[0;34m<\u001b[0m \u001b[0;34m-\u001b[0m\u001b[0;36m100\u001b[0m\u001b[0;34m\u001b[0m\u001b[0m\n\u001b[1;32m      3\u001b[0m \u001b[0mEscale\u001b[0m     \u001b[0;34m=\u001b[0m \u001b[0mto_relative\u001b[0m\u001b[0;34m(\u001b[0m\u001b[0mEscale_abs\u001b[0m\u001b[0;34m,\u001b[0m \u001b[0mpercentual\u001b[0m\u001b[0;34m=\u001b[0m\u001b[0;32mTrue\u001b[0m\u001b[0;34m)\u001b[0m\u001b[0;34m\u001b[0m\u001b[0m\n\u001b[1;32m      4\u001b[0m \u001b[0mELT\u001b[0m        \u001b[0;34m=\u001b[0m \u001b[0mto_relative\u001b[0m\u001b[0;34m(\u001b[0m   \u001b[0mELT_abs\u001b[0m\u001b[0;34m,\u001b[0m \u001b[0mpercentual\u001b[0m\u001b[0;34m=\u001b[0m\u001b[0;32mTrue\u001b[0m\u001b[0;34m)\u001b[0m\u001b[0;34m\u001b[0m\u001b[0m\n",
      "\u001b[0;31mNameError\u001b[0m: name 'X' is not defined"
     ]
    }
   ],
   "source": [
    "Escale_abs, ELT_abs,\\\n",
    "Echi2, Eok = fit_slices_2d_expo(X, Y, Z, E, XYbins, XYbins, Znbins, zrange=Zrange, min_entries=50)\n",
    "Eok        = ELT_abs.value < -100\n",
    "Escale     = to_relative(Escale_abs, percentual=True)\n",
    "ELT        = to_relative(   ELT_abs, percentual=True)"
   ]
  },
  {
   "cell_type": "code",
   "execution_count": 9,
   "metadata": {},
   "outputs": [
    {
     "ename": "NameError",
     "evalue": "name 'X' is not defined",
     "output_type": "error",
     "traceback": [
      "\u001b[0;31m---------------------------------------------------------------------------\u001b[0m",
      "\u001b[0;31mNameError\u001b[0m                                 Traceback (most recent call last)",
      "\u001b[0;32m<ipython-input-9-9d58f0b30fe3>\u001b[0m in \u001b[0;36m<module>\u001b[0;34m()\u001b[0m\n\u001b[0;32m----> 1\u001b[0;31m \u001b[0mQscale_abs\u001b[0m\u001b[0;34m,\u001b[0m \u001b[0mQLT_abs\u001b[0m\u001b[0;34m,\u001b[0m\u001b[0mQchi2\u001b[0m\u001b[0;34m,\u001b[0m \u001b[0mQok\u001b[0m \u001b[0;34m=\u001b[0m \u001b[0mfit_slices_2d_expo\u001b[0m\u001b[0;34m(\u001b[0m\u001b[0mX\u001b[0m\u001b[0;34m,\u001b[0m \u001b[0mY\u001b[0m\u001b[0;34m,\u001b[0m \u001b[0mZ\u001b[0m\u001b[0;34m,\u001b[0m \u001b[0mQ\u001b[0m\u001b[0;34m,\u001b[0m \u001b[0mXYbins\u001b[0m\u001b[0;34m,\u001b[0m \u001b[0mXYbins\u001b[0m\u001b[0;34m,\u001b[0m \u001b[0mZnbins\u001b[0m\u001b[0;34m,\u001b[0m \u001b[0mzrange\u001b[0m\u001b[0;34m=\u001b[0m\u001b[0mZrange\u001b[0m\u001b[0;34m,\u001b[0m \u001b[0mmin_entries\u001b[0m\u001b[0;34m=\u001b[0m\u001b[0;36m50\u001b[0m\u001b[0;34m)\u001b[0m\u001b[0;34m\u001b[0m\u001b[0m\n\u001b[0m\u001b[1;32m      2\u001b[0m \u001b[0mQok\u001b[0m        \u001b[0;34m=\u001b[0m \u001b[0mQLT_abs\u001b[0m\u001b[0;34m.\u001b[0m\u001b[0mvalue\u001b[0m \u001b[0;34m<\u001b[0m \u001b[0;34m-\u001b[0m\u001b[0;36m100\u001b[0m\u001b[0;34m\u001b[0m\u001b[0m\n\u001b[1;32m      3\u001b[0m \u001b[0mQscale\u001b[0m     \u001b[0;34m=\u001b[0m \u001b[0mto_relative\u001b[0m\u001b[0;34m(\u001b[0m\u001b[0mQscale_abs\u001b[0m\u001b[0;34m,\u001b[0m \u001b[0mpercentual\u001b[0m\u001b[0;34m=\u001b[0m\u001b[0;32mTrue\u001b[0m\u001b[0;34m)\u001b[0m\u001b[0;34m\u001b[0m\u001b[0m\n\u001b[1;32m      4\u001b[0m \u001b[0mQLT\u001b[0m        \u001b[0;34m=\u001b[0m \u001b[0mto_relative\u001b[0m\u001b[0;34m(\u001b[0m   \u001b[0mQLT_abs\u001b[0m\u001b[0;34m,\u001b[0m \u001b[0mpercentual\u001b[0m\u001b[0;34m=\u001b[0m\u001b[0;32mTrue\u001b[0m\u001b[0;34m)\u001b[0m\u001b[0;34m\u001b[0m\u001b[0m\n",
      "\u001b[0;31mNameError\u001b[0m: name 'X' is not defined"
     ]
    }
   ],
   "source": [
    "Qscale_abs, QLT_abs,\\\n",
    "Qchi2, Qok = fit_slices_2d_expo(X, Y, Z, Q, XYbins, XYbins, Znbins, zrange=Zrange, min_entries=50)\n",
    "Qok        = QLT_abs.value < -100\n",
    "Qscale     = to_relative(Qscale_abs, percentual=True)\n",
    "QLT        = to_relative(   QLT_abs, percentual=True)"
   ]
  },
  {
   "cell_type": "code",
   "execution_count": 10,
   "metadata": {},
   "outputs": [
    {
     "ename": "NameError",
     "evalue": "name 'ELT' is not defined",
     "output_type": "error",
     "traceback": [
      "\u001b[0;31m---------------------------------------------------------------------------\u001b[0m",
      "\u001b[0;31mNameError\u001b[0m                                 Traceback (most recent call last)",
      "\u001b[0;32m<ipython-input-10-7db1b013f107>\u001b[0m in \u001b[0;36m<module>\u001b[0;34m()\u001b[0m\n\u001b[0;32m----> 1\u001b[0;31m \u001b[0mELT_mean\u001b[0m  \u001b[0;34m=\u001b[0m \u001b[0mnp\u001b[0m\u001b[0;34m.\u001b[0m\u001b[0mnanmean\u001b[0m\u001b[0;34m(\u001b[0m\u001b[0mELT\u001b[0m   \u001b[0;34m.\u001b[0m\u001b[0mvalue\u001b[0m      \u001b[0;34m[\u001b[0m\u001b[0mEok\u001b[0m\u001b[0;34m]\u001b[0m\u001b[0;34m)\u001b[0m\u001b[0;34m\u001b[0m\u001b[0m\n\u001b[0m\u001b[1;32m      2\u001b[0m \u001b[0mELT_std\u001b[0m   \u001b[0;34m=\u001b[0m \u001b[0mnp\u001b[0m\u001b[0;34m.\u001b[0m\u001b[0mnanstd\u001b[0m \u001b[0;34m(\u001b[0m\u001b[0mELT\u001b[0m   \u001b[0;34m.\u001b[0m\u001b[0mvalue\u001b[0m      \u001b[0;34m[\u001b[0m\u001b[0mEok\u001b[0m\u001b[0;34m]\u001b[0m\u001b[0;34m)\u001b[0m\u001b[0;34m\u001b[0m\u001b[0m\n\u001b[1;32m      3\u001b[0m \u001b[0mELTu_mean\u001b[0m \u001b[0;34m=\u001b[0m \u001b[0mnp\u001b[0m\u001b[0;34m.\u001b[0m\u001b[0mnanmean\u001b[0m\u001b[0;34m(\u001b[0m\u001b[0mELT\u001b[0m   \u001b[0;34m.\u001b[0m\u001b[0muncertainty\u001b[0m\u001b[0;34m[\u001b[0m\u001b[0mEok\u001b[0m\u001b[0;34m]\u001b[0m\u001b[0;34m)\u001b[0m\u001b[0;34m\u001b[0m\u001b[0m\n\u001b[1;32m      4\u001b[0m \u001b[0mELTu_std\u001b[0m  \u001b[0;34m=\u001b[0m \u001b[0mnp\u001b[0m\u001b[0;34m.\u001b[0m\u001b[0mnanstd\u001b[0m \u001b[0;34m(\u001b[0m\u001b[0mELT\u001b[0m   \u001b[0;34m.\u001b[0m\u001b[0muncertainty\u001b[0m\u001b[0;34m[\u001b[0m\u001b[0mEok\u001b[0m\u001b[0;34m]\u001b[0m\u001b[0;34m)\u001b[0m\u001b[0;34m\u001b[0m\u001b[0m\n\u001b[1;32m      5\u001b[0m \u001b[0;34m\u001b[0m\u001b[0m\n",
      "\u001b[0;31mNameError\u001b[0m: name 'ELT' is not defined"
     ]
    }
   ],
   "source": [
    "ELT_mean  = np.nanmean(ELT   .value      [Eok])\n",
    "ELT_std   = np.nanstd (ELT   .value      [Eok])\n",
    "ELTu_mean = np.nanmean(ELT   .uncertainty[Eok])\n",
    "ELTu_std  = np.nanstd (ELT   .uncertainty[Eok])\n",
    "\n",
    "E_mean    = np.nanmean(Escale.value      [Eok])\n",
    "E_std     = np.nanstd (Escale.value      [Eok])\n",
    "Eu_mean   = np.nanmean(Escale.uncertainty[Eok])\n",
    "Eu_std    = np.nanstd (Escale.uncertainty[Eok])\n",
    "\n",
    "QLT_mean  = np.nanmean(QLT   .value      [Qok])\n",
    "QLT_std   = np.nanstd (QLT   .value      [Qok])\n",
    "QLTu_mean = np.nanmean(QLT   .uncertainty[Qok])\n",
    "QLTu_std  = np.nanstd (QLT   .uncertainty[Qok])\n",
    "\n",
    "Q_mean    = np.nanmean(Qscale.value      [Qok])\n",
    "Q_std     = np.nanstd (Qscale.value      [Qok])\n",
    "Qu_mean   = np.nanmean(Qscale.uncertainty[Qok])\n",
    "Qu_std    = np.nanstd (Qscale.uncertainty[Qok])"
   ]
  },
  {
   "cell_type": "code",
   "execution_count": 11,
   "metadata": {},
   "outputs": [
    {
     "ename": "NameError",
     "evalue": "name 'E_mean' is not defined",
     "output_type": "error",
     "traceback": [
      "\u001b[0;31m---------------------------------------------------------------------------\u001b[0m",
      "\u001b[0;31mNameError\u001b[0m                                 Traceback (most recent call last)",
      "\u001b[0;32m<ipython-input-11-84a5653256f9>\u001b[0m in \u001b[0;36m<module>\u001b[0;34m()\u001b[0m\n\u001b[0;32m----> 1\u001b[0;31m \u001b[0mE_min\u001b[0m    \u001b[0;34m=\u001b[0m        \u001b[0mE_mean\u001b[0m \u001b[0;34m-\u001b[0m \u001b[0;36m3.0\u001b[0m \u001b[0;34m*\u001b[0m    \u001b[0mE_std\u001b[0m\u001b[0;34m\u001b[0m\u001b[0m\n\u001b[0m\u001b[1;32m      2\u001b[0m \u001b[0mE_max\u001b[0m    \u001b[0;34m=\u001b[0m        \u001b[0mE_mean\u001b[0m \u001b[0;34m+\u001b[0m \u001b[0;36m2.0\u001b[0m \u001b[0;34m*\u001b[0m    \u001b[0mE_std\u001b[0m\u001b[0;34m\u001b[0m\u001b[0m\n\u001b[1;32m      3\u001b[0m \u001b[0;34m\u001b[0m\u001b[0m\n\u001b[1;32m      4\u001b[0m \u001b[0mELT_min\u001b[0m  \u001b[0;34m=\u001b[0m     \u001b[0;34m-\u001b[0m\u001b[0mELT_mean\u001b[0m \u001b[0;34m-\u001b[0m \u001b[0;36m2.0\u001b[0m \u001b[0;34m*\u001b[0m  \u001b[0mELT_std\u001b[0m\u001b[0;34m\u001b[0m\u001b[0m\n\u001b[1;32m      5\u001b[0m \u001b[0mELT_max\u001b[0m  \u001b[0;34m=\u001b[0m     \u001b[0;34m-\u001b[0m\u001b[0mELT_mean\u001b[0m \u001b[0;34m+\u001b[0m \u001b[0;36m2.0\u001b[0m \u001b[0;34m*\u001b[0m  \u001b[0mELT_std\u001b[0m\u001b[0;34m\u001b[0m\u001b[0m\n",
      "\u001b[0;31mNameError\u001b[0m: name 'E_mean' is not defined"
     ]
    }
   ],
   "source": [
    "E_min    =        E_mean - 3.0 *    E_std\n",
    "E_max    =        E_mean + 2.0 *    E_std\n",
    "\n",
    "ELT_min  =     -ELT_mean - 2.0 *  ELT_std\n",
    "ELT_max  =     -ELT_mean + 2.0 *  ELT_std\n",
    "\n",
    "Eu_min   = max(  Eu_mean - 1.5 *   Eu_std, 1e-3)\n",
    "Eu_max   =       Eu_mean + 2.0 *   Eu_std\n",
    "\n",
    "ELTu_min = max(ELTu_mean - 1.5 * ELTu_std, 1e-3)\n",
    "ELTu_max =     ELTu_mean + 2.0 * ELTu_std\n",
    "\n",
    "Q_min    =        Q_mean - 3.0 *    Q_std\n",
    "Q_max    =        Q_mean + 2.0 *    Q_std\n",
    "\n",
    "QLT_min  =     -QLT_mean - 4.0 *  QLT_std\n",
    "QLT_max  =     -QLT_mean + 3.0 *  QLT_std\n",
    "\n",
    "Qu_min   = max(  Qu_mean - 1.5 *   Qu_std, 1e-3)\n",
    "Qu_max   =       Qu_mean + 2.0 *   Qu_std\n",
    "\n",
    "QLTu_min = max(QLTu_mean - 1.5 * QLTu_std, 1e-3)\n",
    "QLTu_max =     QLTu_mean + 2.0 * QLTu_std"
   ]
  },
  {
   "cell_type": "markdown",
   "metadata": {},
   "source": [
    "### Fit examples"
   ]
  },
  {
   "cell_type": "code",
   "execution_count": 12,
   "metadata": {},
   "outputs": [
    {
     "ename": "NameError",
     "evalue": "name 'X' is not defined",
     "output_type": "error",
     "traceback": [
      "\u001b[0;31m---------------------------------------------------------------------------\u001b[0m",
      "\u001b[0;31mNameError\u001b[0m                                 Traceback (most recent call last)",
      "\u001b[0;32m<ipython-input-12-1d0cfefa5eeb>\u001b[0m in \u001b[0;36m<module>\u001b[0;34m()\u001b[0m\n\u001b[1;32m      1\u001b[0m \u001b[0mxlim\u001b[0m \u001b[0;34m=\u001b[0m  \u001b[0;36m15\u001b[0m\u001b[0;34m,\u001b[0m  \u001b[0;36m25\u001b[0m\u001b[0;34m\u001b[0m\u001b[0m\n\u001b[1;32m      2\u001b[0m \u001b[0mylim\u001b[0m \u001b[0;34m=\u001b[0m \u001b[0;34m-\u001b[0m\u001b[0;36m25\u001b[0m\u001b[0;34m,\u001b[0m \u001b[0;34m-\u001b[0m\u001b[0;36m15\u001b[0m\u001b[0;34m\u001b[0m\u001b[0m\n\u001b[0;32m----> 3\u001b[0;31m \u001b[0msel\u001b[0m  \u001b[0;34m=\u001b[0m \u001b[0min_range\u001b[0m\u001b[0;34m(\u001b[0m\u001b[0mX\u001b[0m\u001b[0;34m,\u001b[0m \u001b[0;34m*\u001b[0m\u001b[0mxlim\u001b[0m\u001b[0;34m)\u001b[0m \u001b[0;34m&\u001b[0m \u001b[0min_range\u001b[0m\u001b[0;34m(\u001b[0m\u001b[0mY\u001b[0m\u001b[0;34m,\u001b[0m \u001b[0;34m*\u001b[0m\u001b[0mylim\u001b[0m\u001b[0;34m)\u001b[0m\u001b[0;34m\u001b[0m\u001b[0m\n\u001b[0m\u001b[1;32m      4\u001b[0m \u001b[0mz\u001b[0m\u001b[0;34m,\u001b[0m \u001b[0me\u001b[0m \u001b[0;34m=\u001b[0m \u001b[0mZ\u001b[0m\u001b[0;34m[\u001b[0m\u001b[0msel\u001b[0m\u001b[0;34m]\u001b[0m\u001b[0;34m,\u001b[0m \u001b[0mE\u001b[0m\u001b[0;34m[\u001b[0m\u001b[0msel\u001b[0m\u001b[0;34m]\u001b[0m\u001b[0;34m\u001b[0m\u001b[0m\n\u001b[1;32m      5\u001b[0m \u001b[0;34m\u001b[0m\u001b[0m\n",
      "\u001b[0;31mNameError\u001b[0m: name 'X' is not defined"
     ]
    }
   ],
   "source": [
    "xlim =  15,  25\n",
    "ylim = -25, -15\n",
    "sel  = in_range(X, *xlim) & in_range(Y, *ylim)\n",
    "z, e = Z[sel], E[sel]\n",
    "\n",
    "frame_data = plt.gcf().add_axes((.1, .3,\n",
    "                                 .8, .6))\n",
    "plt.hist2d(z, e, (Zbins, Ebins))\n",
    "\n",
    "x, y, yu = fitf.profileX(z, e, Znbins, Zrange)\n",
    "plt.errorbar(x, y, yu, np.diff(x)[0]/2, fmt=\"kp\", ms=7, lw=3)\n",
    "\n",
    "seed = expo_seed(x, y)\n",
    "f    = fitf.fit(fitf.expo, x, y, seed, sigma=yu)\n",
    "plt.plot(x, f.fn(x), \"r-\", lw=4)\n",
    "\n",
    "frame_data.set_xticklabels([])\n",
    "labels(\"\", \"Energy (pes)\", \"Lifetime fit example\")\n",
    "lims = plt.xlim()\n",
    "\n",
    "frame_res = plt.gcf().add_axes((.1, .1,\n",
    "                                .8, .2))\n",
    "plt.errorbar(x, (f.fn(x) - y) / yu, 1, np.diff(x)[0] / 2, fmt=\"p\", c=\"k\")\n",
    "plt.plot(lims, (0, 0), \"g--\")\n",
    "plt.xlim(*lims)\n",
    "plt.ylim(-5, +5)\n",
    "labels(\"Drift time (µs)\", \"Standarized residual\")\n",
    "\n",
    "save(\"Lifetime_fit_example\")"
   ]
  },
  {
   "cell_type": "code",
   "execution_count": 13,
   "metadata": {},
   "outputs": [
    {
     "ename": "NameError",
     "evalue": "name 'X' is not defined",
     "output_type": "error",
     "traceback": [
      "\u001b[0;31m---------------------------------------------------------------------------\u001b[0m",
      "\u001b[0;31mNameError\u001b[0m                                 Traceback (most recent call last)",
      "\u001b[0;32m<ipython-input-13-b74a6840a361>\u001b[0m in \u001b[0;36m<module>\u001b[0;34m()\u001b[0m\n\u001b[1;32m      1\u001b[0m \u001b[0mxlim\u001b[0m \u001b[0;34m=\u001b[0m  \u001b[0;36m15\u001b[0m\u001b[0;34m,\u001b[0m  \u001b[0;36m25\u001b[0m\u001b[0;34m\u001b[0m\u001b[0m\n\u001b[1;32m      2\u001b[0m \u001b[0mylim\u001b[0m \u001b[0;34m=\u001b[0m \u001b[0;34m-\u001b[0m\u001b[0;36m25\u001b[0m\u001b[0;34m,\u001b[0m \u001b[0;34m-\u001b[0m\u001b[0;36m15\u001b[0m\u001b[0;34m\u001b[0m\u001b[0m\n\u001b[0;32m----> 3\u001b[0;31m \u001b[0msel\u001b[0m  \u001b[0;34m=\u001b[0m \u001b[0min_range\u001b[0m\u001b[0;34m(\u001b[0m\u001b[0mX\u001b[0m\u001b[0;34m,\u001b[0m \u001b[0;34m*\u001b[0m\u001b[0mxlim\u001b[0m\u001b[0;34m)\u001b[0m \u001b[0;34m&\u001b[0m \u001b[0min_range\u001b[0m\u001b[0;34m(\u001b[0m\u001b[0mY\u001b[0m\u001b[0;34m,\u001b[0m \u001b[0;34m*\u001b[0m\u001b[0mylim\u001b[0m\u001b[0;34m)\u001b[0m\u001b[0;34m\u001b[0m\u001b[0m\n\u001b[0m\u001b[1;32m      4\u001b[0m \u001b[0mz\u001b[0m\u001b[0;34m,\u001b[0m \u001b[0mq\u001b[0m \u001b[0;34m=\u001b[0m \u001b[0mZ\u001b[0m\u001b[0;34m[\u001b[0m\u001b[0msel\u001b[0m\u001b[0;34m]\u001b[0m\u001b[0;34m,\u001b[0m \u001b[0mQ\u001b[0m\u001b[0;34m[\u001b[0m\u001b[0msel\u001b[0m\u001b[0;34m]\u001b[0m\u001b[0;34m\u001b[0m\u001b[0m\n\u001b[1;32m      5\u001b[0m \u001b[0;34m\u001b[0m\u001b[0m\n",
      "\u001b[0;31mNameError\u001b[0m: name 'X' is not defined"
     ]
    }
   ],
   "source": [
    "xlim =  15,  25\n",
    "ylim = -25, -15\n",
    "sel  = in_range(X, *xlim) & in_range(Y, *ylim)\n",
    "z, q = Z[sel], Q[sel]\n",
    "\n",
    "frame_data = plt.gcf().add_axes((.1, .3,\n",
    "                                 .8, .6))\n",
    "plt.hist2d(z, q, (Zbins, Qbins))\n",
    "\n",
    "x, y, yu = fitf.profileX(z, q, Znbins, Zrange)\n",
    "plt.errorbar(x, y, yu, np.diff(x)[0]/2, fmt=\"kp\", ms=7, lw=3)\n",
    "\n",
    "seed = expo_seed(x, y)\n",
    "f    = fitf.fit(fitf.expo, x, y, seed, sigma=yu)\n",
    "plt.plot(x, f.fn(x), \"r-\", lw=4)\n",
    "\n",
    "frame_data.set_xticklabels([])\n",
    "labels(\"\", \"Energy (pes)\", \"Lifetime fit example\")\n",
    "lims = plt.xlim()\n",
    "\n",
    "frame_res = plt.gcf().add_axes((.1, .1,\n",
    "                                .8, .2))\n",
    "plt.errorbar(x, (f.fn(x) - y) / yu, 1, np.diff(x)[0] / 2, fmt=\"p\", c=\"k\")\n",
    "plt.plot(lims, (0, 0), \"g--\")\n",
    "plt.xlim(*lims)\n",
    "plt.ylim(-5, +5)\n",
    "labels(\"Drift time (µs)\", \"Standarized residual\")\n",
    "\n",
    "save(\"LifetimeQ_fit_example\")"
   ]
  },
  {
   "cell_type": "markdown",
   "metadata": {},
   "source": [
    "### Map display"
   ]
  },
  {
   "cell_type": "code",
   "execution_count": 14,
   "metadata": {},
   "outputs": [
    {
     "ename": "NameError",
     "evalue": "name 'E_min' is not defined",
     "output_type": "error",
     "traceback": [
      "\u001b[0;31m---------------------------------------------------------------------------\u001b[0m",
      "\u001b[0;31mNameError\u001b[0m                                 Traceback (most recent call last)",
      "\u001b[0;32m<ipython-input-14-042deb26bf92>\u001b[0m in \u001b[0;36m<module>\u001b[0;34m()\u001b[0m\n\u001b[1;32m      1\u001b[0m \u001b[0mplt\u001b[0m\u001b[0;34m.\u001b[0m\u001b[0msubplot\u001b[0m\u001b[0;34m(\u001b[0m\u001b[0;36m2\u001b[0m\u001b[0;34m,\u001b[0m \u001b[0;36m2\u001b[0m\u001b[0;34m,\u001b[0m \u001b[0;36m1\u001b[0m\u001b[0;34m)\u001b[0m\u001b[0;34m\u001b[0m\u001b[0m\n\u001b[0;32m----> 2\u001b[0;31m \u001b[0mbins\u001b[0m    \u001b[0;34m=\u001b[0m \u001b[0mnp\u001b[0m\u001b[0;34m.\u001b[0m\u001b[0mlinspace\u001b[0m\u001b[0;34m(\u001b[0m\u001b[0mE_min\u001b[0m\u001b[0;34m,\u001b[0m \u001b[0mE_max\u001b[0m\u001b[0;34m,\u001b[0m \u001b[0;36m101\u001b[0m\u001b[0;34m)\u001b[0m\u001b[0;34m\u001b[0m\u001b[0m\n\u001b[0m\u001b[1;32m      3\u001b[0m \u001b[0my\u001b[0m\u001b[0;34m,\u001b[0m \u001b[0mx\u001b[0m\u001b[0;34m,\u001b[0m \u001b[0m_\u001b[0m \u001b[0;34m=\u001b[0m \u001b[0mplt\u001b[0m\u001b[0;34m.\u001b[0m\u001b[0mhist\u001b[0m\u001b[0;34m(\u001b[0m\u001b[0mEscale\u001b[0m\u001b[0;34m.\u001b[0m\u001b[0mvalue\u001b[0m\u001b[0;34m.\u001b[0m\u001b[0mflatten\u001b[0m\u001b[0;34m(\u001b[0m\u001b[0;34m)\u001b[0m\u001b[0;34m,\u001b[0m \u001b[0mbins\u001b[0m\u001b[0;34m)\u001b[0m\u001b[0;34m\u001b[0m\u001b[0m\n\u001b[1;32m      4\u001b[0m \u001b[0mlabels\u001b[0m\u001b[0;34m(\u001b[0m\u001b[0;34m\"Energy at z=0 (pes)\"\u001b[0m\u001b[0;34m,\u001b[0m \u001b[0;34m\"Entries\"\u001b[0m\u001b[0;34m,\u001b[0m \u001b[0;34m\"Energy scale distribution\"\u001b[0m\u001b[0;34m)\u001b[0m\u001b[0;34m\u001b[0m\u001b[0m\n\u001b[1;32m      5\u001b[0m \u001b[0;34m\u001b[0m\u001b[0m\n",
      "\u001b[0;31mNameError\u001b[0m: name 'E_min' is not defined"
     ]
    },
    {
     "data": {
      "image/png": "[encoded data removed]",
      "text/plain": [
       "<matplotlib.figure.Figure at 0x1116c6cc0>"
      ]
     },
     "metadata": {},
     "output_type": "display_data"
    }
   ],
   "source": [
    "plt.subplot(2, 2, 1)\n",
    "bins    = np.linspace(E_min, E_max, 101)\n",
    "y, x, _ = plt.hist(Escale.value.flatten(), bins)\n",
    "labels(\"Energy at z=0 (pes)\", \"Entries\", \"Energy scale distribution\")\n",
    "\n",
    "plt.subplot(2, 2, 2)\n",
    "bins    = np.linspace(Eu_min, Eu_max, 101)\n",
    "y, x, _ = plt.hist(Escale.uncertainty.flatten(), bins)\n",
    "labels(\"Energy at z=0 uncertainty(%)\", \"Entries\", \"Energy scale uncertainty distribution\")\n",
    "\n",
    "plt.subplot(2, 2, 3)\n",
    "bins    = np.linspace(ELT_min, ELT_max, 101)\n",
    "y, x, _ = plt.hist       (-ELT.value.flatten(), bins)\n",
    "f       = quick_gauss_fit(-ELT.value.flatten(), bins)\n",
    "plt.plot(x, f.fn(x), \"r-\")\n",
    "labels(\"Lifetime (µs)\", \"Entries\", \"Lifetime distribution\")\n",
    "\n",
    "plt.subplot(2, 2, 4)\n",
    "bins    = np.linspace(ELTu_min, ELTu_max, 101)\n",
    "y, x, _ = plt.hist       (ELT.uncertainty.flatten(), bins)\n",
    "fu      = quick_gauss_fit(ELT.uncertainty.flatten(), bins)\n",
    "plt.plot(x, fu.fn(x), \"r-\")\n",
    "labels(\"Lifetime uncertainty (%)\", \"Entries\", \"Lifetime uncertainty distribution\")\n",
    "\n",
    "plt.tight_layout()\n",
    "\n",
    "save(\"Lifetime_and_energy_scale_distributions\")\n",
    "\n",
    "print(\"Average lifetime             (mean +- rms) = ({}) µs\" .format(measurement_string(f .values[1], f .values[2])))\n",
    "print(\"Average lifetime uncertainty (mean +- rms) = ({}) (%)\".format(measurement_string(fu.values[1], fu.values[2])))"
   ]
  },
  {
   "cell_type": "code",
   "execution_count": 15,
   "metadata": {},
   "outputs": [
    {
     "ename": "NameError",
     "evalue": "name 'Q_min' is not defined",
     "output_type": "error",
     "traceback": [
      "\u001b[0;31m---------------------------------------------------------------------------\u001b[0m",
      "\u001b[0;31mNameError\u001b[0m                                 Traceback (most recent call last)",
      "\u001b[0;32m<ipython-input-15-0d4d4d801b70>\u001b[0m in \u001b[0;36m<module>\u001b[0;34m()\u001b[0m\n\u001b[1;32m      1\u001b[0m \u001b[0mplt\u001b[0m\u001b[0;34m.\u001b[0m\u001b[0msubplot\u001b[0m\u001b[0;34m(\u001b[0m\u001b[0;36m2\u001b[0m\u001b[0;34m,\u001b[0m \u001b[0;36m2\u001b[0m\u001b[0;34m,\u001b[0m \u001b[0;36m1\u001b[0m\u001b[0;34m)\u001b[0m\u001b[0;34m\u001b[0m\u001b[0m\n\u001b[0;32m----> 2\u001b[0;31m \u001b[0mbins\u001b[0m    \u001b[0;34m=\u001b[0m \u001b[0mnp\u001b[0m\u001b[0;34m.\u001b[0m\u001b[0mlinspace\u001b[0m\u001b[0;34m(\u001b[0m\u001b[0mQ_min\u001b[0m\u001b[0;34m,\u001b[0m \u001b[0mQ_max\u001b[0m\u001b[0;34m,\u001b[0m \u001b[0;36m101\u001b[0m\u001b[0;34m)\u001b[0m\u001b[0;34m\u001b[0m\u001b[0m\n\u001b[0m\u001b[1;32m      3\u001b[0m \u001b[0my\u001b[0m\u001b[0;34m,\u001b[0m \u001b[0mx\u001b[0m\u001b[0;34m,\u001b[0m \u001b[0m_\u001b[0m \u001b[0;34m=\u001b[0m \u001b[0mplt\u001b[0m\u001b[0;34m.\u001b[0m\u001b[0mhist\u001b[0m\u001b[0;34m(\u001b[0m\u001b[0mQscale\u001b[0m\u001b[0;34m.\u001b[0m\u001b[0mvalue\u001b[0m\u001b[0;34m.\u001b[0m\u001b[0mflatten\u001b[0m\u001b[0;34m(\u001b[0m\u001b[0;34m)\u001b[0m\u001b[0;34m,\u001b[0m \u001b[0mbins\u001b[0m\u001b[0;34m)\u001b[0m\u001b[0;34m\u001b[0m\u001b[0m\n\u001b[1;32m      4\u001b[0m \u001b[0mlabels\u001b[0m\u001b[0;34m(\u001b[0m\u001b[0;34m\"Charge at z=0 (pes)\"\u001b[0m\u001b[0;34m,\u001b[0m \u001b[0;34m\"Entries\"\u001b[0m\u001b[0;34m,\u001b[0m \u001b[0;34m\"Charge scale distribution\"\u001b[0m\u001b[0;34m)\u001b[0m\u001b[0;34m\u001b[0m\u001b[0m\n\u001b[1;32m      5\u001b[0m \u001b[0;34m\u001b[0m\u001b[0m\n",
      "\u001b[0;31mNameError\u001b[0m: name 'Q_min' is not defined"
     ]
    },
    {
     "data": {
      "image/png": "[encoded data removed]",
      "text/plain": [
       "<matplotlib.figure.Figure at 0x11413e470>"
      ]
     },
     "metadata": {},
     "output_type": "display_data"
    }
   ],
   "source": [
    "plt.subplot(2, 2, 1)\n",
    "bins    = np.linspace(Q_min, Q_max, 101)\n",
    "y, x, _ = plt.hist(Qscale.value.flatten(), bins)\n",
    "labels(\"Charge at z=0 (pes)\", \"Entries\", \"Charge scale distribution\")\n",
    "\n",
    "plt.subplot(2, 2, 2)\n",
    "bins    = np.linspace(Qu_min, Qu_max, 101)\n",
    "y, x, _ = plt.hist(Qscale.uncertainty.flatten(), bins)\n",
    "labels(\"Charge at z=0 uncertainty(%)\", \"Entries\", \"Charge scale uncertainty distribution\")\n",
    "\n",
    "plt.subplot(2, 2, 3)\n",
    "bins    = np.linspace(QLT_min, QLT_max, 101)\n",
    "y, x, _ = plt.hist       (-QLT.value.flatten(), bins)\n",
    "f       = quick_gauss_fit(-QLT.value.flatten(), bins)\n",
    "plt.plot(x, f.fn(x), \"r-\")\n",
    "labels(\"Charge lifetime (µs)\", \"Entries\", \"Charge lifetime distribution\")\n",
    "\n",
    "plt.subplot(2, 2, 4)\n",
    "bins    = np.linspace(QLTu_min, QLTu_max, 101)\n",
    "y, x, _ = plt.hist       (QLT.uncertainty.flatten(), bins)\n",
    "fu      = quick_gauss_fit(QLT.uncertainty.flatten(), bins)\n",
    "plt.plot(x, fu.fn(x), \"r-\")\n",
    "labels(\"Charge lifetime uncertainty (%)\", \"Entries\", \"Charge lifetime uncertainty distribution\")\n",
    "\n",
    "plt.tight_layout()\n",
    "\n",
    "save(\"Lifetime_and_charge_scale_distributions\")\n",
    "\n",
    "print(\"Average lifetime             (mean +- rms) = ({}) µs\" .format(measurement_string(f .values[1], f .values[2])))\n",
    "print(\"Average lifetime uncertainty (mean +- rms) = ({}) (%)\".format(measurement_string(fu.values[1], fu.values[2])))"
   ]
  },
  {
   "cell_type": "code",
   "execution_count": 16,
   "metadata": {},
   "outputs": [
    {
     "ename": "NameError",
     "evalue": "name 'Escale' is not defined",
     "output_type": "error",
     "traceback": [
      "\u001b[0;31m---------------------------------------------------------------------------\u001b[0m",
      "\u001b[0;31mNameError\u001b[0m                                 Traceback (most recent call last)",
      "\u001b[0;32m<ipython-input-16-86515dce7a4a>\u001b[0m in \u001b[0;36m<module>\u001b[0;34m()\u001b[0m\n\u001b[1;32m      1\u001b[0m \u001b[0mplt\u001b[0m\u001b[0;34m.\u001b[0m\u001b[0msubplot\u001b[0m\u001b[0;34m(\u001b[0m\u001b[0;36m2\u001b[0m\u001b[0;34m,\u001b[0m \u001b[0;36m2\u001b[0m\u001b[0;34m,\u001b[0m \u001b[0;36m1\u001b[0m\u001b[0;34m)\u001b[0m\u001b[0;34m\u001b[0m\u001b[0m\n\u001b[0;32m----> 2\u001b[0;31m *_, cb = display_matrix(XYcenters, XYcenters, Escale.value,\n\u001b[0m\u001b[1;32m      3\u001b[0m                         \u001b[0mvmin\u001b[0m \u001b[0;34m=\u001b[0m \u001b[0mE_min\u001b[0m\u001b[0;34m,\u001b[0m\u001b[0;34m\u001b[0m\u001b[0m\n\u001b[1;32m      4\u001b[0m                         \u001b[0mvmax\u001b[0m \u001b[0;34m=\u001b[0m \u001b[0mE_max\u001b[0m\u001b[0;34m,\u001b[0m\u001b[0;34m\u001b[0m\u001b[0m\n\u001b[1;32m      5\u001b[0m                         \u001b[0mcmap\u001b[0m \u001b[0;34m=\u001b[0m \u001b[0mdefault_cmap\u001b[0m\u001b[0;34m,\u001b[0m\u001b[0;34m\u001b[0m\u001b[0m\n",
      "\u001b[0;31mNameError\u001b[0m: name 'Escale' is not defined"
     ]
    },
    {
     "data": {
      "image/png": "[encoded data removed]",
      "text/plain": [
       "<matplotlib.figure.Figure at 0x114259630>"
      ]
     },
     "metadata": {},
     "output_type": "display_data"
    }
   ],
   "source": [
    "plt.subplot(2, 2, 1)\n",
    "*_, cb = display_matrix(XYcenters, XYcenters, Escale.value,\n",
    "                        vmin = E_min,\n",
    "                        vmax = E_max,\n",
    "                        cmap = default_cmap,\n",
    "                        new_figure = False);\n",
    "cb.set_label(\"Energy scale at z=0 (pes)\")\n",
    "labels(\"X (mm)\", \"Y (mm)\", \"Energy scale\")\n",
    "\n",
    "plt.subplot(2, 2, 2)\n",
    "*_, cb = display_matrix(XYcenters, XYcenters, Escale.uncertainty,\n",
    "                        vmin = Eu_min,\n",
    "                        vmax = Eu_max,\n",
    "                        cmap = default_cmap,\n",
    "                        new_figure = False);\n",
    "cb.set_label(\"Relative energy scale uncertainty (%)\")\n",
    "labels(\"X (mm)\", \"Y (mm)\", \"Relative energy scale uncertainty\")\n",
    "\n",
    "plt.subplot(2, 2, 3)\n",
    "*_, cb = display_matrix(XYcenters, XYcenters, -ELT.value,\n",
    "                        vmin = ELT_min,\n",
    "                        vmax = ELT_max,\n",
    "                        cmap = default_cmap,\n",
    "                        new_figure = False);\n",
    "cb.set_label(\"Lifetime (µs)\")\n",
    "labels(\"X (mm)\", \"Y (mm)\", \"Lifetime\")\n",
    "\n",
    "plt.subplot(2, 2, 4)\n",
    "*_, cb = display_matrix(XYcenters, XYcenters, ELT.uncertainty,\n",
    "                        vmin = ELTu_min,\n",
    "                        vmax = ELTu_max,\n",
    "                        cmap = default_cmap,\n",
    "                        new_figure = False);\n",
    "cb.set_label(\"Relative lifetime uncertainty (%)\")\n",
    "labels(\"X (mm)\", \"Y (mm)\", \"Relative lifetime uncertainty\")\n",
    "\n",
    "plt.tight_layout()\n",
    "save(\"Lifetime_and_energy_scale_maps\")"
   ]
  },
  {
   "cell_type": "code",
   "execution_count": 17,
   "metadata": {},
   "outputs": [
    {
     "ename": "NameError",
     "evalue": "name 'Qscale' is not defined",
     "output_type": "error",
     "traceback": [
      "\u001b[0;31m---------------------------------------------------------------------------\u001b[0m",
      "\u001b[0;31mNameError\u001b[0m                                 Traceback (most recent call last)",
      "\u001b[0;32m<ipython-input-17-eea5db94da32>\u001b[0m in \u001b[0;36m<module>\u001b[0;34m()\u001b[0m\n\u001b[1;32m      1\u001b[0m \u001b[0mplt\u001b[0m\u001b[0;34m.\u001b[0m\u001b[0msubplot\u001b[0m\u001b[0;34m(\u001b[0m\u001b[0;36m2\u001b[0m\u001b[0;34m,\u001b[0m \u001b[0;36m2\u001b[0m\u001b[0;34m,\u001b[0m \u001b[0;36m1\u001b[0m\u001b[0;34m)\u001b[0m\u001b[0;34m\u001b[0m\u001b[0m\n\u001b[0;32m----> 2\u001b[0;31m *_, cb = display_matrix(XYcenters, XYcenters, Qscale.value,\n\u001b[0m\u001b[1;32m      3\u001b[0m                         \u001b[0mvmin\u001b[0m \u001b[0;34m=\u001b[0m \u001b[0mQ_min\u001b[0m\u001b[0;34m,\u001b[0m\u001b[0;34m\u001b[0m\u001b[0m\n\u001b[1;32m      4\u001b[0m                         \u001b[0mvmax\u001b[0m \u001b[0;34m=\u001b[0m \u001b[0mQ_max\u001b[0m\u001b[0;34m,\u001b[0m\u001b[0;34m\u001b[0m\u001b[0m\n\u001b[1;32m      5\u001b[0m                         \u001b[0mcmap\u001b[0m \u001b[0;34m=\u001b[0m \u001b[0mdefault_cmap\u001b[0m\u001b[0;34m,\u001b[0m\u001b[0;34m\u001b[0m\u001b[0m\n",
      "\u001b[0;31mNameError\u001b[0m: name 'Qscale' is not defined"
     ]
    },
    {
     "data": {
      "image/png": "[encoded data removed]",
      "text/plain": [
       "<matplotlib.figure.Figure at 0x114371d68>"
      ]
     },
     "metadata": {},
     "output_type": "display_data"
    }
   ],
   "source": [
    "plt.subplot(2, 2, 1)\n",
    "*_, cb = display_matrix(XYcenters, XYcenters, Qscale.value,\n",
    "                        vmin = Q_min,\n",
    "                        vmax = Q_max,\n",
    "                        cmap = default_cmap,\n",
    "                        new_figure = False);\n",
    "cb.set_label(\"Charge scale at z=0 (pes)\")\n",
    "labels(\"X (mm)\", \"Y (mm)\", \"Charge scale\")\n",
    "\n",
    "plt.subplot(2, 2, 2)\n",
    "*_, cb = display_matrix(XYcenters, XYcenters, Qscale.uncertainty,\n",
    "                        vmin = Qu_min,\n",
    "                        vmax = Qu_max,\n",
    "                        cmap = default_cmap,\n",
    "                        new_figure = False);\n",
    "cb.set_label(\"Relative charge scale uncertainty (%)\")\n",
    "labels(\"X (mm)\", \"Y (mm)\", \"Relative charge scale uncertainty\")\n",
    "\n",
    "plt.subplot(2, 2, 3)\n",
    "*_, cb = display_matrix(XYcenters, XYcenters, -QLT.value,\n",
    "                        vmin = QLT_min,\n",
    "                        vmax = QLT_max,\n",
    "                        cmap = default_cmap,\n",
    "                        new_figure = False);\n",
    "cb.set_label(\"Lifetime (µs)\")\n",
    "labels(\"X (mm)\", \"Y (mm)\", \"Lifetime\")\n",
    "\n",
    "plt.subplot(2, 2, 4)\n",
    "*_, cb = display_matrix(XYcenters, XYcenters, QLT.uncertainty,\n",
    "                        vmin = QLTu_min,\n",
    "                        vmax = QLTu_max,\n",
    "                        cmap = default_cmap,\n",
    "                        new_figure = False);\n",
    "cb.set_label(\"Relative lifetime uncertainty (%)\")\n",
    "labels(\"X (mm)\", \"Y (mm)\", \"Relative lifetime uncertainty\")\n",
    "\n",
    "plt.tight_layout()\n",
    "save(\"Lifetime_and_charge_scale_maps\")"
   ]
  },
  {
   "cell_type": "code",
   "execution_count": 18,
   "metadata": {},
   "outputs": [
    {
     "ename": "NameError",
     "evalue": "name 'Echi2' is not defined",
     "output_type": "error",
     "traceback": [
      "\u001b[0;31m---------------------------------------------------------------------------\u001b[0m",
      "\u001b[0;31mNameError\u001b[0m                                 Traceback (most recent call last)",
      "\u001b[0;32m<ipython-input-18-3649c2b19fbd>\u001b[0m in \u001b[0;36m<module>\u001b[0;34m()\u001b[0m\n\u001b[0;32m----> 1\u001b[0;31m \u001b[0mplt\u001b[0m\u001b[0;34m.\u001b[0m\u001b[0mhist\u001b[0m\u001b[0;34m(\u001b[0m\u001b[0mEchi2\u001b[0m\u001b[0;34m[\u001b[0m\u001b[0mEchi2\u001b[0m \u001b[0;34m>\u001b[0m \u001b[0;36m0\u001b[0m\u001b[0;34m]\u001b[0m\u001b[0;34m,\u001b[0m \u001b[0mnp\u001b[0m\u001b[0;34m.\u001b[0m\u001b[0mlinspace\u001b[0m\u001b[0;34m(\u001b[0m\u001b[0;36m0\u001b[0m\u001b[0;34m,\u001b[0m \u001b[0;36m4\u001b[0m\u001b[0;34m,\u001b[0m \u001b[0;36m100\u001b[0m\u001b[0;34m)\u001b[0m\u001b[0;34m)\u001b[0m\u001b[0;34m\u001b[0m\u001b[0m\n\u001b[0m\u001b[1;32m      2\u001b[0m \u001b[0mlabels\u001b[0m\u001b[0;34m(\u001b[0m\u001b[0;34m\"$\\chi^2$\"\u001b[0m\u001b[0;34m,\u001b[0m \u001b[0;34m\"Entries\"\u001b[0m\u001b[0;34m,\u001b[0m \u001b[0;34m\"$\\chi^2$ distribution\"\u001b[0m\u001b[0;34m)\u001b[0m\u001b[0;34m\u001b[0m\u001b[0m\n\u001b[1;32m      3\u001b[0m \u001b[0;34m\u001b[0m\u001b[0m\n\u001b[1;32m      4\u001b[0m *_, cb = display_matrix(XYcenters, XYcenters, Echi2,\n\u001b[1;32m      5\u001b[0m                         \u001b[0mvmin\u001b[0m \u001b[0;34m=\u001b[0m \u001b[0;36m0\u001b[0m\u001b[0;34m,\u001b[0m \u001b[0mvmax\u001b[0m \u001b[0;34m=\u001b[0m \u001b[0;36m4\u001b[0m\u001b[0;34m,\u001b[0m\u001b[0;34m\u001b[0m\u001b[0m\n",
      "\u001b[0;31mNameError\u001b[0m: name 'Echi2' is not defined"
     ]
    }
   ],
   "source": [
    "plt.hist(Echi2[Echi2 > 0], np.linspace(0, 4, 100))\n",
    "labels(\"$\\chi^2$\", \"Entries\", \"$\\chi^2$ distribution\")\n",
    "\n",
    "*_, cb = display_matrix(XYcenters, XYcenters, Echi2,\n",
    "                        vmin = 0, vmax = 4,\n",
    "                        cmap = default_cmap)\n",
    "cb.set_label(\"$\\chi^2$\")\n",
    "labels(\"X (mm)\", \"Y (mm)\", \"$\\chi^2$ vs XY\")"
   ]
  },
  {
   "cell_type": "code",
   "execution_count": 19,
   "metadata": {},
   "outputs": [
    {
     "ename": "NameError",
     "evalue": "name 'Qchi2' is not defined",
     "output_type": "error",
     "traceback": [
      "\u001b[0;31m---------------------------------------------------------------------------\u001b[0m",
      "\u001b[0;31mNameError\u001b[0m                                 Traceback (most recent call last)",
      "\u001b[0;32m<ipython-input-19-5db145cdb7a2>\u001b[0m in \u001b[0;36m<module>\u001b[0;34m()\u001b[0m\n\u001b[0;32m----> 1\u001b[0;31m \u001b[0mplt\u001b[0m\u001b[0;34m.\u001b[0m\u001b[0mhist\u001b[0m\u001b[0;34m(\u001b[0m\u001b[0mQchi2\u001b[0m\u001b[0;34m[\u001b[0m\u001b[0mQchi2\u001b[0m \u001b[0;34m>\u001b[0m \u001b[0;36m0\u001b[0m\u001b[0;34m]\u001b[0m\u001b[0;34m,\u001b[0m \u001b[0mnp\u001b[0m\u001b[0;34m.\u001b[0m\u001b[0mlinspace\u001b[0m\u001b[0;34m(\u001b[0m\u001b[0;36m0\u001b[0m\u001b[0;34m,\u001b[0m \u001b[0;36m4\u001b[0m\u001b[0;34m,\u001b[0m \u001b[0;36m100\u001b[0m\u001b[0;34m)\u001b[0m\u001b[0;34m)\u001b[0m\u001b[0;34m\u001b[0m\u001b[0m\n\u001b[0m\u001b[1;32m      2\u001b[0m \u001b[0mlabels\u001b[0m\u001b[0;34m(\u001b[0m\u001b[0;34m\"$\\chi^2$\"\u001b[0m\u001b[0;34m,\u001b[0m \u001b[0;34m\"Entries\"\u001b[0m\u001b[0;34m,\u001b[0m \u001b[0;34m\"$\\chi^2$ distribution\"\u001b[0m\u001b[0;34m)\u001b[0m\u001b[0;34m\u001b[0m\u001b[0m\n\u001b[1;32m      3\u001b[0m \u001b[0;34m\u001b[0m\u001b[0m\n\u001b[1;32m      4\u001b[0m *_, cb = display_matrix(XYcenters, XYcenters, Qchi2,\n\u001b[1;32m      5\u001b[0m                         \u001b[0mvmin\u001b[0m \u001b[0;34m=\u001b[0m \u001b[0;36m0\u001b[0m\u001b[0;34m,\u001b[0m \u001b[0mvmax\u001b[0m \u001b[0;34m=\u001b[0m \u001b[0;36m4\u001b[0m\u001b[0;34m,\u001b[0m\u001b[0;34m\u001b[0m\u001b[0m\n",
      "\u001b[0;31mNameError\u001b[0m: name 'Qchi2' is not defined"
     ]
    }
   ],
   "source": [
    "plt.hist(Qchi2[Qchi2 > 0], np.linspace(0, 4, 100))\n",
    "labels(\"$\\chi^2$\", \"Entries\", \"$\\chi^2$ distribution\")\n",
    "\n",
    "*_, cb = display_matrix(XYcenters, XYcenters, Qchi2,\n",
    "                        vmin = 0, vmax = 4,\n",
    "                        cmap = default_cmap)\n",
    "cb.set_label(\"$\\chi^2$\")\n",
    "labels(\"X (mm)\", \"Y (mm)\", \"$\\chi^2$ vs XY\")"
   ]
  },
  {
   "cell_type": "markdown",
   "metadata": {},
   "source": [
    "### Produce HDF5 output"
   ]
  },
  {
   "cell_type": "code",
   "execution_count": 20,
   "metadata": {},
   "outputs": [
    {
     "ename": "NameError",
     "evalue": "name 'Eok' is not defined",
     "output_type": "error",
     "traceback": [
      "\u001b[0;31m---------------------------------------------------------------------------\u001b[0m",
      "\u001b[0;31mNameError\u001b[0m                                 Traceback (most recent call last)",
      "\u001b[0;32m<ipython-input-20-7388cf0c719a>\u001b[0m in \u001b[0;36m<module>\u001b[0;34m()\u001b[0m\n\u001b[1;32m      7\u001b[0m \u001b[0;31m# resolution.\u001b[0m\u001b[0;34m\u001b[0m\u001b[0;34m\u001b[0m\u001b[0m\n\u001b[1;32m      8\u001b[0m \u001b[0;34m\u001b[0m\u001b[0m\n\u001b[0;32m----> 9\u001b[0;31m \u001b[0mEscale_safe\u001b[0m  \u001b[0;34m=\u001b[0m \u001b[0mnp\u001b[0m\u001b[0;34m.\u001b[0m\u001b[0mwhere\u001b[0m\u001b[0;34m(\u001b[0m\u001b[0mEok\u001b[0m\u001b[0;34m,\u001b[0m \u001b[0mEscale_abs\u001b[0m\u001b[0;34m.\u001b[0m\u001b[0mvalue\u001b[0m      \u001b[0;34m,\u001b[0m     \u001b[0mE_mean\u001b[0m\u001b[0;34m)\u001b[0m\u001b[0;34m\u001b[0m\u001b[0m\n\u001b[0m\u001b[1;32m     10\u001b[0m \u001b[0mEscaleu_safe\u001b[0m \u001b[0;34m=\u001b[0m \u001b[0mnp\u001b[0m\u001b[0;34m.\u001b[0m\u001b[0mwhere\u001b[0m\u001b[0;34m(\u001b[0m\u001b[0mEok\u001b[0m\u001b[0;34m,\u001b[0m \u001b[0mEscale_abs\u001b[0m\u001b[0;34m.\u001b[0m\u001b[0muncertainty\u001b[0m\u001b[0;34m,\u001b[0m    \u001b[0mEu_mean\u001b[0m \u001b[0;34m*\u001b[0m   \u001b[0mE_mean\u001b[0m \u001b[0;34m/\u001b[0m \u001b[0;36m100\u001b[0m\u001b[0;34m)\u001b[0m\u001b[0;34m\u001b[0m\u001b[0m\n\u001b[1;32m     11\u001b[0m \u001b[0;34m\u001b[0m\u001b[0m\n",
      "\u001b[0;31mNameError\u001b[0m: name 'Eok' is not defined"
     ]
    }
   ],
   "source": [
    "# This is to avoid the effect of low stat bins\n",
    "# to the map. Data points in that bin could be\n",
    "# loss or corrected with an unrealistic lifetime.\n",
    "# Thus, we assign the average value. This works\n",
    "# because correcting with a slightly different\n",
    "# lifetime does not have a big impact on energy\n",
    "# resolution.\n",
    "\n",
    "Escale_safe  = np.where(Eok, Escale_abs.value      ,     E_mean)\n",
    "Escaleu_safe = np.where(Eok, Escale_abs.uncertainty,    Eu_mean *   E_mean / 100)\n",
    "\n",
    "ELT_safe     = np.where(Eok,   -ELT_abs.value      , - ELT_mean)\n",
    "ELTu_safe    = np.where(Eok,    ELT_abs.uncertainty, -ELTu_mean * ELT_mean / 100)\n",
    "\n",
    "Qscale_safe  = np.where(Qok, Qscale_abs.value      ,     Q_mean)\n",
    "Qscaleu_safe = np.where(Qok, Qscale_abs.uncertainty,    Qu_mean *   Q_mean / 100)\n",
    "\n",
    "QLT_safe     = np.where(Qok,   -QLT_abs.value      , - QLT_mean)\n",
    "QLTu_safe    = np.where(Qok,    QLT_abs.uncertainty, -QLTu_mean * QLT_mean / 100)\n",
    "\n",
    "with tb.open_file(correction_filename, \"w\") as correction_file:\n",
    "    write_escale = kdstio.xy_writer(correction_file,\n",
    "                                    group       = \"XYcorrections\",\n",
    "                                    name        = \"Escale\",\n",
    "                                    description = \"XY-dependent energy scale\",\n",
    "                                    compression = \"ZLIB4\")\n",
    "    write_escale(XYcenters, XYcenters, Escale_safe, Escaleu_safe, nevt)\n",
    "    correction_file.root.XYcorrections.Escale.attrs.xy_bins  = XYnbins\n",
    "    correction_file.root.XYcorrections.Escale.attrs.xy_pitch = XYpitch\n",
    "\n",
    "    write_lifetime = kdstio.xy_writer(correction_file,\n",
    "                                      group       = \"XYcorrections\",\n",
    "                                      name        = \"Lifetime\",\n",
    "                                      description = \"XY-dependent lifetime values\",\n",
    "                                      compression = \"ZLIB4\")\n",
    "    write_lifetime(XYcenters, XYcenters, ELT_safe, ELTu_safe, nevt)\n",
    "    correction_file.root.XYcorrections.Lifetime.attrs.xy_bins  = XYnbins\n",
    "    correction_file.root.XYcorrections.Lifetime.attrs.xy_pitch = XYpitch\n",
    "\n",
    "    write_qscale = kdstio.xy_writer(correction_file,\n",
    "                                    group       = \"XYcorrections\",\n",
    "                                    name        = \"Qscale\",\n",
    "                                    description = \"XY-dependent energy scale\",\n",
    "                                    compression = \"ZLIB4\")\n",
    "    write_escale(XYcenters, XYcenters, Qscale_safe, Qscaleu_safe, nevt)\n",
    "    correction_file.root.XYcorrections.Qscale.attrs.xy_bins  = XYnbins\n",
    "    correction_file.root.XYcorrections.Qscale.attrs.xy_pitch = XYpitch\n",
    "\n",
    "    write_lifetime = kdstio.xy_writer(correction_file,\n",
    "                                      group       = \"XYcorrections\",\n",
    "                                      name        = \"QLifetime\",\n",
    "                                      description = \"XY-dependent lifetime values\",\n",
    "                                      compression = \"ZLIB4\")\n",
    "    write_lifetime(XYcenters, XYcenters, QLT_safe, QLTu_safe, nevt)\n",
    "    correction_file.root.XYcorrections.QLifetime.attrs.xy_bins  = XYnbins\n",
    "    correction_file.root.XYcorrections.QLifetime.attrs.xy_pitch = XYpitch"
   ]
  }
 ],
 "metadata": {
  "kernelspec": {
   "display_name": "Python 3",
   "language": "python",
   "name": "python3"
  },
  "language_info": {
   "codemirror_mode": {
    "name": "ipython",
    "version": 3
   },
   "file_extension": ".py",
   "mimetype": "text/x-python",
   "name": "python",
   "nbconvert_exporter": "python",
   "pygments_lexer": "ipython3",
   "version": "3.6.1"
  }
 },
 "nbformat": 4,
 "nbformat_minor": 2
}
