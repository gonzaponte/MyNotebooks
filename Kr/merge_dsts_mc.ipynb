{
 "cells": [
  {
   "cell_type": "markdown",
   "metadata": {},
   "source": [
    "### Notebook configuration"
   ]
  },
  {
   "cell_type": "code",
   "execution_count": 1,
   "metadata": {
    "collapsed": true
   },
   "outputs": [],
   "source": [
    "input_dst_filenames = f\"$IC_DATA/MC/Kr/oct/dsts/kr_*.h5\"\n",
    "output_dst_filename = f\"$IC_DATA/MC/Kr/oct/dsts/dst_MC.root.h5\""
   ]
  },
  {
   "cell_type": "markdown",
   "metadata": {},
   "source": [
    "### Imports"
   ]
  },
  {
   "cell_type": "code",
   "execution_count": 2,
   "metadata": {
    "collapsed": true
   },
   "outputs": [],
   "source": [
    "import os\n",
    "import glob\n",
    "\n",
    "import numpy  as np\n",
    "import tables as tb\n",
    "\n",
    "import invisible_cities.io.dst_io as dstio"
   ]
  },
  {
   "cell_type": "markdown",
   "metadata": {},
   "source": [
    "### Initialization"
   ]
  },
  {
   "cell_type": "code",
   "execution_count": 3,
   "metadata": {
    "collapsed": true
   },
   "outputs": [],
   "source": [
    "input_dst_filenames = os.path.expandvars(input_dst_filenames)\n",
    "output_dst_filename = os.path.expandvars(output_dst_filename)"
   ]
  },
  {
   "cell_type": "markdown",
   "metadata": {},
   "source": [
    "### Load dsts"
   ]
  },
  {
   "cell_type": "code",
   "execution_count": 4,
   "metadata": {},
   "outputs": [],
   "source": [
    "dst = dstio.load_dsts(glob.glob(input_dst_filenames), \"DST\", \"Events\")"
   ]
  },
  {
   "cell_type": "markdown",
   "metadata": {},
   "source": [
    "### Create new dst"
   ]
  },
  {
   "cell_type": "code",
   "execution_count": 5,
   "metadata": {},
   "outputs": [],
   "source": [
    "# Unfortunately, this method can't set a specific name to the table or its title.\n",
    "# It also includes an extra column (\"index\") which I can't manage to remove.\n",
    "subdst = dst\n",
    "subdst.to_hdf(output_dst_filename,\n",
    "              key     = \"DST\"  , mode         = \"w\",\n",
    "              format  = \"table\", data_columns = True,\n",
    "              complib = \"zlib\" , complevel    = 4)\n",
    "\n",
    "# Workaround to re-establish the name of the table and its title\n",
    "with tb.open_file(output_dst_filename, \"r+\") as f:\n",
    "    f.rename_node(f.root.DST.table, \"Events\")\n",
    "    f.root.DST.Events.title = \"Events\""
   ]
  }
 ],
 "metadata": {
  "kernelspec": {
   "display_name": "Python 3",
   "language": "python",
   "name": "python3"
  },
  "language_info": {
   "codemirror_mode": {
    "name": "ipython",
    "version": 3
   },
   "file_extension": ".py",
   "mimetype": "text/x-python",
   "name": "python",
   "nbconvert_exporter": "python",
   "pygments_lexer": "ipython3",
   "version": "3.6.1"
  }
 },
 "nbformat": 4,
 "nbformat_minor": 2
}
