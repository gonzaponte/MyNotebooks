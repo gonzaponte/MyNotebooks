{
 "cells": [
  {
   "cell_type": "markdown",
   "metadata": {},
   "source": [
    "# Produce a XR-clean kDST"
   ]
  },
  {
   "cell_type": "markdown",
   "metadata": {},
   "source": [
    "<i>\n",
    "This notebook takes a kDST and filters the data to produce\n",
    "a XR-clean kDST in order to facilitate the Kr analysis.\n",
    "</i>\n",
    "\n",
    "<i>\n",
    "In presence of external gamma sources, the XR production\n",
    "is very significative and constitutes a source of\n",
    "background for Kr data. This NB filters the data to\n",
    "produce a rather pure dataset on which to perform\n",
    "the regular analysis.\n",
    "</i>"
   ]
  },
  {
   "cell_type": "markdown",
   "metadata": {},
   "source": [
    "### Notebook configuration"
   ]
  },
  {
   "cell_type": "code",
   "execution_count": 1,
   "metadata": {},
   "outputs": [],
   "source": [
    "run_number          = 5812\n",
    "input_dst_filename  = f\"$IC_DATA/Kr/dst_{run_number}.root.h5\"\n",
    "correction_filename =  \"$IC_DATA/XYmaps/run4628_corrections.h5\"\n",
    "output_dst_filename = input_dst_filename.replace(\".root.h5\", \"_filtered.root.h5\")\n",
    "\n",
    "n_sigma = 3\n",
    "Zrange  = 100,  550\n",
    "Zfit    = 200,  500\n",
    "Erange  = 2e3, 20e3\n",
    "Znbins  =  50\n",
    "Enbins  = 100\n",
    "\n",
    "# Plotting style\n",
    "default_cmap = \"viridis\"\n",
    "figure_size  = 16, 12\n",
    "font_size    = 15\n",
    "with_titles  = True"
   ]
  },
  {
   "cell_type": "markdown",
   "metadata": {},
   "source": [
    "### Imports"
   ]
  },
  {
   "cell_type": "code",
   "execution_count": 2,
   "metadata": {},
   "outputs": [],
   "source": [
    "import os\n",
    "import time\n",
    "\n",
    "import tables            as tb\n",
    "import numpy             as np\n",
    "import matplotlib.pyplot as plt\n",
    "\n",
    "import invisible_cities.core.fit_functions as fitf\n",
    "import invisible_cities.reco.dst_functions as dstf\n",
    "\n",
    "from invisible_cities.core .core_functions import in_range\n",
    "from invisible_cities.icaro.hst_functions  import shift_to_bin_centers\n",
    "\n",
    "from icaro.core.fit_functions import fit_slices_1d_gauss\n",
    "from icaro.core.fit_functions import expo_seed\n",
    "from icaro.core.fit_functions import conditional_labels\n",
    "\n",
    "labels = conditional_labels(with_titles)\n",
    "\n",
    "%matplotlib inline"
   ]
  },
  {
   "cell_type": "markdown",
   "metadata": {},
   "source": [
    "### Initialization"
   ]
  },
  {
   "cell_type": "code",
   "execution_count": 3,
   "metadata": {},
   "outputs": [
    {
     "name": "stdout",
     "output_type": "stream",
     "text": [
      "This notebook has been run on  Thu Jun 14 15:31:28 2018\n"
     ]
    }
   ],
   "source": [
    "print(\"This notebook has been run on \", time.asctime())"
   ]
  },
  {
   "cell_type": "code",
   "execution_count": 4,
   "metadata": {},
   "outputs": [],
   "source": [
    "input_dst_filename  = os.path.expandvars( input_dst_filename)\n",
    "correction_filename = os.path.expandvars(correction_filename)\n",
    "output_dst_filename = os.path.expandvars(output_dst_filename)\n",
    "\n",
    "Zbins = np.linspace(*Zrange, Znbins + 1)\n",
    "Ebins = np.linspace(*Erange, Enbins + 1)\n",
    "\n",
    "Zcenters = shift_to_bin_centers(Zbins)\n",
    "Zerror   = np.diff(Zbins) * 0.5\n",
    "\n",
    "plt.rcParams[\"figure.figsize\"] = figure_size\n",
    "plt.rcParams[  \"font.size\"   ] =   font_size"
   ]
  },
  {
   "cell_type": "markdown",
   "metadata": {},
   "source": [
    "### Read data"
   ]
  },
  {
   "cell_type": "code",
   "execution_count": 5,
   "metadata": {},
   "outputs": [
    {
     "ename": "OSError",
     "evalue": "``/Users/Gonzalo/github/NEXTdata//Kr/dst_5812.root.h5`` does not exist",
     "output_type": "error",
     "traceback": [
      "\u001b[0;31m---------------------------------------------------------------------------\u001b[0m",
      "\u001b[0;31mOSError\u001b[0m                                   Traceback (most recent call last)",
      "\u001b[0;32m<ipython-input-5-ee59f9a0c169>\u001b[0m in \u001b[0;36m<module>\u001b[0;34m()\u001b[0m\n\u001b[0;32m----> 1\u001b[0;31m \u001b[0mdst\u001b[0m           \u001b[0;34m=\u001b[0m \u001b[0mdstf\u001b[0m\u001b[0;34m.\u001b[0m\u001b[0mload_dst\u001b[0m\u001b[0;34m(\u001b[0m\u001b[0minput_dst_filename\u001b[0m\u001b[0;34m,\u001b[0m \u001b[0;34m\"DST\"\u001b[0m\u001b[0;34m,\u001b[0m \u001b[0;34m\"Events\"\u001b[0m\u001b[0;34m)\u001b[0m\u001b[0;34m\u001b[0m\u001b[0m\n\u001b[0m\u001b[1;32m      2\u001b[0m \u001b[0munique_events\u001b[0m \u001b[0;34m=\u001b[0m \u001b[0;34m~\u001b[0m\u001b[0mdst\u001b[0m\u001b[0;34m.\u001b[0m\u001b[0mevent\u001b[0m\u001b[0;34m.\u001b[0m\u001b[0mduplicated\u001b[0m\u001b[0;34m(\u001b[0m\u001b[0;34m)\u001b[0m\u001b[0;34m\u001b[0m\u001b[0m\n\u001b[1;32m      3\u001b[0m \u001b[0;34m\u001b[0m\u001b[0m\n\u001b[1;32m      4\u001b[0m \u001b[0mnumber_of_S2s_full\u001b[0m  \u001b[0;34m=\u001b[0m \u001b[0mnp\u001b[0m\u001b[0;34m.\u001b[0m\u001b[0msize\u001b[0m         \u001b[0;34m(\u001b[0m\u001b[0munique_events\u001b[0m\u001b[0;34m)\u001b[0m\u001b[0;34m\u001b[0m\u001b[0m\n\u001b[1;32m      5\u001b[0m \u001b[0mnumber_of_evts_full\u001b[0m \u001b[0;34m=\u001b[0m \u001b[0mnp\u001b[0m\u001b[0;34m.\u001b[0m\u001b[0mcount_nonzero\u001b[0m\u001b[0;34m(\u001b[0m\u001b[0munique_events\u001b[0m\u001b[0;34m)\u001b[0m\u001b[0;34m\u001b[0m\u001b[0m\n",
      "\u001b[0;32m~/github/IC/invisible_cities/io/dst_io.py\u001b[0m in \u001b[0;36mload_dst\u001b[0;34m(filename, group, node)\u001b[0m\n\u001b[1;32m      4\u001b[0m \u001b[0;34m\u001b[0m\u001b[0m\n\u001b[1;32m      5\u001b[0m \u001b[0;32mdef\u001b[0m \u001b[0mload_dst\u001b[0m\u001b[0;34m(\u001b[0m\u001b[0mfilename\u001b[0m\u001b[0;34m,\u001b[0m \u001b[0mgroup\u001b[0m\u001b[0;34m,\u001b[0m \u001b[0mnode\u001b[0m\u001b[0;34m)\u001b[0m\u001b[0;34m:\u001b[0m\u001b[0;34m\u001b[0m\u001b[0m\n\u001b[0;32m----> 6\u001b[0;31m     \u001b[0;32mwith\u001b[0m \u001b[0mtb\u001b[0m\u001b[0;34m.\u001b[0m\u001b[0mopen_file\u001b[0m\u001b[0;34m(\u001b[0m\u001b[0mfilename\u001b[0m\u001b[0;34m)\u001b[0m \u001b[0;32mas\u001b[0m \u001b[0mh5in\u001b[0m\u001b[0;34m:\u001b[0m\u001b[0;34m\u001b[0m\u001b[0m\n\u001b[0m\u001b[1;32m      7\u001b[0m         \u001b[0mtable\u001b[0m \u001b[0;34m=\u001b[0m \u001b[0mgetattr\u001b[0m\u001b[0;34m(\u001b[0m\u001b[0mgetattr\u001b[0m\u001b[0;34m(\u001b[0m\u001b[0mh5in\u001b[0m\u001b[0;34m.\u001b[0m\u001b[0mroot\u001b[0m\u001b[0;34m,\u001b[0m \u001b[0mgroup\u001b[0m\u001b[0;34m)\u001b[0m\u001b[0;34m,\u001b[0m \u001b[0mnode\u001b[0m\u001b[0;34m)\u001b[0m\u001b[0;34m.\u001b[0m\u001b[0mread\u001b[0m\u001b[0;34m(\u001b[0m\u001b[0;34m)\u001b[0m\u001b[0;34m\u001b[0m\u001b[0m\n\u001b[1;32m      8\u001b[0m         \u001b[0;32mreturn\u001b[0m \u001b[0mpd\u001b[0m\u001b[0;34m.\u001b[0m\u001b[0mDataFrame\u001b[0m\u001b[0;34m.\u001b[0m\u001b[0mfrom_records\u001b[0m\u001b[0;34m(\u001b[0m\u001b[0mtable\u001b[0m\u001b[0;34m)\u001b[0m\u001b[0;34m\u001b[0m\u001b[0m\n",
      "\u001b[0;32m/Applications/anaconda3/envs/IC3.6/lib/python3.6/site-packages/tables/file.py\u001b[0m in \u001b[0;36mopen_file\u001b[0;34m(filename, mode, title, root_uep, filters, **kwargs)\u001b[0m\n\u001b[1;32m    318\u001b[0m \u001b[0;34m\u001b[0m\u001b[0m\n\u001b[1;32m    319\u001b[0m     \u001b[0;31m# Finally, create the File instance, and return it\u001b[0m\u001b[0;34m\u001b[0m\u001b[0;34m\u001b[0m\u001b[0m\n\u001b[0;32m--> 320\u001b[0;31m     \u001b[0;32mreturn\u001b[0m \u001b[0mFile\u001b[0m\u001b[0;34m(\u001b[0m\u001b[0mfilename\u001b[0m\u001b[0;34m,\u001b[0m \u001b[0mmode\u001b[0m\u001b[0;34m,\u001b[0m \u001b[0mtitle\u001b[0m\u001b[0;34m,\u001b[0m \u001b[0mroot_uep\u001b[0m\u001b[0;34m,\u001b[0m \u001b[0mfilters\u001b[0m\u001b[0;34m,\u001b[0m \u001b[0;34m**\u001b[0m\u001b[0mkwargs\u001b[0m\u001b[0;34m)\u001b[0m\u001b[0;34m\u001b[0m\u001b[0m\n\u001b[0m\u001b[1;32m    321\u001b[0m \u001b[0;34m\u001b[0m\u001b[0m\n\u001b[1;32m    322\u001b[0m \u001b[0;34m\u001b[0m\u001b[0m\n",
      "\u001b[0;32m/Applications/anaconda3/envs/IC3.6/lib/python3.6/site-packages/tables/file.py\u001b[0m in \u001b[0;36m__init__\u001b[0;34m(self, filename, mode, title, root_uep, filters, **kwargs)\u001b[0m\n\u001b[1;32m    781\u001b[0m \u001b[0;34m\u001b[0m\u001b[0m\n\u001b[1;32m    782\u001b[0m         \u001b[0;31m# Now, it is time to initialize the File extension\u001b[0m\u001b[0;34m\u001b[0m\u001b[0;34m\u001b[0m\u001b[0m\n\u001b[0;32m--> 783\u001b[0;31m         \u001b[0mself\u001b[0m\u001b[0;34m.\u001b[0m\u001b[0m_g_new\u001b[0m\u001b[0;34m(\u001b[0m\u001b[0mfilename\u001b[0m\u001b[0;34m,\u001b[0m \u001b[0mmode\u001b[0m\u001b[0;34m,\u001b[0m \u001b[0;34m**\u001b[0m\u001b[0mparams\u001b[0m\u001b[0;34m)\u001b[0m\u001b[0;34m\u001b[0m\u001b[0m\n\u001b[0m\u001b[1;32m    784\u001b[0m \u001b[0;34m\u001b[0m\u001b[0m\n\u001b[1;32m    785\u001b[0m         \u001b[0;31m# Check filters and set PyTables format version for new files.\u001b[0m\u001b[0;34m\u001b[0m\u001b[0;34m\u001b[0m\u001b[0m\n",
      "\u001b[0;32mtables/hdf5extension.pyx\u001b[0m in \u001b[0;36mtables.hdf5extension.File._g_new (tables/hdf5extension.c:4580)\u001b[0;34m()\u001b[0m\n",
      "\u001b[0;32m/Applications/anaconda3/envs/IC3.6/lib/python3.6/site-packages/tables/utils.py\u001b[0m in \u001b[0;36mcheck_file_access\u001b[0;34m(filename, mode)\u001b[0m\n\u001b[1;32m    154\u001b[0m         \u001b[0;31m# The file should be readable.\u001b[0m\u001b[0;34m\u001b[0m\u001b[0;34m\u001b[0m\u001b[0m\n\u001b[1;32m    155\u001b[0m         \u001b[0;32mif\u001b[0m \u001b[0;32mnot\u001b[0m \u001b[0mos\u001b[0m\u001b[0;34m.\u001b[0m\u001b[0maccess\u001b[0m\u001b[0;34m(\u001b[0m\u001b[0mfilename\u001b[0m\u001b[0;34m,\u001b[0m \u001b[0mos\u001b[0m\u001b[0;34m.\u001b[0m\u001b[0mF_OK\u001b[0m\u001b[0;34m)\u001b[0m\u001b[0;34m:\u001b[0m\u001b[0;34m\u001b[0m\u001b[0m\n\u001b[0;32m--> 156\u001b[0;31m             \u001b[0;32mraise\u001b[0m \u001b[0mIOError\u001b[0m\u001b[0;34m(\u001b[0m\u001b[0;34m\"``%s`` does not exist\"\u001b[0m \u001b[0;34m%\u001b[0m \u001b[0;34m(\u001b[0m\u001b[0mfilename\u001b[0m\u001b[0;34m,\u001b[0m\u001b[0;34m)\u001b[0m\u001b[0;34m)\u001b[0m\u001b[0;34m\u001b[0m\u001b[0m\n\u001b[0m\u001b[1;32m    157\u001b[0m         \u001b[0;32mif\u001b[0m \u001b[0;32mnot\u001b[0m \u001b[0mos\u001b[0m\u001b[0;34m.\u001b[0m\u001b[0mpath\u001b[0m\u001b[0;34m.\u001b[0m\u001b[0misfile\u001b[0m\u001b[0;34m(\u001b[0m\u001b[0mfilename\u001b[0m\u001b[0;34m)\u001b[0m\u001b[0;34m:\u001b[0m\u001b[0;34m\u001b[0m\u001b[0m\n\u001b[1;32m    158\u001b[0m             \u001b[0;32mraise\u001b[0m \u001b[0mIOError\u001b[0m\u001b[0;34m(\u001b[0m\u001b[0;34m\"``%s`` is not a regular file\"\u001b[0m \u001b[0;34m%\u001b[0m \u001b[0;34m(\u001b[0m\u001b[0mfilename\u001b[0m\u001b[0;34m,\u001b[0m\u001b[0;34m)\u001b[0m\u001b[0;34m)\u001b[0m\u001b[0;34m\u001b[0m\u001b[0m\n",
      "\u001b[0;31mOSError\u001b[0m: ``/Users/Gonzalo/github/NEXTdata//Kr/dst_5812.root.h5`` does not exist"
     ]
    }
   ],
   "source": [
    "dst           = dstf.load_dst(input_dst_filename, \"DST\", \"Events\")\n",
    "unique_events = ~dst.event.duplicated()\n",
    "\n",
    "number_of_S2s_full  = np.size         (unique_events)\n",
    "number_of_evts_full = np.count_nonzero(unique_events)\n",
    "\n",
    "print(f\"Total number of S2s   : {number_of_S2s_full} \")\n",
    "print(f\"Total number of events: {number_of_evts_full}\")"
   ]
  },
  {
   "cell_type": "code",
   "execution_count": 6,
   "metadata": {},
   "outputs": [
    {
     "ename": "NameError",
     "evalue": "name 'dst' is not defined",
     "output_type": "error",
     "traceback": [
      "\u001b[0;31m---------------------------------------------------------------------------\u001b[0m",
      "\u001b[0;31mNameError\u001b[0m                                 Traceback (most recent call last)",
      "\u001b[0;32m<ipython-input-6-ca0a3b45d7e5>\u001b[0m in \u001b[0;36m<module>\u001b[0;34m()\u001b[0m\n\u001b[0;32m----> 1\u001b[0;31m \u001b[0;32mif\u001b[0m \u001b[0;34m\"index\"\u001b[0m \u001b[0;32min\u001b[0m \u001b[0mdst\u001b[0m\u001b[0;34m:\u001b[0m \u001b[0;32mdel\u001b[0m \u001b[0mdst\u001b[0m\u001b[0;34m[\u001b[0m\u001b[0;34m\"index\"\u001b[0m\u001b[0;34m]\u001b[0m\u001b[0;34m\u001b[0m\u001b[0m\n\u001b[0m",
      "\u001b[0;31mNameError\u001b[0m: name 'dst' is not defined"
     ]
    }
   ],
   "source": [
    "if \"index\" in dst: del dst[\"index\"]"
   ]
  },
  {
   "cell_type": "code",
   "execution_count": 7,
   "metadata": {},
   "outputs": [],
   "source": [
    "XYcorrection = dstf.load_xy_corrections(correction_filename,\n",
    "                                        norm_strategy =  \"index\",\n",
    "                                        norm_opts     = {\"index\": (25, 25)})"
   ]
  },
  {
   "cell_type": "code",
   "execution_count": 8,
   "metadata": {},
   "outputs": [
    {
     "ename": "NameError",
     "evalue": "name 'dst' is not defined",
     "output_type": "error",
     "traceback": [
      "\u001b[0;31m---------------------------------------------------------------------------\u001b[0m",
      "\u001b[0;31mNameError\u001b[0m                                 Traceback (most recent call last)",
      "\u001b[0;32m<ipython-input-8-51f0d9cc8bdc>\u001b[0m in \u001b[0;36m<module>\u001b[0;34m()\u001b[0m\n\u001b[0;32m----> 1\u001b[0;31m \u001b[0mX\u001b[0m \u001b[0;34m=\u001b[0m \u001b[0mdst\u001b[0m\u001b[0;34m.\u001b[0m\u001b[0mX\u001b[0m  \u001b[0;34m.\u001b[0m\u001b[0mvalues\u001b[0m\u001b[0;34m\u001b[0m\u001b[0m\n\u001b[0m\u001b[1;32m      2\u001b[0m \u001b[0mY\u001b[0m \u001b[0;34m=\u001b[0m \u001b[0mdst\u001b[0m\u001b[0;34m.\u001b[0m\u001b[0mY\u001b[0m  \u001b[0;34m.\u001b[0m\u001b[0mvalues\u001b[0m\u001b[0;34m\u001b[0m\u001b[0m\n\u001b[1;32m      3\u001b[0m \u001b[0mZ\u001b[0m \u001b[0;34m=\u001b[0m \u001b[0mdst\u001b[0m\u001b[0;34m.\u001b[0m\u001b[0mZ\u001b[0m  \u001b[0;34m.\u001b[0m\u001b[0mvalues\u001b[0m\u001b[0;34m\u001b[0m\u001b[0m\n\u001b[1;32m      4\u001b[0m \u001b[0mE\u001b[0m \u001b[0;34m=\u001b[0m \u001b[0mdst\u001b[0m\u001b[0;34m.\u001b[0m\u001b[0mS2e\u001b[0m\u001b[0;34m.\u001b[0m\u001b[0mvalues\u001b[0m \u001b[0;34m*\u001b[0m \u001b[0mXYcorrection\u001b[0m\u001b[0;34m(\u001b[0m\u001b[0mX\u001b[0m\u001b[0;34m,\u001b[0m \u001b[0mY\u001b[0m\u001b[0;34m)\u001b[0m\u001b[0;34m.\u001b[0m\u001b[0mvalue\u001b[0m\u001b[0;34m\u001b[0m\u001b[0m\n",
      "\u001b[0;31mNameError\u001b[0m: name 'dst' is not defined"
     ]
    }
   ],
   "source": [
    "X = dst.X  .values\n",
    "Y = dst.Y  .values\n",
    "Z = dst.Z  .values\n",
    "E = dst.S2e.values * XYcorrection(X, Y).value"
   ]
  },
  {
   "cell_type": "markdown",
   "metadata": {},
   "source": [
    "### Data filtering"
   ]
  },
  {
   "cell_type": "code",
   "execution_count": 9,
   "metadata": {},
   "outputs": [
    {
     "ename": "NameError",
     "evalue": "name 'E' is not defined",
     "output_type": "error",
     "traceback": [
      "\u001b[0;31m---------------------------------------------------------------------------\u001b[0m",
      "\u001b[0;31mNameError\u001b[0m                                 Traceback (most recent call last)",
      "\u001b[0;32m<ipython-input-9-683309bb7d4e>\u001b[0m in \u001b[0;36m<module>\u001b[0;34m()\u001b[0m\n\u001b[0;32m----> 1\u001b[0;31m \u001b[0msel_e\u001b[0m \u001b[0;34m=\u001b[0m \u001b[0min_range\u001b[0m\u001b[0;34m(\u001b[0m\u001b[0mE\u001b[0m\u001b[0;34m,\u001b[0m \u001b[0;34m*\u001b[0m\u001b[0mErange\u001b[0m\u001b[0;34m)\u001b[0m\u001b[0;34m\u001b[0m\u001b[0m\n\u001b[0m\u001b[1;32m      2\u001b[0m \u001b[0mmean\u001b[0m\u001b[0;34m,\u001b[0m \u001b[0msigma\u001b[0m\u001b[0;34m,\u001b[0m \u001b[0mchi2\u001b[0m\u001b[0;34m,\u001b[0m \u001b[0mok\u001b[0m \u001b[0;34m=\u001b[0m \u001b[0mfit_slices_1d_gauss\u001b[0m\u001b[0;34m(\u001b[0m\u001b[0mZ\u001b[0m\u001b[0;34m[\u001b[0m\u001b[0msel_e\u001b[0m\u001b[0;34m]\u001b[0m\u001b[0;34m,\u001b[0m \u001b[0mE\u001b[0m\u001b[0;34m[\u001b[0m\u001b[0msel_e\u001b[0m\u001b[0;34m]\u001b[0m\u001b[0;34m,\u001b[0m \u001b[0mZbins\u001b[0m\u001b[0;34m,\u001b[0m \u001b[0mEbins\u001b[0m\u001b[0;34m,\u001b[0m \u001b[0mmin_entries\u001b[0m\u001b[0;34m=\u001b[0m\u001b[0;36m5e2\u001b[0m\u001b[0;34m)\u001b[0m\u001b[0;34m\u001b[0m\u001b[0m\n\u001b[1;32m      3\u001b[0m \u001b[0mok\u001b[0m \u001b[0;34m=\u001b[0m \u001b[0mok\u001b[0m \u001b[0;34m&\u001b[0m \u001b[0min_range\u001b[0m\u001b[0;34m(\u001b[0m\u001b[0mZcenters\u001b[0m\u001b[0;34m,\u001b[0m \u001b[0;34m*\u001b[0m\u001b[0mZfit\u001b[0m\u001b[0;34m)\u001b[0m\u001b[0;34m\u001b[0m\u001b[0m\n",
      "\u001b[0;31mNameError\u001b[0m: name 'E' is not defined"
     ]
    }
   ],
   "source": [
    "sel_e = in_range(E, *Erange)\n",
    "mean, sigma, chi2, ok = fit_slices_1d_gauss(Z[sel_e], E[sel_e], Zbins, Ebins, min_entries=5e2)\n",
    "ok = ok & in_range(Zcenters, *Zfit)"
   ]
  },
  {
   "cell_type": "code",
   "execution_count": 10,
   "metadata": {},
   "outputs": [
    {
     "ename": "NameError",
     "evalue": "name 'ok' is not defined",
     "output_type": "error",
     "traceback": [
      "\u001b[0;31m---------------------------------------------------------------------------\u001b[0m",
      "\u001b[0;31mNameError\u001b[0m                                 Traceback (most recent call last)",
      "\u001b[0;32m<ipython-input-10-f549d0b9356e>\u001b[0m in \u001b[0;36m<module>\u001b[0;34m()\u001b[0m\n\u001b[0;32m----> 1\u001b[0;31m \u001b[0mx\u001b[0m         \u001b[0;34m=\u001b[0m \u001b[0mZcenters\u001b[0m\u001b[0;34m[\u001b[0m\u001b[0mok\u001b[0m\u001b[0;34m]\u001b[0m\u001b[0;34m\u001b[0m\u001b[0m\n\u001b[0m\u001b[1;32m      2\u001b[0m \u001b[0my\u001b[0m         \u001b[0;34m=\u001b[0m \u001b[0mmean\u001b[0m\u001b[0;34m.\u001b[0m\u001b[0mvalue\u001b[0m\u001b[0;34m[\u001b[0m\u001b[0mok\u001b[0m\u001b[0;34m]\u001b[0m \u001b[0;34m-\u001b[0m \u001b[0mn_sigma\u001b[0m \u001b[0;34m*\u001b[0m \u001b[0msigma\u001b[0m\u001b[0;34m.\u001b[0m\u001b[0mvalue\u001b[0m\u001b[0;34m[\u001b[0m\u001b[0mok\u001b[0m\u001b[0;34m]\u001b[0m\u001b[0;34m\u001b[0m\u001b[0m\n\u001b[1;32m      3\u001b[0m \u001b[0myu\u001b[0m        \u001b[0;34m=\u001b[0m \u001b[0mmean\u001b[0m\u001b[0;34m.\u001b[0m\u001b[0muncertainty\u001b[0m\u001b[0;34m[\u001b[0m\u001b[0mok\u001b[0m\u001b[0;34m]\u001b[0m\u001b[0;34m\u001b[0m\u001b[0m\n\u001b[1;32m      4\u001b[0m \u001b[0mseed\u001b[0m      \u001b[0;34m=\u001b[0m \u001b[0mexpo_seed\u001b[0m\u001b[0;34m(\u001b[0m\u001b[0mx\u001b[0m\u001b[0;34m,\u001b[0m \u001b[0my\u001b[0m\u001b[0;34m)\u001b[0m\u001b[0;34m\u001b[0m\u001b[0m\n\u001b[1;32m      5\u001b[0m \u001b[0mlowE_fit\u001b[0m  \u001b[0;34m=\u001b[0m \u001b[0mfitf\u001b[0m\u001b[0;34m.\u001b[0m\u001b[0mfit\u001b[0m\u001b[0;34m(\u001b[0m\u001b[0mfitf\u001b[0m\u001b[0;34m.\u001b[0m\u001b[0mexpo\u001b[0m\u001b[0;34m,\u001b[0m \u001b[0mx\u001b[0m\u001b[0;34m,\u001b[0m \u001b[0my\u001b[0m\u001b[0;34m,\u001b[0m \u001b[0mseed\u001b[0m\u001b[0;34m,\u001b[0m \u001b[0msigma\u001b[0m\u001b[0;34m=\u001b[0m\u001b[0myu\u001b[0m\u001b[0;34m)\u001b[0m\u001b[0;34m\u001b[0m\u001b[0m\n",
      "\u001b[0;31mNameError\u001b[0m: name 'ok' is not defined"
     ]
    }
   ],
   "source": [
    "x         = Zcenters[ok]\n",
    "y         = mean.value[ok] - n_sigma * sigma.value[ok]\n",
    "yu        = mean.uncertainty[ok]\n",
    "seed      = expo_seed(x, y)\n",
    "lowE_fit  = fitf.fit(fitf.expo, x, y, seed, sigma=yu)\n",
    "assert np.all(lowE_fit.values != seed)\n",
    "\n",
    "x         = Zcenters[ok]\n",
    "y         = mean.value[ok] + n_sigma * sigma.value[ok]\n",
    "yu        = mean.uncertainty[ok]\n",
    "seed      = expo_seed(x, y)\n",
    "highE_fit = fitf.fit(fitf.expo, x, y, seed, sigma=yu)\n",
    "assert np.all(highE_fit.values != seed)\n",
    "\n",
    "lowE_cut  =  lowE_fit.fn\n",
    "highE_cut = highE_fit.fn"
   ]
  },
  {
   "cell_type": "code",
   "execution_count": 11,
   "metadata": {},
   "outputs": [
    {
     "ename": "NameError",
     "evalue": "name 'Z' is not defined",
     "output_type": "error",
     "traceback": [
      "\u001b[0;31m---------------------------------------------------------------------------\u001b[0m",
      "\u001b[0;31mNameError\u001b[0m                                 Traceback (most recent call last)",
      "\u001b[0;32m<ipython-input-11-bbaec4102ba4>\u001b[0m in \u001b[0;36m<module>\u001b[0;34m()\u001b[0m\n\u001b[0;32m----> 1\u001b[0;31m \u001b[0mplt\u001b[0m\u001b[0;34m.\u001b[0m\u001b[0mhist2d\u001b[0m  \u001b[0;34m(\u001b[0m\u001b[0mZ\u001b[0m\u001b[0;34m,\u001b[0m \u001b[0mE\u001b[0m\u001b[0;34m,\u001b[0m \u001b[0;34m(\u001b[0m\u001b[0mZbins\u001b[0m\u001b[0;34m,\u001b[0m \u001b[0mEbins\u001b[0m\u001b[0;34m)\u001b[0m\u001b[0;34m,\u001b[0m \u001b[0mcmap\u001b[0m\u001b[0;34m=\u001b[0m\u001b[0mdefault_cmap\u001b[0m\u001b[0;34m)\u001b[0m\u001b[0;34m\u001b[0m\u001b[0m\n\u001b[0m\u001b[1;32m      2\u001b[0m plt.errorbar(   Zcenters[ok], mean.value[ok],\n\u001b[1;32m      3\u001b[0m              \u001b[0msigma\u001b[0m\u001b[0;34m.\u001b[0m\u001b[0mvalue\u001b[0m\u001b[0;34m[\u001b[0m\u001b[0mok\u001b[0m\u001b[0;34m]\u001b[0m\u001b[0;34m,\u001b[0m     \u001b[0mZerror\u001b[0m\u001b[0;34m[\u001b[0m\u001b[0mok\u001b[0m\u001b[0;34m]\u001b[0m\u001b[0;34m,\u001b[0m\u001b[0;34m\u001b[0m\u001b[0m\n\u001b[1;32m      4\u001b[0m              \"kp\", label=\"Kr peak energy $\\pm 1 \\sigma$\")\n\u001b[1;32m      5\u001b[0m \u001b[0mplt\u001b[0m\u001b[0;34m.\u001b[0m\u001b[0mplot\u001b[0m    \u001b[0;34m(\u001b[0m\u001b[0mZbins\u001b[0m\u001b[0;34m,\u001b[0m  \u001b[0mlowE_cut\u001b[0m\u001b[0;34m(\u001b[0m\u001b[0mZbins\u001b[0m\u001b[0;34m)\u001b[0m\u001b[0;34m,\u001b[0m  \u001b[0;34m\"m\"\u001b[0m\u001b[0;34m,\u001b[0m \u001b[0mlw\u001b[0m\u001b[0;34m=\u001b[0m\u001b[0;36m2\u001b[0m\u001b[0;34m,\u001b[0m \u001b[0mlabel\u001b[0m\u001b[0;34m=\u001b[0m\u001b[0;34m\"$\\pm 5 \\sigma$ region\"\u001b[0m\u001b[0;34m)\u001b[0m\u001b[0;34m\u001b[0m\u001b[0m\n",
      "\u001b[0;31mNameError\u001b[0m: name 'Z' is not defined"
     ]
    }
   ],
   "source": [
    "plt.hist2d  (Z, E, (Zbins, Ebins), cmap=default_cmap)\n",
    "plt.errorbar(   Zcenters[ok], mean.value[ok],\n",
    "             sigma.value[ok],     Zerror[ok],\n",
    "             \"kp\", label=\"Kr peak energy $\\pm 1 \\sigma$\")\n",
    "plt.plot    (Zbins,  lowE_cut(Zbins),  \"m\", lw=2, label=\"$\\pm 5 \\sigma$ region\")\n",
    "plt.plot    (Zbins, highE_cut(Zbins),  \"m\", lw=2)\n",
    "plt.legend()\n",
    "labels(\"Drift time (µs)\", \"S2 energy (pes)\", \"Energy vs drift\")"
   ]
  },
  {
   "cell_type": "markdown",
   "metadata": {},
   "source": [
    "### Produce filtered kDST"
   ]
  },
  {
   "cell_type": "code",
   "execution_count": 12,
   "metadata": {},
   "outputs": [
    {
     "ename": "NameError",
     "evalue": "name 'dst' is not defined",
     "output_type": "error",
     "traceback": [
      "\u001b[0;31m---------------------------------------------------------------------------\u001b[0m",
      "\u001b[0;31mNameError\u001b[0m                                 Traceback (most recent call last)",
      "\u001b[0;32m<ipython-input-12-998b06818b90>\u001b[0m in \u001b[0;36m<module>\u001b[0;34m()\u001b[0m\n\u001b[0;32m----> 1\u001b[0;31m \u001b[0msubdst\u001b[0m \u001b[0;34m=\u001b[0m \u001b[0mdst\u001b[0m\u001b[0;34m[\u001b[0m\u001b[0min_range\u001b[0m\u001b[0;34m(\u001b[0m\u001b[0mE\u001b[0m\u001b[0;34m,\u001b[0m \u001b[0mlowE_cut\u001b[0m\u001b[0;34m(\u001b[0m\u001b[0mZ\u001b[0m\u001b[0;34m)\u001b[0m\u001b[0;34m,\u001b[0m \u001b[0mhighE_cut\u001b[0m\u001b[0;34m(\u001b[0m\u001b[0mZ\u001b[0m\u001b[0;34m)\u001b[0m\u001b[0;34m)\u001b[0m\u001b[0;34m]\u001b[0m\u001b[0;34m\u001b[0m\u001b[0m\n\u001b[0m\u001b[1;32m      2\u001b[0m \u001b[0munique_events\u001b[0m \u001b[0;34m=\u001b[0m \u001b[0;34m~\u001b[0m\u001b[0msubdst\u001b[0m\u001b[0;34m.\u001b[0m\u001b[0mevent\u001b[0m\u001b[0;34m.\u001b[0m\u001b[0mduplicated\u001b[0m\u001b[0;34m(\u001b[0m\u001b[0;34m)\u001b[0m\u001b[0;34m\u001b[0m\u001b[0m\n\u001b[1;32m      3\u001b[0m \u001b[0;34m\u001b[0m\u001b[0m\n\u001b[1;32m      4\u001b[0m \u001b[0mnumber_of_S2s_filtered\u001b[0m  \u001b[0;34m=\u001b[0m \u001b[0mnp\u001b[0m\u001b[0;34m.\u001b[0m\u001b[0msize\u001b[0m         \u001b[0;34m(\u001b[0m\u001b[0munique_events\u001b[0m\u001b[0;34m)\u001b[0m\u001b[0;34m\u001b[0m\u001b[0m\n\u001b[1;32m      5\u001b[0m \u001b[0mnumber_of_evts_filtered\u001b[0m \u001b[0;34m=\u001b[0m \u001b[0mnp\u001b[0m\u001b[0;34m.\u001b[0m\u001b[0mcount_nonzero\u001b[0m\u001b[0;34m(\u001b[0m\u001b[0munique_events\u001b[0m\u001b[0;34m)\u001b[0m\u001b[0;34m\u001b[0m\u001b[0m\n",
      "\u001b[0;31mNameError\u001b[0m: name 'dst' is not defined"
     ]
    }
   ],
   "source": [
    "subdst = dst[in_range(E, lowE_cut(Z), highE_cut(Z))]\n",
    "unique_events = ~subdst.event.duplicated()\n",
    "\n",
    "number_of_S2s_filtered  = np.size         (unique_events)\n",
    "number_of_evts_filtered = np.count_nonzero(unique_events)\n",
    "\n",
    "number_of_S2s_ratio  = number_of_S2s_filtered  / number_of_S2s_full  * 100\n",
    "number_of_evts_ratio = number_of_evts_filtered / number_of_evts_full * 100\n",
    "\n",
    "print(f\"Total number of S2s   : {number_of_S2s_filtered} ({number_of_S2s_ratio:.1f} %)\" )\n",
    "print(f\"Total number of events: {number_of_evts_filtered} ({number_of_evts_ratio:.1f} %)\")"
   ]
  },
  {
   "cell_type": "code",
   "execution_count": 13,
   "metadata": {},
   "outputs": [
    {
     "ename": "NameError",
     "evalue": "name 'subdst' is not defined",
     "output_type": "error",
     "traceback": [
      "\u001b[0;31m---------------------------------------------------------------------------\u001b[0m",
      "\u001b[0;31mNameError\u001b[0m                                 Traceback (most recent call last)",
      "\u001b[0;32m<ipython-input-13-ab75653135c9>\u001b[0m in \u001b[0;36m<module>\u001b[0;34m()\u001b[0m\n\u001b[1;32m      1\u001b[0m \u001b[0;31m# Unfortunately, this method can't set a specific name to the table or its title.\u001b[0m\u001b[0;34m\u001b[0m\u001b[0;34m\u001b[0m\u001b[0m\n\u001b[1;32m      2\u001b[0m \u001b[0;31m# It also includes an extra column (\"index\") which I can't manage to remove.\u001b[0m\u001b[0;34m\u001b[0m\u001b[0;34m\u001b[0m\u001b[0m\n\u001b[0;32m----> 3\u001b[0;31m subdst.to_hdf(output_dst_filename,\n\u001b[0m\u001b[1;32m      4\u001b[0m               \u001b[0mkey\u001b[0m     \u001b[0;34m=\u001b[0m \u001b[0;34m\"DST\"\u001b[0m  \u001b[0;34m,\u001b[0m \u001b[0mmode\u001b[0m         \u001b[0;34m=\u001b[0m \u001b[0;34m\"w\"\u001b[0m\u001b[0;34m,\u001b[0m\u001b[0;34m\u001b[0m\u001b[0m\n\u001b[1;32m      5\u001b[0m               \u001b[0mformat\u001b[0m  \u001b[0;34m=\u001b[0m \u001b[0;34m\"table\"\u001b[0m\u001b[0;34m,\u001b[0m \u001b[0mdata_columns\u001b[0m \u001b[0;34m=\u001b[0m \u001b[0;32mTrue\u001b[0m\u001b[0;34m,\u001b[0m\u001b[0;34m\u001b[0m\u001b[0m\n",
      "\u001b[0;31mNameError\u001b[0m: name 'subdst' is not defined"
     ]
    }
   ],
   "source": [
    "# Unfortunately, this method can't set a specific name to the table or its title.\n",
    "# It also includes an extra column (\"index\") which I can't manage to remove.\n",
    "subdst.to_hdf(output_dst_filename,\n",
    "              key     = \"DST\"  , mode         = \"w\",\n",
    "              format  = \"table\", data_columns = True,\n",
    "              complib = \"zlib\" , complevel    = 4)\n",
    "\n",
    "# Workaround to re-establish the name of the table and its title\n",
    "with tb.open_file(output_dst_filename, \"r+\") as f:\n",
    "    f.rename_node(f.root.DST.table, \"Events\")\n",
    "    f.root.DST.Events.title = \"Events\""
   ]
  },
  {
   "cell_type": "markdown",
   "metadata": {},
   "source": [
    "### Comparison between original and filtered data"
   ]
  },
  {
   "cell_type": "code",
   "execution_count": 14,
   "metadata": {},
   "outputs": [
    {
     "ename": "NameError",
     "evalue": "name 'dst' is not defined",
     "output_type": "error",
     "traceback": [
      "\u001b[0;31m---------------------------------------------------------------------------\u001b[0m",
      "\u001b[0;31mNameError\u001b[0m                                 Traceback (most recent call last)",
      "\u001b[0;32m<ipython-input-14-5c65b59c3d23>\u001b[0m in \u001b[0;36m<module>\u001b[0;34m()\u001b[0m\n\u001b[1;32m      7\u001b[0m \u001b[0;34m\u001b[0m\u001b[0m\n\u001b[1;32m      8\u001b[0m \u001b[0mplt\u001b[0m\u001b[0;34m.\u001b[0m\u001b[0msubplot\u001b[0m\u001b[0;34m(\u001b[0m\u001b[0;36m3\u001b[0m\u001b[0;34m,\u001b[0m \u001b[0;36m4\u001b[0m\u001b[0;34m,\u001b[0m \u001b[0;36m1\u001b[0m\u001b[0;34m)\u001b[0m\u001b[0;34m\u001b[0m\u001b[0m\n\u001b[0;32m----> 9\u001b[0;31m \u001b[0mdouble_hist\u001b[0m\u001b[0;34m(\u001b[0m\u001b[0mdst\u001b[0m\u001b[0;34m.\u001b[0m\u001b[0mnS2\u001b[0m\u001b[0;34m,\u001b[0m \u001b[0msubdst\u001b[0m\u001b[0;34m.\u001b[0m\u001b[0mnS2\u001b[0m\u001b[0;34m,\u001b[0m \u001b[0mnp\u001b[0m\u001b[0;34m.\u001b[0m\u001b[0mlinspace\u001b[0m\u001b[0;34m(\u001b[0m\u001b[0;36m0\u001b[0m\u001b[0;34m,\u001b[0m \u001b[0;36m5\u001b[0m\u001b[0;34m,\u001b[0m \u001b[0;36m6\u001b[0m\u001b[0;34m)\u001b[0m\u001b[0;34m)\u001b[0m\u001b[0;34m\u001b[0m\u001b[0m\n\u001b[0m\u001b[1;32m     10\u001b[0m \u001b[0mplt\u001b[0m\u001b[0;34m.\u001b[0m\u001b[0myscale\u001b[0m\u001b[0;34m(\u001b[0m\u001b[0;34m\"log\"\u001b[0m\u001b[0;34m)\u001b[0m\u001b[0;34m\u001b[0m\u001b[0m\n\u001b[1;32m     11\u001b[0m \u001b[0mlabels\u001b[0m\u001b[0;34m(\u001b[0m\u001b[0;34m\"Number of S2s\"\u001b[0m\u001b[0;34m,\u001b[0m \u001b[0;34m\"Entries\"\u001b[0m\u001b[0;34m,\u001b[0m \u001b[0;34m\"# S2\"\u001b[0m\u001b[0;34m)\u001b[0m\u001b[0;34m\u001b[0m\u001b[0m\n",
      "\u001b[0;31mNameError\u001b[0m: name 'dst' is not defined"
     ]
    },
    {
     "data": {
      "image/png": "[encoded data removed]",
      "text/plain": [
       "<matplotlib.figure.Figure at 0x10fbcf4e0>"
      ]
     },
     "metadata": {},
     "output_type": "display_data"
    }
   ],
   "source": [
    "def double_hist(h1, h2, binning, label0=\"Original\", label1=\"Filtered\", **kwargs):\n",
    "    plt.hist(h1, binning, label=label0, alpha=0.5, color=\"g\", **kwargs)\n",
    "    plt.hist(h2, binning, label=label1, alpha=0.5, color=\"m\", **kwargs)\n",
    "    plt.legend()\n",
    "\n",
    "plt.figure(figsize=(20, 15))\n",
    "\n",
    "plt.subplot(3, 4, 1)\n",
    "double_hist(dst.nS2, subdst.nS2, np.linspace(0, 5, 6))\n",
    "plt.yscale(\"log\")\n",
    "labels(\"Number of S2s\", \"Entries\", \"# S2\")\n",
    "\n",
    "plt.subplot(3, 4, 2)\n",
    "double_hist(dst.S1e, subdst.S1e, np.linspace(0, 50, 51))\n",
    "labels(\"S1 integral (pes)\", \"Entries\", \"S1 energy\")\n",
    "\n",
    "plt.subplot(3, 4, 3)\n",
    "double_hist(dst.S1w, subdst.S1w, np.linspace(0, 600, 25))\n",
    "labels(\"S1 width (ns)\", \"Entries\", \"S1 width\")\n",
    "\n",
    "plt.subplot(3, 4, 4)\n",
    "double_hist(dst.S1h, subdst.S1h, np.linspace(0, 15, 31))\n",
    "labels(\"S1 height (pes)\", \"Entries\", \"S1 height\")\n",
    "\n",
    "plt.subplot(3, 4, 5)\n",
    "double_hist(dst.Nsipm, subdst.Nsipm, np.linspace(0, 100, 51))\n",
    "labels(\"Number of SiPMs\", \"Entries\", \"# SiPMs\")\n",
    "\n",
    "plt.subplot(3, 4, 6)\n",
    "double_hist(dst.S2e, subdst.S2e, np.linspace(0, 25e3, 101))\n",
    "labels(\"S2 integral (pes)\", \"Entries\", \"S2 energy\")\n",
    "\n",
    "plt.subplot(3, 4, 7)\n",
    "double_hist(dst.S2w, subdst.S2w, np.linspace(0, 50, 26))\n",
    "labels(\"S2 width (µs)\", \"Entries\", \"S2 width\")\n",
    "\n",
    "plt.subplot(3, 4, 8)\n",
    "double_hist(dst.S2h, subdst.S2h, np.linspace(0, 1e4, 101))\n",
    "labels(\"S2 height (pes)\", \"Entries\", \"S2 height\")\n",
    "\n",
    "plt.subplot(3, 4, 9)\n",
    "double_hist(dst.Z, subdst.Z, np.linspace(0, 600, 101))\n",
    "labels(\"Drift time (µs)\", \"Entries\", \"Drift time\")\n",
    "\n",
    "plt.subplot(3, 4, 10)\n",
    "double_hist(dst.X, subdst.X, np.linspace(-200, 200, 101))\n",
    "labels(\"X (mm)\", \"Entries\", \"X\")\n",
    "\n",
    "plt.subplot(3, 4, 11)\n",
    "double_hist(dst.Y, subdst.Y, np.linspace(-200, 200, 101))\n",
    "labels(\"Y (mm)\", \"Entries\", \"Y\")\n",
    "\n",
    "plt.subplot(3, 4, 12)\n",
    "double_hist(dst.S2q, subdst.S2q, np.linspace(0, 5e3, 101))\n",
    "labels(\"Q (pes)\", \"Entries\", \"S2 charge\")\n",
    "\n",
    "plt.tight_layout()"
   ]
  }
 ],
 "metadata": {
  "kernelspec": {
   "display_name": "Python 3",
   "language": "python",
   "name": "python3"
  },
  "language_info": {
   "codemirror_mode": {
    "name": "ipython",
    "version": 3
   },
   "file_extension": ".py",
   "mimetype": "text/x-python",
   "name": "python",
   "nbconvert_exporter": "python",
   "pygments_lexer": "ipython3",
   "version": "3.6.1"
  }
 },
 "nbformat": 4,
 "nbformat_minor": 2
}
