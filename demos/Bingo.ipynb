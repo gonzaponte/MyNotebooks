{
 "cells": [
  {
   "cell_type": "code",
   "execution_count": 1,
   "metadata": {},
   "outputs": [],
   "source": [
    "import numpy as np"
   ]
  },
  {
   "cell_type": "code",
   "execution_count": 2,
   "metadata": {},
   "outputs": [],
   "source": [
    "def generate_board():\n",
    "    numbers      = np.random.choice(100, size=24, replace=False)\n",
    "    ticked       = np.zeros(5, 5, dtype=bool)\n",
    "    ticked[2, 2] = True\n",
    "    return numbers, ticked\n",
    "\n",
    "\n",
    "def indices_from_index(k):\n",
    "    if k >= 12: k+= 1\n",
    "    \n",
    "    i = k // 5\n",
    "    j = k  % 5\n",
    "    \n",
    "    return i, j\n",
    "\n"
   ]
  },
  {
   "cell_type": "code",
   "execution_count": null,
   "metadata": {},
   "outputs": [],
   "source": []
  }
 ],
 "metadata": {
  "kernelspec": {
   "display_name": "Python 3",
   "language": "python",
   "name": "python3"
  },
  "language_info": {
   "codemirror_mode": {
    "name": "ipython",
    "version": 3
   },
   "file_extension": ".py",
   "mimetype": "text/x-python",
   "name": "python",
   "nbconvert_exporter": "python",
   "pygments_lexer": "ipython3",
   "version": "3.7.3"
  }
 },
 "nbformat": 4,
 "nbformat_minor": 2
}
