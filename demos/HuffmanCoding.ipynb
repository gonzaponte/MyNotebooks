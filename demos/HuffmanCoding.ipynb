{
 "cells": [
  {
   "cell_type": "code",
   "execution_count": 9,
   "metadata": {},
   "outputs": [],
   "source": [
    "import os\n",
    "\n",
    "from operator import itemgetter\n",
    "\n",
    "import numpy as np"
   ]
  },
  {
   "cell_type": "code",
   "execution_count": 10,
   "metadata": {},
   "outputs": [],
   "source": [
    "true_text = \"\"\"\n",
    "Our epoch, the epoch of the bourgeoisie, possesses, however, this distinct feature: it has\n",
    "simplified class antagonisms. Society as a whole is more and more splitting up into two great\n",
    "hostile camps, into two great classes directly facing each other – Bourgeoisie and Proletariat.\n",
    "From the serfs of the Middle Ages sprang the chartered burghers of the earliest towns. From these\n",
    "burgesses the first elements of the bourgeoisie were developed.\n",
    "The discovery of America, the rounding of the Cape, opened up fresh ground for the rising\n",
    "bourgeoisie. The East-Indian and Chinese markets, the colonisation of America, trade with the\n",
    "colonies, the increase in the means of exchange and in commodities generally, gave to commerce,\n",
    "to navigation, to industry, an impulse never before known, and thereby, to the revolutionary\n",
    "element in the tottering feudal society, a rapid development.\n",
    "The feudal system of industry, in which industrial production was monopolised by closed guilds,\n",
    "now no longer sufficed for the growing wants of the new markets. The manufacturing system\n",
    "took its place. The guild-masters were pushed on one side by the manufacturing middle class;\n",
    "division of labour between the different corporate guilds vanished in the face of division of labour\n",
    "in each single workshop.\n",
    "Meantime the markets kept ever growing, the demand ever rising. Even manufacturer no longer\n",
    "sufficed. Thereupon, steam and machinery revolutionised industrial production. The place of\n",
    "manufacture was taken by the giant, Modern Industry; the place of the industrial middle class by\n",
    "industrial millionaires, the leaders of the whole industrial armies, the modern bourgeois.\n",
    "Modern industry has established the world market, for which the discovery of America paved the\n",
    "way. This market has given an immense development to commerce, to navigation, to\n",
    "communication by land. This development has, in its turn, reacted on the extension of industry;\n",
    "and in proportion as industry, commerce, navigation, railways extended, in the same proportion\n",
    "the bourgeoisie developed, increased its capital, and pushed into the background every class\n",
    "handed down from the Middle Ages.\n",
    "We see, therefore, how the modern bourgeoisie is itself the product of a long course of\n",
    "development, of a series of revolutions in the modes of production and of exchange.\n",
    "Each step in the development of the bourgeoisie was accompanied by a corresponding political\n",
    "advance of that class. An oppressed class under the sway of the feudal nobility, an armed and\n",
    "self-governing association in the medieval commune*\n",
    ": here independent urban republic (as in\n",
    "Italy and Germany); there taxable “third estate” of the monarchy (as in France); afterwards, in the\n",
    "period of manufacturing proper, serving either the semi-feudal or the absolute monarchy as a\n",
    "counterpoise against the nobility, and, in fact, cornerstone of the great monarchies in general, the\n",
    "bourgeoisie has at last, since the establishment of Modern Industry and of the world market,\n",
    "conquered for itself, in the modern representative State, exclusive political sway. The executive\n",
    "of the modern state is but a committee for managing the common affairs of the whole\n",
    "bourgeoisie.\n",
    "The bourgeoisie, historically, has played a most revolutionary part.\n",
    "The bourgeoisie, wherever it has got the upper hand, has put an end to all feudal, patriarchal,\n",
    "idyllic relations. It has pitilessly torn asunder the motley feudal ties that bound man to his\n",
    "“natural superiors”, and has left remaining no other nexus between man and man than naked selfinterest, than callous “cash payment”.\n",
    "\"\"\"\n",
    "\n",
    "true_bytes = bytes(true_text, \"utf-8\")"
   ]
  },
  {
   "cell_type": "code",
   "execution_count": 11,
   "metadata": {},
   "outputs": [],
   "source": [
    "filename_original   = \"text_original.txt\"\n",
    "filename_compressed = \"text_compressed.txt\""
   ]
  },
  {
   "cell_type": "code",
   "execution_count": 12,
   "metadata": {},
   "outputs": [
    {
     "data": {
      "text/plain": [
       "3591"
      ]
     },
     "execution_count": 12,
     "metadata": {},
     "output_type": "execute_result"
    }
   ],
   "source": [
    "with open(filename_original, \"wb\") as file:\n",
    "    file.write(true_bytes)\n",
    "\n",
    "os.path.getsize(filename_original)"
   ]
  },
  {
   "cell_type": "code",
   "execution_count": 13,
   "metadata": {},
   "outputs": [],
   "source": [
    "ZERO = bin(0)\n",
    "ONE  = bin(1)\n",
    "\n",
    "class Leaf:\n",
    "    def __init__(self, counts, value):\n",
    "        self.counts = counts\n",
    "        self.value  = value\n",
    "    \n",
    "    def __str__(self):\n",
    "        return f\"{self.counts} -> {self.value}\"\n",
    "    __repr__ = __str__\n",
    "\n",
    "class Tree:\n",
    "    def __init__(self, counts, left, right):\n",
    "        assert isinstance(left, (Leaf, Tree)) and isinstance(right, (Leaf, Tree))\n",
    "\n",
    "        self.counts = counts\n",
    "        self.left   = left\n",
    "        self.right  = right\n",
    "\n",
    "    @property\n",
    "    def max_depth(self):\n",
    "        left  = 1 + self.left .max_depth if isinstance(self.left , Tree) else 1\n",
    "        right = 1 + self.right.max_depth if isinstance(self.right, Tree) else 1\n",
    "        return max(left, right)\n",
    "\n",
    "    def compress(self, text):\n",
    "        mapping = self.to_mapping()\n",
    "        return b\"\".join(map(bytes, (eval(mapping[letter]) for letter in text)))\n",
    "\n",
    "    def uncompress(self, bits, tree=None):\n",
    "        if tree is None: tree = self\n",
    "        for bit in bits:\n",
    "            subtree = tree.right if bit else bit\n",
    "\n",
    "    @staticmethod\n",
    "    def build_from_text(text):\n",
    "        occurrences = {char : text.count(char) for char in set(text)}\n",
    "        return Tree.build_from_dict(occurrences)\n",
    "    \n",
    "    @staticmethod\n",
    "    def build_from_dict(dct):\n",
    "        leafs  = list(Leaf(v, b) for b, v in sorted(dct.items(), key=itemgetter(1)))\n",
    "        print(sorted(dct.items(), key=itemgetter(1)))\n",
    "        while len(leafs) > 1:\n",
    "            l, r, *leafs = leafs\n",
    "            c    = l.counts + r.counts\n",
    "            node = Tree(c, l, r)\n",
    "            i    = -1\n",
    "            for j, l in enumerate(leafs):\n",
    "                if l.counts > c:\n",
    "                    i = j\n",
    "                    break\n",
    "            leafs = leafs[:i] + [node] + leafs[i:]\n",
    "        return leafs[0]\n",
    "    \n",
    "    def to_mapping(self, full={}, path=\"0b\"):\n",
    "        left_path  = path + \"0\"\n",
    "        right_path = path + \"1\"\n",
    "\n",
    "        if isinstance(self.left , Tree): self.left .to_mapping(full,  left_path)\n",
    "        else                           : full[self.left .value] =  left_path\n",
    "\n",
    "        if isinstance(self.right, Tree): self.right.to_mapping(full, right_path)\n",
    "        else                           : full[self.right.value] = right_path\n",
    "\n",
    "        return full\n",
    "\n",
    "    def __str__(self):\n",
    "        return f\"Counts: {self.counts}\\nLeft: {self.left}\\nRight: {self.right}\"\n",
    "    __repr__ = __str__"
   ]
  },
  {
   "cell_type": "code",
   "execution_count": 14,
   "metadata": {},
   "outputs": [
    {
     "name": "stdout",
     "output_type": "stream",
     "text": [
      "[('W', 1), ('*', 1), ('G', 1), ('O', 1), ('q', 1), ('–', 1), ('B', 1), ('P', 1), ('S', 2), (')', 2), ('C', 2), ('(', 2), (':', 2), ('E', 3), ('F', 3), ('”', 3), ('“', 3), ('-', 4), (';', 5), ('I', 5), ('M', 6), ('A', 6), ('x', 8), ('T', 12), ('k', 13), ('.', 23), ('w', 34), ('b', 36), ('v', 36), ('y', 42), ('\\n', 43), (',', 57), ('g', 62), ('p', 63), ('f', 75), ('m', 84), ('u', 89), ('c', 90), ('l', 107), ('d', 126), ('h', 136), ('r', 187), ('s', 191), ('n', 212), ('a', 214), ('i', 216), ('o', 228), ('t', 236), ('e', 388), (' ', 513)]\n"
     ]
    }
   ],
   "source": [
    "tree = Tree.build_from_text(true_text)"
   ]
  },
  {
   "cell_type": "code",
   "execution_count": 15,
   "metadata": {
    "scrolled": false
   },
   "outputs": [
    {
     "data": {
      "text/plain": [
       "b'\\x00\\x00\\x00\\x00\\x00\\x00\\x00\\x00'"
      ]
     },
     "execution_count": 15,
     "metadata": {},
     "output_type": "execute_result"
    }
   ],
   "source": [
    "bytes(eval(tree.to_mapping()[\"s\"]))"
   ]
  },
  {
   "cell_type": "code",
   "execution_count": null,
   "metadata": {},
   "outputs": [],
   "source": [
    "tree.compress(true_text)"
   ]
  },
  {
   "cell_type": "code",
   "execution_count": 1,
   "metadata": {},
   "outputs": [],
   "source": [
    "import matplotlib.pyplot as plt"
   ]
  },
  {
   "cell_type": "code",
   "execution_count": 8,
   "metadata": {},
   "outputs": [
    {
     "data": {
      "text/plain": [
       "[<matplotlib.lines.Line2D at 0x11736eb38>]"
      ]
     },
     "execution_count": 8,
     "metadata": {},
     "output_type": "execute_result"
    },
    {
     "data": {
      "image/png": "[encoded data removed]",
      "text/plain": [
       "<Figure size 432x288 with 1 Axes>"
      ]
     },
     "metadata": {
      "needs_background": "light"
     },
     "output_type": "display_data"
    }
   ],
   "source": [
    "nm = [87414, 76676, 25871, 815, 1809, 575, 236412, 77701, 40012, 11953, 26391, 55803, 70878, 6013, 97800, 1100, 485, 613, 111306, 789654]\n",
    "plt.plot(nm, drawstyle=\"steps\")\n",
    "nm = [max(nm)-n for n in nm]\n",
    "plt.plot(nm, drawstyle=\"steps\")\n"
   ]
  },
  {
   "cell_type": "code",
   "execution_count": null,
   "metadata": {},
   "outputs": [],
   "source": []
  }
 ],
 "metadata": {
  "kernelspec": {
   "display_name": "Python 3",
   "language": "python",
   "name": "python3"
  },
  "language_info": {
   "codemirror_mode": {
    "name": "ipython",
    "version": 3
   },
   "file_extension": ".py",
   "mimetype": "text/x-python",
   "name": "python",
   "nbconvert_exporter": "python",
   "pygments_lexer": "ipython3",
   "version": "3.7.3"
  }
 },
 "nbformat": 4,
 "nbformat_minor": 2
}
