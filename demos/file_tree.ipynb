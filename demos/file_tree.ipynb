{
 "cells": [
  {
   "cell_type": "code",
   "execution_count": 2,
   "metadata": {
    "collapsed": true
   },
   "outputs": [],
   "source": [
    "import os\n",
    "import sys\n",
    "\n",
    "inputfolder = \"./\"#sys.argv[1] if len(sys.argv)>1 else \"./\""
   ]
  },
  {
   "cell_type": "code",
   "execution_count": 42,
   "metadata": {
    "collapsed": false
   },
   "outputs": [],
   "source": [
    "def print_folder(folder=\"./\", prefix=\"\", ignore_hidden=True):\n",
    "    for name in os.listdir(folder):\n",
    "        if ignore_hidden and name[0] == \".\":\n",
    "            continue\n",
    "        fullname = folder + name\n",
    "        if os.path.isfile(fullname):\n",
    "            print(prefix + name)\n",
    "        elif os.path.isdir(fullname):\n",
    "            print(prefix + name + \" --->\")\n",
    "            print_folder(fullname + \"/\", prefix + \"\\t\")\n",
    "        else:\n",
    "            print(\"Not recognized:\", fullname)"
   ]
  },
  {
   "cell_type": "code",
   "execution_count": 49,
   "metadata": {
    "collapsed": false,
    "scrolled": true
   },
   "outputs": [
    {
     "name": "stdout",
     "output_type": "stream",
     "text": [
      "1st season --->\n",
      "\t1x01 Descenso.mp4\n",
      "\t1x01 Descenso.srt\n",
      "\t1x02 The sword of Simón Bolivar.mkv\n",
      "\t1x02 The sword of Simón Bolivar.srt\n",
      "\t1x03 The man of always.mp4\n",
      "\t1x03 The man of always.srt\n",
      "\tNarcos.S01E04.720p.WEBRip.x264-TASTETV.mkv\n",
      "\tNarcos.S01E05.720p.WEBRip.x264-TASTETV.mkv\n",
      "\tNarcos.S01E06.WEBRip.x264-TASTETV.mp4\n",
      "\tNarcos.S01E07.WEBRip.x264-TASTETV.mp4\n",
      "\tNarcos.S01E08.WEBRip.x264-TASTETV.mp4\n",
      "\tNarcos.S01E09.WEBRip.x264-TASTETV.mp4\n",
      "\tNarcos.S01E10.WEBRip.x264-TASTETV.mp4\n",
      "\tnarcos_104_hdtv.srt\n",
      "\tnarcos_105_hdtv.srt\n",
      "\tnarcos_106_hdtv.srt\n",
      "\tnarcos_107_hdtv.srt\n",
      "\tnarcos_108_hdtv.srt\n",
      "\tnarcos_109_hdtv.srt\n",
      "\tnarcos_110_hdtv.srt\n",
      "2nd season --->\n",
      "\tNarcos - 02x07 - Deutscland 93 (2).srt\n",
      "\tNarcos - 02x01 - Free at Last.srt\n",
      "\tNarcos - 02x02 - Cambalache.srt\n",
      "\tNarcos - 02x03 - Our Man in Madrid.srt\n",
      "\tNarcos - 02x04 - The Good The Bad and The Dead (1).srt\n",
      "\tNarcos - 02x04 - The Good The Bad and The Dead.srt\n",
      "\tNarcos - 02x05 - The Enemies of my Enemy (1).srt\n",
      "\tNarcos - 02x05 - The Enemies of my Enemy.srt\n",
      "\tNarcos - 02x06 - Pepes (1).srt\n",
      "\tNarcos - 02x06 - Pepes (2).srt\n",
      "\tNarcos - 02x06 - Pepes.srt\n",
      "\tNarcos - 02x07 - Deutscland 93 (1).srt\n",
      "\tNarcos - 02x07 - Deutscland 93.srt\n",
      "\tNarcos - 02x08 - Exit El Ptarón (1).srt\n",
      "\tNarcos - 02x08 - Exit El Ptarón (2).srt\n",
      "\tNarcos - 02x08 - Exit El Ptarón.srt\n",
      "\tNarcos - 02x09 - Neustra Finca (1).srt\n",
      "\tNarcos - 02x09 - Neustra Finca.srt\n",
      "\tNarcos - 02x10 - Al Fin Cayó! (1).srt\n",
      "\tNarcos - 02x10 - Al Fin Cayó! (2).srt\n",
      "\tNarcos - 02x10 - Al Fin Cayó!.srt\n",
      "\tnarcos.s02e01.720p.webrip.x264-skgtv.mkv\n",
      "\tnarcos.s02e02.720p.webrip.x264-skgtv.mkv\n",
      "\tnarcos.s02e03.720p.webrip.x264-skgtv.mkv\n",
      "\tNarcos.S02E04.PROPER.720p.WEBRip.X264-DEFLATE.mkv\n",
      "\tNarcos.S02E05.720p.WEBRip.x264-SKGTV.mkv\n",
      "\tnarcos.s02e06.720p.webrip.x264-skgtv.mkv\n",
      "\tNarcos.S02E07.PROPER.720p.WEBRip.X264-DEFLATE.mkv\n",
      "\tNarcos.S02E08.720p.WEBRip.X264-DEFLATE.mkv\n",
      "\tNarcos.S02E09.720p.WEBRip.X264-DEFLATE.mkv\n",
      "\tNarcos.S02E10.720p.WEBRip.X264-DEFLATE.mkv\n"
     ]
    }
   ],
   "source": [
    "print_folder(\"/Volumes/Seagate Expansion Drive/Narcos/\", ignore_hidden=True)"
   ]
  },
  {
   "cell_type": "code",
   "execution_count": 50,
   "metadata": {
    "collapsed": false
   },
   "outputs": [
    {
     "name": "stdout",
     "output_type": "stream",
     "text": [
      "Help on built-in function print in module builtins:\n",
      "\n",
      "print(...)\n",
      "    print(value, ..., sep=' ', end='\\n', file=sys.stdout, flush=False)\n",
      "    \n",
      "    Prints the values to a stream, or to sys.stdout by default.\n",
      "    Optional keyword arguments:\n",
      "    file:  a file-like object (stream); defaults to the current sys.stdout.\n",
      "    sep:   string inserted between values, default a space.\n",
      "    end:   string appended after the last value, default a newline.\n",
      "    flush: whether to forcibly flush the stream.\n",
      "\n"
     ]
    }
   ],
   "source": [
    "help(print)"
   ]
  },
  {
   "cell_type": "code",
   "execution_count": 53,
   "metadata": {
    "collapsed": false
   },
   "outputs": [
    {
     "ename": "AttributeError",
     "evalue": "'ArgumentParser' object has no attribute 'f'",
     "output_type": "error",
     "traceback": [
      "\u001b[0;31m---------------------------------------------------------------------------\u001b[0m",
      "\u001b[0;31mAttributeError\u001b[0m                            Traceback (most recent call last)",
      "\u001b[0;32m<ipython-input-53-bb55ecb9b7d6>\u001b[0m in \u001b[0;36m<module>\u001b[0;34m()\u001b[0m\n\u001b[1;32m     22\u001b[0m \u001b[0;34m\u001b[0m\u001b[0m\n\u001b[1;32m     23\u001b[0m \u001b[0mflags\u001b[0m\u001b[0;34m,\u001b[0m \u001b[0mextras\u001b[0m \u001b[0;34m=\u001b[0m \u001b[0mparser\u001b[0m\u001b[0;34m.\u001b[0m\u001b[0mparse_known_args\u001b[0m\u001b[0;34m(\u001b[0m\u001b[0msys\u001b[0m\u001b[0;34m.\u001b[0m\u001b[0margv\u001b[0m\u001b[0;34m)\u001b[0m\u001b[0;34m\u001b[0m\u001b[0m\n\u001b[0;32m---> 24\u001b[0;31m \u001b[0mprint_folder\u001b[0m\u001b[0;34m(\u001b[0m\u001b[0mparser\u001b[0m\u001b[0;34m.\u001b[0m\u001b[0mf\u001b[0m\u001b[0;34m,\u001b[0m \u001b[0mignore_hidden\u001b[0m\u001b[0;34m=\u001b[0m\u001b[0;32mnot\u001b[0m \u001b[0mparser\u001b[0m\u001b[0;34m.\u001b[0m\u001b[0mshow_hidden\u001b[0m\u001b[0;34m,\u001b[0m \u001b[0moutput_stream\u001b[0m\u001b[0;34m=\u001b[0m\u001b[0msys\u001b[0m\u001b[0;34m.\u001b[0m\u001b[0mstdout\u001b[0m \u001b[0;32mif\u001b[0m \u001b[0mparser\u001b[0m\u001b[0;34m.\u001b[0m\u001b[0ml\u001b[0m \u001b[0;32mis\u001b[0m \u001b[0;32mNone\u001b[0m \u001b[0;32melse\u001b[0m \u001b[0mopen\u001b[0m\u001b[0;34m(\u001b[0m\u001b[0mparser\u001b[0m\u001b[0;34m.\u001b[0m\u001b[0ml\u001b[0m\u001b[0;34m,\u001b[0m \u001b[0;34m\"w\"\u001b[0m\u001b[0;34m)\u001b[0m\u001b[0;34m)\u001b[0m\u001b[0;34m\u001b[0m\u001b[0m\n\u001b[0m",
      "\u001b[0;31mAttributeError\u001b[0m: 'ArgumentParser' object has no attribute 'f'"
     ]
    }
   ],
   "source": [
    "import os\n",
    "import sys\n",
    "import argparse\n",
    "\n",
    "def print_folder(folder=\"./\", prefix=\"\", ignore_hidden=True, output_stream=sys.stdout):\n",
    "    for name in os.listdir(folder):\n",
    "        if ignore_hidden and name[0] == \".\":\n",
    "            continue\n",
    "        fullname = folder + name\n",
    "        if os.path.isfile(fullname):\n",
    "            print(prefix + name, file=output_stream)\n",
    "        elif os.path.isdir(fullname):\n",
    "            print(prefix + name + \" --->\", file=output_stream)\n",
    "            print_folder(fullname + \"/\", prefix + \"\\t\", ignore_hidden, output_stream)\n",
    "        else:\n",
    "            print(\"Not recognized:\", fullname, file=output_stream)\n",
    "\n",
    "parser = argparse.ArgumentParser(\"DirectoryTree printer\")\n",
    "parser.add_argument(\"-f\", metavar=\"folder\", type=str, help=\"root file where tree starts\", required=True)\n",
    "parser.add_argument(\"-l\", metavar=\"logfile\", type=str, help=\"log file\")\n",
    "parser.add_argument(\"--show-hidden\", action=\"store_true\", help=\"show hidden files\")\n",
    "\n",
    "flags, extras = parser.parse_known_args(sys.argv)\n",
    "print_folder(flags.f, ignore_hidden=not flags.show_hidden, output_stream=sys.stdout if flags.l is None else open(flags.l, \"w\"))"
   ]
  },
  {
   "cell_type": "code",
   "execution_count": null,
   "metadata": {
    "collapsed": true
   },
   "outputs": [],
   "source": []
  }
 ],
 "metadata": {
  "kernelspec": {
   "display_name": "Python 3",
   "language": "python",
   "name": "python3"
  },
  "language_info": {
   "codemirror_mode": {
    "name": "ipython",
    "version": 3
   },
   "file_extension": ".py",
   "mimetype": "text/x-python",
   "name": "python",
   "nbconvert_exporter": "python",
   "pygments_lexer": "ipython3",
   "version": "3.5.2"
  }
 },
 "nbformat": 4,
 "nbformat_minor": 2
}
