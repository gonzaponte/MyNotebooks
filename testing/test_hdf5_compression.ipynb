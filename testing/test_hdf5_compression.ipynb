{
 "cells": [
  {
   "cell_type": "code",
   "execution_count": 1,
   "id": "7b020613",
   "metadata": {
    "ExecuteTime": {
     "end_time": "2022-05-20T20:40:23.348779Z",
     "start_time": "2022-05-20T20:40:23.170885Z"
    }
   },
   "outputs": [],
   "source": [
    "import numpy  as np\n",
    "import tables as tb"
   ]
  },
  {
   "cell_type": "code",
   "execution_count": 2,
   "id": "6066a3e2",
   "metadata": {
    "ExecuteTime": {
     "end_time": "2022-05-20T20:42:44.749311Z",
     "start_time": "2022-05-20T20:42:44.726814Z"
    }
   },
   "outputs": [],
   "source": [
    "class SomeTable(tb.IsDescription):\n",
    "    a = tb.BoolCol   (pos=0)\n",
    "    b = tb.Int32Col  (pos=1)\n",
    "    c = tb.Float64Col(pos=2)\n",
    "    d = tb.StringCol (pos=3, itemsize=20)"
   ]
  },
  {
   "cell_type": "code",
   "execution_count": 33,
   "id": "6bc92198",
   "metadata": {
    "ExecuteTime": {
     "end_time": "2022-05-20T22:05:58.733363Z",
     "start_time": "2022-05-20T22:05:58.724971Z"
    }
   },
   "outputs": [],
   "source": [
    "def write(data, filename, compression_file, compression_table, complib=\"zlib\", complevel=4):\n",
    "    compression       = tb.Filters(complib=complib, complevel=complevel)\n",
    "    compression_file  = compression if compression_file  else None\n",
    "    compression_table = compression if compression_table else None\n",
    "\n",
    "    with tb.open_file(filename, \"w\", filters=compression_file) as file:\n",
    "        file.create_group(file.root       , \"branch\")\n",
    "        file.create_table(file.root.branch, \"leaf\", SomeTable, \"description\", filters=compression_table)\n",
    "        \n",
    "        row = file.root.branch.leaf.row\n",
    "        for event in data:\n",
    "            row[\"a\"] = event > 0.5\n",
    "            row[\"b\"] = int(1000 * event)\n",
    "            row[\"c\"] = event\n",
    "            row[\"d\"] = str(event)\n",
    "            row.append()"
   ]
  },
  {
   "cell_type": "code",
   "execution_count": 89,
   "id": "4677856c",
   "metadata": {
    "ExecuteTime": {
     "end_time": "2022-05-20T22:31:36.514037Z",
     "start_time": "2022-05-20T22:31:36.504160Z"
    }
   },
   "outputs": [],
   "source": [
    "def write2(data, filename, compression_file, compression_table, complib=\"zlib\", complevel=4):\n",
    "    compression       = tb.Filters(complib=complib, complevel=complevel)\n",
    "    compression_file  = compression if compression_file  else None\n",
    "    compression_table = compression if compression_table else None\n",
    "\n",
    "    with tb.open_file(filename, \"w\", filters=compression_file) as file:\n",
    "        file.create_group(file.root        , \"branch\")\n",
    "        file.create_earray(file.root.branch, \"leaf\", tb.Float32Atom(), shape=(0, 5, 20), filters=compression_table)\n",
    "        \n",
    "        for data in data.reshape(-1, 5, 20):\n",
    "            file.root.branch.leaf.append(data.reshape(1, 5, 20))"
   ]
  },
  {
   "cell_type": "code",
   "execution_count": 90,
   "id": "dacd0cfa",
   "metadata": {
    "ExecuteTime": {
     "end_time": "2022-05-20T22:31:36.794471Z",
     "start_time": "2022-05-20T22:31:36.777981Z"
    }
   },
   "outputs": [],
   "source": [
    "data = np.random.uniform(0, 10000, size=10**6)"
   ]
  },
  {
   "cell_type": "code",
   "execution_count": 91,
   "id": "f9d75134",
   "metadata": {
    "ExecuteTime": {
     "end_time": "2022-05-20T22:31:37.710344Z",
     "start_time": "2022-05-20T22:31:37.575030Z"
    }
   },
   "outputs": [],
   "source": [
    "!rm *compression.h5"
   ]
  },
  {
   "cell_type": "code",
   "execution_count": 96,
   "id": "30e9d4ea",
   "metadata": {
    "ExecuteTime": {
     "end_time": "2022-05-20T22:31:58.590547Z",
     "start_time": "2022-05-20T22:31:55.802516Z"
    }
   },
   "outputs": [],
   "source": [
    "write2(data,    \"no_compression.h5\", False, False, complevel=4)\n",
    "write2(data,  \"file_compression.h5\",  True, False, complevel=4)\n",
    "write2(data, \"table_compression.h5\", False,  True, complevel=4)\n",
    "write2(data,  \"both_compression.h5\",  True,  True, complevel=4)"
   ]
  },
  {
   "cell_type": "code",
   "execution_count": 97,
   "id": "b58469e4",
   "metadata": {
    "ExecuteTime": {
     "end_time": "2022-05-20T22:31:58.714216Z",
     "start_time": "2022-05-20T22:31:58.592599Z"
    }
   },
   "outputs": [
    {
     "name": "stdout",
     "output_type": "stream",
     "text": [
      "-rw-rw-r-- 1 gonzalo gonzalo 3,2M Mai 21 01:31 both_compression.h5\r\n",
      "-rw-rw-r-- 1 gonzalo gonzalo 3,2M Mai 21 01:31 file_compression.h5\r\n",
      "-rw-rw-r-- 1 gonzalo gonzalo 3,9M Mai 21 01:31 no_compression.h5\r\n",
      "-rw-rw-r-- 1 gonzalo gonzalo 3,2M Mai 21 01:31 table_compression.h5\r\n"
     ]
    }
   ],
   "source": [
    "!ls -lha *compression.h5"
   ]
  },
  {
   "cell_type": "code",
   "execution_count": 104,
   "id": "39b69c6d",
   "metadata": {
    "ExecuteTime": {
     "end_time": "2022-05-20T22:52:14.444790Z",
     "start_time": "2022-05-20T22:52:14.434509Z"
    }
   },
   "outputs": [
    {
     "name": "stdout",
     "output_type": "stream",
     "text": [
      "Filters(complevel=0, shuffle=False, bitshuffle=False, fletcher32=False, least_significant_digit=None)\n",
      "Filters(complevel=0, shuffle=False, bitshuffle=False, fletcher32=False, least_significant_digit=None)\n"
     ]
    }
   ],
   "source": [
    "with tb.open_file(\"no_compression.h5\") as file:\n",
    "    print(file.filters)\n",
    "    print(file.root.branch.leaf.filters)"
   ]
  },
  {
   "cell_type": "code",
   "execution_count": 122,
   "id": "70a5ccba",
   "metadata": {
    "ExecuteTime": {
     "end_time": "2022-05-20T23:00:30.101451Z",
     "start_time": "2022-05-20T23:00:30.081592Z"
    }
   },
   "outputs": [],
   "source": [
    "f   = tb.open_file(\"file_compression.h5\")\n",
    "ff  = f.filters\n",
    "fff = f.root.branch.leaf.filters"
   ]
  },
  {
   "cell_type": "code",
   "execution_count": 123,
   "id": "1967a033",
   "metadata": {
    "ExecuteTime": {
     "end_time": "2022-05-20T23:00:31.716832Z",
     "start_time": "2022-05-20T23:00:31.700822Z"
    }
   },
   "outputs": [
    {
     "data": {
      "text/plain": [
       "4"
      ]
     },
     "execution_count": 123,
     "metadata": {},
     "output_type": "execute_result"
    }
   ],
   "source": [
    "ff.complevel"
   ]
  },
  {
   "cell_type": "code",
   "execution_count": 121,
   "id": "1d2c2010",
   "metadata": {
    "ExecuteTime": {
     "end_time": "2022-05-20T23:00:25.394460Z",
     "start_time": "2022-05-20T23:00:25.385736Z"
    }
   },
   "outputs": [],
   "source": [
    "f.close()"
   ]
  },
  {
   "cell_type": "code",
   "execution_count": 124,
   "id": "3151c994",
   "metadata": {
    "ExecuteTime": {
     "end_time": "2022-05-20T23:00:35.108163Z",
     "start_time": "2022-05-20T23:00:35.095020Z"
    }
   },
   "outputs": [
    {
     "name": "stdout",
     "output_type": "stream",
     "text": [
      "/branch/leaf (EArray(10000, 5, 20)shuffle, zlib(4)) '' Filters(complevel=4, complib='zlib', shuffle=True, bitshuffle=False, fletcher32=False, least_significant_digit=None)\n"
     ]
    }
   ],
   "source": [
    "for i in f.walk_nodes():\n",
    "    try:\n",
    "        print(i, i.filters)\n",
    "    except:\n",
    "        continue"
   ]
  },
  {
   "cell_type": "code",
   "execution_count": 138,
   "id": "b6ea87f2",
   "metadata": {
    "ExecuteTime": {
     "end_time": "2022-05-21T08:27:22.725958Z",
     "start_time": "2022-05-21T08:27:22.703611Z"
    }
   },
   "outputs": [
    {
     "name": "stdout",
     "output_type": "stream",
     "text": [
      "NOT COMPRESSED /home/gonzalo/sw/git/IC/invisible_cities/database/test_data/pmtledpulsedata.h5 (File) ''\n",
      "Last modif.: '2019-12-18T20:01:06+00:00'\n",
      "Object Tree: \n",
      "/ (RootGroup) ''\n",
      "/RD (Group) ''\n",
      "/RD/pmtblr (EArray(5, 12, 32000)shuffle, zlib(4)) ''\n",
      "/RD/pmtrwf (EArray(5, 12, 32000)shuffle, zlib(4)) ''\n",
      "/RD/sipmrwf (EArray(5, 1792, 800)shuffle, zlib(4)) ''\n",
      "/Run (Group) ''\n",
      "/Run/events (Table(5,)) ''\n",
      "/Run/runInfo (Table(1,)) ''\n",
      "/Sensors (Group) ''\n",
      "/Sensors/DataBLR (Table(11,)) ''\n",
      "/Sensors/DataPMT (Table(11,)) ''\n",
      "/Sensors/DataSiPM (Table(1792,)) ''\n",
      " Filters(complevel=0, shuffle=False, bitshuffle=False, fletcher32=False, least_significant_digit=None)\n",
      "NOT COMPRESSED /Run/events (Table(5,)) '' Filters(complevel=0, shuffle=False, bitshuffle=False, fletcher32=False, least_significant_digit=None)\n",
      "NOT COMPRESSED /Run/runInfo (Table(1,)) '' Filters(complevel=0, shuffle=False, bitshuffle=False, fletcher32=False, least_significant_digit=None)\n",
      "NOT COMPRESSED /Sensors/DataBLR (Table(11,)) '' Filters(complevel=0, shuffle=False, bitshuffle=False, fletcher32=False, least_significant_digit=None)\n",
      "NOT COMPRESSED /Sensors/DataPMT (Table(11,)) '' Filters(complevel=0, shuffle=False, bitshuffle=False, fletcher32=False, least_significant_digit=None)\n",
      "NOT COMPRESSED /Sensors/DataSiPM (Table(1792,)) '' Filters(complevel=0, shuffle=False, bitshuffle=False, fletcher32=False, least_significant_digit=None)\n"
     ]
    }
   ],
   "source": [
    "from itertools import chain\n",
    "\n",
    "with tb.open_file(\"/home/gonzalo/sw/git/IC/invisible_cities/database/test_data/pmtledpulsedata.h5\") as file:\n",
    "    for node in chain([file], file.walk_nodes()):\n",
    "        try:\n",
    "            assert (node.filters.complib   is not None and\n",
    "                    node.filters.complevel > 0), str(node)\n",
    "\n",
    "        except tb.NoSuchNodeError:\n",
    "            continue\n",
    "        except:\n",
    "            print(\"NOT COMPRESSED\", node, node.filters)"
   ]
  },
  {
   "cell_type": "code",
   "execution_count": 127,
   "id": "7bb46949",
   "metadata": {
    "ExecuteTime": {
     "end_time": "2022-05-20T23:17:41.278936Z",
     "start_time": "2022-05-20T23:17:41.263654Z"
    }
   },
   "outputs": [
    {
     "data": {
      "text/plain": [
       "tables.array.Array"
      ]
     },
     "execution_count": 127,
     "metadata": {},
     "output_type": "execute_result"
    }
   ],
   "source": [
    "tb.array.Array"
   ]
  },
  {
   "cell_type": "code",
   "execution_count": 131,
   "id": "f976accb",
   "metadata": {
    "ExecuteTime": {
     "end_time": "2022-05-20T23:20:04.372648Z",
     "start_time": "2022-05-20T23:20:04.285716Z"
    }
   },
   "outputs": [
    {
     "ename": "ValueError",
     "evalue": "atom parameter should be an instance of tables.Atom and you passed a <class 'numpy.ndarray'>.",
     "output_type": "error",
     "traceback": [
      "\u001b[0;31m---------------------------------------------------------------------------\u001b[0m",
      "\u001b[0;31mValueError\u001b[0m                                Traceback (most recent call last)",
      "Input \u001b[0;32mIn [131]\u001b[0m, in \u001b[0;36m<cell line: 1>\u001b[0;34m()\u001b[0m\n\u001b[1;32m      1\u001b[0m \u001b[38;5;28;01mwith\u001b[39;00m tb\u001b[38;5;241m.\u001b[39mopen_file(\u001b[38;5;124m\"\u001b[39m\u001b[38;5;124mtest_carray.h5\u001b[39m\u001b[38;5;124m\"\u001b[39m, \u001b[38;5;124m\"\u001b[39m\u001b[38;5;124mw\u001b[39m\u001b[38;5;124m\"\u001b[39m) \u001b[38;5;28;01mas\u001b[39;00m file:\n\u001b[0;32m----> 2\u001b[0m     \u001b[43mfile\u001b[49m\u001b[38;5;241;43m.\u001b[39;49m\u001b[43mcreate_carray\u001b[49m\u001b[43m(\u001b[49m\u001b[43mfile\u001b[49m\u001b[38;5;241;43m.\u001b[39;49m\u001b[43mroot\u001b[49m\u001b[43m,\u001b[49m\u001b[43m \u001b[49m\u001b[38;5;124;43m\"\u001b[39;49m\u001b[38;5;124;43mrarray\u001b[39;49m\u001b[38;5;124;43m\"\u001b[39;49m\u001b[43m,\u001b[49m\u001b[43m \u001b[49m\u001b[43mdata\u001b[49m\u001b[43m)\u001b[49m\n",
      "File \u001b[0;32m~/sw/anaconda3-2021.11-Linux_x86_64/envs/IC-3.8-2022-04-13/lib/python3.8/site-packages/tables/file.py:1235\u001b[0m, in \u001b[0;36mFile.create_carray\u001b[0;34m(self, where, name, atom, shape, title, filters, chunkshape, byteorder, createparents, obj, track_times)\u001b[0m\n\u001b[1;32m   1233\u001b[0m parentnode \u001b[38;5;241m=\u001b[39m \u001b[38;5;28mself\u001b[39m\u001b[38;5;241m.\u001b[39m_get_or_create_path(where, createparents)\n\u001b[1;32m   1234\u001b[0m _checkfilters(filters)\n\u001b[0;32m-> 1235\u001b[0m ptobj \u001b[38;5;241m=\u001b[39m \u001b[43mCArray\u001b[49m\u001b[43m(\u001b[49m\u001b[43mparentnode\u001b[49m\u001b[43m,\u001b[49m\u001b[43m \u001b[49m\u001b[43mname\u001b[49m\u001b[43m,\u001b[49m\n\u001b[1;32m   1236\u001b[0m \u001b[43m               \u001b[49m\u001b[43matom\u001b[49m\u001b[38;5;241;43m=\u001b[39;49m\u001b[43matom\u001b[49m\u001b[43m,\u001b[49m\u001b[43m \u001b[49m\u001b[43mshape\u001b[49m\u001b[38;5;241;43m=\u001b[39;49m\u001b[43mshape\u001b[49m\u001b[43m,\u001b[49m\u001b[43m \u001b[49m\u001b[43mtitle\u001b[49m\u001b[38;5;241;43m=\u001b[39;49m\u001b[43mtitle\u001b[49m\u001b[43m,\u001b[49m\u001b[43m \u001b[49m\u001b[43mfilters\u001b[49m\u001b[38;5;241;43m=\u001b[39;49m\u001b[43mfilters\u001b[49m\u001b[43m,\u001b[49m\n\u001b[1;32m   1237\u001b[0m \u001b[43m               \u001b[49m\u001b[43mchunkshape\u001b[49m\u001b[38;5;241;43m=\u001b[39;49m\u001b[43mchunkshape\u001b[49m\u001b[43m,\u001b[49m\u001b[43m \u001b[49m\u001b[43mbyteorder\u001b[49m\u001b[38;5;241;43m=\u001b[39;49m\u001b[43mbyteorder\u001b[49m\u001b[43m,\u001b[49m\n\u001b[1;32m   1238\u001b[0m \u001b[43m               \u001b[49m\u001b[43mtrack_times\u001b[49m\u001b[38;5;241;43m=\u001b[39;49m\u001b[43mtrack_times\u001b[49m\u001b[43m)\u001b[49m\n\u001b[1;32m   1240\u001b[0m \u001b[38;5;28;01mif\u001b[39;00m obj \u001b[38;5;129;01mis\u001b[39;00m \u001b[38;5;129;01mnot\u001b[39;00m \u001b[38;5;28;01mNone\u001b[39;00m:\n\u001b[1;32m   1241\u001b[0m     ptobj[\u001b[38;5;241m.\u001b[39m\u001b[38;5;241m.\u001b[39m\u001b[38;5;241m.\u001b[39m] \u001b[38;5;241m=\u001b[39m obj\n",
      "File \u001b[0;32m~/sw/anaconda3-2021.11-Linux_x86_64/envs/IC-3.8-2022-04-13/lib/python3.8/site-packages/tables/carray.py:172\u001b[0m, in \u001b[0;36mCArray.__init__\u001b[0;34m(self, parentnode, name, atom, shape, title, filters, chunkshape, byteorder, _log, track_times)\u001b[0m\n\u001b[1;32m    170\u001b[0m \u001b[38;5;28;01mif\u001b[39;00m new:\n\u001b[1;32m    171\u001b[0m     \u001b[38;5;28;01mif\u001b[39;00m \u001b[38;5;129;01mnot\u001b[39;00m \u001b[38;5;28misinstance\u001b[39m(atom, Atom):\n\u001b[0;32m--> 172\u001b[0m         \u001b[38;5;28;01mraise\u001b[39;00m \u001b[38;5;167;01mValueError\u001b[39;00m(\u001b[38;5;124m\"\u001b[39m\u001b[38;5;124matom parameter should be an instance of \u001b[39m\u001b[38;5;124m\"\u001b[39m\n\u001b[1;32m    173\u001b[0m                          \u001b[38;5;124m\"\u001b[39m\u001b[38;5;124mtables.Atom and you passed a \u001b[39m\u001b[38;5;132;01m%s\u001b[39;00m\u001b[38;5;124m.\u001b[39m\u001b[38;5;124m\"\u001b[39m \u001b[38;5;241m%\u001b[39m\n\u001b[1;32m    174\u001b[0m                          \u001b[38;5;28mtype\u001b[39m(atom))\n\u001b[1;32m    175\u001b[0m     \u001b[38;5;28;01mif\u001b[39;00m shape \u001b[38;5;129;01mis\u001b[39;00m \u001b[38;5;28;01mNone\u001b[39;00m:\n\u001b[1;32m    176\u001b[0m         \u001b[38;5;28;01mraise\u001b[39;00m \u001b[38;5;167;01mValueError\u001b[39;00m(\u001b[38;5;124m\"\u001b[39m\u001b[38;5;124myou must specify a non-empty shape\u001b[39m\u001b[38;5;124m\"\u001b[39m)\n",
      "\u001b[0;31mValueError\u001b[0m: atom parameter should be an instance of tables.Atom and you passed a <class 'numpy.ndarray'>."
     ]
    }
   ],
   "source": [
    "with tb.open_file(\"test_carray.h5\", \"w\") as file:\n",
    "    file.create_carray(file.root, \"rarray\", data)"
   ]
  },
  {
   "cell_type": "code",
   "execution_count": 132,
   "id": "14294030",
   "metadata": {
    "ExecuteTime": {
     "end_time": "2022-05-20T23:21:52.295202Z",
     "start_time": "2022-05-20T23:21:52.261790Z"
    }
   },
   "outputs": [
    {
     "data": {
      "text/plain": [
       "/rarray (Array(1000000,)) ''\n",
       "  atom := Float64Atom(shape=(), dflt=0.0)\n",
       "  maindim := 0\n",
       "  flavor := 'numpy'\n",
       "  byteorder := 'little'\n",
       "  chunkshape := None"
      ]
     },
     "execution_count": 132,
     "metadata": {},
     "output_type": "execute_result"
    }
   ],
   "source": [
    "fa = tb.open_file(\"test_array.h5\")\n",
    "fa.root.rarray"
   ]
  },
  {
   "cell_type": "code",
   "execution_count": null,
   "id": "60bfb2f3",
   "metadata": {},
   "outputs": [],
   "source": []
  }
 ],
 "metadata": {
  "kernelspec": {
   "display_name": "Python 3 (ipykernel)",
   "language": "python",
   "name": "python3"
  },
  "language_info": {
   "codemirror_mode": {
    "name": "ipython",
    "version": 3
   },
   "file_extension": ".py",
   "mimetype": "text/x-python",
   "name": "python",
   "nbconvert_exporter": "python",
   "pygments_lexer": "ipython3",
   "version": "3.8.13"
  },
  "toc": {
   "base_numbering": 1,
   "nav_menu": {},
   "number_sections": true,
   "sideBar": true,
   "skip_h1_title": false,
   "title_cell": "Table of Contents",
   "title_sidebar": "Contents",
   "toc_cell": false,
   "toc_position": {},
   "toc_section_display": true,
   "toc_window_display": false
  }
 },
 "nbformat": 4,
 "nbformat_minor": 5
}
