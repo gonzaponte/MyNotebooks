{
 "cells": [
  {
   "cell_type": "code",
   "execution_count": 1,
   "id": "26bd4d4b",
   "metadata": {
    "ExecuteTime": {
     "end_time": "2022-05-21T07:17:03.734519Z",
     "start_time": "2022-05-21T07:17:03.617802Z"
    }
   },
   "outputs": [],
   "source": [
    "import numpy as np"
   ]
  },
  {
   "cell_type": "code",
   "execution_count": 2,
   "id": "a311079c",
   "metadata": {
    "ExecuteTime": {
     "end_time": "2022-05-21T07:31:26.648532Z",
     "start_time": "2022-05-21T07:31:26.631730Z"
    }
   },
   "outputs": [],
   "source": [
    "primality = {}\n",
    "\n",
    "def primes():\n",
    "    return (k for k, v in primality.items() if v)\n",
    "\n",
    "def is_prime(n):\n",
    "    if n in primality: return primality[n]\n",
    "\n",
    "    def _doit():\n",
    "        if n in (0, 1): return False\n",
    "        if n in (2, 3, 5, 7): return True\n",
    "        if n < 10: return False\n",
    "        stop = int(n**0.5) + 1\n",
    "\n",
    "        for p in primes():\n",
    "            if p > stop : break\n",
    "            if not n % p: return False\n",
    "            \n",
    "        return True\n",
    "\n",
    "    primality[n] = result = _doit()\n",
    "    return result"
   ]
  },
  {
   "cell_type": "code",
   "execution_count": 5,
   "id": "d612c651",
   "metadata": {
    "ExecuteTime": {
     "end_time": "2022-05-21T07:39:40.287582Z",
     "start_time": "2022-05-21T07:38:18.758052Z"
    }
   },
   "outputs": [],
   "source": [
    "for i in range(10**7): is_prime(i)"
   ]
  },
  {
   "cell_type": "code",
   "execution_count": 6,
   "id": "0035435c",
   "metadata": {
    "ExecuteTime": {
     "end_time": "2022-05-21T07:41:01.942835Z",
     "start_time": "2022-05-21T07:41:01.575667Z"
    }
   },
   "outputs": [
    {
     "data": {
      "text/plain": [
       "9999991"
      ]
     },
     "execution_count": 6,
     "metadata": {},
     "output_type": "execute_result"
    }
   ],
   "source": [
    "max(primes())"
   ]
  },
  {
   "cell_type": "code",
   "execution_count": null,
   "id": "7def707b",
   "metadata": {},
   "outputs": [],
   "source": []
  }
 ],
 "metadata": {
  "kernelspec": {
   "display_name": "Python 3 (ipykernel)",
   "language": "python",
   "name": "python3"
  },
  "language_info": {
   "codemirror_mode": {
    "name": "ipython",
    "version": 3
   },
   "file_extension": ".py",
   "mimetype": "text/x-python",
   "name": "python",
   "nbconvert_exporter": "python",
   "pygments_lexer": "ipython3",
   "version": "3.8.13"
  },
  "toc": {
   "base_numbering": 1,
   "nav_menu": {},
   "number_sections": true,
   "sideBar": true,
   "skip_h1_title": false,
   "title_cell": "Table of Contents",
   "title_sidebar": "Contents",
   "toc_cell": false,
   "toc_position": {},
   "toc_section_display": true,
   "toc_window_display": false
  }
 },
 "nbformat": 4,
 "nbformat_minor": 5
}
