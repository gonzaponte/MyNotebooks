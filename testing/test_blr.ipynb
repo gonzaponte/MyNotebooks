{
 "cells": [
  {
   "cell_type": "code",
   "execution_count": 166,
   "metadata": {
    "collapsed": true
   },
   "outputs": [],
   "source": [
    "from collections import namedtuple\n",
    "\n",
    "import numpy as np\n",
    "\n",
    "from pytest import fixture\n",
    "\n",
    "from invisible_cities.sierpe.blr import deconvolve_signal\n",
    "\n",
    "\n",
    "deconv_params = namedtuple(\"deconv_params\",\n",
    "                           \"n_baseline coeff_clean coeff_blr \"\n",
    "                           \"thr_trigger accum_discharge_length\")\n",
    "\n",
    "\n",
    "@fixture(scope=\"session\")\n",
    "def sin_wf_params():\n",
    "    n_baseline             = 500\n",
    "    coeff_clean            = 1e-8\n",
    "    coeff_blr              = 5e-1\n",
    "    thr_trigger            = 1e-1\n",
    "    accum_discharge_length = 100\n",
    "    return deconv_params(n_baseline, coeff_clean, coeff_blr,\n",
    "                         thr_trigger, accum_discharge_length)\n",
    "\n",
    "\n",
    "@fixture\n",
    "def sin_wf(sin_wf_params):\n",
    "    baseline       = 0.0#np.random.uniform(1, 10)\n",
    "    wf             = np.full(sin_wf_params.n_baseline, baseline)\n",
    "    start          = np.random.choice (sin_wf_params.n_baseline // 2)\n",
    "    length         = np.random.randint(sin_wf_params.n_baseline // 50,\n",
    "                                       sin_wf_params.n_baseline // 2)\n",
    "    stop           = start + length\n",
    "\n",
    "    wf[start:stop]-= np.sin(np.linspace(0, 2 * np.pi, length))\n",
    "    return wf\n",
    "\n",
    "\n",
    "def test_blr(sin_wf, sin_wf_params):\n",
    "    blr_wf = deconvolve_signal(sin_wf, **sin_wf_params._asdict())\n",
    "    print(blr_wf)"
   ]
  },
  {
   "cell_type": "code",
   "execution_count": 2,
   "metadata": {
    "collapsed": true
   },
   "outputs": [],
   "source": [
    "import matplotlib.pyplot as plt\n",
    "%matplotlib inline\n",
    "plt.rcParams[\"figure.figsize\"] = 12, 8"
   ]
  },
  {
   "cell_type": "code",
   "execution_count": 167,
   "metadata": {
    "collapsed": true
   },
   "outputs": [],
   "source": [
    "wf = sin_wf(params)"
   ]
  },
  {
   "cell_type": "code",
   "execution_count": 173,
   "metadata": {},
   "outputs": [
    {
     "data": {
      "text/plain": [
       "[<matplotlib.lines.Line2D at 0x11548d668>]"
      ]
     },
     "execution_count": 173,
     "metadata": {},
     "output_type": "execute_result"
    },
    {
     "data": {
      "image/png": "[encoded data removed]",
      "text/plain": [
       "<matplotlib.figure.Figure at 0x1154d6668>"
      ]
     },
     "metadata": {},
     "output_type": "display_data"
    }
   ],
   "source": [
    "blr_wf = deconvolve_signal(wf.copy(), **sin_wf_params()._asdict())\n",
    "plt.plot(wf)\n",
    "plt.plot(blr_wf)"
   ]
  },
  {
   "cell_type": "code",
   "execution_count": 169,
   "metadata": {},
   "outputs": [
    {
     "name": "stdout",
     "output_type": "stream",
     "text": [
      "779.644044984\n"
     ]
    }
   ],
   "source": [
    "print(np.sum(blr_wf))"
   ]
  },
  {
   "cell_type": "code",
   "execution_count": 170,
   "metadata": {},
   "outputs": [
    {
     "data": {
      "text/plain": [
       "0.0"
      ]
     },
     "execution_count": 170,
     "metadata": {},
     "output_type": "execute_result"
    }
   ],
   "source": [
    "np.sum(wf)"
   ]
  },
  {
   "cell_type": "code",
   "execution_count": 176,
   "metadata": {},
   "outputs": [
    {
     "data": {
      "text/plain": [
       "(1.559288089968623, 15.810432697512052)"
      ]
     },
     "execution_count": 176,
     "metadata": {},
     "output_type": "execute_result"
    }
   ],
   "source": [
    "np.mean(blr_wf), np.max(blr_wf)"
   ]
  },
  {
   "cell_type": "code",
   "execution_count": 179,
   "metadata": {},
   "outputs": [
    {
     "data": {
      "text/plain": [
       "(array([  1,   1,   1,   0, 402,   1,   0,   0,   0,   1]),\n",
       " array([-0.0792799 , -0.06339019, -0.04750048, -0.03161076, -0.01572105,\n",
       "         0.00016866,  0.01605837,  0.03194809,  0.0478378 ,  0.06372751]))"
      ]
     },
     "execution_count": 179,
     "metadata": {},
     "output_type": "execute_result"
    }
   ],
   "source": [
    "a, b = np.histogram(blr_wf, 1000)\n",
    "a[:10], b[:10]"
   ]
  },
  {
   "cell_type": "code",
   "execution_count": 180,
   "metadata": {
    "collapsed": true
   },
   "outputs": [],
   "source": [
    "entries, amplitude = np.histogram(blr_wf, 200)\n",
    "baseline = amplitude[np.argmax(entries)]\n"
   ]
  },
  {
   "cell_type": "code",
   "execution_count": 181,
   "metadata": {},
   "outputs": [
    {
     "data": {
      "text/plain": [
       "-0.079279900814107407"
      ]
     },
     "execution_count": 181,
     "metadata": {},
     "output_type": "execute_result"
    }
   ],
   "source": [
    "baseline"
   ]
  },
  {
   "cell_type": "code",
   "execution_count": 182,
   "metadata": {},
   "outputs": [
    {
     "data": {
      "text/plain": [
       "1.559288089968623"
      ]
     },
     "execution_count": 182,
     "metadata": {},
     "output_type": "execute_result"
    }
   ],
   "source": [
    "np.mean(blr_wf)"
   ]
  },
  {
   "cell_type": "code",
   "execution_count": null,
   "metadata": {
    "collapsed": true
   },
   "outputs": [],
   "source": []
  }
 ],
 "metadata": {
  "kernelspec": {
   "display_name": "Python 3",
   "language": "python",
   "name": "python3"
  },
  "language_info": {
   "codemirror_mode": {
    "name": "ipython",
    "version": 3
   },
   "file_extension": ".py",
   "mimetype": "text/x-python",
   "name": "python",
   "nbconvert_exporter": "python",
   "pygments_lexer": "ipython3",
   "version": "3.6.1"
  }
 },
 "nbformat": 4,
 "nbformat_minor": 2
}
