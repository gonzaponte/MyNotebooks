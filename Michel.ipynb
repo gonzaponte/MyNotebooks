{
 "cells": [
  {
   "cell_type": "markdown",
   "metadata": {},
   "source": [
    "# Notebook configuration"
   ]
  },
  {
   "cell_type": "code",
   "execution_count": 1,
   "metadata": {
    "collapsed": true
   },
   "outputs": [],
   "source": [
    "run_number    = 4628\n",
    "save_plots    = True\n",
    "plots_format  = \"pdf\"\n",
    "outputfolder  = \"Michelplots/\"\n",
    "inputfilename = \"/Users/Gonzalo/github/NEXTdata/Kr/dst_{}_Michel.h5\".format(run_number)\n",
    "corr_filename = \"/Users/Gonzalo/github/NEXTdata/XYmaps/run{}_corrections_5.3mm.h5\".format(run_number)\n",
    "#LT            = 1184.2 #run 4446\n",
    "LT            = 1549.4 # run 4628\n",
    "\n",
    "Z_fiducial    =    20,  520\n",
    "XY_fiducial   =  -178,  178\n",
    "R_fiducial    =     0,  max(XY_fiducial)\n",
    "Eevt_limits   =    55,   73\n",
    "Es2_limits    =    27,   37\n",
    "\n",
    "Erange_raw    =     0, 15e3\n",
    "Erange_corr   =   8e3, 14e3"
   ]
  },
  {
   "cell_type": "markdown",
   "metadata": {},
   "source": [
    "# Imports"
   ]
  },
  {
   "cell_type": "code",
   "execution_count": 2,
   "metadata": {},
   "outputs": [
    {
     "name": "stdout",
     "output_type": "stream",
     "text": [
      "Running on  Tue Oct  3 17:56:28 2017\n"
     ]
    }
   ],
   "source": [
    "import time\n",
    "print(\"Running on \", time.asctime())\n",
    "\n",
    "import numpy             as np\n",
    "import tables            as tb\n",
    "import matplotlib.pyplot as plt\n",
    "from   matplotlib.colors import LogNorm\n",
    "\n",
    "import invisible_cities.core    .core_functions as coref\n",
    "import invisible_cities.core    .fit_functions  as fitf\n",
    "import invisible_cities.reco    .dst_functions  as dstf\n",
    "import invisible_cities.reco    .corrections    as corrf\n",
    "\n",
    "from invisible_cities.icaro.hst_functions import hist\n",
    "from invisible_cities.icaro.hst_functions import hist2d\n",
    "from invisible_cities.icaro.hst_functions import labels\n",
    "from invisible_cities.icaro.hst_functions import poisson_sigma\n",
    "from invisible_cities.icaro.hst_functions import plot_writer\n",
    "\n",
    "save = plot_writer(outputfolder, plots_format) if save_plots else lambda *x: None"
   ]
  },
  {
   "cell_type": "markdown",
   "metadata": {},
   "source": [
    "#### General plotting options"
   ]
  },
  {
   "cell_type": "code",
   "execution_count": 3,
   "metadata": {
    "collapsed": true
   },
   "outputs": [],
   "source": [
    "%matplotlib inline\n",
    "\n",
    "np.warnings.filterwarnings('ignore')\n",
    "\n",
    "plt.rcParams[\"figure.figsize\"         ] = 12, 8\n",
    "plt.rcParams[  \"font.size\"            ] = 15\n",
    "plt.rcParams[\"figure.max_open_warning\"] = 100\n",
    "\n",
    "profOpt = \"--k\"\n",
    "fitOpt  =  \"-r\""
   ]
  },
  {
   "cell_type": "markdown",
   "metadata": {},
   "source": [
    "# Read data"
   ]
  },
  {
   "cell_type": "raw",
   "metadata": {},
   "source": [
    "n_events_for_range       = 1823420 # total number of events within requested range\n",
    "n_events_not_s1          =  305265 # total number of events missing s1\n",
    "n_events_not_s2          =       9 # total number of events missing s2\n",
    "n_events_not_s2si        =      27 # total number of events missing s2si\n",
    "n_events_not_s1s2_filter =  205536 # total number of events rejected by s1s2 filter\n",
    "n_events_not_s2si_filter =       0 # total number of events rejected by s2si filter\n",
    "n_events_selected        = 1312583 # total number of events out\n",
    "n_events_tot             = 1823420 # total number of events in"
   ]
  },
  {
   "cell_type": "code",
   "execution_count": 4,
   "metadata": {
    "scrolled": false
   },
   "outputs": [
    {
     "name": "stdout",
     "output_type": "stream",
     "text": [
      "# successfully reconstructed events: 1312583\n",
      "# successfully reconstructed S2s   : 1404306\n"
     ]
    },
    {
     "data": {
      "text/html": [
       "<div>\n",
       "<style>\n",
       "    .dataframe thead tr:only-child th {\n",
       "        text-align: right;\n",
       "    }\n",
       "\n",
       "    .dataframe thead th {\n",
       "        text-align: left;\n",
       "    }\n",
       "\n",
       "    .dataframe tbody tr th {\n",
       "        vertical-align: top;\n",
       "    }\n",
       "</style>\n",
       "<table border=\"1\" class=\"dataframe\">\n",
       "  <thead>\n",
       "    <tr style=\"text-align: right;\">\n",
       "      <th></th>\n",
       "      <th>event</th>\n",
       "      <th>time</th>\n",
       "      <th>peak</th>\n",
       "      <th>nS2</th>\n",
       "      <th>S1w</th>\n",
       "      <th>S1h</th>\n",
       "      <th>S1e</th>\n",
       "      <th>S1t</th>\n",
       "      <th>S2w</th>\n",
       "      <th>S2h</th>\n",
       "      <th>...</th>\n",
       "      <th>S2t</th>\n",
       "      <th>Nsipm</th>\n",
       "      <th>DT</th>\n",
       "      <th>Z</th>\n",
       "      <th>X</th>\n",
       "      <th>Y</th>\n",
       "      <th>R</th>\n",
       "      <th>Phi</th>\n",
       "      <th>Xrms</th>\n",
       "      <th>Yrms</th>\n",
       "    </tr>\n",
       "  </thead>\n",
       "  <tbody>\n",
       "    <tr>\n",
       "      <th>0</th>\n",
       "      <td>1</td>\n",
       "      <td>1.504810e+09</td>\n",
       "      <td>0</td>\n",
       "      <td>1</td>\n",
       "      <td>150.0</td>\n",
       "      <td>1.628713</td>\n",
       "      <td>7.330867</td>\n",
       "      <td>251400.0</td>\n",
       "      <td>13.3250</td>\n",
       "      <td>1736.060669</td>\n",
       "      <td>...</td>\n",
       "      <td>654500.0</td>\n",
       "      <td>26</td>\n",
       "      <td>403.100</td>\n",
       "      <td>403.100</td>\n",
       "      <td>-5.451280</td>\n",
       "      <td>-23.574825</td>\n",
       "      <td>24.196876</td>\n",
       "      <td>-1.798036</td>\n",
       "      <td>14.205547</td>\n",
       "      <td>15.268265</td>\n",
       "    </tr>\n",
       "    <tr>\n",
       "      <th>1</th>\n",
       "      <td>4</td>\n",
       "      <td>1.504810e+09</td>\n",
       "      <td>0</td>\n",
       "      <td>1</td>\n",
       "      <td>125.0</td>\n",
       "      <td>1.674954</td>\n",
       "      <td>7.261290</td>\n",
       "      <td>468600.0</td>\n",
       "      <td>9.6125</td>\n",
       "      <td>1635.041626</td>\n",
       "      <td>...</td>\n",
       "      <td>653500.0</td>\n",
       "      <td>23</td>\n",
       "      <td>184.900</td>\n",
       "      <td>184.900</td>\n",
       "      <td>-195.254694</td>\n",
       "      <td>47.463048</td>\n",
       "      <td>200.940629</td>\n",
       "      <td>2.903135</td>\n",
       "      <td>10.088053</td>\n",
       "      <td>10.934308</td>\n",
       "    </tr>\n",
       "    <tr>\n",
       "      <th>2</th>\n",
       "      <td>5</td>\n",
       "      <td>1.504810e+09</td>\n",
       "      <td>0</td>\n",
       "      <td>1</td>\n",
       "      <td>300.0</td>\n",
       "      <td>3.802718</td>\n",
       "      <td>18.196588</td>\n",
       "      <td>345150.0</td>\n",
       "      <td>11.3250</td>\n",
       "      <td>2333.721924</td>\n",
       "      <td>...</td>\n",
       "      <td>653500.0</td>\n",
       "      <td>23</td>\n",
       "      <td>308.350</td>\n",
       "      <td>308.350</td>\n",
       "      <td>-16.273321</td>\n",
       "      <td>40.654008</td>\n",
       "      <td>43.790060</td>\n",
       "      <td>1.951551</td>\n",
       "      <td>11.631449</td>\n",
       "      <td>10.704266</td>\n",
       "    </tr>\n",
       "    <tr>\n",
       "      <th>3</th>\n",
       "      <td>6</td>\n",
       "      <td>1.504810e+09</td>\n",
       "      <td>0</td>\n",
       "      <td>1</td>\n",
       "      <td>175.0</td>\n",
       "      <td>2.230152</td>\n",
       "      <td>11.899826</td>\n",
       "      <td>493275.0</td>\n",
       "      <td>8.6000</td>\n",
       "      <td>3127.787598</td>\n",
       "      <td>...</td>\n",
       "      <td>652500.0</td>\n",
       "      <td>27</td>\n",
       "      <td>159.225</td>\n",
       "      <td>159.225</td>\n",
       "      <td>-131.989290</td>\n",
       "      <td>2.424955</td>\n",
       "      <td>132.011564</td>\n",
       "      <td>3.123222</td>\n",
       "      <td>10.273403</td>\n",
       "      <td>17.102090</td>\n",
       "    </tr>\n",
       "    <tr>\n",
       "      <th>4</th>\n",
       "      <td>7</td>\n",
       "      <td>1.504810e+09</td>\n",
       "      <td>0</td>\n",
       "      <td>2</td>\n",
       "      <td>325.0</td>\n",
       "      <td>7.637844</td>\n",
       "      <td>41.220879</td>\n",
       "      <td>522725.0</td>\n",
       "      <td>7.3875</td>\n",
       "      <td>2233.775879</td>\n",
       "      <td>...</td>\n",
       "      <td>652500.0</td>\n",
       "      <td>21</td>\n",
       "      <td>129.775</td>\n",
       "      <td>129.775</td>\n",
       "      <td>22.608671</td>\n",
       "      <td>-125.296588</td>\n",
       "      <td>127.320018</td>\n",
       "      <td>-1.392276</td>\n",
       "      <td>25.281292</td>\n",
       "      <td>18.558817</td>\n",
       "    </tr>\n",
       "    <tr>\n",
       "      <th>5</th>\n",
       "      <td>7</td>\n",
       "      <td>1.504810e+09</td>\n",
       "      <td>1</td>\n",
       "      <td>2</td>\n",
       "      <td>325.0</td>\n",
       "      <td>7.637844</td>\n",
       "      <td>41.220879</td>\n",
       "      <td>522725.0</td>\n",
       "      <td>11.6875</td>\n",
       "      <td>5178.710449</td>\n",
       "      <td>...</td>\n",
       "      <td>700500.0</td>\n",
       "      <td>73</td>\n",
       "      <td>177.775</td>\n",
       "      <td>177.775</td>\n",
       "      <td>44.268388</td>\n",
       "      <td>-193.239674</td>\n",
       "      <td>198.245458</td>\n",
       "      <td>-1.345597</td>\n",
       "      <td>24.828940</td>\n",
       "      <td>22.703394</td>\n",
       "    </tr>\n",
       "    <tr>\n",
       "      <th>6</th>\n",
       "      <td>8</td>\n",
       "      <td>1.504810e+09</td>\n",
       "      <td>0</td>\n",
       "      <td>1</td>\n",
       "      <td>225.0</td>\n",
       "      <td>4.044936</td>\n",
       "      <td>21.512648</td>\n",
       "      <td>389725.0</td>\n",
       "      <td>15.6000</td>\n",
       "      <td>1765.504028</td>\n",
       "      <td>...</td>\n",
       "      <td>653500.0</td>\n",
       "      <td>36</td>\n",
       "      <td>263.775</td>\n",
       "      <td>263.775</td>\n",
       "      <td>20.772980</td>\n",
       "      <td>-121.295034</td>\n",
       "      <td>123.060968</td>\n",
       "      <td>-1.401182</td>\n",
       "      <td>27.055894</td>\n",
       "      <td>14.368792</td>\n",
       "    </tr>\n",
       "    <tr>\n",
       "      <th>7</th>\n",
       "      <td>9</td>\n",
       "      <td>1.504810e+09</td>\n",
       "      <td>0</td>\n",
       "      <td>1</td>\n",
       "      <td>125.0</td>\n",
       "      <td>1.464954</td>\n",
       "      <td>6.137459</td>\n",
       "      <td>607100.0</td>\n",
       "      <td>7.7625</td>\n",
       "      <td>3809.636719</td>\n",
       "      <td>...</td>\n",
       "      <td>653500.0</td>\n",
       "      <td>33</td>\n",
       "      <td>46.400</td>\n",
       "      <td>46.400</td>\n",
       "      <td>-65.718077</td>\n",
       "      <td>-137.403871</td>\n",
       "      <td>152.311160</td>\n",
       "      <td>-2.016921</td>\n",
       "      <td>13.745657</td>\n",
       "      <td>29.792755</td>\n",
       "    </tr>\n",
       "    <tr>\n",
       "      <th>8</th>\n",
       "      <td>10</td>\n",
       "      <td>1.504810e+09</td>\n",
       "      <td>0</td>\n",
       "      <td>1</td>\n",
       "      <td>175.0</td>\n",
       "      <td>1.815328</td>\n",
       "      <td>10.865719</td>\n",
       "      <td>208075.0</td>\n",
       "      <td>13.5125</td>\n",
       "      <td>1616.475220</td>\n",
       "      <td>...</td>\n",
       "      <td>654500.0</td>\n",
       "      <td>26</td>\n",
       "      <td>446.425</td>\n",
       "      <td>446.425</td>\n",
       "      <td>23.805255</td>\n",
       "      <td>69.800794</td>\n",
       "      <td>73.748498</td>\n",
       "      <td>1.242121</td>\n",
       "      <td>15.698613</td>\n",
       "      <td>18.975458</td>\n",
       "    </tr>\n",
       "    <tr>\n",
       "      <th>9</th>\n",
       "      <td>12</td>\n",
       "      <td>1.504810e+09</td>\n",
       "      <td>0</td>\n",
       "      <td>1</td>\n",
       "      <td>350.0</td>\n",
       "      <td>13.030600</td>\n",
       "      <td>74.836507</td>\n",
       "      <td>560950.0</td>\n",
       "      <td>21.6250</td>\n",
       "      <td>8899.816406</td>\n",
       "      <td>...</td>\n",
       "      <td>659500.0</td>\n",
       "      <td>235</td>\n",
       "      <td>98.550</td>\n",
       "      <td>98.550</td>\n",
       "      <td>124.179767</td>\n",
       "      <td>-114.298223</td>\n",
       "      <td>168.774105</td>\n",
       "      <td>-0.743986</td>\n",
       "      <td>52.260854</td>\n",
       "      <td>52.085806</td>\n",
       "    </tr>\n",
       "  </tbody>\n",
       "</table>\n",
       "<p>10 rows × 22 columns</p>\n",
       "</div>"
      ],
      "text/plain": [
       "   event          time  peak  nS2    S1w        S1h        S1e       S1t  \\\n",
       "0      1  1.504810e+09     0    1  150.0   1.628713   7.330867  251400.0   \n",
       "1      4  1.504810e+09     0    1  125.0   1.674954   7.261290  468600.0   \n",
       "2      5  1.504810e+09     0    1  300.0   3.802718  18.196588  345150.0   \n",
       "3      6  1.504810e+09     0    1  175.0   2.230152  11.899826  493275.0   \n",
       "4      7  1.504810e+09     0    2  325.0   7.637844  41.220879  522725.0   \n",
       "5      7  1.504810e+09     1    2  325.0   7.637844  41.220879  522725.0   \n",
       "6      8  1.504810e+09     0    1  225.0   4.044936  21.512648  389725.0   \n",
       "7      9  1.504810e+09     0    1  125.0   1.464954   6.137459  607100.0   \n",
       "8     10  1.504810e+09     0    1  175.0   1.815328  10.865719  208075.0   \n",
       "9     12  1.504810e+09     0    1  350.0  13.030600  74.836507  560950.0   \n",
       "\n",
       "       S2w          S2h    ...           S2t  Nsipm       DT        Z  \\\n",
       "0  13.3250  1736.060669    ...      654500.0     26  403.100  403.100   \n",
       "1   9.6125  1635.041626    ...      653500.0     23  184.900  184.900   \n",
       "2  11.3250  2333.721924    ...      653500.0     23  308.350  308.350   \n",
       "3   8.6000  3127.787598    ...      652500.0     27  159.225  159.225   \n",
       "4   7.3875  2233.775879    ...      652500.0     21  129.775  129.775   \n",
       "5  11.6875  5178.710449    ...      700500.0     73  177.775  177.775   \n",
       "6  15.6000  1765.504028    ...      653500.0     36  263.775  263.775   \n",
       "7   7.7625  3809.636719    ...      653500.0     33   46.400   46.400   \n",
       "8  13.5125  1616.475220    ...      654500.0     26  446.425  446.425   \n",
       "9  21.6250  8899.816406    ...      659500.0    235   98.550   98.550   \n",
       "\n",
       "            X           Y           R       Phi       Xrms       Yrms  \n",
       "0   -5.451280  -23.574825   24.196876 -1.798036  14.205547  15.268265  \n",
       "1 -195.254694   47.463048  200.940629  2.903135  10.088053  10.934308  \n",
       "2  -16.273321   40.654008   43.790060  1.951551  11.631449  10.704266  \n",
       "3 -131.989290    2.424955  132.011564  3.123222  10.273403  17.102090  \n",
       "4   22.608671 -125.296588  127.320018 -1.392276  25.281292  18.558817  \n",
       "5   44.268388 -193.239674  198.245458 -1.345597  24.828940  22.703394  \n",
       "6   20.772980 -121.295034  123.060968 -1.401182  27.055894  14.368792  \n",
       "7  -65.718077 -137.403871  152.311160 -2.016921  13.745657  29.792755  \n",
       "8   23.805255   69.800794   73.748498  1.242121  15.698613  18.975458  \n",
       "9  124.179767 -114.298223  168.774105 -0.743986  52.260854  52.085806  \n",
       "\n",
       "[10 rows x 22 columns]"
      ]
     },
     "execution_count": 4,
     "metadata": {},
     "output_type": "execute_result"
    }
   ],
   "source": [
    "full = dstf.load_dst(inputfilename, \"DST\", \"Events\")\n",
    "print(\"# successfully reconstructed events:\", len(set(full.event)))\n",
    "print(\"# successfully reconstructed S2s   :\", len(    full       ))\n",
    "full.head(10)"
   ]
  },
  {
   "cell_type": "code",
   "execution_count": 14,
   "metadata": {},
   "outputs": [
    {
     "name": "stdout",
     "output_type": "stream",
     "text": [
      "False\n"
     ]
    },
    {
     "data": {
      "text/plain": [
       "array([26183])"
      ]
     },
     "execution_count": 14,
     "metadata": {},
     "output_type": "execute_result"
    }
   ],
   "source": [
    "d = np.diff(E) >= 0\n",
    "print(np.all(d))\n",
    "np.argwhere(~d)[0]"
   ]
  },
  {
   "cell_type": "code",
   "execution_count": 17,
   "metadata": {},
   "outputs": [
    {
     "data": {
      "text/html": [
       "<div>\n",
       "<style>\n",
       "    .dataframe thead tr:only-child th {\n",
       "        text-align: right;\n",
       "    }\n",
       "\n",
       "    .dataframe thead th {\n",
       "        text-align: left;\n",
       "    }\n",
       "\n",
       "    .dataframe tbody tr th {\n",
       "        vertical-align: top;\n",
       "    }\n",
       "</style>\n",
       "<table border=\"1\" class=\"dataframe\">\n",
       "  <thead>\n",
       "    <tr style=\"text-align: right;\">\n",
       "      <th></th>\n",
       "      <th>event</th>\n",
       "      <th>time</th>\n",
       "      <th>peak</th>\n",
       "      <th>nS2</th>\n",
       "      <th>S1w</th>\n",
       "      <th>S1h</th>\n",
       "      <th>S1e</th>\n",
       "      <th>S1t</th>\n",
       "      <th>S2w</th>\n",
       "      <th>S2h</th>\n",
       "      <th>...</th>\n",
       "      <th>S2t</th>\n",
       "      <th>Nsipm</th>\n",
       "      <th>DT</th>\n",
       "      <th>Z</th>\n",
       "      <th>X</th>\n",
       "      <th>Y</th>\n",
       "      <th>R</th>\n",
       "      <th>Phi</th>\n",
       "      <th>Xrms</th>\n",
       "      <th>Yrms</th>\n",
       "    </tr>\n",
       "  </thead>\n",
       "  <tbody>\n",
       "    <tr>\n",
       "      <th>26181</th>\n",
       "      <td>1716999</td>\n",
       "      <td>214701.116</td>\n",
       "      <td>0</td>\n",
       "      <td>1</td>\n",
       "      <td>375.0</td>\n",
       "      <td>3.227437</td>\n",
       "      <td>19.447060</td>\n",
       "      <td>336075.0</td>\n",
       "      <td>13.3625</td>\n",
       "      <td>1241.049438</td>\n",
       "      <td>...</td>\n",
       "      <td>654500.0</td>\n",
       "      <td>28</td>\n",
       "      <td>318.425</td>\n",
       "      <td>318.425</td>\n",
       "      <td>-183.159642</td>\n",
       "      <td>37.232899</td>\n",
       "      <td>186.905706</td>\n",
       "      <td>2.941044</td>\n",
       "      <td>36.995034</td>\n",
       "      <td>10.513129</td>\n",
       "    </tr>\n",
       "    <tr>\n",
       "      <th>26182</th>\n",
       "      <td>1717000</td>\n",
       "      <td>214701.361</td>\n",
       "      <td>0</td>\n",
       "      <td>2</td>\n",
       "      <td>350.0</td>\n",
       "      <td>6.339310</td>\n",
       "      <td>31.491693</td>\n",
       "      <td>599150.0</td>\n",
       "      <td>5.4625</td>\n",
       "      <td>2475.061279</td>\n",
       "      <td>...</td>\n",
       "      <td>651500.0</td>\n",
       "      <td>28</td>\n",
       "      <td>52.350</td>\n",
       "      <td>52.350</td>\n",
       "      <td>190.074684</td>\n",
       "      <td>36.459316</td>\n",
       "      <td>193.539833</td>\n",
       "      <td>0.189514</td>\n",
       "      <td>22.477853</td>\n",
       "      <td>15.024533</td>\n",
       "    </tr>\n",
       "    <tr>\n",
       "      <th>26183</th>\n",
       "      <td>1717000</td>\n",
       "      <td>214701.361</td>\n",
       "      <td>1</td>\n",
       "      <td>2</td>\n",
       "      <td>350.0</td>\n",
       "      <td>6.339310</td>\n",
       "      <td>31.491693</td>\n",
       "      <td>599150.0</td>\n",
       "      <td>8.6125</td>\n",
       "      <td>9394.814453</td>\n",
       "      <td>...</td>\n",
       "      <td>685500.0</td>\n",
       "      <td>94</td>\n",
       "      <td>86.350</td>\n",
       "      <td>86.350</td>\n",
       "      <td>151.103343</td>\n",
       "      <td>8.171956</td>\n",
       "      <td>151.324159</td>\n",
       "      <td>0.054029</td>\n",
       "      <td>33.265830</td>\n",
       "      <td>26.971241</td>\n",
       "    </tr>\n",
       "    <tr>\n",
       "      <th>26184</th>\n",
       "      <td>17001</td>\n",
       "      <td>2116.611</td>\n",
       "      <td>0</td>\n",
       "      <td>1</td>\n",
       "      <td>150.0</td>\n",
       "      <td>0.995902</td>\n",
       "      <td>5.342389</td>\n",
       "      <td>453025.0</td>\n",
       "      <td>9.3875</td>\n",
       "      <td>2693.868164</td>\n",
       "      <td>...</td>\n",
       "      <td>653500.0</td>\n",
       "      <td>30</td>\n",
       "      <td>200.475</td>\n",
       "      <td>200.475</td>\n",
       "      <td>-87.475467</td>\n",
       "      <td>5.601289</td>\n",
       "      <td>87.654616</td>\n",
       "      <td>3.077647</td>\n",
       "      <td>13.644521</td>\n",
       "      <td>11.805629</td>\n",
       "    </tr>\n",
       "    <tr>\n",
       "      <th>26185</th>\n",
       "      <td>17002</td>\n",
       "      <td>2116.820</td>\n",
       "      <td>0</td>\n",
       "      <td>1</td>\n",
       "      <td>400.0</td>\n",
       "      <td>0.891969</td>\n",
       "      <td>9.838920</td>\n",
       "      <td>334450.0</td>\n",
       "      <td>3.5125</td>\n",
       "      <td>2514.956543</td>\n",
       "      <td>...</td>\n",
       "      <td>651500.0</td>\n",
       "      <td>28</td>\n",
       "      <td>317.050</td>\n",
       "      <td>317.050</td>\n",
       "      <td>-80.320088</td>\n",
       "      <td>191.265734</td>\n",
       "      <td>207.446132</td>\n",
       "      <td>1.968373</td>\n",
       "      <td>17.016933</td>\n",
       "      <td>22.055604</td>\n",
       "    </tr>\n",
       "    <tr>\n",
       "      <th>26186</th>\n",
       "      <td>17003</td>\n",
       "      <td>2116.907</td>\n",
       "      <td>0</td>\n",
       "      <td>1</td>\n",
       "      <td>250.0</td>\n",
       "      <td>2.810150</td>\n",
       "      <td>16.151526</td>\n",
       "      <td>250800.0</td>\n",
       "      <td>12.4375</td>\n",
       "      <td>1829.464600</td>\n",
       "      <td>...</td>\n",
       "      <td>654500.0</td>\n",
       "      <td>25</td>\n",
       "      <td>403.700</td>\n",
       "      <td>403.700</td>\n",
       "      <td>-7.174535</td>\n",
       "      <td>26.732300</td>\n",
       "      <td>27.678328</td>\n",
       "      <td>1.833002</td>\n",
       "      <td>16.081455</td>\n",
       "      <td>24.515639</td>\n",
       "    </tr>\n",
       "    <tr>\n",
       "      <th>26187</th>\n",
       "      <td>17004</td>\n",
       "      <td>2117.010</td>\n",
       "      <td>0</td>\n",
       "      <td>1</td>\n",
       "      <td>350.0</td>\n",
       "      <td>1.350192</td>\n",
       "      <td>11.995820</td>\n",
       "      <td>515900.0</td>\n",
       "      <td>7.3500</td>\n",
       "      <td>2819.551758</td>\n",
       "      <td>...</td>\n",
       "      <td>652500.0</td>\n",
       "      <td>31</td>\n",
       "      <td>136.600</td>\n",
       "      <td>136.600</td>\n",
       "      <td>179.334144</td>\n",
       "      <td>-20.787835</td>\n",
       "      <td>180.534953</td>\n",
       "      <td>-0.115402</td>\n",
       "      <td>38.187715</td>\n",
       "      <td>20.651227</td>\n",
       "    </tr>\n",
       "  </tbody>\n",
       "</table>\n",
       "<p>7 rows × 22 columns</p>\n",
       "</div>"
      ],
      "text/plain": [
       "         event        time  peak  nS2    S1w       S1h        S1e       S1t  \\\n",
       "26181  1716999  214701.116     0    1  375.0  3.227437  19.447060  336075.0   \n",
       "26182  1717000  214701.361     0    2  350.0  6.339310  31.491693  599150.0   \n",
       "26183  1717000  214701.361     1    2  350.0  6.339310  31.491693  599150.0   \n",
       "26184    17001    2116.611     0    1  150.0  0.995902   5.342389  453025.0   \n",
       "26185    17002    2116.820     0    1  400.0  0.891969   9.838920  334450.0   \n",
       "26186    17003    2116.907     0    1  250.0  2.810150  16.151526  250800.0   \n",
       "26187    17004    2117.010     0    1  350.0  1.350192  11.995820  515900.0   \n",
       "\n",
       "           S2w          S2h    ...           S2t  Nsipm       DT        Z  \\\n",
       "26181  13.3625  1241.049438    ...      654500.0     28  318.425  318.425   \n",
       "26182   5.4625  2475.061279    ...      651500.0     28   52.350   52.350   \n",
       "26183   8.6125  9394.814453    ...      685500.0     94   86.350   86.350   \n",
       "26184   9.3875  2693.868164    ...      653500.0     30  200.475  200.475   \n",
       "26185   3.5125  2514.956543    ...      651500.0     28  317.050  317.050   \n",
       "26186  12.4375  1829.464600    ...      654500.0     25  403.700  403.700   \n",
       "26187   7.3500  2819.551758    ...      652500.0     31  136.600  136.600   \n",
       "\n",
       "                X           Y           R       Phi       Xrms       Yrms  \n",
       "26181 -183.159642   37.232899  186.905706  2.941044  36.995034  10.513129  \n",
       "26182  190.074684   36.459316  193.539833  0.189514  22.477853  15.024533  \n",
       "26183  151.103343    8.171956  151.324159  0.054029  33.265830  26.971241  \n",
       "26184  -87.475467    5.601289   87.654616  3.077647  13.644521  11.805629  \n",
       "26185  -80.320088  191.265734  207.446132  1.968373  17.016933  22.055604  \n",
       "26186   -7.174535   26.732300   27.678328  1.833002  16.081455  24.515639  \n",
       "26187  179.334144  -20.787835  180.534953 -0.115402  38.187715  20.651227  \n",
       "\n",
       "[7 rows x 22 columns]"
      ]
     },
     "execution_count": 17,
     "metadata": {},
     "output_type": "execute_result"
    }
   ],
   "source": [
    "full[26181:26183+5]"
   ]
  },
  {
   "cell_type": "code",
   "execution_count": 12,
   "metadata": {},
   "outputs": [
    {
     "data": {
      "text/plain": [
       "array([      1,       4,       5, ..., 1699997, 1699999, 1700000], dtype=int32)"
      ]
     },
     "execution_count": 12,
     "metadata": {},
     "output_type": "execute_result"
    }
   ],
   "source": [
    "E"
   ]
  },
  {
   "cell_type": "code",
   "execution_count": 18,
   "metadata": {},
   "outputs": [
    {
     "data": {
      "image/png": "[encoded data removed]",
      "text/plain": [
       "<matplotlib.figure.Figure at 0x1159259b0>"
      ]
     },
     "metadata": {},
     "output_type": "display_data"
    },
    {
     "data": {
      "image/png": "[encoded data removed]",
      "text/plain": [
       "<matplotlib.figure.Figure at 0x115925fd0>"
      ]
     },
     "metadata": {},
     "output_type": "display_data"
    }
   ],
   "source": [
    "E  = full.event.values\n",
    "T  = full.time.values\n",
    "T -= T.min()\n",
    "hist(E, 100, (E.min(), E.max()));\n",
    "hist(T, 100, (T.min(), T.max()));"
   ]
  },
  {
   "cell_type": "code",
   "execution_count": 19,
   "metadata": {},
   "outputs": [
    {
     "data": {
      "image/png": "[encoded data removed]",
      "text/plain": [
       "<matplotlib.figure.Figure at 0x115b79390>"
      ]
     },
     "metadata": {},
     "output_type": "display_data"
    }
   ],
   "source": [
    "hist(full.S1w.values, 100, (0, 500));"
   ]
  },
  {
   "cell_type": "code",
   "execution_count": 5,
   "metadata": {
    "collapsed": true
   },
   "outputs": [],
   "source": [
    "Zcorr  = corrf.LifetimeCorrection(LT, 1)\n",
    "XYcorr = dstf.load_xy_corrections(corr_filename)\n",
    "\n",
    "# This line is temporary\n",
    "XYcorr._fs = XYcorr._fs[37, 37]/XYcorr._fs"
   ]
  },
  {
   "cell_type": "markdown",
   "metadata": {},
   "source": [
    "# Find energy scale from Kr peak"
   ]
  },
  {
   "cell_type": "code",
   "execution_count": 6,
   "metadata": {
    "collapsed": true
   },
   "outputs": [],
   "source": [
    "E_full = full.S2e.values * Zcorr(full.Z.values).value * XYcorr(full.X.values, full.Y.values).value"
   ]
  },
  {
   "cell_type": "code",
   "execution_count": 7,
   "metadata": {},
   "outputs": [
    {
     "name": "stdout",
     "output_type": "stream",
     "text": [
      "Energy scale      = 12263.8 pes for 41.5 keV\n",
      "Conversion factor = 295.5 pes/keV\n"
     ]
    },
    {
     "data": {
      "image/png": "[encoded data removed]",
      "text/plain": [
       "<matplotlib.figure.Figure at 0x10f60e320>"
      ]
     },
     "metadata": {},
     "output_type": "display_data"
    }
   ],
   "source": [
    "y, x, _ = hist(E_full, 100, Erange_corr)\n",
    "labels(\"S2 energy (pes)\", \"Entries\", \"Full energy spectrum\")\n",
    "\n",
    "fit_range = x[np.argmax(y) - 10], x[np.argmax(y) + 10]\n",
    "seed = 1e6, 12e3, 1e3\n",
    "f = fitf.fit(fitf.gauss, x, y, seed, fit_range=fit_range, sigma=poisson_sigma(y))\n",
    "plt.plot(x, f.fn(x), fitOpt)\n",
    "\n",
    "E_scale = f.values[1]/41.5\n",
    "print(\"Energy scale      = {:.1f} pes for 41.5 keV\".format(f.values[1]))\n",
    "print(\"Conversion factor = {:.1f} pes/keV\".format(E_scale))"
   ]
  },
  {
   "cell_type": "markdown",
   "metadata": {},
   "source": [
    "# Number of peaks"
   ]
  },
  {
   "cell_type": "code",
   "execution_count": 8,
   "metadata": {},
   "outputs": [
    {
     "data": {
      "image/png": "[encoded data removed]",
      "text/plain": [
       "<matplotlib.figure.Figure at 0x10f61de48>"
      ]
     },
     "metadata": {},
     "output_type": "display_data"
    }
   ],
   "source": [
    "hist(full.nS2, 5, (0, 5), weights = 1/full.nS2)\n",
    "plt.yscale(\"log\")\n",
    "labels(\"Number of S2 signals\", \"Entries\", \"Number of S2 signals\")\n",
    "save(\"NS2\")"
   ]
  },
  {
   "cell_type": "code",
   "execution_count": 9,
   "metadata": {},
   "outputs": [
    {
     "name": "stdout",
     "output_type": "stream",
     "text": [
      "Total number of events with 2 S2: 74932\n",
      "Fraction     of events with 2 S2: 10.7%\n"
     ]
    }
   ],
   "source": [
    "doubleS2 = full[full.nS2 == 2]\n",
    "print(\"Total number of events with 2 S2: {:d}\"   .format(    len(doubleS2)//2))\n",
    "print(\"Fraction     of events with 2 S2: {:.1f}%\".format(100*len(doubleS2)/len(full)))"
   ]
  },
  {
   "cell_type": "markdown",
   "metadata": {},
   "source": [
    "# Fiducial cuts"
   ]
  },
  {
   "cell_type": "code",
   "execution_count": 10,
   "metadata": {},
   "outputs": [
    {
     "name": "stdout",
     "output_type": "stream",
     "text": [
      "Total number of events within z limits: 60837\n",
      "Fraction     of events within z limits: 81.2%\n"
     ]
    }
   ],
   "source": [
    "z_sel      = coref.in_range(doubleS2.Z.values, *Z_fiducial)\n",
    "evt_sel    = doubleS2[z_sel].duplicated(\"event\", keep=False)\n",
    "fiducial_z = doubleS2[z_sel][evt_sel]\n",
    "print(\"Total number of events within z limits: {:d}\"   .format(    len(fiducial_z)//2))\n",
    "print(\"Fraction     of events within z limits: {:.1f}%\".format(100*len(fiducial_z)/len(doubleS2)))"
   ]
  },
  {
   "cell_type": "code",
   "execution_count": 11,
   "metadata": {},
   "outputs": [
    {
     "name": "stdout",
     "output_type": "stream",
     "text": [
      "Total number of events within r limits: 38842\n",
      "Fraction     of events within r limits: 63.8%\n"
     ]
    }
   ],
   "source": [
    "r_sel      = coref.in_range(fiducial_z.R.values, *R_fiducial)\n",
    "evt_sel    = fiducial_z[r_sel].duplicated(\"event\", keep=False)\n",
    "fiducial_r = fiducial_z[r_sel][evt_sel]\n",
    "print(\"Total number of events within r limits: {:d}\"   .format(    len(fiducial_r)//2))\n",
    "print(\"Fraction     of events within r limits: {:.1f}%\".format(100*len(fiducial_r)/len(fiducial_z)))"
   ]
  },
  {
   "cell_type": "code",
   "execution_count": 12,
   "metadata": {
    "collapsed": true
   },
   "outputs": [],
   "source": [
    "fiducial = fiducial_r"
   ]
  },
  {
   "cell_type": "code",
   "execution_count": 13,
   "metadata": {
    "collapsed": true
   },
   "outputs": [],
   "source": [
    "evts = fiducial.event.values\n",
    "X    = fiducial.X    .values\n",
    "Y    = fiducial.Y    .values\n",
    "Z    = fiducial.Z    .values\n",
    "E    = fiducial.S2e  .values / E_scale\n",
    "Ez   = E  * Zcorr (Z)   .value\n",
    "Exyz = Ez * XYcorr(X, Y).value\n",
    "\n",
    "evt_nos = np.array(sorted(set(evts)))\n",
    "Eevt    = Exyz.reshape((Exyz.size//2, 2)).sum(axis=1)\n",
    "#np.array([Exyz[evts == evt].sum() for evt in evt_nos])"
   ]
  },
  {
   "cell_type": "markdown",
   "metadata": {},
   "source": [
    "#  Energy spectra (per S2 and per evt)"
   ]
  },
  {
   "cell_type": "code",
   "execution_count": 14,
   "metadata": {},
   "outputs": [
    {
     "data": {
      "image/png": "[encoded data removed]",
      "text/plain": [
       "<matplotlib.figure.Figure at 0x1101f1da0>"
      ]
     },
     "metadata": {},
     "output_type": "display_data"
    },
    {
     "data": {
      "image/png": "[encoded data removed]",
      "text/plain": [
       "<matplotlib.figure.Figure at 0x114e8eda0>"
      ]
     },
     "metadata": {},
     "output_type": "display_data"
    }
   ],
   "source": [
    "hist(Exyz, 200, (0, 50))\n",
    "labels(\"S2 energy (keV)\", \"Entries\", \"S2 energy\")\n",
    "save(\"S2_energy\")\n",
    "\n",
    "y, x, _ = hist(Eevt, 200, (0, 80))\n",
    "labels(\"Event energy (keV)\", \"Entries\", \"Event energy\")\n",
    "save(\"Evt_energy\")"
   ]
  },
  {
   "cell_type": "markdown",
   "metadata": {},
   "source": [
    "# Select events within energy windows"
   ]
  },
  {
   "cell_type": "code",
   "execution_count": 15,
   "metadata": {},
   "outputs": [
    {
     "name": "stdout",
     "output_type": "stream",
     "text": [
      "Total number of events within [55, 73) keV: 853\n",
      "Fraction     of events within [55, 73) keV: 2.2%\n"
     ]
    }
   ],
   "source": [
    "Eevt_sel = coref.in_range(Eevt, *Eevt_limits)\n",
    "print(\"Total number of events within [{}, {}) keV: {:d}\"   .format(*Eevt_limits, np.count_nonzero(Eevt_sel)))\n",
    "print(\"Fraction     of events within [{}, {}) keV: {:.1f}%\".format(*Eevt_limits, np.count_nonzero(Eevt_sel)*2/len(fiducial)*100))\n",
    "Eevt_sel  = np.repeat(Eevt_sel, 2)\n",
    "#evt_nos_pass_sum = evt_nos[sel]\n",
    "#evts_pass_sum    = np.in1d(evts, evt_nos_pass_sum)\n",
    "#E_pass_sum       = E[evts_pass_sum]\n"
   ]
  },
  {
   "cell_type": "code",
   "execution_count": 16,
   "metadata": {},
   "outputs": [
    {
     "name": "stdout",
     "output_type": "stream",
     "text": [
      "Total number of events with both S2s within [27, 37) keV: 323\n",
      "Fraction     of events with both S2s within [27, 37) keV: 37.9%\n"
     ]
    },
    {
     "data": {
      "image/png": "[encoded data removed]",
      "text/plain": [
       "<matplotlib.figure.Figure at 0x104aa6080>"
      ]
     },
     "metadata": {},
     "output_type": "display_data"
    }
   ],
   "source": [
    "e = Exyz[Eevt_sel]\n",
    "e = e.reshape((e.size//2, 2))\n",
    "e.sort(axis=1)\n",
    "hist2d(e[:, 1], e[:, 0], 30, ((20, 40), (20, 40)))\n",
    "plt.colorbar().set_label(\"# events\")\n",
    "labels(\"Max S2 energy (keV)\", \"Min S2 energy (keV)\", \"Double S2 energy correlation\")\n",
    "\n",
    "min_, max_ = Es2_limits\n",
    "plt.plot([min_, max_], [min_, min_], \"r\")\n",
    "plt.plot([min_, max_], [max_, max_], \"r\")\n",
    "plt.plot([min_, min_], [min_, max_], \"r\")\n",
    "plt.plot([max_, max_], [min_, max_], \"r\")\n",
    "\n",
    "Es2_sel = (coref.in_range(e[:, 0], min_, max_) &\n",
    "           coref.in_range(e[:, 1], min_, max_))\n",
    "\n",
    "#print(\"Total number of events with both S2s within [{}, {}) keV: {}\".format(*Es2_limits, np.count_nonzero(Es2_sel)))\n",
    "\n",
    "print(\"Total number of events with both S2s within [{}, {}) keV: {:d}\"   .format(*Es2_limits, np.count_nonzero(Es2_sel)))\n",
    "print(\"Fraction     of events with both S2s within [{}, {}) keV: {:.1f}%\".format(*Es2_limits, np.count_nonzero(Es2_sel)*2/e.size*100))\n",
    "\n",
    "Es2_sel = np.repeat(Es2_sel, 2)"
   ]
  },
  {
   "cell_type": "markdown",
   "metadata": {},
   "source": [
    "# Energy spectrum for selected events"
   ]
  },
  {
   "cell_type": "code",
   "execution_count": 17,
   "metadata": {
    "collapsed": true
   },
   "outputs": [],
   "source": [
    "selected   = fiducial[Eevt_sel][Es2_sel]\n",
    "X_selected = X       [Eevt_sel][Es2_sel]\n",
    "Y_selected = Y       [Eevt_sel][Es2_sel]\n",
    "Z_selected = Z       [Eevt_sel][Es2_sel]\n",
    "E_selected = Exyz    [Eevt_sel][Es2_sel]"
   ]
  },
  {
   "cell_type": "code",
   "execution_count": 18,
   "metadata": {},
   "outputs": [
    {
     "data": {
      "image/png": "[encoded data removed]",
      "text/plain": [
       "<matplotlib.figure.Figure at 0x1101d4ac8>"
      ]
     },
     "metadata": {},
     "output_type": "display_data"
    }
   ],
   "source": [
    "hist(E_selected, 100, (0, 50))\n",
    "labels(\"S2 energy (keV)\", \"Entries\", \"Energy spectrum of selected events\")"
   ]
  },
  {
   "cell_type": "markdown",
   "metadata": {},
   "source": [
    "# 3D distance between clusters"
   ]
  },
  {
   "cell_type": "code",
   "execution_count": 19,
   "metadata": {
    "scrolled": false
   },
   "outputs": [
    {
     "data": {
      "image/png": "[encoded data removed]",
      "text/plain": [
       "<matplotlib.figure.Figure at 0x111196c88>"
      ]
     },
     "metadata": {},
     "output_type": "display_data"
    },
    {
     "data": {
      "image/png": "[encoded data removed]",
      "text/plain": [
       "<matplotlib.figure.Figure at 0x11524a278>"
      ]
     },
     "metadata": {},
     "output_type": "display_data"
    }
   ],
   "source": [
    "dx  = np.sum(np.diff(X_selected.reshape((X_selected.size//2, 2)), axis = 1), axis=1)\n",
    "dy  = np.sum(np.diff(Y_selected.reshape((X_selected.size//2, 2)), axis = 1), axis=1)\n",
    "dz  = np.sum(np.diff(Z_selected.reshape((X_selected.size//2, 2)), axis = 1), axis=1)\n",
    "\n",
    "dr = (dx**2 + dy**2 + dz**2)**0.5\n",
    "\n",
    "y, x, _ = hist(dr, 100, (0, 200))\n",
    "labels(\"Distance between clusters (mm)\", \"Entries\", \"Distance between clusters\")\n",
    "\n",
    "hist(dr, 50, (0, 50))\n",
    "labels(\"Distance between clusters (mm)\", \"Entries\", \"Distance between clusters (zoom)\")"
   ]
  }
 ],
 "metadata": {
  "kernelspec": {
   "display_name": "Python 3",
   "language": "python",
   "name": "python3"
  },
  "language_info": {
   "codemirror_mode": {
    "name": "ipython",
    "version": 3
   },
   "file_extension": ".py",
   "mimetype": "text/x-python",
   "name": "python",
   "nbconvert_exporter": "python",
   "pygments_lexer": "ipython3",
   "version": "3.6.1"
  }
 },
 "nbformat": 4,
 "nbformat_minor": 2
}
