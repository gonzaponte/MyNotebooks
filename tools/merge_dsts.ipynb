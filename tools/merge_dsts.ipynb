{
 "cells": [
  {
   "cell_type": "markdown",
   "metadata": {},
   "source": [
    "### Notebook configuration"
   ]
  },
  {
   "cell_type": "code",
   "execution_count": 1,
   "metadata": {
    "collapsed": true
   },
   "outputs": [],
   "source": [
    "run_number          = 5548\n",
    "input_dst_filenames = f\"$IC_DATA/runiii/dsts/{run_number}/run_{run_number}_*_dst.h5\"\n",
    "output_dst_filename = f\"$IC_DATA/Kr/dst_{run_number}.root.h5\""
   ]
  },
  {
   "cell_type": "markdown",
   "metadata": {},
   "source": [
    "### Imports"
   ]
  },
  {
   "cell_type": "code",
   "execution_count": 2,
   "metadata": {
    "collapsed": true
   },
   "outputs": [],
   "source": [
    "import os\n",
    "import glob\n",
    "\n",
    "import numpy  as np\n",
    "import tables as tb\n",
    "\n",
    "import invisible_cities.io.dst_io as dstio"
   ]
  },
  {
   "cell_type": "markdown",
   "metadata": {},
   "source": [
    "### Initialization"
   ]
  },
  {
   "cell_type": "code",
   "execution_count": 3,
   "metadata": {
    "collapsed": true
   },
   "outputs": [],
   "source": [
    "input_dst_filenames = os.path.expandvars(input_dst_filenames)\n",
    "output_dst_filename = os.path.expandvars(output_dst_filename)"
   ]
  },
  {
   "cell_type": "code",
   "execution_count": 4,
   "metadata": {
    "collapsed": true
   },
   "outputs": [],
   "source": [
    "column_map = dict(\n",
    "evt = \"event\",\n",
    "tsp = \"time\",\n",
    "\n",
    "ns1 = \"nS1\",\n",
    "es1 = \"S1e\",\n",
    "hs1 = \"S1h\",\n",
    "ws1 = \"S1w\",\n",
    "ts1 = \"S1t\",\n",
    "\n",
    "ns2 = \"nS2\",\n",
    "es2 = \"S2e\",\n",
    "hs2 = \"S2h\",\n",
    "ws2 = \"S2w\",\n",
    "ts2 = \"S2t\",\n",
    "qs2 = \"S2q\",\n",
    "xs2 = \"X\",\n",
    "ys2 = \"Y\",\n",
    "nsi = \"Nsipm\",\n",
    ")"
   ]
  },
  {
   "cell_type": "markdown",
   "metadata": {},
   "source": [
    "### Load dsts"
   ]
  },
  {
   "cell_type": "code",
   "execution_count": 5,
   "metadata": {
    "collapsed": true
   },
   "outputs": [],
   "source": [
    "dst = dstio.load_dsts(glob.glob(input_dst_filenames), \"DST\", \"Events\")"
   ]
  },
  {
   "cell_type": "markdown",
   "metadata": {},
   "source": [
    "### Rename columns"
   ]
  },
  {
   "cell_type": "code",
   "execution_count": 6,
   "metadata": {
    "collapsed": true
   },
   "outputs": [],
   "source": [
    "dst = dst.rename(columns=column_map)"
   ]
  },
  {
   "cell_type": "markdown",
   "metadata": {},
   "source": [
    "### Delete index column"
   ]
  },
  {
   "cell_type": "code",
   "execution_count": 7,
   "metadata": {
    "collapsed": true
   },
   "outputs": [],
   "source": [
    "del dst[\"index\"]"
   ]
  },
  {
   "cell_type": "markdown",
   "metadata": {},
   "source": [
    "### Add missing columns"
   ]
  },
  {
   "cell_type": "code",
   "execution_count": 8,
   "metadata": {
    "collapsed": true
   },
   "outputs": [],
   "source": [
    "dst[\"S2h\"]  = 0\n",
    "\n",
    "dst[\"DT\"]   = dst.S2t - dst.S1t\n",
    "dst[\"Z\"]    = dst.DT\n",
    "dst[\"R\"]    = (dst.X**2 + dst.Y**2)**0.5\n",
    "dst[\"Phi\"]  = np.arctan2(dst.Y, dst.X)\n",
    "\n",
    "dst[\"Xrms\"] = 0\n",
    "dst[\"Yrms\"] = 0"
   ]
  },
  {
   "cell_type": "markdown",
   "metadata": {},
   "source": [
    "### Filter out multiple-S1 events"
   ]
  },
  {
   "cell_type": "code",
   "execution_count": 9,
   "metadata": {},
   "outputs": [
    {
     "name": "stdout",
     "output_type": "stream",
     "text": [
      "Total number of events: 144015 \n",
      "Total number of events with 1 S1: 46732 = 32.4 %\n"
     ]
    }
   ],
   "source": [
    "one_S1 = dst.nS1 == 1\n",
    "\n",
    "number_of_evts  = np.unique(dst.event.values).size\n",
    "number_of_oneS1 = np.count_nonzero(one_S1)\n",
    "percentage      = 100 * number_of_oneS1 / number_of_evts\n",
    "\n",
    "print(f\"Total number of events: {number_of_evts} \")\n",
    "print(f\"Total number of events with 1 S1: {number_of_oneS1} = {percentage:.1f} %\")"
   ]
  },
  {
   "cell_type": "markdown",
   "metadata": {},
   "source": [
    "### Create new dst"
   ]
  },
  {
   "cell_type": "code",
   "execution_count": 10,
   "metadata": {
    "collapsed": true
   },
   "outputs": [],
   "source": [
    "# Unfortunately, this method can't set a specific name to the table or its title.\n",
    "# It also includes an extra column (\"index\") which I can't manage to remove.\n",
    "subdst = dst[one_S1]\n",
    "subdst.to_hdf(output_dst_filename,\n",
    "              key     = \"DST\"  , mode         = \"w\",\n",
    "              format  = \"table\", data_columns = True,\n",
    "              complib = \"zlib\" , complevel    = 4)\n",
    "\n",
    "# Workaround to re-establish the name of the table and its title\n",
    "with tb.open_file(output_dst_filename, \"r+\") as f:\n",
    "    f.rename_node(f.root.DST.table, \"Events\")\n",
    "    f.root.DST.Events.title = \"Events\""
   ]
  }
 ],
 "metadata": {
  "kernelspec": {
   "display_name": "Python 3",
   "language": "python",
   "name": "python3"
  },
  "language_info": {
   "codemirror_mode": {
    "name": "ipython",
    "version": 3
   },
   "file_extension": ".py",
   "mimetype": "text/x-python",
   "name": "python",
   "nbconvert_exporter": "python",
   "pygments_lexer": "ipython3",
   "version": "3.7.1"
  }
 },
 "nbformat": 4,
 "nbformat_minor": 2
}
