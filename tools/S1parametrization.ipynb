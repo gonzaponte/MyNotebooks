{
 "cells": [
  {
   "cell_type": "markdown",
   "metadata": {},
   "source": [
    "# Configuration"
   ]
  },
  {
   "cell_type": "code",
   "execution_count": 20,
   "metadata": {},
   "outputs": [],
   "source": [
    "n_phi_sectors        = 9\n",
    "polynomial_degree_dr = 4\n",
    "polynomial_degree_z  = 4\n",
    "\n",
    "n_photons = 1e7\n",
    "#n_photons = 3e6\n",
    "#n_photons = 1e6\n",
    "#n_photons = 3e5\n",
    "#n_photons = 1e5\n",
    "\n",
    "z_min =   0\n",
    "z_max = 550\n",
    "r_max = 217.5\n",
    "r_max = 300\n",
    "r_max = 195"
   ]
  },
  {
   "cell_type": "markdown",
   "metadata": {},
   "source": [
    "# Setup"
   ]
  },
  {
   "cell_type": "code",
   "execution_count": 21,
   "metadata": {
    "collapsed": true
   },
   "outputs": [],
   "source": [
    "import os\n",
    "import shutil\n",
    "import collections\n",
    "\n",
    "import numpy             as np\n",
    "import pandas            as pd\n",
    "import matplotlib.pyplot as plt\n",
    "\n",
    "import invisible_cities.core .core_functions as coref\n",
    "import invisible_cities.core . fit_functions as  fitf\n",
    "import invisible_cities.icaro. hst_functions as  hstf"
   ]
  },
  {
   "cell_type": "code",
   "execution_count": 22,
   "metadata": {},
   "outputs": [],
   "source": [
    "profile = collections.namedtuple(\"profile\", \"x y u\")"
   ]
  },
  {
   "cell_type": "code",
   "execution_count": 23,
   "metadata": {
    "collapsed": true
   },
   "outputs": [],
   "source": [
    "%matplotlib inline\n",
    "\n",
    "plt.rcParams[\"figure.figsize\"] = 12, 8\n",
    "plt.rcParams[  \"font.size\"   ] = 15"
   ]
  },
  {
   "cell_type": "code",
   "execution_count": 24,
   "metadata": {
    "collapsed": true
   },
   "outputs": [],
   "source": [
    "path_tables         = \"/Volumes/SAMSUNG/NEWtables/S1/\"\n",
    "filename            = os.path.join(path_tables, \"S1_old\" , \"S1table.dat\")\n",
    "filename            = os.path.join(path_tables, \"S1_aug\" , \"S1table.dat\")\n",
    "#filename            = os.path.join(path_tables, \"S1_fnal\", \"S1table.dat\")\n",
    "filename_pmt_map    = os.path.join(path_tables,        \"pmt_mapping.dat\")\n",
    "filename_active_map = os.path.join(path_tables,     \"active_mapping.dat\")"
   ]
  },
  {
   "cell_type": "code",
   "execution_count": 25,
   "metadata": {},
   "outputs": [],
   "source": [
    "def load_df(filename, df_active, df_pmt, zmin=0, zmax=530, rmax=205, nphi=9):\n",
    "    two_pi   = 2 * np.pi\n",
    "\n",
    "    df_table = pd.DataFrame.from_csv(filename, sep=\" \", index_col=None)\n",
    "    x_active = df_table. PointID.map(df_active.X)\n",
    "    y_active = df_table. PointID.map(df_active.Y)\n",
    "    z_active = df_table. PointID.map(df_active.Z)\n",
    "    x_pmt    = df_table.SensorID.map(df_pmt   .X)\n",
    "    y_pmt    = df_table.SensorID.map(df_pmt   .Y)\n",
    "    phi      = df_table.SensorID.map(df_pmt   .Phi)\n",
    "    s        = np.sin(phi)\n",
    "    c        = np.cos(phi)\n",
    "    dx       = x_active - x_pmt\n",
    "    dy       = y_active - y_pmt\n",
    "    r_active = np.sqrt(x_active**2 + y_active**2)\n",
    "\n",
    "    df_table[\"Prob\"      ] = df_table.Prob * 100\n",
    "    df_table[\"Ring\"      ] = df_table.SensorID.map(df_pmt.Corona)\n",
    "    df_table[\"Uncert\"    ] = np.clip(np.sqrt(df_table.Prob / n_photons), 5/n_photons, np.inf)\n",
    "    df_table[\"dR\"        ] = np.sqrt(dx**2 + dy**2)\n",
    "    df_table[\"dPhi\"      ] = (np.arctan2(dy, dx) - phi + two_pi) % two_pi\n",
    "    df_table[\"dPhi_index\"] = dphi_to_index(df_table.dPhi, nphi)\n",
    "    df_table[\"X\"         ] = x_active \n",
    "    df_table[\"Y\"         ] = y_active \n",
    "    df_table[\"Z\"         ] = z_active \n",
    "    df_table[\"R\"         ] = r_active \n",
    "\n",
    "    new_columns = [\"PointID\", \"SensorID\", \"Ring\", \"dR\", \"dPhi\", \"X\", \"Y\", \"Z\", \"dPhi_index\", \"R\", \"Prob\", \"Uncert\"]\n",
    "    df_table    = df_table[df_table.R <= rmax]\n",
    "    df_table    = df_table[df_table.Z >= zmin]\n",
    "    df_table    = df_table[df_table.Z <= zmax]\n",
    "    df_table    = df_table.reindex(columns = new_columns)\n",
    "    df_table.sort_values(\"SensorID\")\n",
    "    return df_table\n",
    "\n",
    "def dphi_to_index(dphi, n_sectors):\n",
    "    dphi_sector_width = np.pi / n_sectors\n",
    "    dphi = np.where(dphi > np.pi, 2 * np.pi - dphi, dphi)\n",
    "    return (dphi // dphi_sector_width).astype(int)\n",
    "\n",
    "def generate_seed(degree, ydata):\n",
    "    return (1,) * degree + (np.mean(ydata),)\n",
    "    "
   ]
  },
  {
   "cell_type": "code",
   "execution_count": 26,
   "metadata": {
    "scrolled": false
   },
   "outputs": [],
   "source": [
    "pmt      = pd.DataFrame.from_csv(filename_pmt_map   , sep=\" \", index_col=0)\n",
    "active   = pd.DataFrame.from_csv(filename_active_map, sep=\" \", index_col=0)\n",
    "df_table = load_df(filename, active, pmt, zmin=z_min, zmax=z_max, rmax=r_max, nphi=n_phi_sectors)"
   ]
  },
  {
   "cell_type": "code",
   "execution_count": 27,
   "metadata": {},
   "outputs": [],
   "source": [
    "xy_binning = (np.arange(np.min(active.X) - 10, np.max(active.X) + 20 + 1, 10),\n",
    "              np.arange(np.min(active.Y) - 10, np.max(active.Y) + 20 + 1, 10))\n",
    "z_binning = np.arange(np.min(active.Z) - 1e-5, np.max(active.Z) + 1 + 1e-5, 10)"
   ]
  },
  {
   "cell_type": "code",
   "execution_count": 28,
   "metadata": {},
   "outputs": [
    {
     "data": {
      "text/html": [
       "<div>\n",
       "<style>\n",
       "    .dataframe thead tr:only-child th {\n",
       "        text-align: right;\n",
       "    }\n",
       "\n",
       "    .dataframe thead th {\n",
       "        text-align: left;\n",
       "    }\n",
       "\n",
       "    .dataframe tbody tr th {\n",
       "        vertical-align: top;\n",
       "    }\n",
       "</style>\n",
       "<table border=\"1\" class=\"dataframe\">\n",
       "  <thead>\n",
       "    <tr style=\"text-align: right;\">\n",
       "      <th></th>\n",
       "      <th>PointID</th>\n",
       "      <th>SensorID</th>\n",
       "      <th>Ring</th>\n",
       "      <th>dR</th>\n",
       "      <th>dPhi</th>\n",
       "      <th>X</th>\n",
       "      <th>Y</th>\n",
       "      <th>Z</th>\n",
       "      <th>dPhi_index</th>\n",
       "      <th>R</th>\n",
       "      <th>Prob</th>\n",
       "      <th>Uncert</th>\n",
       "    </tr>\n",
       "  </thead>\n",
       "  <tbody>\n",
       "    <tr>\n",
       "      <th>12</th>\n",
       "      <td>1</td>\n",
       "      <td>0</td>\n",
       "      <td>0</td>\n",
       "      <td>331.397623</td>\n",
       "      <td>2.178059</td>\n",
       "      <td>-215</td>\n",
       "      <td>-205</td>\n",
       "      <td>0</td>\n",
       "      <td>6</td>\n",
       "      <td>297.069016</td>\n",
       "      <td>0.000023</td>\n",
       "      <td>0.000002</td>\n",
       "    </tr>\n",
       "    <tr>\n",
       "      <th>13</th>\n",
       "      <td>1</td>\n",
       "      <td>1</td>\n",
       "      <td>0</td>\n",
       "      <td>227.632669</td>\n",
       "      <td>6.138021</td>\n",
       "      <td>-215</td>\n",
       "      <td>-205</td>\n",
       "      <td>0</td>\n",
       "      <td>0</td>\n",
       "      <td>297.069016</td>\n",
       "      <td>0.000022</td>\n",
       "      <td>0.000001</td>\n",
       "    </tr>\n",
       "    <tr>\n",
       "      <th>14</th>\n",
       "      <td>1</td>\n",
       "      <td>2</td>\n",
       "      <td>0</td>\n",
       "      <td>343.233122</td>\n",
       "      <td>3.912743</td>\n",
       "      <td>-215</td>\n",
       "      <td>-205</td>\n",
       "      <td>0</td>\n",
       "      <td>6</td>\n",
       "      <td>297.069016</td>\n",
       "      <td>0.000021</td>\n",
       "      <td>0.000001</td>\n",
       "    </tr>\n",
       "    <tr>\n",
       "      <th>15</th>\n",
       "      <td>1</td>\n",
       "      <td>3</td>\n",
       "      <td>1</td>\n",
       "      <td>445.336951</td>\n",
       "      <td>2.637766</td>\n",
       "      <td>-215</td>\n",
       "      <td>-205</td>\n",
       "      <td>0</td>\n",
       "      <td>7</td>\n",
       "      <td>297.069016</td>\n",
       "      <td>0.000016</td>\n",
       "      <td>0.000001</td>\n",
       "    </tr>\n",
       "    <tr>\n",
       "      <th>16</th>\n",
       "      <td>1</td>\n",
       "      <td>4</td>\n",
       "      <td>1</td>\n",
       "      <td>359.785362</td>\n",
       "      <td>2.173119</td>\n",
       "      <td>-215</td>\n",
       "      <td>-205</td>\n",
       "      <td>0</td>\n",
       "      <td>6</td>\n",
       "      <td>297.069016</td>\n",
       "      <td>0.000016</td>\n",
       "      <td>0.000001</td>\n",
       "    </tr>\n",
       "  </tbody>\n",
       "</table>\n",
       "</div>"
      ],
      "text/plain": [
       "    PointID  SensorID  Ring          dR      dPhi    X    Y  Z  dPhi_index  \\\n",
       "12        1         0     0  331.397623  2.178059 -215 -205  0           6   \n",
       "13        1         1     0  227.632669  6.138021 -215 -205  0           0   \n",
       "14        1         2     0  343.233122  3.912743 -215 -205  0           6   \n",
       "15        1         3     1  445.336951  2.637766 -215 -205  0           7   \n",
       "16        1         4     1  359.785362  2.173119 -215 -205  0           6   \n",
       "\n",
       "             R      Prob    Uncert  \n",
       "12  297.069016  0.000023  0.000002  \n",
       "13  297.069016  0.000022  0.000001  \n",
       "14  297.069016  0.000021  0.000001  \n",
       "15  297.069016  0.000016  0.000001  \n",
       "16  297.069016  0.000016  0.000001  "
      ]
     },
     "execution_count": 28,
     "metadata": {},
     "output_type": "execute_result"
    }
   ],
   "source": [
    "df_table.head()"
   ]
  },
  {
   "cell_type": "code",
   "execution_count": 29,
   "metadata": {},
   "outputs": [
    {
     "data": {
      "text/plain": [
       "<matplotlib.text.Text at 0x1130235f8>"
      ]
     },
     "execution_count": 29,
     "metadata": {},
     "output_type": "execute_result"
    },
    {
     "data": {
      "image/png": "[encoded data removed]",
      "text/plain": [
       "<matplotlib.figure.Figure at 0x1125cef98>"
      ]
     },
     "metadata": {},
     "output_type": "display_data"
    }
   ],
   "source": [
    "sel  = df_table.SensorID ==  0\n",
    "sel &= df_table.dR       <  50\n",
    "df   = df_table[sel].copy()\n",
    "df.Prob *= 1e3\n",
    "gb   = df.groupby(\"Z\")\n",
    "plt.errorbar(gb.Z.mean(), gb.Prob.mean(), gb.Prob.std(), fmt=\"pk\")\n",
    "plt.ylim(gb.Prob.min().min() * 0.9, gb.Prob.max().max() * 1.1)\n",
    "plt.xlabel(\"z (mm)\")\n",
    "plt.ylabel(\"Average photon detection probability / 1e3\")"
   ]
  },
  {
   "cell_type": "code",
   "execution_count": 30,
   "metadata": {},
   "outputs": [
    {
     "data": {
      "text/plain": [
       "<matplotlib.text.Text at 0x1130786d8>"
      ]
     },
     "execution_count": 30,
     "metadata": {},
     "output_type": "execute_result"
    },
    {
     "data": {
      "image/png": "[encoded data removed]",
      "text/plain": [
       "<matplotlib.figure.Figure at 0x1125ce128>"
      ]
     },
     "metadata": {},
     "output_type": "display_data"
    }
   ],
   "source": [
    "sel  = df_table.SensorID ==   0\n",
    "sel &= df_table.Z        == 530\n",
    "\n",
    "xy_binning = (np.arange(np.min(active.X) + 25  , np.max(active.X) - 25 + 1, 10),\n",
    "              np.arange(np.min(active.Y) + 25  , np.max(active.Y) - 25 + 1, 10))\n",
    "\n",
    "df   = df_table[sel].copy()\n",
    "df.Prob *= 1e3\n",
    "gb   = df.groupby([\"X\", \"Y\"])\n",
    "plt.hist2d(gb.X.mean(), gb.Y.mean(), bins=xy_binning,\n",
    "           weights = gb.Prob.mean(),\n",
    "           cmin    = gb.Prob.min ().min())\n",
    "plt.colorbar().set_label(\"Photon detection probability / 1e3\")\n",
    "\n",
    "thispmt = pmt[pmt.index == 0]\n",
    "plt.scatter(thispmt.X, thispmt.Y, s=50, marker=\"x\", c=\"r\")\n",
    "plt.xlabel(\"x (mm)\")\n",
    "plt.ylabel(\"y (mm)\")"
   ]
  },
  {
   "cell_type": "code",
   "execution_count": 31,
   "metadata": {},
   "outputs": [
    {
     "data": {
      "text/html": [
       "<div>\n",
       "<style>\n",
       "    .dataframe thead tr:only-child th {\n",
       "        text-align: right;\n",
       "    }\n",
       "\n",
       "    .dataframe thead th {\n",
       "        text-align: left;\n",
       "    }\n",
       "\n",
       "    .dataframe tbody tr th {\n",
       "        vertical-align: top;\n",
       "    }\n",
       "</style>\n",
       "<table border=\"1\" class=\"dataframe\">\n",
       "  <thead>\n",
       "    <tr style=\"text-align: right;\">\n",
       "      <th></th>\n",
       "      <th>X</th>\n",
       "      <th>Y</th>\n",
       "      <th>R</th>\n",
       "      <th>Phi</th>\n",
       "      <th>Corona</th>\n",
       "    </tr>\n",
       "    <tr>\n",
       "      <th>SensorID</th>\n",
       "      <th></th>\n",
       "      <th></th>\n",
       "      <th></th>\n",
       "      <th></th>\n",
       "      <th></th>\n",
       "    </tr>\n",
       "  </thead>\n",
       "  <tbody>\n",
       "    <tr>\n",
       "      <th>0</th>\n",
       "      <td>-23.9414</td>\n",
       "      <td>65.7785</td>\n",
       "      <td>70.000012</td>\n",
       "      <td>1.919862</td>\n",
       "      <td>0</td>\n",
       "    </tr>\n",
       "    <tr>\n",
       "      <th>1</th>\n",
       "      <td>-44.9951</td>\n",
       "      <td>-53.6231</td>\n",
       "      <td>69.999971</td>\n",
       "      <td>-2.268928</td>\n",
       "      <td>0</td>\n",
       "    </tr>\n",
       "    <tr>\n",
       "      <th>2</th>\n",
       "      <td>68.9365</td>\n",
       "      <td>-12.1554</td>\n",
       "      <td>69.999963</td>\n",
       "      <td>-0.174533</td>\n",
       "      <td>0</td>\n",
       "    </tr>\n",
       "    <tr>\n",
       "      <th>3</th>\n",
       "      <td>-0.0000</td>\n",
       "      <td>185.0000</td>\n",
       "      <td>185.000000</td>\n",
       "      <td>1.570796</td>\n",
       "      <td>1</td>\n",
       "    </tr>\n",
       "    <tr>\n",
       "      <th>4</th>\n",
       "      <td>-118.9160</td>\n",
       "      <td>141.7180</td>\n",
       "      <td>185.000018</td>\n",
       "      <td>2.268930</td>\n",
       "      <td>1</td>\n",
       "    </tr>\n",
       "    <tr>\n",
       "      <th>5</th>\n",
       "      <td>-182.1890</td>\n",
       "      <td>32.1249</td>\n",
       "      <td>184.999570</td>\n",
       "      <td>2.967059</td>\n",
       "      <td>1</td>\n",
       "    </tr>\n",
       "    <tr>\n",
       "      <th>6</th>\n",
       "      <td>-160.2150</td>\n",
       "      <td>-92.5000</td>\n",
       "      <td>185.000260</td>\n",
       "      <td>-2.617995</td>\n",
       "      <td>1</td>\n",
       "    </tr>\n",
       "    <tr>\n",
       "      <th>7</th>\n",
       "      <td>-63.2737</td>\n",
       "      <td>-173.8430</td>\n",
       "      <td>184.999864</td>\n",
       "      <td>-1.919862</td>\n",
       "      <td>1</td>\n",
       "    </tr>\n",
       "    <tr>\n",
       "      <th>8</th>\n",
       "      <td>63.2737</td>\n",
       "      <td>-173.8430</td>\n",
       "      <td>184.999864</td>\n",
       "      <td>-1.221730</td>\n",
       "      <td>1</td>\n",
       "    </tr>\n",
       "    <tr>\n",
       "      <th>9</th>\n",
       "      <td>160.2150</td>\n",
       "      <td>-92.5000</td>\n",
       "      <td>185.000260</td>\n",
       "      <td>-0.523598</td>\n",
       "      <td>1</td>\n",
       "    </tr>\n",
       "    <tr>\n",
       "      <th>10</th>\n",
       "      <td>182.1890</td>\n",
       "      <td>32.1249</td>\n",
       "      <td>184.999570</td>\n",
       "      <td>0.174533</td>\n",
       "      <td>1</td>\n",
       "    </tr>\n",
       "    <tr>\n",
       "      <th>11</th>\n",
       "      <td>118.9160</td>\n",
       "      <td>141.7180</td>\n",
       "      <td>185.000018</td>\n",
       "      <td>0.872663</td>\n",
       "      <td>1</td>\n",
       "    </tr>\n",
       "  </tbody>\n",
       "</table>\n",
       "</div>"
      ],
      "text/plain": [
       "                 X         Y           R       Phi  Corona\n",
       "SensorID                                                  \n",
       "0         -23.9414   65.7785   70.000012  1.919862       0\n",
       "1         -44.9951  -53.6231   69.999971 -2.268928       0\n",
       "2          68.9365  -12.1554   69.999963 -0.174533       0\n",
       "3          -0.0000  185.0000  185.000000  1.570796       1\n",
       "4        -118.9160  141.7180  185.000018  2.268930       1\n",
       "5        -182.1890   32.1249  184.999570  2.967059       1\n",
       "6        -160.2150  -92.5000  185.000260 -2.617995       1\n",
       "7         -63.2737 -173.8430  184.999864 -1.919862       1\n",
       "8          63.2737 -173.8430  184.999864 -1.221730       1\n",
       "9         160.2150  -92.5000  185.000260 -0.523598       1\n",
       "10        182.1890   32.1249  184.999570  0.174533       1\n",
       "11        118.9160  141.7180  185.000018  0.872663       1"
      ]
     },
     "execution_count": 31,
     "metadata": {},
     "output_type": "execute_result"
    }
   ],
   "source": [
    "pmt"
   ]
  },
  {
   "cell_type": "code",
   "execution_count": 32,
   "metadata": {},
   "outputs": [
    {
     "data": {
      "text/html": [
       "<div>\n",
       "<style>\n",
       "    .dataframe thead tr:only-child th {\n",
       "        text-align: right;\n",
       "    }\n",
       "\n",
       "    .dataframe thead th {\n",
       "        text-align: left;\n",
       "    }\n",
       "\n",
       "    .dataframe tbody tr th {\n",
       "        vertical-align: top;\n",
       "    }\n",
       "</style>\n",
       "<table border=\"1\" class=\"dataframe\">\n",
       "  <thead>\n",
       "    <tr style=\"text-align: right;\">\n",
       "      <th></th>\n",
       "      <th>X</th>\n",
       "      <th>Y</th>\n",
       "      <th>Z</th>\n",
       "    </tr>\n",
       "    <tr>\n",
       "      <th>PointID</th>\n",
       "      <th></th>\n",
       "      <th></th>\n",
       "      <th></th>\n",
       "    </tr>\n",
       "  </thead>\n",
       "  <tbody>\n",
       "    <tr>\n",
       "      <th>0</th>\n",
       "      <td>-215</td>\n",
       "      <td>-215</td>\n",
       "      <td>0</td>\n",
       "    </tr>\n",
       "    <tr>\n",
       "      <th>1</th>\n",
       "      <td>-215</td>\n",
       "      <td>-205</td>\n",
       "      <td>0</td>\n",
       "    </tr>\n",
       "    <tr>\n",
       "      <th>2</th>\n",
       "      <td>-215</td>\n",
       "      <td>-195</td>\n",
       "      <td>0</td>\n",
       "    </tr>\n",
       "    <tr>\n",
       "      <th>3</th>\n",
       "      <td>-215</td>\n",
       "      <td>-185</td>\n",
       "      <td>0</td>\n",
       "    </tr>\n",
       "    <tr>\n",
       "      <th>4</th>\n",
       "      <td>-215</td>\n",
       "      <td>-175</td>\n",
       "      <td>0</td>\n",
       "    </tr>\n",
       "  </tbody>\n",
       "</table>\n",
       "</div>"
      ],
      "text/plain": [
       "           X    Y  Z\n",
       "PointID             \n",
       "0       -215 -215  0\n",
       "1       -215 -205  0\n",
       "2       -215 -195  0\n",
       "3       -215 -185  0\n",
       "4       -215 -175  0"
      ]
     },
     "execution_count": 32,
     "metadata": {},
     "output_type": "execute_result"
    }
   ],
   "source": [
    "active.head()"
   ]
  },
  {
   "cell_type": "markdown",
   "metadata": {},
   "source": [
    "# Control plots"
   ]
  },
  {
   "cell_type": "code",
   "execution_count": 33,
   "metadata": {},
   "outputs": [
    {
     "data": {
      "image/png": "[encoded data removed]",
      "text/plain": [
       "<matplotlib.figure.Figure at 0x1125a6d68>"
      ]
     },
     "metadata": {},
     "output_type": "display_data"
    }
   ],
   "source": [
    "plt.scatter(pmt.X, pmt.Y, s=0)\n",
    "for pmt_no, row in pmt.iterrows():\n",
    "    plt.text(row.X, row.Y, str(int(pmt_no)))\n",
    "plt.xlabel(\"x (mm)\")\n",
    "plt.ylabel(\"y (mm)\")\n",
    "plt.title (\"PMT positions\");"
   ]
  },
  {
   "cell_type": "code",
   "execution_count": 34,
   "metadata": {},
   "outputs": [
    {
     "data": {
      "image/png": "[encoded data removed]",
      "text/plain": [
       "<matplotlib.figure.Figure at 0x1125a6f60>"
      ]
     },
     "metadata": {},
     "output_type": "display_data"
    }
   ],
   "source": [
    "plt.scatter(pmt.X, pmt.Y, s=0)\n",
    "for pmt_no, row in pmt.iterrows():\n",
    "    plt.text(row.X, row.Y, str(int(row.Corona)))\n",
    "plt.xlabel(\"x (mm)\")\n",
    "plt.ylabel(\"y (mm)\")\n",
    "plt.title (\"PMT ring\");"
   ]
  },
  {
   "cell_type": "code",
   "execution_count": 35,
   "metadata": {},
   "outputs": [
    {
     "data": {
      "image/png": "[encoded data removed]",
      "text/plain": [
       "<matplotlib.figure.Figure at 0x112d5edd8>"
      ]
     },
     "metadata": {},
     "output_type": "display_data"
    }
   ],
   "source": [
    "plt.figure(figsize=(24, 12))\n",
    "plt.subplot(1, 2, 1)\n",
    "plt.hist2d(active.X, active.Y, xy_binning, cmap=\"Greens\")\n",
    "plt.xlabel(\"x (mm)\")\n",
    "plt.ylabel(\"y (mm)\")\n",
    "plt.title (\"active points xy position\")\n",
    "\n",
    "plt.subplot(1, 2, 2)\n",
    "plt.hist(active.Z, z_binning, histtype=\"step\", color=\"k\", lw=3)\n",
    "plt.xlabel(\"z (mm)\")\n",
    "plt.title (\"active points z position\");"
   ]
  },
  {
   "cell_type": "code",
   "execution_count": 36,
   "metadata": {},
   "outputs": [
    {
     "data": {
      "image/png": "[encoded data removed]",
      "text/plain": [
       "<matplotlib.figure.Figure at 0x1115a0390>"
      ]
     },
     "metadata": {},
     "output_type": "display_data"
    }
   ],
   "source": [
    "bins = np.linspace(active.index.min(), active.index.max(), 201)\n",
    "\n",
    "weights = np.ones(len(active)) / len(active)\n",
    "plt.hist(active.index, bins=bins, weights=weights, color=\"k\", histtype=\"step\", lw=3, label=\"true\")\n",
    "\n",
    "weights = np.ones(len(df_table)) / len(df_table)\n",
    "plt.hist(df_table.PointID, bins=bins, weights=weights, color=\"m\", histtype=\"step\", lw=3, label=\"simulation\")\n",
    "\n",
    "plt.legend()\n",
    "plt.xlabel(\"Active point ID\")\n",
    "plt.ylabel(\"\")\n",
    "plt.title (\"Active point ID distribution\");"
   ]
  },
  {
   "cell_type": "code",
   "execution_count": 37,
   "metadata": {},
   "outputs": [
    {
     "ename": "IndexError",
     "evalue": "index 5 is out of bounds for axis 0 with size 0",
     "output_type": "error",
     "traceback": [
      "\u001b[0;31m---------------------------------------------------------------------------\u001b[0m",
      "\u001b[0;31mIndexError\u001b[0m                                Traceback (most recent call last)",
      "\u001b[0;32m<ipython-input-37-09fdedcccaab>\u001b[0m in \u001b[0;36m<module>\u001b[0;34m()\u001b[0m\n\u001b[1;32m      4\u001b[0m \u001b[0my\u001b[0m\u001b[0;34m,\u001b[0m \u001b[0mx\u001b[0m\u001b[0;34m,\u001b[0m \u001b[0m_\u001b[0m \u001b[0;34m=\u001b[0m \u001b[0mplt\u001b[0m\u001b[0;34m.\u001b[0m\u001b[0mhist\u001b[0m\u001b[0;34m(\u001b[0m\u001b[0mdf_table\u001b[0m\u001b[0;34m.\u001b[0m\u001b[0mProb\u001b[0m\u001b[0;34m,\u001b[0m \u001b[0mbins\u001b[0m \u001b[0;34m=\u001b[0m \u001b[0mbins\u001b[0m\u001b[0;34m,\u001b[0m \u001b[0mweights\u001b[0m \u001b[0;34m=\u001b[0m \u001b[0mweights\u001b[0m\u001b[0;34m,\u001b[0m \u001b[0mcolor\u001b[0m\u001b[0;34m=\u001b[0m\u001b[0;34m\"k\"\u001b[0m\u001b[0;34m,\u001b[0m \u001b[0mhisttype\u001b[0m\u001b[0;34m=\u001b[0m\u001b[0;34m\"step\"\u001b[0m\u001b[0;34m,\u001b[0m \u001b[0mlw\u001b[0m\u001b[0;34m=\u001b[0m\u001b[0;36m3\u001b[0m\u001b[0;34m)\u001b[0m\u001b[0;34m\u001b[0m\u001b[0m\n\u001b[1;32m      5\u001b[0m \u001b[0;34m\u001b[0m\u001b[0m\n\u001b[0;32m----> 6\u001b[0;31m \u001b[0mcut\u001b[0m \u001b[0;34m=\u001b[0m \u001b[0mx\u001b[0m\u001b[0;34m[\u001b[0m\u001b[0;34m:\u001b[0m\u001b[0;34m-\u001b[0m\u001b[0;36m1\u001b[0m\u001b[0;34m]\u001b[0m\u001b[0;34m[\u001b[0m\u001b[0my\u001b[0m \u001b[0;34m==\u001b[0m \u001b[0;36m0\u001b[0m\u001b[0;34m]\u001b[0m\u001b[0;34m[\u001b[0m\u001b[0;36m5\u001b[0m\u001b[0;34m]\u001b[0m\u001b[0;34m\u001b[0m\u001b[0m\n\u001b[0m\u001b[1;32m      7\u001b[0m \u001b[0mplt\u001b[0m\u001b[0;34m.\u001b[0m\u001b[0mplot\u001b[0m\u001b[0;34m(\u001b[0m\u001b[0;34m[\u001b[0m\u001b[0mcut\u001b[0m\u001b[0;34m,\u001b[0m \u001b[0mcut\u001b[0m\u001b[0;34m]\u001b[0m\u001b[0;34m,\u001b[0m \u001b[0mplt\u001b[0m\u001b[0;34m.\u001b[0m\u001b[0mylim\u001b[0m\u001b[0;34m(\u001b[0m\u001b[0;34m)\u001b[0m\u001b[0;34m,\u001b[0m \u001b[0;34m\"r-\"\u001b[0m\u001b[0;34m,\u001b[0m \u001b[0mlw\u001b[0m\u001b[0;34m=\u001b[0m\u001b[0;36m3\u001b[0m\u001b[0;34m)\u001b[0m\u001b[0;34m\u001b[0m\u001b[0m\n\u001b[1;32m      8\u001b[0m plt.arrow(cut, np.mean(plt.ylim()), cut, 0,\n",
      "\u001b[0;31mIndexError\u001b[0m: index 5 is out of bounds for axis 0 with size 0"
     ]
    },
    {
     "data": {
      "image/png": "[encoded data removed]",
      "text/plain": [
       "<matplotlib.figure.Figure at 0x112fd8be0>"
      ]
     },
     "metadata": {},
     "output_type": "display_data"
    }
   ],
   "source": [
    "bins    = np.linspace(0, max(df_table.Prob), 201)\n",
    "weights = np.ones(len(df_table)) / len(df_table)\n",
    "\n",
    "y, x, _ = plt.hist(df_table.Prob, bins = bins, weights = weights, color=\"k\", histtype=\"step\", lw=3)\n",
    "\n",
    "cut = x[:-1][y == 0][5]\n",
    "plt.plot([cut, cut], plt.ylim(), \"r-\", lw=3)\n",
    "plt.arrow(cut, np.mean(plt.ylim()), cut, 0,\n",
    "          color=\"r\", head_length=0.1*cut, head_width=0.1*np.mean(plt.ylim()))\n",
    "\n",
    "plt.xlabel(\"Photon detection probability\")\n",
    "plt.ylabel(\"Fraction of events\")\n",
    "plt.yscale(\"log\")"
   ]
  },
  {
   "cell_type": "markdown",
   "metadata": {},
   "source": [
    "# PMT parametrization"
   ]
  },
  {
   "cell_type": "code",
   "execution_count": 19,
   "metadata": {},
   "outputs": [
    {
     "name": "stdout",
     "output_type": "stream",
     "text": [
      "Selecting data with P > 7.921 · 10^-5\n"
     ]
    }
   ],
   "source": [
    "print(f\"Selecting data with P > {cut*1e5:.3f} · 10^{-5}\")\n",
    "df_table = df_table[df_table.Prob > cut]"
   ]
  },
  {
   "cell_type": "code",
   "execution_count": null,
   "metadata": {
    "collapsed": true
   },
   "outputs": [],
   "source": [
    "dr_binning   = np.linspace(0, df_table.dR.max() * 1.001, 101)\n",
    "dphi_binning = np.linspace(0, 2 * np.pi * 1.001, 101)\n",
    "p_binning    = np.linspace(0, np.max(df_table.Prob) * 1.001, 101)"
   ]
  },
  {
   "cell_type": "code",
   "execution_count": null,
   "metadata": {},
   "outputs": [],
   "source": [
    "plt.figure(figsize=(24, 12))\n",
    "\n",
    "for ring_no, ring in df_table[df_table.Z == z_max].groupby(\"Ring\"):\n",
    "    plt.subplot(1, 2, ring_no + 1)\n",
    "    x, y, z, u = fitf.profileXY(ring.dR, ring.dPhi, ring.Prob, dr_binning.size - 1, dphi_binning.size - 1,\n",
    "                                xrange = (  dr_binning[0],   dr_binning[-1]),\n",
    "                                yrange = (dphi_binning[0], dphi_binning[-1]))\n",
    "    *_, cb = hstf.display_matrix(x, y, z, new_figure=False,\n",
    "                                 cmap = \"jet\",\n",
    "                                 cmin = 1e-8,\n",
    "                                )\n",
    "    plt.xlabel(\"dr (mm)\")\n",
    "    plt.ylabel(\"d$\\phi$ (rad)\")\n",
    "    cb.set_label(\"Photon detection probability / 1e5\", rotation=-90, labelpad=20)"
   ]
  },
  {
   "cell_type": "code",
   "execution_count": null,
   "metadata": {},
   "outputs": [],
   "source": [
    "defaultdict         = collections.defaultdict\n",
    "dr_parametrizations = defaultdict(lambda: defaultdict(defaultdict))\n",
    "dr_coefficients     = defaultdict(lambda: defaultdict(defaultdict))\n",
    "dr_uncertainties    = defaultdict(lambda: defaultdict(defaultdict))\n",
    "dr_profiles         = defaultdict(lambda: defaultdict(defaultdict))\n",
    "dr_pulls            = defaultdict(lambda: defaultdict(defaultdict))\n",
    "dr_oks              = defaultdict(lambda: defaultdict(defaultdict))\n",
    "sub_dfs             = []\n",
    "empty_fun           = lambda x: np.zeros_like(x)\n",
    "empty_fun.fn        = empty_fun\n",
    "\n",
    "for (ring, dphi, z), data in df_table.groupby([\"Ring\", \"dPhi_index\", \"Z\"]):\n",
    "    dr = data.dR\n",
    "    p  = data.Prob\n",
    "    u  = data.Uncert\n",
    "    try:\n",
    "        if len(data) <= 4: raise TypeError\n",
    "        f  = fitf.fit(fitf.polynom, dr, p,\n",
    "                      generate_seed(polynomial_degree_dr, p),\n",
    "                      sigma=u, maxfev=int(1e5))\n",
    "        dr_oks = True\n",
    "\n",
    "        prediction = f.fn(dr)\n",
    "        pull       = (prediction - p) / (prediction / n_photons)**0.5\n",
    "\n",
    "        dr_parametrizations[ring][dphi][z] = f\n",
    "        dr_coefficients    [ring][dphi][z] = f.values\n",
    "        dr_uncertainties   [ring][dphi][z] = f.errors\n",
    "        dr_profiles        [ring][dphi][z] = profile(dr, p, u)\n",
    "        dr_pulls           [ring][dphi][z] = pull\n",
    "\n",
    "        ring = np.full(polynomial_degree_dr + 1, ring)\n",
    "        dphi = np.full(polynomial_degree_dr + 1, dphi)\n",
    "        z    = np.full(polynomial_degree_dr + 1,    z)\n",
    "        idx  = np.arange(polynomial_degree_dr + 1)\n",
    "\n",
    "        sub_df = pd.DataFrame(dict(ring=ring, dphi_index=dphi, z=z,\n",
    "                                   drc_index=idx,\n",
    "                                   coeff=f.values, uncert=f.errors))\n",
    "        sub_dfs.append(sub_df)\n",
    "    except TypeError as e:\n",
    "        dr_parametrizations[ring][dphi][z] = empty_fun\n",
    "        dr_coefficients    [ring][dphi][z] = np.zeros(polynomial_degree_dr)\n",
    "        dr_uncertainties   [ring][dphi][z] = np.zeros(polynomial_degree_dr)\n",
    "        dr_profiles        [ring][dphi][z] = profile(dr, p, u)\n",
    "        dr_pulls           [ring][dphi][z] = np.zeros_like(p)\n",
    "        df_oks                             = False\n",
    "\n",
    "dr_df = pd.concat(sub_dfs, ignore_index=True)"
   ]
  },
  {
   "cell_type": "code",
   "execution_count": null,
   "metadata": {},
   "outputs": [],
   "source": [
    "defaultdict        = collections.defaultdict\n",
    "z_parametrizations = defaultdict(lambda: defaultdict(defaultdict))\n",
    "z_coefficients     = defaultdict(lambda: defaultdict(defaultdict))\n",
    "z_uncertainties    = defaultdict(lambda: defaultdict(defaultdict))\n",
    "z_profiles         = defaultdict(lambda: defaultdict(defaultdict))\n",
    "sub_dfs           = []\n",
    "\n",
    "for (ring, dphi, ridx), data in dr_df.groupby([\"ring\", \"dphi_index\", \"drc_index\"]):\n",
    "    z  = data.z     \n",
    "    c  = data.coeff\n",
    "    u  = data.uncert\n",
    "    f  = fitf.fit(fitf.polynom, z, c, \n",
    "                  generate_seed(polynomial_degree_z, c),\n",
    "                  sigma=u, maxfev=int(1e6))\n",
    "\n",
    "    z_parametrizations[ring][dphi][ridx] = f\n",
    "    z_coefficients    [ring][dphi][ridx] = f.values\n",
    "    z_uncertainties   [ring][dphi][ridx] = f.errors\n",
    "    z_profiles        [ring][dphi][ridx] = profile(z, c, u)\n",
    "\n",
    "    ring = np.full(polynomial_degree_z + 1, ring)\n",
    "    dphi = np.full(polynomial_degree_z + 1, dphi)\n",
    "    ridx = np.full(polynomial_degree_z + 1, ridx)\n",
    "    zidx = np.arange(polynomial_degree_z + 1)\n",
    "\n",
    "    sub_df = pd.DataFrame(dict(ring=ring, dphi_index=dphi,\n",
    "                               drc_index=ridx, zc_index=zidx,\n",
    "                               coeff=f.values, uncert=f.errors))\n",
    "    sub_dfs.append(sub_df)\n",
    "\n",
    "z_df = pd.concat(sub_dfs, ignore_index=True)"
   ]
  },
  {
   "cell_type": "code",
   "execution_count": null,
   "metadata": {},
   "outputs": [],
   "source": [
    "rg   = []\n",
    "dp   = []\n",
    "z    = []\n",
    "r    = []\n",
    "pull = []\n",
    "for (ring, dphi), data in df_table.groupby([\"Ring\", \"dPhi_index\"]):\n",
    "    coeffs = z_df[(z_df.ring == ring) & (z_df.dphi_index == dphi)]\n",
    "    param = sum(row.coeff * data.Z**row.zc_index * data.dR**row.drc_index\n",
    "                for _, row in coeffs.iterrows()) * n_photons\n",
    "    table = data.Prob * n_photons\n",
    "    where = (table > 0) & (param > 0)\n",
    "    pull_values= ((param - table) / (param)**0.5)[where]\n",
    "    pull.extend(pull_values)\n",
    "    rg  .extend([ring] * np.count_nonzero(where))\n",
    "    dp  .extend([dphi] * np.count_nonzero(where))\n",
    "    z   .extend(data.Z[where])\n",
    "    r   .extend(data.R[where])\n",
    "\n",
    "pull = np.array(pull)\n",
    "ok   = np.isfinite(pull)\n",
    "pull = pull[ok]\n",
    "rg   = np.array(rg)[ok]\n",
    "dp   = np.array(dp)[ok]\n",
    "z    = np.array( z)[ok]\n",
    "r    = np.array( r)[ok]"
   ]
  },
  {
   "cell_type": "code",
   "execution_count": null,
   "metadata": {},
   "outputs": [],
   "source": [
    "pull_binning = np.linspace(-10, 10, 100)\n",
    "y, x = np.histogram(pull[np.isfinite(pull)], pull_binning)\n",
    "x    = x[:-1] + np.diff(x) / 2\n",
    "f    = fitf.fit(fitf.gauss, x, y, (1e4, 0, 1))\n",
    "\n",
    "plt.hist  (pull, pull_binning, histtype=\"step\", color=\"k\", lw=3)\n",
    "plt.plot  (x, f.fn(x), \"r-\", lw=3)\n",
    "plt.text  (0.7, 0.7, f\"µ = {f.values[1]:.3f}\\nσ = {f.values[2]:.3f}\", transform=plt.gca().transAxes, fontsize=25)\n",
    "plt.xlabel(r\"$\\frac{N_{p} - N_{t}}{\\sqrt{N_{p}}}$\")\n",
    "plt.ylabel(\"Number of occurrences\")"
   ]
  },
  {
   "cell_type": "code",
   "execution_count": null,
   "metadata": {},
   "outputs": [],
   "source": [
    "r_binning = np.linspace(0, 215, 101)\n",
    "plt.hist2d(r[rg==1], pull[rg==1], (r_binning, pull_binning))\n",
    "plt.xlabel( \"r (mm)\")\n",
    "plt.ylabel(r\"$\\frac{N_{p} - N_{t}}{\\sqrt{N_{p}}}$\")"
   ]
  },
  {
   "cell_type": "code",
   "execution_count": null,
   "metadata": {},
   "outputs": [],
   "source": [
    "plt.hist2d(z, pull, (z_binning, pull_binning))\n",
    "plt.xlabel( \"z (mm)\")\n",
    "plt.ylabel(r\"$\\frac{N_{p} - N_{t}}{\\sqrt{N_{p}}}$\")\n",
    "\n",
    "fitf.profileX(z, pull, z_binning.size -1, (z_binning[0], z_binning[-1]), std=True)"
   ]
  },
  {
   "cell_type": "code",
   "execution_count": null,
   "metadata": {},
   "outputs": [],
   "source": [
    "ring     =   0\n",
    "z        = 250\n",
    "nphi     =   2\n",
    "dr, p, u = dr_profiles        [ring][nphi][z]\n",
    "f        = dr_parametrizations[ring][nphi][z]\n",
    "dr_      = np.linspace(0, 230, 100)\n",
    "\n",
    "plt.errorbar(dr , p * 1e5, u * 1e5, fmt=\"kp\")\n",
    "plt.plot    (dr_, f.fn(dr_) * 1e5, \"r-\")\n",
    "\n",
    "plt.xlabel(\"dr (mm)\")\n",
    "plt.ylabel(\"Photon detection probability / 1e5\")\n",
    "plt.tight_layout()"
   ]
  },
  {
   "cell_type": "code",
   "execution_count": null,
   "metadata": {},
   "outputs": [],
   "source": [
    "ring =   1\n",
    "z    =  280 - 200\n",
    "dr_  = np.linspace(0, 230, 100)\n",
    "\n",
    "plt.figure(figsize=(24, 24))\n",
    "for nphi in range(9):\n",
    "    dr, p, u = dr_profiles        [ring][nphi][z]\n",
    "    f        = dr_parametrizations[ring][nphi][z]\n",
    "    \n",
    "    plt.subplot(3, 3, nphi + 1)\n",
    "    plt.errorbar(dr , p * 1e5, u * 1e5, fmt=\"kp\")\n",
    "#    plt.scatter(dr , p * 1e5, c=\"k\")\n",
    "    plt.plot    (dr_, f.fn(dr_) * 1e5, \"r-\")\n",
    "    plt.xlim(0, dr.max() * 1.1)\n",
    "    plt.ylim(0, p.max() * 1.1 * 1e5)\n",
    "    plt.xlabel(\"dr (mm)\")\n",
    "    plt.ylabel(\"Photon detection probability / 1e5\")\n",
    "plt.tight_layout()"
   ]
  },
  {
   "cell_type": "code",
   "execution_count": null,
   "metadata": {},
   "outputs": [],
   "source": [
    "ring = 0\n",
    "dphi = 0\n",
    "z_   = np.linspace(0, z_max, 100)\n",
    "\n",
    "plt.figure(figsize=(24, 24))\n",
    "for r in range(polynomial_degree_dr + 1):\n",
    "    z, c, u = z_profiles        [ring][dphi][r]\n",
    "    f       = z_parametrizations[ring][dphi][r]\n",
    "    \n",
    "    plt.subplot (polynomial_degree_dr + 1, 1, r + 1)\n",
    "    plt.errorbar(z , c, u, fmt=\"pk\")\n",
    "    plt.plot    (z_, f.fn(z_), \"r-\")\n",
    "\n",
    "    plt.ylim  ((c-u).min(), (c+u).max())\n",
    "    plt.xlabel(\"z (mm)\")\n",
    "    plt.ylabel(\"Coefficient\")\n",
    "plt.tight_layout()"
   ]
  },
  {
   "cell_type": "code",
   "execution_count": null,
   "metadata": {},
   "outputs": [],
   "source": [
    "ring =   0\n",
    "z    = 480\n",
    "dr_  = np.linspace(0, 150, 100)\n",
    "\n",
    "plt.figure(figsize=(24, 24))\n",
    "for nphi in range(9):\n",
    "    dr, p, u = dr_profiles        [ring][nphi][z]\n",
    "    f        = dr_parametrizations[ring][nphi][z]\n",
    "    \n",
    "    plt.subplot(3, 3, nphi + 1)\n",
    "#    plt.errorbar(dr , p * 1e5, u * 1e5, fmt=\"kp\")\n",
    "    plt.scatter(dr , p, c=\"k\")\n",
    "    plt.plot    (dr_, f.fn(dr_), \"r-\")\n",
    "    plt.ylim(0, p.max() * 1.1)\n",
    "    plt.xlabel(\"dr (mm)\")\n",
    "    plt.ylabel(\"Photon detection probability / 1e5\")\n",
    "plt.tight_layout()"
   ]
  },
  {
   "cell_type": "code",
   "execution_count": null,
   "metadata": {},
   "outputs": [],
   "source": []
  },
  {
   "cell_type": "code",
   "execution_count": null,
   "metadata": {},
   "outputs": [],
   "source": []
  },
  {
   "cell_type": "code",
   "execution_count": null,
   "metadata": {},
   "outputs": [],
   "source": []
  }
 ],
 "metadata": {
  "kernelspec": {
   "display_name": "Python 3",
   "language": "python",
   "name": "python3"
  },
  "language_info": {
   "codemirror_mode": {
    "name": "ipython",
    "version": 3
   },
   "file_extension": ".py",
   "mimetype": "text/x-python",
   "name": "python",
   "nbconvert_exporter": "python",
   "pygments_lexer": "ipython3",
   "version": "3.6.1"
  }
 },
 "nbformat": 4,
 "nbformat_minor": 2
}
