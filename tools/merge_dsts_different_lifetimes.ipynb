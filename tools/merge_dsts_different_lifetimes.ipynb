{
 "cells": [
  {
   "cell_type": "markdown",
   "metadata": {},
   "source": [
    "### Notebook configuration"
   ]
  },
  {
   "cell_type": "code",
   "execution_count": 3,
   "metadata": {
    "collapsed": true
   },
   "outputs": [],
   "source": [
    "run_numbers         = 4735, 4737, 4739\n",
    "correction_filename =  f\"$IC_DATA/XYmaps/corrections_run4734.h5\"\n",
    "input_dst_filenames = [f\"$IC_DATA/Cs137/kdst_{run_number}.h5\" for run_number in run_numbers]\n",
    "output_dst_filename =   \"$IC_DATA/Kr/dst_{}.root.h5\".format(\"_\".join(map(str, run_numbers)))"
   ]
  },
  {
   "cell_type": "markdown",
   "metadata": {},
   "source": [
    "### Imports"
   ]
  },
  {
   "cell_type": "code",
   "execution_count": 14,
   "metadata": {
    "collapsed": true
   },
   "outputs": [],
   "source": [
    "import os\n",
    "import glob\n",
    "import functools\n",
    "\n",
    "import numpy  as np\n",
    "import tables as tb\n",
    "\n",
    "import invisible_cities.reco.dst_functions as dstf\n",
    "import invisible_cities.io  .dst_io        as dstio"
   ]
  },
  {
   "cell_type": "markdown",
   "metadata": {},
   "source": [
    "### Initialization"
   ]
  },
  {
   "cell_type": "code",
   "execution_count": 17,
   "metadata": {
    "collapsed": true
   },
   "outputs": [],
   "source": [
    "input_dst_filenames = list(map(os.path.expandvars, input_dst_filenames))\n",
    "correction_filename =          os.path.expandvars(correction_filename) \n",
    "output_dst_filename =          os.path.expandvars(output_dst_filename)"
   ]
  },
  {
   "cell_type": "markdown",
   "metadata": {},
   "source": [
    "### Load dsts"
   ]
  },
  {
   "cell_type": "code",
   "execution_count": 10,
   "metadata": {},
   "outputs": [],
   "source": [
    "dsts = list(map(functools.partial(dstio.load_dst, group=\"DST\", node=\"Events\"), input_dst_filenames))"
   ]
  },
  {
   "cell_type": "code",
   "execution_count": null,
   "metadata": {
    "collapsed": true
   },
   "outputs": [],
   "source": [
    "ELT_correction  = dstf.load_lifetime_xy_corrections(correction_filename,\n",
    "                                                    group = \"XYcorrections\",\n",
    "                                                    node  = \"Lifetime\")\n"
   ]
  },
  {
   "cell_type": "code",
   "execution_count": 25,
   "metadata": {
    "collapsed": true
   },
   "outputs": [],
   "source": [
    "def compute_average_lifetime(xlim, ylim, N=1000000):\n",
    "    lts = dstf.load_xy_corrections(correction_filename,\n",
    "                                   group = \"XYcorrections\",\n",
    "                                   node  = \"Lifetime\")\n",
    "    x = np.random.uniform(*xlim, size=N)\n",
    "    y = np.random.uniform(*ylim, size=N)\n",
    "    l = lts(x, y).value\n",
    "    return np.mean(l), np.std(l, ddof=1)"
   ]
  },
  {
   "cell_type": "code",
   "execution_count": 33,
   "metadata": {},
   "outputs": [
    {
     "data": {
      "text/plain": [
       "1801.7300964484864"
      ]
     },
     "execution_count": 33,
     "metadata": {},
     "output_type": "execute_result"
    }
   ],
   "source": [
    "xlim   = -10, 10\n",
    "ylim   = -10, 10\n",
    "lt_ref, lt_ref_std = compute_average_lifetime(xlim, ylim)\n",
    "lt_ref"
   ]
  },
  {
   "cell_type": "code",
   "execution_count": null,
   "metadata": {
    "collapsed": true
   },
   "outputs": [],
   "source": [
    "def "
   ]
  },
  {
   "cell_type": "markdown",
   "metadata": {},
   "source": [
    "### Create new dst"
   ]
  },
  {
   "cell_type": "code",
   "execution_count": 10,
   "metadata": {
    "collapsed": true
   },
   "outputs": [],
   "source": [
    "# Unfortunately, this method can't set a specific name to the table or its title.\n",
    "# It also includes an extra column (\"index\") which I can't manage to remove.\n",
    "subdst = dst[one_S1]\n",
    "subdst.to_hdf(output_dst_filename,\n",
    "              key     = \"DST\"  , mode         = \"w\",\n",
    "              format  = \"table\", data_columns = True,\n",
    "              complib = \"zlib\" , complevel    = 4)\n",
    "\n",
    "# Workaround to re-establish the name of the table and its title\n",
    "with tb.open_file(output_dst_filename, \"r+\") as f:\n",
    "    f.rename_node(f.root.DST.table, \"Events\")\n",
    "    f.root.DST.Events.title = \"Events\""
   ]
  }
 ],
 "metadata": {
  "kernelspec": {
   "display_name": "Python 3",
   "language": "python",
   "name": "python3"
  },
  "language_info": {
   "codemirror_mode": {
    "name": "ipython",
    "version": 3
   },
   "file_extension": ".py",
   "mimetype": "text/x-python",
   "name": "python",
   "nbconvert_exporter": "python",
   "pygments_lexer": "ipython3",
   "version": "3.6.1"
  }
 },
 "nbformat": 4,
 "nbformat_minor": 2
}
