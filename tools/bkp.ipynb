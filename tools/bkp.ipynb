{
 "cells": [
  {
   "cell_type": "code",
   "execution_count": 1,
   "metadata": {
    "collapsed": true
   },
   "outputs": [],
   "source": [
    "import os\n",
    "import shutil\n",
    "import collections\n",
    "\n",
    "import numpy             as np\n",
    "import pandas            as pd\n",
    "import matplotlib.pyplot as plt\n",
    "\n",
    "import invisible_cities.core.fit_functions as fitf"
   ]
  },
  {
   "cell_type": "code",
   "execution_count": null,
   "metadata": {},
   "outputs": [],
   "source": [
    "print(1)"
   ]
  },
  {
   "cell_type": "code",
   "execution_count": 3,
   "metadata": {
    "collapsed": true
   },
   "outputs": [],
   "source": [
    "%matplotlib inline\n",
    "\n",
    "plt.rcParams[\"figure.figsize\"] = 12, 8\n",
    "plt.rcParams[  \"font.size\"   ] = 15"
   ]
  },
  {
   "cell_type": "code",
   "execution_count": 4,
   "metadata": {
    "collapsed": true
   },
   "outputs": [],
   "source": [
    "path_tables       = \"/Users/Gonzalo/github/NEXTdata/NEWtables/\"\n",
    "filename_cathode  = os.path.join(path_tables,       \"Cathode.dat\")\n",
    "filename_anode    = os.path.join(path_tables, \"Anode_reduced.dat\")\n",
    "filename_pmt_map  = os.path.join(path_tables,   \"pmt_mapping.dat\")\n",
    "filename_sipm_map = os.path.join(path_tables,  \"sipm_mapping.dat\")\n",
    "filename_el_map   = os.path.join(path_tables,    \"el_mapping.dat\")"
   ]
  },
  {
   "cell_type": "code",
   "execution_count": 12,
   "metadata": {},
   "outputs": [
    {
     "name": "stdout",
     "output_type": "stream",
     "text": [
      "Reading /Users/Gonzalo/github/NEXTdata/NEWtables/Cathode.dat...\n",
      "Reading /Users/Gonzalo/github/NEXTdata/NEWtables/Anode.dat...\n"
     ]
    }
   ],
   "source": [
    "fix_file_cathode(filename_cathode)\n",
    "fix_file_anode  (filename_anode  )"
   ]
  },
  {
   "cell_type": "code",
   "execution_count": 14,
   "metadata": {
    "scrolled": false
   },
   "outputs": [
    {
     "name": "stdout",
     "output_type": "stream",
     "text": [
      "Reading /Users/Gonzalo/github/NEXTdata/NEWtables/Anode.dat...\n"
     ]
    }
   ],
   "source": [
    "pmt  = pd.DataFrame.from_csv(filename_pmt_map , sep=\" \", index_col=0)\n",
    "sipm = pd.DataFrame.from_csv(filename_sipm_map, sep=\" \", index_col=0)\n",
    "el   = pd.DataFrame.from_csv(filename_el_map  , sep=\" \", index_col=0)\n",
    "\n",
    "df_cathode = load_df_cathode(filename_cathode, el)\n",
    "df_anode   = load_df_anode  (filename_anode  , el, sipm)"
   ]
  },
  {
   "cell_type": "code",
   "execution_count": 8,
   "metadata": {},
   "outputs": [
    {
     "ename": "ValueError",
     "evalue": "cannot convert float NaN to integer",
     "output_type": "error",
     "traceback": [
      "\u001b[0;31m---------------------------------------------------------------------------\u001b[0m",
      "\u001b[0;31mValueError\u001b[0m                                Traceback (most recent call last)",
      "\u001b[0;32m<ipython-input-8-b14fcca93dba>\u001b[0m in \u001b[0;36m<module>\u001b[0;34m()\u001b[0m\n\u001b[1;32m      1\u001b[0m \u001b[0;32massert\u001b[0m \u001b[0mnp\u001b[0m\u001b[0;34m.\u001b[0m\u001b[0mnan\u001b[0m \u001b[0;32mnot\u001b[0m \u001b[0;32min\u001b[0m \u001b[0mdf_cathode\u001b[0m\u001b[0;34m\u001b[0m\u001b[0m\n\u001b[0;32m----> 2\u001b[0;31m \u001b[0;32massert\u001b[0m \u001b[0mnp\u001b[0m\u001b[0;34m.\u001b[0m\u001b[0mnan\u001b[0m \u001b[0;32mnot\u001b[0m \u001b[0;32min\u001b[0m \u001b[0mdf_anode\u001b[0m\u001b[0;34m.\u001b[0m\u001b[0mdR\u001b[0m\u001b[0;34m\u001b[0m\u001b[0m\n\u001b[0m\u001b[1;32m      3\u001b[0m \u001b[0;32massert\u001b[0m \u001b[0mnp\u001b[0m\u001b[0;34m.\u001b[0m\u001b[0mnan\u001b[0m \u001b[0;32mnot\u001b[0m \u001b[0;32min\u001b[0m \u001b[0mdf_anode\u001b[0m\u001b[0;34m.\u001b[0m\u001b[0mdRR\u001b[0m\u001b[0;34m\u001b[0m\u001b[0m\n",
      "\u001b[0;32m/Applications/anaconda3/envs/IC3.6/lib/python3.6/site-packages/pandas/core/generic.py\u001b[0m in \u001b[0;36m__contains__\u001b[0;34m(self, key)\u001b[0m\n\u001b[1;32m    907\u001b[0m     \u001b[0;32mdef\u001b[0m \u001b[0m__contains__\u001b[0m\u001b[0;34m(\u001b[0m\u001b[0mself\u001b[0m\u001b[0;34m,\u001b[0m \u001b[0mkey\u001b[0m\u001b[0;34m)\u001b[0m\u001b[0;34m:\u001b[0m\u001b[0;34m\u001b[0m\u001b[0m\n\u001b[1;32m    908\u001b[0m         \u001b[0;34m\"\"\"True if the key is in the info axis\"\"\"\u001b[0m\u001b[0;34m\u001b[0m\u001b[0m\n\u001b[0;32m--> 909\u001b[0;31m         \u001b[0;32mreturn\u001b[0m \u001b[0mkey\u001b[0m \u001b[0;32min\u001b[0m \u001b[0mself\u001b[0m\u001b[0;34m.\u001b[0m\u001b[0m_info_axis\u001b[0m\u001b[0;34m\u001b[0m\u001b[0m\n\u001b[0m\u001b[1;32m    910\u001b[0m \u001b[0;34m\u001b[0m\u001b[0m\n\u001b[1;32m    911\u001b[0m     \u001b[0;34m@\u001b[0m\u001b[0mproperty\u001b[0m\u001b[0;34m\u001b[0m\u001b[0m\n",
      "\u001b[0;32m/Applications/anaconda3/envs/IC3.6/lib/python3.6/site-packages/pandas/core/indexes/base.py\u001b[0m in \u001b[0;36m__contains__\u001b[0;34m(self, key)\u001b[0m\n\u001b[1;32m   1640\u001b[0m         \u001b[0mhash\u001b[0m\u001b[0;34m(\u001b[0m\u001b[0mkey\u001b[0m\u001b[0;34m)\u001b[0m\u001b[0;34m\u001b[0m\u001b[0m\n\u001b[1;32m   1641\u001b[0m         \u001b[0;32mtry\u001b[0m\u001b[0;34m:\u001b[0m\u001b[0;34m\u001b[0m\u001b[0m\n\u001b[0;32m-> 1642\u001b[0;31m             \u001b[0;32mreturn\u001b[0m \u001b[0mkey\u001b[0m \u001b[0;32min\u001b[0m \u001b[0mself\u001b[0m\u001b[0;34m.\u001b[0m\u001b[0m_engine\u001b[0m\u001b[0;34m\u001b[0m\u001b[0m\n\u001b[0m\u001b[1;32m   1643\u001b[0m         \u001b[0;32mexcept\u001b[0m \u001b[0mTypeError\u001b[0m\u001b[0;34m:\u001b[0m\u001b[0;34m\u001b[0m\u001b[0m\n\u001b[1;32m   1644\u001b[0m             \u001b[0;32mreturn\u001b[0m \u001b[0;32mFalse\u001b[0m\u001b[0;34m\u001b[0m\u001b[0m\n",
      "\u001b[0;32mpandas/_libs/index.pyx\u001b[0m in \u001b[0;36mpandas._libs.index.IndexEngine.__contains__ (pandas/_libs/index.c:3965)\u001b[0;34m()\u001b[0m\n",
      "\u001b[0;32mpandas/_libs/hashtable_class_helper.pxi\u001b[0m in \u001b[0;36mpandas._libs.hashtable.Int64HashTable.__contains__ (pandas/_libs/hashtable.c:13687)\u001b[0;34m()\u001b[0m\n",
      "\u001b[0;31mValueError\u001b[0m: cannot convert float NaN to integer"
     ]
    }
   ],
   "source": [
    "assert np.nan not in df_cathode\n",
    "assert np.nan not in df_anode.dR\n",
    "assert np.nan not in df_anode.dRR"
   ]
  },
  {
   "cell_type": "code",
   "execution_count": null,
   "metadata": {},
   "outputs": [],
   "source": [
    "df_anode.head()"
   ]
  },
  {
   "cell_type": "markdown",
   "metadata": {},
   "source": [
    "# Control plots"
   ]
  },
  {
   "cell_type": "code",
   "execution_count": null,
   "metadata": {},
   "outputs": [],
   "source": [
    "plt.scatter(pmt.X, pmt.Y, s=0)\n",
    "for row_no, row in pmt.iterrows():\n",
    "    plt.text(row.X, row.Y, str(int(row.SensorID)))\n",
    "plt.xlabel(\"x (mm)\")\n",
    "plt.ylabel(\"y (mm)\")\n",
    "plt.title (\"PMT positions\");"
   ]
  },
  {
   "cell_type": "code",
   "execution_count": null,
   "metadata": {},
   "outputs": [],
   "source": [
    "plt.scatter(sipm.X, sipm.Y, s=0)\n",
    "for dice_no, dice in sipm.groupby(\"Dice\"):\n",
    "    x = dice.X.mean()\n",
    "    y = dice.Y.mean()\n",
    "    plt.text(x, y, str(int(dice_no)))\n",
    "plt.xlabel(\"x (mm)\")\n",
    "plt.ylabel(\"y (mm)\")\n",
    "plt.title (\"Dice positions\");"
   ]
  },
  {
   "cell_type": "code",
   "execution_count": null,
   "metadata": {},
   "outputs": [],
   "source": [
    "for dice_no, dice in sipm.groupby(\"Dice\"):\n",
    "    xmean = dice.X.mean()\n",
    "    ymean = dice.Y.mean()\n",
    "    plt.scatter(dice.X - xmean, dice.Y - ymean, s=0)\n",
    "    for row_no, row in dice.iterrows():\n",
    "        plt.text(row.X - xmean, row.Y - ymean, str(int(row.SensorID - 1000 * dice_no)))\n",
    "    break\n",
    "plt.xlabel(\"x (mm)\")\n",
    "plt.ylabel(\"y (mm)\")\n",
    "plt.title (\"SiPM positions within dice\");"
   ]
  },
  {
   "cell_type": "code",
   "execution_count": null,
   "metadata": {},
   "outputs": [],
   "source": [
    "x_binning = np.arange(np.min(el.X), np.max(el.X) + 1)\n",
    "y_binning = np.arange(np.min(el.Y), np.max(el.Y) + 1)\n",
    "plt.hist2d(el.X, el.Y, (x_binning, y_binning), cmap=\"Greens\")\n",
    "plt.xlabel(\"x (mm)\")\n",
    "plt.ylabel(\"y (mm)\")\n",
    "plt.title (\"EL points positions\");"
   ]
  },
  {
   "cell_type": "code",
   "execution_count": null,
   "metadata": {},
   "outputs": [],
   "source": [
    "bins = np.linspace(np.min(el.PointID), np.max(el.PointID), 201)\n",
    "\n",
    "weights = np.ones(len(el)) / len(el)\n",
    "plt.hist(el.PointID, bins=bins, weights=weights, color=\"k\", histtype=\"step\", lw=3)\n",
    "\n",
    "weights = np.ones(len(df_anode)) / len(df_anode)\n",
    "plt.hist(df_anode.PointID, bins=bins, weights=weights, color=\"m\", histtype=\"step\", lw=3)\n",
    "\n",
    "plt.xlabel(\"EL point ID\")\n",
    "plt.ylabel(\"\")\n",
    "plt.title (\"EL point ID distribution\");"
   ]
  },
  {
   "cell_type": "code",
   "execution_count": null,
   "metadata": {},
   "outputs": [],
   "source": [
    "bins    = np.linspace(0, np.max(df_cathode.Sum), 201)\n",
    "weights = np.ones(len(df_cathode)) / len(df_cathode)\n",
    "plt.hist(df_cathode.Sum, bins = bins, weights = weights, color=\"k\", histtype=\"step\", lw=3)\n",
    "plt.xlabel(\"Total photon detection probability\")\n",
    "plt.ylabel(\"Fraction of events\")"
   ]
  },
  {
   "cell_type": "code",
   "execution_count": null,
   "metadata": {},
   "outputs": [],
   "source": [
    "bins    = np.linspace(0, max(np.max(df_anode.P0), np.max(df_anode.P1)), 201)\n",
    "weights = np.ones(len(df_anode)) / len(df_anode)\n",
    "\n",
    "plt.hist(df_anode.P0, bins = bins, weights = weights, color=\"k\", histtype=\"step\", lw=3, label=\"First  bin\")\n",
    "plt.hist(df_anode.P1, bins = bins, weights = weights, color=\"m\", histtype=\"step\", lw=3, label=\"Second bin\")\n",
    "\n",
    "plt.legend()\n",
    "plt.xlabel(\"Photon detection probability\")\n",
    "plt.ylabel(\"Fraction of events\")\n",
    "plt.yscale(\"log\")"
   ]
  },
  {
   "cell_type": "markdown",
   "metadata": {},
   "source": [
    "# PMT parametrization"
   ]
  },
  {
   "cell_type": "code",
   "execution_count": null,
   "metadata": {
    "collapsed": true
   },
   "outputs": [],
   "source": [
    "def find_pitch(data):\n",
    "    return np.min(np.diff(np.sort(np.unique(data))))\n",
    "\n",
    "def find_nbins(data, d):\n",
    "    return int(np.ceil((data.max() - data.min()) / d)) + 2\n",
    "\n",
    "def find_binning(data):\n",
    "    d = find_pitch(data)\n",
    "    n = find_nbins(data, d)\n",
    "    return np.linspace(df_cathode.X.min() - d/2,\n",
    "                       df_cathode.X.max() + d/2,\n",
    "                       n)"
   ]
  },
  {
   "cell_type": "code",
   "execution_count": null,
   "metadata": {
    "collapsed": true
   },
   "outputs": [],
   "source": [
    "x_binning = find_binning(df_cathode.X)\n",
    "y_binning = find_binning(df_cathode.Y)\n",
    "r_binning = np.linspace(0, np.max(df_cathode.R  ) * 1.001, 201)\n",
    "p_binning = np.linspace(0, np.max(df_cathode.Sum) * 1.001, 201)"
   ]
  },
  {
   "cell_type": "code",
   "execution_count": null,
   "metadata": {
    "scrolled": false
   },
   "outputs": [],
   "source": [
    "plt.hist2d(df_cathode.X, df_cathode.Y,\n",
    "           (x_binning, y_binning),\n",
    "           weights = df_cathode.Sum / 12,\n",
    "           cmin    = df_cathode.Sum.min(),\n",
    "           cmax    = df_cathode.Sum.max(),\n",
    "           cmap    = \"jet\"\n",
    "          )\n",
    "\n",
    "plt.colorbar()"
   ]
  },
  {
   "cell_type": "code",
   "execution_count": null,
   "metadata": {},
   "outputs": [],
   "source": [
    "parametrizations = {}\n",
    "profiles         = {}\n",
    "pulls            = {}\n",
    "for pmt_no, pmt in df_cathode.groupby(\"SensorID\"):\n",
    "    x, y, u = fitf.profileX(pmt.R, pmt.Sum, r_binning.size - 1, (r_binning[0], r_binning[-1]))\n",
    "    ok = u > 0\n",
    "    f  = fitf.fit(fitf.polynom, x[ok], y[ok], (-1, +1, -1, +1, -1, +1, pmt.Sum.max()), sigma=u[ok], maxfev=int(1e5))\n",
    "\n",
    "    prediction = f.fn(pmt.R)\n",
    "    pull       = (prediction - pmt.Sum) / (prediction * 1e-7)**0.5\n",
    "\n",
    "    parametrizations[pmt_no] = f\n",
    "    profiles        [pmt_no] = profile(x, y, u)\n",
    "    pulls           [pmt_no] = pull"
   ]
  },
  {
   "cell_type": "code",
   "execution_count": null,
   "metadata": {},
   "outputs": [],
   "source": [
    "plt.figure(figsize=(36, 24))\n",
    "\n",
    "for pmt_no, pmt in df_cathode.groupby(\"SensorID\"):\n",
    "    (x, y, u), f = profiles[pmt_no], parametrizations[pmt_no]\n",
    "\n",
    "    plt.subplot(4, 3, pmt_no + 1)\n",
    "    plt.hist2d(pmt.R, pmt.Sum, (r_binning, p_binning), cmin = 1e-8)\n",
    "    plt.errorbar(x, y, u, np.diff(r_binning) / 2, \"--k\")\n",
    "    plt.plot    (x, f.fn(x), \"-r\")\n",
    "    plt.xlabel(\"r (mm)\")\n",
    "    plt.ylabel(\"Detection probability\")\n",
    "    plt.title (f\"PMT {pmt_no}\")\n",
    "    plt.tight_layout()"
   ]
  },
  {
   "cell_type": "code",
   "execution_count": null,
   "metadata": {},
   "outputs": [],
   "source": [
    "plt.figure(figsize=(36, 24))\n",
    "pull_binning = np.linspace(-8, 8, 100)\n",
    "\n",
    "for pmt_no, pmt in df_cathode.groupby(\"SensorID\"):\n",
    "    pull = pulls[pmt_no]\n",
    "    y, x = np.histogram(pull, pull_binning)\n",
    "    x    = x[:-1] + np.diff(x) / 2\n",
    "    f    = fitf.fit(fitf.gauss, x, y, (1e4, 0, 1))\n",
    "\n",
    "    plt.subplot(4, 3, pmt_no + 1)\n",
    "    plt.hist   (pull, pull_binning, histtype=\"step\", color=\"k\", lw=3)\n",
    "    plt.plot   (x, f.fn(x), \"r-\", lw=3)\n",
    "    plt.text   (0.7, 0.7, f\"µ = {f.values[1]:.3f}\\nσ = {f.values[2]:.3f}\", transform=plt.gca().transAxes, fontsize=25)\n",
    "    plt.xlabel (r\"$\\frac{N_{p} - N_{t}}{\\sqrt{N_{p}}}$\")\n",
    "    plt.ylabel (\"Number of occurrences\")\n",
    "    plt.title  (f\"PMT {pmt_no}\")\n",
    "plt.tight_layout()"
   ]
  },
  {
   "cell_type": "markdown",
   "metadata": {},
   "source": [
    "# SiPM parametrization"
   ]
  },
  {
   "cell_type": "code",
   "execution_count": null,
   "metadata": {},
   "outputs": [],
   "source": [
    "dr_binning = np.linspace(0, np.max(df_anode.dR) * 1.001, 201)\n",
    "p1_binning = np.linspace(0, np.max(df_anode.P1) * 1.001, 201)"
   ]
  },
  {
   "cell_type": "code",
   "execution_count": null,
   "metadata": {},
   "outputs": [],
   "source": [
    "parametrizations = {}\n",
    "profiles         = {}\n",
    "pulls            = {}\n",
    "for bin_no in range(2):\n",
    "    data    = df_anode[f\"P{bin_no}\"]\n",
    "    x, y, u = fitf.profileX(df_anode.dR, data, dr_binning.size - 1, (dr_binning[0], dr_binning[-1]))\n",
    "    ok      = (u > 0) & ~np.isnan(u) & np.isfinite(u)\n",
    "    x, y, u = x[ok], y[ok], u[ok]\n",
    "    f       = fitf.fit(fitf.polynom, x, y, (-1, +1, -1, +1, -1, +1, data.max()), sigma=u, maxfev=int(1e5))\n",
    "\n",
    "    prediction = f.fn(data)\n",
    "    pull       = (prediction - data) / (prediction * 1e-7)**0.5\n",
    "\n",
    "    parametrizations[bin_no] = f\n",
    "    profiles        [bin_no] = profile(x, y, u)\n",
    "    pulls           [bin_no] = pull"
   ]
  },
  {
   "cell_type": "code",
   "execution_count": null,
   "metadata": {},
   "outputs": [],
   "source": [
    "plt.figure(figsize=(24, 12))\n",
    "\n",
    "for bin_no in range(2):\n",
    "    (x, y, u), f = profiles[bin_no], parametrizations[bin_no]\n",
    "    data         = df_anode[f\"P{bin_no}\"]\n",
    "\n",
    "    plt.subplot (2, 1, bin_no + 1)\n",
    "    plt.hist2d  (df_anode.dR, data, (dr_binning, p1_binning), cmin = 1e-8)\n",
    "    print(x, y, u)\n",
    "    plt.errorbar(x, y, u, np.diff(dr_binning) / 2, \"--k\")\n",
    "    plt.plot    (x, f.fn(x), \"-r\")\n",
    "    plt.xlabel  (\"r (mm)\")\n",
    "    plt.ylabel  (\"Detection probability\")\n",
    "    plt.title   (f\"Bin {pmt_no}\")\n",
    "plt.tight_layout()"
   ]
  },
  {
   "cell_type": "code",
   "execution_count": null,
   "metadata": {},
   "outputs": [],
   "source": [
    "plt.scatter(df_anode.dR, df_anode.P1)\n",
    "plt.ylim(0, 1e-5)"
   ]
  },
  {
   "cell_type": "code",
   "execution_count": null,
   "metadata": {},
   "outputs": [],
   "source": [
    "df_anode.max()"
   ]
  },
  {
   "cell_type": "code",
   "execution_count": null,
   "metadata": {},
   "outputs": [],
   "source": [
    "for ID, df in df_anode.groupby(\"SensorID\"):\n",
    "    if ID != 12000: continue\n",
    "    plt.hist2d(df.eX, df.eY, weights=df.P1, cmap=\"jet\")\n",
    "    plt.colorbar()"
   ]
  },
  {
   "cell_type": "code",
   "execution_count": null,
   "metadata": {},
   "outputs": [],
   "source": [
    "df = df_anode[df_anode.SensorID == 12007]\n",
    "plt.hist2d(df.eX, df.eY, (np.linspace(-200, 200, 401), np.linspace(-200, 200, 401)), weights=df.P1, cmap=\"jet\")\n",
    "plt.colorbar()"
   ]
  },
  {
   "cell_type": "code",
   "execution_count": null,
   "metadata": {},
   "outputs": [],
   "source": [
    "df = df_anode[df_anode.SensorID == 14055]\n",
    "plt.hist2d(df.eX, df.eY, (np.linspace(-200, 200, 401), np.linspace(-200, 200, 401)), weights=df.P1, cmap=\"jet\")\n",
    "plt.colorbar()"
   ]
  },
  {
   "cell_type": "code",
   "execution_count": null,
   "metadata": {},
   "outputs": [],
   "source": [
    "df1 = df[:10]"
   ]
  },
  {
   "cell_type": "code",
   "execution_count": null,
   "metadata": {},
   "outputs": [],
   "source": [
    "df1[\"o\"] = df1.SensorID.map(sipm.X)"
   ]
  },
  {
   "cell_type": "code",
   "execution_count": null,
   "metadata": {},
   "outputs": [],
   "source": [
    "df1"
   ]
  },
  {
   "cell_type": "code",
   "execution_count": null,
   "metadata": {},
   "outputs": [],
   "source": [
    "sipm = pd.DataFrame.from_csv(filename_sipm_map, sep=\" \", index_col=0)\n",
    "sipm.X *= -1\n",
    "\n",
    "with open(filename_sipm_map, \"w\") as file:\n",
    "    file.write(\"SensorID Dice X Y\\n\")\n",
    "    for row in sipm."
   ]
  },
  {
   "cell_type": "code",
   "execution_count": 38,
   "metadata": {},
   "outputs": [],
   "source": [
    "with open(filename_sipm_map, \"w\") as file:\n",
    "    file.write(\"SensorID Dice X Y\\n\")\n",
    "    for ID, (x, y) in SiPM_map.items():\n",
    "        dice = ID // 1000\n",
    "        file.write(f\"{ID} {dice} {-x} {y}\\n\")"
   ]
  },
  {
   "cell_type": "code",
   "execution_count": 36,
   "metadata": {},
   "outputs": [],
   "source": [
    "exec(open(\"/Users/Gonzalo/github/NEXTdata/NEWtables/NEW_maps.py\").read())"
   ]
  },
  {
   "cell_type": "code",
   "execution_count": null,
   "metadata": {},
   "outputs": [],
   "source": []
  }
 ],
 "metadata": {
  "kernelspec": {
   "display_name": "Python 3",
   "language": "python",
   "name": "python3"
  },
  "language_info": {
   "codemirror_mode": {
    "name": "ipython",
    "version": 3
   },
   "file_extension": ".py",
   "mimetype": "text/x-python",
   "name": "python",
   "nbconvert_exporter": "python",
   "pygments_lexer": "ipython3",
   "version": "3.6.1"
  }
 },
 "nbformat": 4,
 "nbformat_minor": 2
}
